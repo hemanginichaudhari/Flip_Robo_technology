{
 "cells": [
  {
   "cell_type": "code",
   "execution_count": 1,
   "metadata": {},
   "outputs": [],
   "source": [
    "#import all the required libraries\n",
    "import pandas as pd\n",
    "import selenium\n",
    "from selenium import webdriver\n",
    "from selenium.common.exceptions import StaleElementReferenceException, NoSuchElementException\n"
   ]
  },
  {
   "cell_type": "code",
   "execution_count": null,
   "metadata": {},
   "outputs": [],
   "source": []
  },
  {
   "cell_type": "markdown",
   "metadata": {},
   "source": [
    "# Que--1"
   ]
  },
  {
   "cell_type": "code",
   "execution_count": 2,
   "metadata": {},
   "outputs": [],
   "source": [
    "#connecting to web driver\n",
    "driver = webdriver.Chrome(r\"E:\\FRT\\chromedriver.exe\")"
   ]
  },
  {
   "cell_type": "code",
   "execution_count": 5,
   "metadata": {},
   "outputs": [],
   "source": [
    "# Opening the homepage \n",
    "driver.get('https://en.wikipedia.org/wiki/List_of_most-viewed_YouTube_videos/')"
   ]
  },
  {
   "cell_type": "code",
   "execution_count": 6,
   "metadata": {},
   "outputs": [
    {
     "name": "stdout",
     "output_type": "stream",
     "text": [
      "Stale Exception\n"
     ]
    }
   ],
   "source": [
    "try:\n",
    "    page_url = driver.find_elements_by_xpath('//a[@class=\"external text\"]')\n",
    "    for xpath in page_url:\n",
    "        driver.get(xpath.get_attribute('href'))\n",
    "except StaleElementReferenceException as e:             # Handling StaleElement Exception   \n",
    "        print(\"Stale Exception\")        "
   ]
  },
  {
   "cell_type": "code",
   "execution_count": 7,
   "metadata": {},
   "outputs": [],
   "source": [
    "search_button = driver.find_element_by_xpath('//span[@class=\"oo-ui-labelElement-label\"]')   # Locating search_button by xpath\n",
    "search_button.click()         "
   ]
  },
  {
   "cell_type": "code",
   "execution_count": 8,
   "metadata": {},
   "outputs": [
    {
     "name": "stdout",
     "output_type": "stream",
     "text": [
      "Stale Exception\n"
     ]
    }
   ],
   "source": [
    "try:\n",
    "    element = driver.find_elements_by_xpath('//div[@class=\"mw-search-result-heading\"]/a')\n",
    "    for xpath in element:\n",
    "        driver.get(xpath.get_attribute('href'))\n",
    "except StaleElementReferenceException as e:             # Handling StaleElement Exception   \n",
    "        print(\"Stale Exception\")        "
   ]
  },
  {
   "cell_type": "code",
   "execution_count": 80,
   "metadata": {},
   "outputs": [],
   "source": [
    "# creating empty list\n",
    "rank=[]\n",
    "Name=[]\n",
    "artist=[]\n",
    "Upload_Date=[]\n",
    "views=[]"
   ]
  },
  {
   "cell_type": "code",
   "execution_count": 82,
   "metadata": {},
   "outputs": [],
   "source": [
    " # Extracting rank data\n",
    "for b in range(1,31):\n",
    "    r_tags1=driver.find_elements_by_xpath('//*[@id=\"mw-content-text\"]/div[1]/table[1]/tbody/tr[%d]/td[1]'%(b))\n",
    "    for i in r_tags1:\n",
    "        rank.append(i.text)\n",
    "    "
   ]
  },
  {
   "cell_type": "code",
   "execution_count": 83,
   "metadata": {},
   "outputs": [
    {
     "data": {
      "text/plain": [
       "['1.',\n",
       " '2.',\n",
       " '3.',\n",
       " '4.',\n",
       " '5.',\n",
       " '6.',\n",
       " '7.',\n",
       " '8.',\n",
       " '9.',\n",
       " '10.',\n",
       " '11.',\n",
       " '12.',\n",
       " '13.',\n",
       " '14.',\n",
       " '15.',\n",
       " '16.',\n",
       " '17.',\n",
       " '18.',\n",
       " '19.',\n",
       " '20.',\n",
       " '21.',\n",
       " '22.',\n",
       " '23.',\n",
       " '24.',\n",
       " '25.',\n",
       " '26.',\n",
       " '27.',\n",
       " '28.',\n",
       " '29.',\n",
       " '30.']"
      ]
     },
     "execution_count": 83,
     "metadata": {},
     "output_type": "execute_result"
    }
   ],
   "source": [
    "rank"
   ]
  },
  {
   "cell_type": "code",
   "execution_count": 99,
   "metadata": {},
   "outputs": [],
   "source": [
    "from selenium import webdriver\n",
    "from selenium.common.exceptions import NoSuchElementException"
   ]
  },
  {
   "cell_type": "code",
   "execution_count": 100,
   "metadata": {},
   "outputs": [],
   "source": [
    " # Extracting Name1\n",
    "Name1=[]\n",
    "for b in range(1,31):\n",
    "    try:\n",
    "        Name_tags=driver.find_elements_by_xpath('//*[@id=\"mw-content-text\"]/div[1]/table[1]/tbody/tr[%d]/td[2]/a'%(b))\n",
    "        for i in Name_tags:\n",
    "            Name1.append(i.text)\n",
    "    except NoSuchElementException:\n",
    "        Name1.append(\"Null\")   "
   ]
  },
  {
   "cell_type": "code",
   "execution_count": 101,
   "metadata": {},
   "outputs": [
    {
     "data": {
      "text/plain": [
       "['Baby Shark Dance',\n",
       " 'Despacito',\n",
       " 'Shape of You',\n",
       " 'See You Again',\n",
       " 'Johny Johny Yes Papa',\n",
       " 'Uptown Funk',\n",
       " 'Gangnam Style',\n",
       " 'Sorry',\n",
       " 'Sugar',\n",
       " 'Roar',\n",
       " 'Counting Stars',\n",
       " 'Thinking Out Loud',\n",
       " 'Dame Tu Cosita',\n",
       " 'Shake It Off',\n",
       " 'Faded',\n",
       " 'Lean On',\n",
       " 'Bailando',\n",
       " 'Dark Horse',\n",
       " 'Girls Like You',\n",
       " 'Let Her Go',\n",
       " 'Mi Gente',\n",
       " 'Hello',\n",
       " 'Waka Waka (This Time for Africa)',\n",
       " 'Perfect',\n",
       " 'Blank Space',\n",
       " 'Chantaje']"
      ]
     },
     "execution_count": 101,
     "metadata": {},
     "output_type": "execute_result"
    }
   ],
   "source": [
    "Name1"
   ]
  },
  {
   "cell_type": "code",
   "execution_count": 115,
   "metadata": {},
   "outputs": [],
   "source": [
    " # Extracting artist data\n",
    "for b in range(1,31):\n",
    "    artist_tags=driver.find_elements_by_xpath('//*[@id=\"mw-content-text\"]/div[1]/table[1]/tbody/tr[%d]/td[3]'%(b))\n",
    "    for i in artist_tags:\n",
    "        artist.append(i.text)"
   ]
  },
  {
   "cell_type": "code",
   "execution_count": 116,
   "metadata": {},
   "outputs": [
    {
     "data": {
      "text/plain": [
       "[\"Pinkfong Kids' Songs & Stories\",\n",
       " 'Luis Fonsi featuring Daddy Yankee',\n",
       " 'Ed Sheeran',\n",
       " 'Wiz Khalifa featuring Charlie Puth',\n",
       " 'LooLoo Kids',\n",
       " 'Get Movies',\n",
       " 'Mark Ronson featuring Bruno Mars',\n",
       " 'Psy',\n",
       " 'Miroshka TV',\n",
       " 'Cocomelon – Nursery Rhymes',\n",
       " 'ChuChu TV',\n",
       " 'Justin Bieber',\n",
       " 'Maroon 5',\n",
       " 'Katy Perry',\n",
       " 'OneRepublic',\n",
       " 'Ed Sheeran',\n",
       " 'El Chombo featuring Cutty Ranks',\n",
       " 'Taylor Swift',\n",
       " 'Alan Walker',\n",
       " 'Major Lazer and DJ Snake featuring MØ',\n",
       " 'Enrique Iglesias featuring Descemer Bueno and Gente De Zona',\n",
       " 'Katy Perry featuring Juicy J',\n",
       " 'Maroon 5 featuring Cardi B',\n",
       " 'Passenger',\n",
       " 'J Balvin and Willy William',\n",
       " 'Adele',\n",
       " 'Shakira featuring Freshlyground',\n",
       " 'Ed Sheeran',\n",
       " 'Taylor Swift',\n",
       " 'Shakira featuring Maluma']"
      ]
     },
     "execution_count": 116,
     "metadata": {},
     "output_type": "execute_result"
    }
   ],
   "source": [
    "artist"
   ]
  },
  {
   "cell_type": "code",
   "execution_count": 111,
   "metadata": {},
   "outputs": [],
   "source": [
    " # Extracting views data\n",
    "for b in range(1,31):\n",
    "    views_tags=driver.find_elements_by_xpath('//*[@id=\"mw-content-text\"]/div[1]/table[1]/tbody/tr[%d]/td[4]'%(b))\n",
    "    for i in views_tags:\n",
    "        views.append(i.text)"
   ]
  },
  {
   "cell_type": "code",
   "execution_count": 104,
   "metadata": {},
   "outputs": [],
   "source": [
    " # Extracting Uplaod date\n",
    "for b in range(1,31):\n",
    "    d_tags=driver.find_elements_by_xpath('//*[@id=\"mw-content-text\"]/div[1]/table[1]/tbody/tr[%d]/td[5]'%(b))\n",
    "    for i in d_tags:\n",
    "        Upload_Date.append(i.text)"
   ]
  },
  {
   "cell_type": "code",
   "execution_count": 105,
   "metadata": {},
   "outputs": [
    {
     "data": {
      "text/plain": [
       "['June 17, 2016',\n",
       " 'January 12, 2017',\n",
       " 'January 30, 2017',\n",
       " 'April 6, 2015',\n",
       " 'October 8, 2016',\n",
       " 'January 31, 2012',\n",
       " 'November 19, 2014',\n",
       " 'July 15, 2012',\n",
       " 'February 27, 2018',\n",
       " 'May 2, 2018',\n",
       " 'March 6, 2014',\n",
       " 'October 22, 2015',\n",
       " 'January 14, 2015',\n",
       " 'September 5, 2013',\n",
       " 'May 31, 2013',\n",
       " 'October 7, 2014',\n",
       " 'April 5, 2018',\n",
       " 'August 18, 2014',\n",
       " 'December 3, 2015',\n",
       " 'March 22, 2015',\n",
       " 'April 11, 2014',\n",
       " 'February 20, 2014',\n",
       " 'May 31, 2018',\n",
       " 'July 25, 2012',\n",
       " 'June 29, 2017',\n",
       " 'October 22, 2015',\n",
       " 'June 4, 2010',\n",
       " 'November 9, 2017',\n",
       " 'November 10, 2014',\n",
       " 'November 18, 2016']"
      ]
     },
     "execution_count": 105,
     "metadata": {},
     "output_type": "execute_result"
    }
   ],
   "source": [
    "Upload_Date"
   ]
  },
  {
   "cell_type": "code",
   "execution_count": 119,
   "metadata": {},
   "outputs": [],
   "source": [
    "import pandas as pd\n",
    "Data=pd.DataFrame({})\n",
    "Data['Rank']=rank[0:20]\n",
    "Data['Name']=name[0:20]\n",
    "Data['Artist']=artist[0:20]\n",
    "Data['Uplaod_date']=Upload_Date[0:20]\n",
    "Data['views']=views[0:20]"
   ]
  },
  {
   "cell_type": "code",
   "execution_count": 120,
   "metadata": {},
   "outputs": [
    {
     "data": {
      "text/html": [
       "<div>\n",
       "<style scoped>\n",
       "    .dataframe tbody tr th:only-of-type {\n",
       "        vertical-align: middle;\n",
       "    }\n",
       "\n",
       "    .dataframe tbody tr th {\n",
       "        vertical-align: top;\n",
       "    }\n",
       "\n",
       "    .dataframe thead th {\n",
       "        text-align: right;\n",
       "    }\n",
       "</style>\n",
       "<table border=\"1\" class=\"dataframe\">\n",
       "  <thead>\n",
       "    <tr style=\"text-align: right;\">\n",
       "      <th></th>\n",
       "      <th>Rank</th>\n",
       "      <th>Name</th>\n",
       "      <th>Artist</th>\n",
       "      <th>Uplaod_date</th>\n",
       "      <th>views</th>\n",
       "    </tr>\n",
       "  </thead>\n",
       "  <tbody>\n",
       "    <tr>\n",
       "      <th>0</th>\n",
       "      <td>1.</td>\n",
       "      <td>music videos</td>\n",
       "      <td>Pinkfong Kids' Songs &amp; Stories</td>\n",
       "      <td>June 17, 2016</td>\n",
       "      <td>7.85</td>\n",
       "    </tr>\n",
       "    <tr>\n",
       "      <th>1</th>\n",
       "      <td>2.</td>\n",
       "      <td>Baby Shark Dance</td>\n",
       "      <td>Luis Fonsi featuring Daddy Yankee</td>\n",
       "      <td>January 12, 2017</td>\n",
       "      <td>7.19</td>\n",
       "    </tr>\n",
       "    <tr>\n",
       "      <th>2</th>\n",
       "      <td>3.</td>\n",
       "      <td>Baby Shark Dance</td>\n",
       "      <td>Ed Sheeran</td>\n",
       "      <td>January 30, 2017</td>\n",
       "      <td>5.18</td>\n",
       "    </tr>\n",
       "    <tr>\n",
       "      <th>3</th>\n",
       "      <td>4.</td>\n",
       "      <td>Cocomelon – Nursery Rhymes</td>\n",
       "      <td>Wiz Khalifa featuring Charlie Puth</td>\n",
       "      <td>April 6, 2015</td>\n",
       "      <td>4.94</td>\n",
       "    </tr>\n",
       "    <tr>\n",
       "      <th>4</th>\n",
       "      <td>5.</td>\n",
       "      <td>Gente De Zona</td>\n",
       "      <td>LooLoo Kids</td>\n",
       "      <td>October 8, 2016</td>\n",
       "      <td>4.73</td>\n",
       "    </tr>\n",
       "    <tr>\n",
       "      <th>5</th>\n",
       "      <td>6.</td>\n",
       "      <td>Maluma</td>\n",
       "      <td>Get Movies</td>\n",
       "      <td>January 31, 2012</td>\n",
       "      <td>4.41</td>\n",
       "    </tr>\n",
       "    <tr>\n",
       "      <th>6</th>\n",
       "      <td>7.</td>\n",
       "      <td>Cocomelon – Nursery Rhymes</td>\n",
       "      <td>Mark Ronson featuring Bruno Mars</td>\n",
       "      <td>November 19, 2014</td>\n",
       "      <td>4.08</td>\n",
       "    </tr>\n",
       "    <tr>\n",
       "      <th>7</th>\n",
       "      <td>8.</td>\n",
       "      <td>Fueled By Ramen</td>\n",
       "      <td>Psy</td>\n",
       "      <td>July 15, 2012</td>\n",
       "      <td>3.96</td>\n",
       "    </tr>\n",
       "    <tr>\n",
       "      <th>8</th>\n",
       "      <td>9.</td>\n",
       "      <td>Baby Shark Dance</td>\n",
       "      <td>Miroshka TV</td>\n",
       "      <td>February 27, 2018</td>\n",
       "      <td>3.69</td>\n",
       "    </tr>\n",
       "    <tr>\n",
       "      <th>9</th>\n",
       "      <td>10.</td>\n",
       "      <td>Closer</td>\n",
       "      <td>Cocomelon – Nursery Rhymes</td>\n",
       "      <td>May 2, 2018</td>\n",
       "      <td>3.61</td>\n",
       "    </tr>\n",
       "    <tr>\n",
       "      <th>10</th>\n",
       "      <td>11.</td>\n",
       "      <td>Cocomelon – Nursery Rhymes</td>\n",
       "      <td>ChuChu TV</td>\n",
       "      <td>March 6, 2014</td>\n",
       "      <td>3.50</td>\n",
       "    </tr>\n",
       "    <tr>\n",
       "      <th>11</th>\n",
       "      <td>12.</td>\n",
       "      <td>Cocomelon – Nursery Rhymes</td>\n",
       "      <td>Justin Bieber</td>\n",
       "      <td>October 22, 2015</td>\n",
       "      <td>3.40</td>\n",
       "    </tr>\n",
       "    <tr>\n",
       "      <th>12</th>\n",
       "      <td>13.</td>\n",
       "      <td>Baby Shark Dance</td>\n",
       "      <td>Maroon 5</td>\n",
       "      <td>January 14, 2015</td>\n",
       "      <td>3.39</td>\n",
       "    </tr>\n",
       "    <tr>\n",
       "      <th>13</th>\n",
       "      <td>14.</td>\n",
       "      <td>List of most-viewed online trailers in the fir...</td>\n",
       "      <td>Katy Perry</td>\n",
       "      <td>September 5, 2013</td>\n",
       "      <td>3.27</td>\n",
       "    </tr>\n",
       "    <tr>\n",
       "      <th>14</th>\n",
       "      <td>15.</td>\n",
       "      <td>regional restrictions</td>\n",
       "      <td>OneRepublic</td>\n",
       "      <td>May 31, 2013</td>\n",
       "      <td>3.19</td>\n",
       "    </tr>\n",
       "    <tr>\n",
       "      <th>15</th>\n",
       "      <td>16.</td>\n",
       "      <td>regional restrictions</td>\n",
       "      <td>Ed Sheeran</td>\n",
       "      <td>October 7, 2014</td>\n",
       "      <td>3.18</td>\n",
       "    </tr>\n",
       "    <tr>\n",
       "      <th>16</th>\n",
       "      <td>17.</td>\n",
       "      <td>Wired</td>\n",
       "      <td>El Chombo featuring Cutty Ranks</td>\n",
       "      <td>April 5, 2018</td>\n",
       "      <td>3.10</td>\n",
       "    </tr>\n",
       "    <tr>\n",
       "      <th>17</th>\n",
       "      <td>18.</td>\n",
       "      <td></td>\n",
       "      <td>Taylor Swift</td>\n",
       "      <td>August 18, 2014</td>\n",
       "      <td>3.02</td>\n",
       "    </tr>\n",
       "    <tr>\n",
       "      <th>18</th>\n",
       "      <td>19.</td>\n",
       "      <td></td>\n",
       "      <td>Alan Walker</td>\n",
       "      <td>December 3, 2015</td>\n",
       "      <td>2.98</td>\n",
       "    </tr>\n",
       "    <tr>\n",
       "      <th>19</th>\n",
       "      <td>20.</td>\n",
       "      <td>music videos</td>\n",
       "      <td>Major Lazer and DJ Snake featuring MØ</td>\n",
       "      <td>March 22, 2015</td>\n",
       "      <td>2.97</td>\n",
       "    </tr>\n",
       "  </tbody>\n",
       "</table>\n",
       "</div>"
      ],
      "text/plain": [
       "   Rank                                               Name  \\\n",
       "0    1.                                       music videos   \n",
       "1    2.                                   Baby Shark Dance   \n",
       "2    3.                                   Baby Shark Dance   \n",
       "3    4.                         Cocomelon – Nursery Rhymes   \n",
       "4    5.                                      Gente De Zona   \n",
       "5    6.                                             Maluma   \n",
       "6    7.                         Cocomelon – Nursery Rhymes   \n",
       "7    8.                                    Fueled By Ramen   \n",
       "8    9.                                   Baby Shark Dance   \n",
       "9   10.                                             Closer   \n",
       "10  11.                         Cocomelon – Nursery Rhymes   \n",
       "11  12.                         Cocomelon – Nursery Rhymes   \n",
       "12  13.                                   Baby Shark Dance   \n",
       "13  14.  List of most-viewed online trailers in the fir...   \n",
       "14  15.                              regional restrictions   \n",
       "15  16.                              regional restrictions   \n",
       "16  17.                                              Wired   \n",
       "17  18.                                                      \n",
       "18  19.                                                      \n",
       "19  20.                                       music videos   \n",
       "\n",
       "                                   Artist        Uplaod_date views  \n",
       "0          Pinkfong Kids' Songs & Stories      June 17, 2016  7.85  \n",
       "1       Luis Fonsi featuring Daddy Yankee   January 12, 2017  7.19  \n",
       "2                              Ed Sheeran   January 30, 2017  5.18  \n",
       "3      Wiz Khalifa featuring Charlie Puth      April 6, 2015  4.94  \n",
       "4                             LooLoo Kids    October 8, 2016  4.73  \n",
       "5                              Get Movies   January 31, 2012  4.41  \n",
       "6        Mark Ronson featuring Bruno Mars  November 19, 2014  4.08  \n",
       "7                                     Psy      July 15, 2012  3.96  \n",
       "8                             Miroshka TV  February 27, 2018  3.69  \n",
       "9              Cocomelon – Nursery Rhymes        May 2, 2018  3.61  \n",
       "10                              ChuChu TV      March 6, 2014  3.50  \n",
       "11                          Justin Bieber   October 22, 2015  3.40  \n",
       "12                               Maroon 5   January 14, 2015  3.39  \n",
       "13                             Katy Perry  September 5, 2013  3.27  \n",
       "14                            OneRepublic       May 31, 2013  3.19  \n",
       "15                             Ed Sheeran    October 7, 2014  3.18  \n",
       "16        El Chombo featuring Cutty Ranks      April 5, 2018  3.10  \n",
       "17                           Taylor Swift    August 18, 2014  3.02  \n",
       "18                            Alan Walker   December 3, 2015  2.98  \n",
       "19  Major Lazer and DJ Snake featuring MØ     March 22, 2015  2.97  "
      ]
     },
     "execution_count": 120,
     "metadata": {},
     "output_type": "execute_result"
    }
   ],
   "source": [
    "Data"
   ]
  },
  {
   "cell_type": "markdown",
   "metadata": {},
   "source": [
    "# Que--2"
   ]
  },
  {
   "cell_type": "code",
   "execution_count": 2,
   "metadata": {},
   "outputs": [],
   "source": [
    "#connecting to web driver\n",
    "driver = webdriver.Chrome(r\"E:\\FRT\\chromedriver.exe\")"
   ]
  },
  {
   "cell_type": "code",
   "execution_count": 3,
   "metadata": {},
   "outputs": [],
   "source": [
    "# Opening the homepage bcci.tv\n",
    "driver.get('https://www.bcci.tv/')"
   ]
  },
  {
   "cell_type": "code",
   "execution_count": 9,
   "metadata": {},
   "outputs": [],
   "source": [
    "try:\n",
    "    menu=driver.find_element_by_xpath('//li[@class=\"drop-down__option  \"]/a')\n",
    "    driver.get(menu.get_attribute('href'))\n",
    "except StaleElementReferenceException as e:             # Handling StaleElement Exception   \n",
    "        print(\"Stale Exception\")        "
   ]
  },
  {
   "cell_type": "code",
   "execution_count": 30,
   "metadata": {},
   "outputs": [],
   "source": [
    "# creating empty list\n",
    "match_title=[]\n",
    "series=[]\n",
    "place=[]\n",
    "Date=[]\n",
    "time=[]"
   ]
  },
  {
   "cell_type": "code",
   "execution_count": 56,
   "metadata": {},
   "outputs": [],
   "source": [
    " # Extracting match titles\n",
    "match_title_tags=driver.find_elements_by_xpath(\"//strong[@class='fixture__name fixture__name--with-margin']\")\n",
    "for i in match_title_tags:\n",
    "    match_title.append(i.text)\n",
    "     "
   ]
  },
  {
   "cell_type": "code",
   "execution_count": 57,
   "metadata": {},
   "outputs": [
    {
     "data": {
      "text/plain": [
       "['2nd Test',\n",
       " '3rd Test',\n",
       " '4th Test',\n",
       " '1st T20I',\n",
       " '2nd T20I',\n",
       " '3rd T20I',\n",
       " '4th T20I',\n",
       " '5th T20I',\n",
       " '1st ODI',\n",
       " '2nd ODI',\n",
       " '3rd ODI',\n",
       " '1st Test',\n",
       " '2nd Test',\n",
       " '3rd Test',\n",
       " '4th Test',\n",
       " '5th Test']"
      ]
     },
     "execution_count": 57,
     "metadata": {},
     "output_type": "execute_result"
    }
   ],
   "source": [
    "match_title"
   ]
  },
  {
   "cell_type": "code",
   "execution_count": 58,
   "metadata": {},
   "outputs": [],
   "source": [
    " # Extracting series data\n",
    "series_tags=driver.find_elements_by_xpath(\"//span[@class='u-unskewed-text fixture__tournament-label u-truncated']\")\n",
    "for i in series_tags:\n",
    "    series.append(i.text)"
   ]
  },
  {
   "cell_type": "code",
   "execution_count": 59,
   "metadata": {},
   "outputs": [
    {
     "data": {
      "text/plain": [
       "['INDIA V ENGLAND 2021',\n",
       " 'INDIA V ENGLAND 2021',\n",
       " 'INDIA V ENGLAND 2021',\n",
       " 'INDIA V ENGLAND 2021',\n",
       " 'INDIA V ENGLAND 2021',\n",
       " 'INDIA V ENGLAND 2021',\n",
       " 'INDIA V ENGLAND 2021',\n",
       " 'INDIA V ENGLAND 2021',\n",
       " 'INDIA V ENGLAND 2021',\n",
       " 'INDIA V ENGLAND 2021',\n",
       " 'INDIA V ENGLAND 2021',\n",
       " 'ENGLAND V INDIA 2021',\n",
       " 'ENGLAND V INDIA 2021',\n",
       " 'ENGLAND V INDIA 2021',\n",
       " 'ENGLAND V INDIA 2021',\n",
       " 'ENGLAND V INDIA 2021']"
      ]
     },
     "execution_count": 59,
     "metadata": {},
     "output_type": "execute_result"
    }
   ],
   "source": [
    "series"
   ]
  },
  {
   "cell_type": "code",
   "execution_count": 60,
   "metadata": {},
   "outputs": [],
   "source": [
    " # Extracting place data\n",
    "place_tags=driver.find_elements_by_xpath(\"//p[@class='fixture__additional-info']/span\")\n",
    "for i in place_tags:\n",
    "    place.append(i.text)"
   ]
  },
  {
   "cell_type": "code",
   "execution_count": 61,
   "metadata": {},
   "outputs": [
    {
     "data": {
      "text/plain": [
       "['M. A. Chidambaram Stadium, Chennai',\n",
       " 'Sardar Patel Stadium, Ahmedabad',\n",
       " 'Sardar Patel Stadium, Ahmedabad',\n",
       " 'Sardar Patel Stadium, Ahmedabad',\n",
       " 'Sardar Patel Stadium, Ahmedabad',\n",
       " 'Sardar Patel Stadium, Ahmedabad',\n",
       " 'Sardar Patel Stadium, Ahmedabad',\n",
       " 'Sardar Patel Stadium, Ahmedabad',\n",
       " 'Maharashtra Cricket Association Stadium, Pune',\n",
       " 'Maharashtra Cricket Association Stadium, Pune',\n",
       " 'Maharashtra Cricket Association Stadium, Pune',\n",
       " 'Trent Bridge, Nottingham',\n",
       " \"Lord's, London\",\n",
       " 'Headingley, Leeds',\n",
       " 'The Oval, London',\n",
       " 'Old Trafford, Manchester']"
      ]
     },
     "execution_count": 61,
     "metadata": {},
     "output_type": "execute_result"
    }
   ],
   "source": [
    "place"
   ]
  },
  {
   "cell_type": "code",
   "execution_count": 31,
   "metadata": {},
   "outputs": [],
   "source": [
    " # Extracting Date data\n",
    "Date_tags=driver.find_elements_by_xpath(\"//div[@class='fixture__description u-unskewed-text']/span/strong\")\n",
    "for i in Date_tags:\n",
    "    Date.append(i.text)"
   ]
  },
  {
   "cell_type": "code",
   "execution_count": 32,
   "metadata": {},
   "outputs": [
    {
     "data": {
      "text/plain": [
       "['Saturday 13th February',\n",
       " 'Wednesday 24th February',\n",
       " 'Thursday 4th March',\n",
       " 'Friday 12th March',\n",
       " 'Sunday 14th March',\n",
       " 'Tuesday 16th March',\n",
       " 'Thursday 18th March',\n",
       " 'Saturday 20th March',\n",
       " 'Tuesday 23rd March',\n",
       " 'Friday 26th March',\n",
       " 'Sunday 28th March',\n",
       " 'Wednesday 4th August',\n",
       " 'Thursday 12th August',\n",
       " 'Wednesday 25th August',\n",
       " 'Thursday 2nd September',\n",
       " 'Friday 10th September']"
      ]
     },
     "execution_count": 32,
     "metadata": {},
     "output_type": "execute_result"
    }
   ],
   "source": [
    "Date"
   ]
  },
  {
   "cell_type": "code",
   "execution_count": 46,
   "metadata": {},
   "outputs": [],
   "source": [
    " # Extracting time\n",
    "time_tags=driver.find_elements_by_xpath(\"//div[@class='fixture__description u-unskewed-text']/span\")\n",
    "for i in time_tags:\n",
    "    time.append(i.text)"
   ]
  },
  {
   "cell_type": "code",
   "execution_count": 44,
   "metadata": {},
   "outputs": [
    {
     "data": {
      "text/plain": [
       "['Saturday 13th February 09:30 IST',\n",
       " 'Wednesday 24th February 14:30 IST',\n",
       " 'Thursday 4th March 09:30 IST',\n",
       " 'Friday 12th March 19:00 IST',\n",
       " 'Sunday 14th March 19:00 IST',\n",
       " 'Tuesday 16th March 19:00 IST',\n",
       " 'Thursday 18th March 19:00 IST',\n",
       " 'Saturday 20th March 19:00 IST',\n",
       " 'Tuesday 23rd March 13:30 IST',\n",
       " 'Friday 26th March 13:30 IST',\n",
       " 'Sunday 28th March 13:30 IST',\n",
       " 'Wednesday 4th August 15:30 IST',\n",
       " 'Thursday 12th August 15:30 IST',\n",
       " 'Wednesday 25th August 15:30 IST',\n",
       " 'Thursday 2nd September 15:30 IST',\n",
       " 'Friday 10th September 15:30 IST']"
      ]
     },
     "execution_count": 44,
     "metadata": {},
     "output_type": "execute_result"
    }
   ],
   "source": [
    "time"
   ]
  },
  {
   "cell_type": "code",
   "execution_count": 70,
   "metadata": {},
   "outputs": [],
   "source": [
    "import pandas as pd\n",
    "data=pd.DataFrame({})\n",
    "data['match_title']=match_title[0:15]\n",
    "data['series']=series[0:15]\n",
    "data['place']=place[0:15]\n",
    "data['Date']=Date[0:15]\n",
    "data['time']=time[0:15]"
   ]
  },
  {
   "cell_type": "code",
   "execution_count": 71,
   "metadata": {},
   "outputs": [
    {
     "data": {
      "text/html": [
       "<div>\n",
       "<style scoped>\n",
       "    .dataframe tbody tr th:only-of-type {\n",
       "        vertical-align: middle;\n",
       "    }\n",
       "\n",
       "    .dataframe tbody tr th {\n",
       "        vertical-align: top;\n",
       "    }\n",
       "\n",
       "    .dataframe thead th {\n",
       "        text-align: right;\n",
       "    }\n",
       "</style>\n",
       "<table border=\"1\" class=\"dataframe\">\n",
       "  <thead>\n",
       "    <tr style=\"text-align: right;\">\n",
       "      <th></th>\n",
       "      <th>match_title</th>\n",
       "      <th>series</th>\n",
       "      <th>place</th>\n",
       "      <th>Date</th>\n",
       "      <th>time</th>\n",
       "    </tr>\n",
       "  </thead>\n",
       "  <tbody>\n",
       "    <tr>\n",
       "      <th>0</th>\n",
       "      <td>2nd Test</td>\n",
       "      <td>INDIA V ENGLAND 2021</td>\n",
       "      <td>M. A. Chidambaram Stadium, Chennai</td>\n",
       "      <td>Saturday 13th February</td>\n",
       "      <td>Saturday 13th February 09:30 IST</td>\n",
       "    </tr>\n",
       "    <tr>\n",
       "      <th>1</th>\n",
       "      <td>3rd Test</td>\n",
       "      <td>INDIA V ENGLAND 2021</td>\n",
       "      <td>Sardar Patel Stadium, Ahmedabad</td>\n",
       "      <td>Wednesday 24th February</td>\n",
       "      <td>Wednesday 24th February 14:30 IST</td>\n",
       "    </tr>\n",
       "    <tr>\n",
       "      <th>2</th>\n",
       "      <td>4th Test</td>\n",
       "      <td>INDIA V ENGLAND 2021</td>\n",
       "      <td>Sardar Patel Stadium, Ahmedabad</td>\n",
       "      <td>Thursday 4th March</td>\n",
       "      <td>Thursday 4th March 09:30 IST</td>\n",
       "    </tr>\n",
       "    <tr>\n",
       "      <th>3</th>\n",
       "      <td>1st T20I</td>\n",
       "      <td>INDIA V ENGLAND 2021</td>\n",
       "      <td>Sardar Patel Stadium, Ahmedabad</td>\n",
       "      <td>Friday 12th March</td>\n",
       "      <td>Friday 12th March 19:00 IST</td>\n",
       "    </tr>\n",
       "    <tr>\n",
       "      <th>4</th>\n",
       "      <td>2nd T20I</td>\n",
       "      <td>INDIA V ENGLAND 2021</td>\n",
       "      <td>Sardar Patel Stadium, Ahmedabad</td>\n",
       "      <td>Sunday 14th March</td>\n",
       "      <td>Sunday 14th March 19:00 IST</td>\n",
       "    </tr>\n",
       "    <tr>\n",
       "      <th>5</th>\n",
       "      <td>3rd T20I</td>\n",
       "      <td>INDIA V ENGLAND 2021</td>\n",
       "      <td>Sardar Patel Stadium, Ahmedabad</td>\n",
       "      <td>Tuesday 16th March</td>\n",
       "      <td>Tuesday 16th March 19:00 IST</td>\n",
       "    </tr>\n",
       "    <tr>\n",
       "      <th>6</th>\n",
       "      <td>4th T20I</td>\n",
       "      <td>INDIA V ENGLAND 2021</td>\n",
       "      <td>Sardar Patel Stadium, Ahmedabad</td>\n",
       "      <td>Thursday 18th March</td>\n",
       "      <td>Thursday 18th March 19:00 IST</td>\n",
       "    </tr>\n",
       "    <tr>\n",
       "      <th>7</th>\n",
       "      <td>5th T20I</td>\n",
       "      <td>INDIA V ENGLAND 2021</td>\n",
       "      <td>Sardar Patel Stadium, Ahmedabad</td>\n",
       "      <td>Saturday 20th March</td>\n",
       "      <td>Saturday 20th March 19:00 IST</td>\n",
       "    </tr>\n",
       "    <tr>\n",
       "      <th>8</th>\n",
       "      <td>1st ODI</td>\n",
       "      <td>INDIA V ENGLAND 2021</td>\n",
       "      <td>Maharashtra Cricket Association Stadium, Pune</td>\n",
       "      <td>Tuesday 23rd March</td>\n",
       "      <td>Tuesday 23rd March 13:30 IST</td>\n",
       "    </tr>\n",
       "    <tr>\n",
       "      <th>9</th>\n",
       "      <td>2nd ODI</td>\n",
       "      <td>INDIA V ENGLAND 2021</td>\n",
       "      <td>Maharashtra Cricket Association Stadium, Pune</td>\n",
       "      <td>Friday 26th March</td>\n",
       "      <td>Friday 26th March 13:30 IST</td>\n",
       "    </tr>\n",
       "    <tr>\n",
       "      <th>10</th>\n",
       "      <td>3rd ODI</td>\n",
       "      <td>INDIA V ENGLAND 2021</td>\n",
       "      <td>Maharashtra Cricket Association Stadium, Pune</td>\n",
       "      <td>Sunday 28th March</td>\n",
       "      <td>Sunday 28th March 13:30 IST</td>\n",
       "    </tr>\n",
       "    <tr>\n",
       "      <th>11</th>\n",
       "      <td>1st Test</td>\n",
       "      <td>ENGLAND V INDIA 2021</td>\n",
       "      <td>Trent Bridge, Nottingham</td>\n",
       "      <td>Wednesday 4th August</td>\n",
       "      <td>Wednesday 4th August 15:30 IST</td>\n",
       "    </tr>\n",
       "    <tr>\n",
       "      <th>12</th>\n",
       "      <td>2nd Test</td>\n",
       "      <td>ENGLAND V INDIA 2021</td>\n",
       "      <td>Lord's, London</td>\n",
       "      <td>Thursday 12th August</td>\n",
       "      <td>Thursday 12th August 15:30 IST</td>\n",
       "    </tr>\n",
       "    <tr>\n",
       "      <th>13</th>\n",
       "      <td>3rd Test</td>\n",
       "      <td>ENGLAND V INDIA 2021</td>\n",
       "      <td>Headingley, Leeds</td>\n",
       "      <td>Wednesday 25th August</td>\n",
       "      <td>Wednesday 25th August 15:30 IST</td>\n",
       "    </tr>\n",
       "    <tr>\n",
       "      <th>14</th>\n",
       "      <td>4th Test</td>\n",
       "      <td>ENGLAND V INDIA 2021</td>\n",
       "      <td>The Oval, London</td>\n",
       "      <td>Thursday 2nd September</td>\n",
       "      <td>Thursday 2nd September 15:30 IST</td>\n",
       "    </tr>\n",
       "  </tbody>\n",
       "</table>\n",
       "</div>"
      ],
      "text/plain": [
       "   match_title                series  \\\n",
       "0     2nd Test  INDIA V ENGLAND 2021   \n",
       "1     3rd Test  INDIA V ENGLAND 2021   \n",
       "2     4th Test  INDIA V ENGLAND 2021   \n",
       "3     1st T20I  INDIA V ENGLAND 2021   \n",
       "4     2nd T20I  INDIA V ENGLAND 2021   \n",
       "5     3rd T20I  INDIA V ENGLAND 2021   \n",
       "6     4th T20I  INDIA V ENGLAND 2021   \n",
       "7     5th T20I  INDIA V ENGLAND 2021   \n",
       "8      1st ODI  INDIA V ENGLAND 2021   \n",
       "9      2nd ODI  INDIA V ENGLAND 2021   \n",
       "10     3rd ODI  INDIA V ENGLAND 2021   \n",
       "11    1st Test  ENGLAND V INDIA 2021   \n",
       "12    2nd Test  ENGLAND V INDIA 2021   \n",
       "13    3rd Test  ENGLAND V INDIA 2021   \n",
       "14    4th Test  ENGLAND V INDIA 2021   \n",
       "\n",
       "                                            place                     Date  \\\n",
       "0              M. A. Chidambaram Stadium, Chennai   Saturday 13th February   \n",
       "1                 Sardar Patel Stadium, Ahmedabad  Wednesday 24th February   \n",
       "2                 Sardar Patel Stadium, Ahmedabad       Thursday 4th March   \n",
       "3                 Sardar Patel Stadium, Ahmedabad        Friday 12th March   \n",
       "4                 Sardar Patel Stadium, Ahmedabad        Sunday 14th March   \n",
       "5                 Sardar Patel Stadium, Ahmedabad       Tuesday 16th March   \n",
       "6                 Sardar Patel Stadium, Ahmedabad      Thursday 18th March   \n",
       "7                 Sardar Patel Stadium, Ahmedabad      Saturday 20th March   \n",
       "8   Maharashtra Cricket Association Stadium, Pune       Tuesday 23rd March   \n",
       "9   Maharashtra Cricket Association Stadium, Pune        Friday 26th March   \n",
       "10  Maharashtra Cricket Association Stadium, Pune        Sunday 28th March   \n",
       "11                       Trent Bridge, Nottingham     Wednesday 4th August   \n",
       "12                                 Lord's, London     Thursday 12th August   \n",
       "13                              Headingley, Leeds    Wednesday 25th August   \n",
       "14                               The Oval, London   Thursday 2nd September   \n",
       "\n",
       "                                 time  \n",
       "0    Saturday 13th February 09:30 IST  \n",
       "1   Wednesday 24th February 14:30 IST  \n",
       "2        Thursday 4th March 09:30 IST  \n",
       "3         Friday 12th March 19:00 IST  \n",
       "4         Sunday 14th March 19:00 IST  \n",
       "5        Tuesday 16th March 19:00 IST  \n",
       "6       Thursday 18th March 19:00 IST  \n",
       "7       Saturday 20th March 19:00 IST  \n",
       "8        Tuesday 23rd March 13:30 IST  \n",
       "9         Friday 26th March 13:30 IST  \n",
       "10        Sunday 28th March 13:30 IST  \n",
       "11     Wednesday 4th August 15:30 IST  \n",
       "12     Thursday 12th August 15:30 IST  \n",
       "13    Wednesday 25th August 15:30 IST  \n",
       "14   Thursday 2nd September 15:30 IST  "
      ]
     },
     "execution_count": 71,
     "metadata": {},
     "output_type": "execute_result"
    }
   ],
   "source": [
    "data"
   ]
  },
  {
   "cell_type": "markdown",
   "metadata": {},
   "source": [
    "# Que--3"
   ]
  },
  {
   "cell_type": "code",
   "execution_count": 12,
   "metadata": {},
   "outputs": [],
   "source": [
    "#connecting to web driver\n",
    "driver = webdriver.Chrome(r\"E:\\FRT\\chromedriver.exe\")"
   ]
  },
  {
   "cell_type": "code",
   "execution_count": 13,
   "metadata": {},
   "outputs": [],
   "source": [
    "# Opening the homepage of Amazon.in\n",
    "driver.get('https://www.guru99.com/')"
   ]
  },
  {
   "cell_type": "code",
   "execution_count": 30,
   "metadata": {},
   "outputs": [
    {
     "name": "stdout",
     "output_type": "stream",
     "text": [
      "Enter input: selenium exception handling\n"
     ]
    }
   ],
   "source": [
    "user_inp = input('Enter input: ')     # user input"
   ]
  },
  {
   "cell_type": "code",
   "execution_count": 25,
   "metadata": {},
   "outputs": [],
   "source": [
    "search_bar2 =  driver.find_element_by_xpath('/html/body/div[2]/section[3]/div/div/div/div/div/div/div/div[2]/div/div[1]/div/div/form/table/tbody/tr/td[1]/div/table/tbody/tr/td[1]/input')"
   ]
  },
  {
   "cell_type": "code",
   "execution_count": 26,
   "metadata": {},
   "outputs": [],
   "source": [
    "search_bar2.click()"
   ]
  },
  {
   "cell_type": "code",
   "execution_count": 27,
   "metadata": {},
   "outputs": [],
   "source": [
    "search_bar2.clear()"
   ]
  },
  {
   "cell_type": "code",
   "execution_count": 31,
   "metadata": {},
   "outputs": [],
   "source": [
    "search_bar2.send_keys(user_inp)       # sending keys to search bar"
   ]
  },
  {
   "cell_type": "code",
   "execution_count": 32,
   "metadata": {},
   "outputs": [],
   "source": [
    "search_button = driver.find_element_by_xpath('//*[@id=\"___gcse_1\"]/div/div/form/table/tbody/tr/td[2]/button')       # Locating search_button by xpath\n",
    "search_button.click() "
   ]
  },
  {
   "cell_type": "code",
   "execution_count": 33,
   "metadata": {},
   "outputs": [],
   "source": [
    "# creating empty list\n",
    "name=[]\n",
    "desc=[]"
   ]
  },
  {
   "cell_type": "code",
   "execution_count": 46,
   "metadata": {},
   "outputs": [],
   "source": [
    " # Extracting name\n",
    "name_tags=driver.find_elements_by_xpath('//div[@class=\"gs-title\"]')\n",
    "for i in name_tags:\n",
    "    name.append(i.text)"
   ]
  },
  {
   "cell_type": "code",
   "execution_count": 47,
   "metadata": {},
   "outputs": [
    {
     "data": {
      "text/plain": [
       "['Selenium Exception Handling (Common Exceptions List)',\n",
       " 'How to Handle SSL Certificate in Selenium WebDriver',\n",
       " 'Selenium Alert & Popup Window Handling: How to Handle?',\n",
       " 'Handling Dynamic Web Tables Using Selenium WebDriver',\n",
       " 'Store Variables, Echo, Alert, PopUp handling in Selenium IDE',\n",
       " 'Cookies Handling in Selenium WebDriver',\n",
       " 'How to Handle AJAX Call in Selenium Webdriver',\n",
       " 'How to Handle iFrames in Selenium Webdriver: switchTo()',\n",
       " 'Parallel Execution in Selenium: Session Handling & TestNG ...',\n",
       " 'Robot Class in Selenium Webdriver',\n",
       " '']"
      ]
     },
     "execution_count": 47,
     "metadata": {},
     "output_type": "execute_result"
    }
   ],
   "source": [
    "name"
   ]
  },
  {
   "cell_type": "code",
   "execution_count": 48,
   "metadata": {},
   "outputs": [],
   "source": [
    " # Extracting description\n",
    "desc_tags=driver.find_elements_by_xpath('//div[@class=\"gs-bidi-start-align gs-snippet\"]')\n",
    "for i in desc_tags:\n",
    "    desc.append(i.text)"
   ]
  },
  {
   "cell_type": "code",
   "execution_count": 49,
   "metadata": {},
   "outputs": [
    {
     "data": {
      "text/plain": [
       "['16 Dec 2020 ... Handling Selenium Exceptions; Methods for displaying Exception. Common Exceptions in Selenium Web driver. Exception name, Description.',\n",
       " '13 Dec 2020 ... Then such error is subject to SSL certificate error. Now, if the browser is unable to establish a secured connection with the requested certificate, ...',\n",
       " '29 Dec 2020 ... It notifies the user with some specific information or error, asks for permission to perform certain tasks and it also provides warning messages as ...',\n",
       " '5 Jan 2021 ... Now, we will learn how to handle dynamic table in Selenium: ... static void main( String[] args) throws ParseException { WebDriver wd; System.',\n",
       " '10 Jan 2021 ... In this tutorial, we will learn, Store commands, Echo commands, Alerts and Popup handling, Confirmations and about Multiple Windows.',\n",
       " '13 Dec 2020 ... In Selenium Webdriver, we can query and interact with cookies with ... newLine(); } Bwrite.close(); fileWrite.close(); } catch(Exception ex) { ex.',\n",
       " '13 Dec 2020 ... Ajax is a technique used for creating fast and dynamic web pages. This technique is asynchronous and uses a combination of Javascript and ...',\n",
       " '4 Jan 2021 ... Basically, we can switch over the elements and handle frames in Selenium using 3 ways. By Index; By Name or Id; By Web Element. Switch to the ...',\n",
       " \"11 Dec 2020 ... To understand how to run selenium scripts in parallel with Multiple Browsers. Let's first understand Session Handling. During test execution, the ...\",\n",
       " '4 days ago ... Selenium Webdriver cannot handle these pop-ups/applications, so in ... new Robot(); // Robot class throws AWT Exception Thread.sleep(2000); ...',\n",
       " '']"
      ]
     },
     "execution_count": 49,
     "metadata": {},
     "output_type": "execute_result"
    }
   ],
   "source": [
    "desc"
   ]
  },
  {
   "cell_type": "code",
   "execution_count": 53,
   "metadata": {},
   "outputs": [],
   "source": [
    "import pandas as pd\n",
    "data=pd.DataFrame({})\n",
    "data['name']=name[0:11]\n",
    "data['desc']=desc[0:11]"
   ]
  },
  {
   "cell_type": "code",
   "execution_count": 54,
   "metadata": {},
   "outputs": [
    {
     "data": {
      "text/html": [
       "<div>\n",
       "<style scoped>\n",
       "    .dataframe tbody tr th:only-of-type {\n",
       "        vertical-align: middle;\n",
       "    }\n",
       "\n",
       "    .dataframe tbody tr th {\n",
       "        vertical-align: top;\n",
       "    }\n",
       "\n",
       "    .dataframe thead th {\n",
       "        text-align: right;\n",
       "    }\n",
       "</style>\n",
       "<table border=\"1\" class=\"dataframe\">\n",
       "  <thead>\n",
       "    <tr style=\"text-align: right;\">\n",
       "      <th></th>\n",
       "      <th>name</th>\n",
       "      <th>desc</th>\n",
       "    </tr>\n",
       "  </thead>\n",
       "  <tbody>\n",
       "    <tr>\n",
       "      <th>0</th>\n",
       "      <td>Selenium Exception Handling (Common Exceptions...</td>\n",
       "      <td>16 Dec 2020 ... Handling Selenium Exceptions; ...</td>\n",
       "    </tr>\n",
       "    <tr>\n",
       "      <th>1</th>\n",
       "      <td>How to Handle SSL Certificate in Selenium WebD...</td>\n",
       "      <td>13 Dec 2020 ... Then such error is subject to ...</td>\n",
       "    </tr>\n",
       "    <tr>\n",
       "      <th>2</th>\n",
       "      <td>Selenium Alert &amp; Popup Window Handling: How to...</td>\n",
       "      <td>29 Dec 2020 ... It notifies the user with some...</td>\n",
       "    </tr>\n",
       "    <tr>\n",
       "      <th>3</th>\n",
       "      <td>Handling Dynamic Web Tables Using Selenium Web...</td>\n",
       "      <td>5 Jan 2021 ... Now, we will learn how to handl...</td>\n",
       "    </tr>\n",
       "    <tr>\n",
       "      <th>4</th>\n",
       "      <td>Store Variables, Echo, Alert, PopUp handling i...</td>\n",
       "      <td>10 Jan 2021 ... In this tutorial, we will lear...</td>\n",
       "    </tr>\n",
       "    <tr>\n",
       "      <th>5</th>\n",
       "      <td>Cookies Handling in Selenium WebDriver</td>\n",
       "      <td>13 Dec 2020 ... In Selenium Webdriver, we can ...</td>\n",
       "    </tr>\n",
       "    <tr>\n",
       "      <th>6</th>\n",
       "      <td>How to Handle AJAX Call in Selenium Webdriver</td>\n",
       "      <td>13 Dec 2020 ... Ajax is a technique used for c...</td>\n",
       "    </tr>\n",
       "    <tr>\n",
       "      <th>7</th>\n",
       "      <td>How to Handle iFrames in Selenium Webdriver: s...</td>\n",
       "      <td>4 Jan 2021 ... Basically, we can switch over t...</td>\n",
       "    </tr>\n",
       "    <tr>\n",
       "      <th>8</th>\n",
       "      <td>Parallel Execution in Selenium: Session Handli...</td>\n",
       "      <td>11 Dec 2020 ... To understand how to run selen...</td>\n",
       "    </tr>\n",
       "    <tr>\n",
       "      <th>9</th>\n",
       "      <td>Robot Class in Selenium Webdriver</td>\n",
       "      <td>4 days ago ... Selenium Webdriver cannot handl...</td>\n",
       "    </tr>\n",
       "    <tr>\n",
       "      <th>10</th>\n",
       "      <td></td>\n",
       "      <td></td>\n",
       "    </tr>\n",
       "  </tbody>\n",
       "</table>\n",
       "</div>"
      ],
      "text/plain": [
       "                                                 name  \\\n",
       "0   Selenium Exception Handling (Common Exceptions...   \n",
       "1   How to Handle SSL Certificate in Selenium WebD...   \n",
       "2   Selenium Alert & Popup Window Handling: How to...   \n",
       "3   Handling Dynamic Web Tables Using Selenium Web...   \n",
       "4   Store Variables, Echo, Alert, PopUp handling i...   \n",
       "5              Cookies Handling in Selenium WebDriver   \n",
       "6       How to Handle AJAX Call in Selenium Webdriver   \n",
       "7   How to Handle iFrames in Selenium Webdriver: s...   \n",
       "8   Parallel Execution in Selenium: Session Handli...   \n",
       "9                   Robot Class in Selenium Webdriver   \n",
       "10                                                      \n",
       "\n",
       "                                                 desc  \n",
       "0   16 Dec 2020 ... Handling Selenium Exceptions; ...  \n",
       "1   13 Dec 2020 ... Then such error is subject to ...  \n",
       "2   29 Dec 2020 ... It notifies the user with some...  \n",
       "3   5 Jan 2021 ... Now, we will learn how to handl...  \n",
       "4   10 Jan 2021 ... In this tutorial, we will lear...  \n",
       "5   13 Dec 2020 ... In Selenium Webdriver, we can ...  \n",
       "6   13 Dec 2020 ... Ajax is a technique used for c...  \n",
       "7   4 Jan 2021 ... Basically, we can switch over t...  \n",
       "8   11 Dec 2020 ... To understand how to run selen...  \n",
       "9   4 days ago ... Selenium Webdriver cannot handl...  \n",
       "10                                                     "
      ]
     },
     "execution_count": 54,
     "metadata": {},
     "output_type": "execute_result"
    }
   ],
   "source": [
    "data"
   ]
  },
  {
   "cell_type": "code",
   "execution_count": 55,
   "metadata": {},
   "outputs": [
    {
     "data": {
      "text/plain": [
       "',name,desc\\r\\n0,Selenium Exception Handling (Common Exceptions List),\"16 Dec 2020 ... Handling Selenium Exceptions; Methods for displaying Exception. Common Exceptions in Selenium Web driver. Exception name, Description.\"\\r\\n1,How to Handle SSL Certificate in Selenium WebDriver,\"13 Dec 2020 ... Then such error is subject to SSL certificate error. Now, if the browser is unable to establish a secured connection with the requested certificate, ...\"\\r\\n2,Selenium Alert & Popup Window Handling: How to Handle?,\"29 Dec 2020 ... It notifies the user with some specific information or error, asks for permission to perform certain tasks and it also provides warning messages as ...\"\\r\\n3,Handling Dynamic Web Tables Using Selenium WebDriver,\"5 Jan 2021 ... Now, we will learn how to handle dynamic table in Selenium: ... static void main( String[] args) throws ParseException { WebDriver wd; System.\"\\r\\n4,\"Store Variables, Echo, Alert, PopUp handling in Selenium IDE\",\"10 Jan 2021 ... In this tutorial, we will learn, Store commands, Echo commands, Alerts and Popup handling, Confirmations and about Multiple Windows.\"\\r\\n5,Cookies Handling in Selenium WebDriver,\"13 Dec 2020 ... In Selenium Webdriver, we can query and interact with cookies with ... newLine(); } Bwrite.close(); fileWrite.close(); } catch(Exception ex) { ex.\"\\r\\n6,How to Handle AJAX Call in Selenium Webdriver,13 Dec 2020 ... Ajax is a technique used for creating fast and dynamic web pages. This technique is asynchronous and uses a combination of Javascript and ...\\r\\n7,How to Handle iFrames in Selenium Webdriver: switchTo(),\"4 Jan 2021 ... Basically, we can switch over the elements and handle frames in Selenium using 3 ways. By Index; By Name or Id; By Web Element. Switch to the ...\"\\r\\n8,Parallel Execution in Selenium: Session Handling & TestNG ...,\"11 Dec 2020 ... To understand how to run selenium scripts in parallel with Multiple Browsers. Let\\'s first understand Session Handling. During test execution, the ...\"\\r\\n9,Robot Class in Selenium Webdriver,\"4 days ago ... Selenium Webdriver cannot handle these pop-ups/applications, so in ... new Robot(); // Robot class throws AWT Exception Thread.sleep(2000); ...\"\\r\\n10,,\\r\\n'"
      ]
     },
     "execution_count": 55,
     "metadata": {},
     "output_type": "execute_result"
    }
   ],
   "source": [
    "data.to_csv()"
   ]
  },
  {
   "cell_type": "markdown",
   "metadata": {},
   "source": [
    "# Que--4"
   ]
  },
  {
   "cell_type": "code",
   "execution_count": 21,
   "metadata": {},
   "outputs": [],
   "source": [
    "#connecting to web driver\n",
    "driver = webdriver.Chrome(r\"E:\\FRT\\chromedriver.exe\")"
   ]
  },
  {
   "cell_type": "code",
   "execution_count": 22,
   "metadata": {},
   "outputs": [],
   "source": [
    "# Opening the homepage of statisticstimes.com\n",
    "driver.get('http://statisticstimes.com/')"
   ]
  },
  {
   "cell_type": "code",
   "execution_count": 20,
   "metadata": {},
   "outputs": [],
   "source": [
    "element = driver.find_element_by_xpath('//div[@class=\"dropdown-content\"]/a[3]')       # Locating to required webpage\n",
    "driver.get(element.get_attribute('href'))     "
   ]
  },
  {
   "cell_type": "code",
   "execution_count": 21,
   "metadata": {},
   "outputs": [],
   "source": [
    "element1 = driver.find_element_by_xpath('/html/body/div[2]/div[2]/div[2]/ul/li[1]/a')  \n",
    "driver.get(element1.get_attribute('href'))"
   ]
  },
  {
   "cell_type": "code",
   "execution_count": 22,
   "metadata": {},
   "outputs": [],
   "source": [
    "# creating empty list\n",
    "rank=[]\n",
    "state=[]\n",
    "gsdp=[]\n",
    "GSDP=[]\n",
    "share=[]\n",
    "gdp=[]"
   ]
  },
  {
   "cell_type": "code",
   "execution_count": 24,
   "metadata": {},
   "outputs": [],
   "source": [
    " # Extracting rank\n",
    "rank_tags=driver.find_elements_by_xpath('//td[@class=\"data1\"]')\n",
    "for i in rank_tags:\n",
    "    rank.append(i.text)"
   ]
  },
  {
   "cell_type": "code",
   "execution_count": 26,
   "metadata": {},
   "outputs": [
    {
     "data": {
      "text/plain": [
       "['1', '2', '3', '4']"
      ]
     },
     "execution_count": 26,
     "metadata": {},
     "output_type": "execute_result"
    }
   ],
   "source": [
    "rank[0:4]"
   ]
  },
  {
   "cell_type": "code",
   "execution_count": 27,
   "metadata": {},
   "outputs": [],
   "source": [
    " # Extracting state\n",
    "state_tags=driver.find_elements_by_xpath('//td[@class=\"name\"]')\n",
    "for i in state_tags:\n",
    "    state.append(i.text)"
   ]
  },
  {
   "cell_type": "code",
   "execution_count": 28,
   "metadata": {},
   "outputs": [
    {
     "data": {
      "text/plain": [
       "['Maharashtra', 'Uttar Pradesh', 'Tamil Nadu', 'Karnataka']"
      ]
     },
     "execution_count": 28,
     "metadata": {},
     "output_type": "execute_result"
    }
   ],
   "source": [
    "state[0:4]"
   ]
  },
  {
   "cell_type": "code",
   "execution_count": 29,
   "metadata": {},
   "outputs": [],
   "source": [
    " # Extracting gsdp\n",
    "gsdp_tags=driver.find_elements_by_xpath('//td[@class=\"data\"]')\n",
    "for i in gsdp_tags:\n",
    "    gsdp.append(i.text)"
   ]
  },
  {
   "cell_type": "code",
   "execution_count": 31,
   "metadata": {},
   "outputs": [
    {
     "data": {
      "text/plain": [
       "['-', '13.88%', '398.145', '-']"
      ]
     },
     "execution_count": 31,
     "metadata": {},
     "output_type": "execute_result"
    }
   ],
   "source": [
    "gsdp[0:4]"
   ]
  },
  {
   "cell_type": "code",
   "execution_count": 32,
   "metadata": {},
   "outputs": [],
   "source": [
    " # Extracting GSDP\n",
    "GSDP_tags=driver.find_elements_by_xpath('//td[@class=\"data sorting_1\"]')\n",
    "for i in GSDP_tags:\n",
    "    GSDP.append(i.text)"
   ]
  },
  {
   "cell_type": "code",
   "execution_count": 33,
   "metadata": {},
   "outputs": [
    {
     "data": {
      "text/plain": [
       "['2,632,792', '1,668,229', '1,630,208', '1,544,399']"
      ]
     },
     "execution_count": 33,
     "metadata": {},
     "output_type": "execute_result"
    }
   ],
   "source": [
    "GSDP[0:4]"
   ]
  },
  {
   "cell_type": "code",
   "execution_count": 34,
   "metadata": {},
   "outputs": [],
   "source": [
    " # Extracting share\n",
    "share_tags=driver.find_elements_by_xpath('//tr[@class=\"odd\"]/td[5]')\n",
    "for i in share_tags:\n",
    "    share.append(i.text)"
   ]
  },
  {
   "cell_type": "code",
   "execution_count": 35,
   "metadata": {},
   "outputs": [
    {
     "data": {
      "text/plain": [
       "['13.88%', '8.59%', '7.92%', '4.97%']"
      ]
     },
     "execution_count": 35,
     "metadata": {},
     "output_type": "execute_result"
    }
   ],
   "source": [
    "share[0:4]"
   ]
  },
  {
   "cell_type": "code",
   "execution_count": 36,
   "metadata": {},
   "outputs": [],
   "source": [
    " # Extracting gdp\n",
    "gdp_tags=driver.find_elements_by_xpath('//tr[@class=\"odd\"]/td[6]')\n",
    "for i in gdp_tags:\n",
    "    gdp.append(i.text)"
   ]
  },
  {
   "cell_type": "code",
   "execution_count": 37,
   "metadata": {},
   "outputs": [
    {
     "data": {
      "text/plain": [
       "['398.145', '246.529', '227.276', '142.543']"
      ]
     },
     "execution_count": 37,
     "metadata": {},
     "output_type": "execute_result"
    }
   ],
   "source": [
    "gdp[0:4]"
   ]
  },
  {
   "cell_type": "code",
   "execution_count": 42,
   "metadata": {},
   "outputs": [],
   "source": [
    "import pandas as pd\n",
    "data=pd.DataFrame({})\n",
    "data['rank']=rank[0:33]\n",
    "data['state']=state[0:33]\n",
    "data['share']=share[0:33]\n",
    "data['gsdp']=gsdp[0:33]\n",
    "data['GSDP']=GSDP[0:33]\n",
    "data['gdp']=gdp[0:33]"
   ]
  },
  {
   "cell_type": "code",
   "execution_count": 43,
   "metadata": {},
   "outputs": [
    {
     "data": {
      "text/html": [
       "<div>\n",
       "<style scoped>\n",
       "    .dataframe tbody tr th:only-of-type {\n",
       "        vertical-align: middle;\n",
       "    }\n",
       "\n",
       "    .dataframe tbody tr th {\n",
       "        vertical-align: top;\n",
       "    }\n",
       "\n",
       "    .dataframe thead th {\n",
       "        text-align: right;\n",
       "    }\n",
       "</style>\n",
       "<table border=\"1\" class=\"dataframe\">\n",
       "  <thead>\n",
       "    <tr style=\"text-align: right;\">\n",
       "      <th></th>\n",
       "      <th>rank</th>\n",
       "      <th>state</th>\n",
       "      <th>share</th>\n",
       "      <th>gsdp</th>\n",
       "      <th>GSDP</th>\n",
       "      <th>gdp</th>\n",
       "    </tr>\n",
       "  </thead>\n",
       "  <tbody>\n",
       "    <tr>\n",
       "      <th>0</th>\n",
       "      <td>1</td>\n",
       "      <td>Maharashtra</td>\n",
       "      <td>13.88%</td>\n",
       "      <td>-</td>\n",
       "      <td>2,632,792</td>\n",
       "      <td>398.145</td>\n",
       "    </tr>\n",
       "    <tr>\n",
       "      <th>1</th>\n",
       "      <td>2</td>\n",
       "      <td>Uttar Pradesh</td>\n",
       "      <td>8.59%</td>\n",
       "      <td>13.88%</td>\n",
       "      <td>1,668,229</td>\n",
       "      <td>246.529</td>\n",
       "    </tr>\n",
       "    <tr>\n",
       "      <th>2</th>\n",
       "      <td>3</td>\n",
       "      <td>Tamil Nadu</td>\n",
       "      <td>7.92%</td>\n",
       "      <td>398.145</td>\n",
       "      <td>1,630,208</td>\n",
       "      <td>227.276</td>\n",
       "    </tr>\n",
       "    <tr>\n",
       "      <th>3</th>\n",
       "      <td>4</td>\n",
       "      <td>Karnataka</td>\n",
       "      <td>4.97%</td>\n",
       "      <td>-</td>\n",
       "      <td>1,544,399</td>\n",
       "      <td>142.543</td>\n",
       "    </tr>\n",
       "    <tr>\n",
       "      <th>4</th>\n",
       "      <td>5</td>\n",
       "      <td>Gujarat</td>\n",
       "      <td>4.54%</td>\n",
       "      <td>2,039,074</td>\n",
       "      <td>1,502,899</td>\n",
       "      <td>130.210</td>\n",
       "    </tr>\n",
       "    <tr>\n",
       "      <th>5</th>\n",
       "      <td>6</td>\n",
       "      <td>West Bengal</td>\n",
       "      <td>4.12%</td>\n",
       "      <td>1,794,508</td>\n",
       "      <td>1,089,898</td>\n",
       "      <td>118.206</td>\n",
       "    </tr>\n",
       "    <tr>\n",
       "      <th>6</th>\n",
       "      <td>7</td>\n",
       "      <td>Rajasthan</td>\n",
       "      <td>3.87%</td>\n",
       "      <td>8.79%</td>\n",
       "      <td>942,586</td>\n",
       "      <td>111.024</td>\n",
       "    </tr>\n",
       "    <tr>\n",
       "      <th>7</th>\n",
       "      <td>8</td>\n",
       "      <td>Andhra Pradesh</td>\n",
       "      <td>2.77%</td>\n",
       "      <td>252.278</td>\n",
       "      <td>862,957</td>\n",
       "      <td>79.601</td>\n",
       "    </tr>\n",
       "    <tr>\n",
       "      <th>8</th>\n",
       "      <td>9</td>\n",
       "      <td>Telangana</td>\n",
       "      <td>1.67%</td>\n",
       "      <td>1,187,277</td>\n",
       "      <td>861,031</td>\n",
       "      <td>47.769</td>\n",
       "    </tr>\n",
       "    <tr>\n",
       "      <th>9</th>\n",
       "      <td>10</td>\n",
       "      <td>Madhya Pradesh</td>\n",
       "      <td>1.57%</td>\n",
       "      <td>1,137,469</td>\n",
       "      <td>809,592</td>\n",
       "      <td>44.945</td>\n",
       "    </tr>\n",
       "    <tr>\n",
       "      <th>10</th>\n",
       "      <td>11</td>\n",
       "      <td>Kerala</td>\n",
       "      <td>0.82%</td>\n",
       "      <td>1,845,853</td>\n",
       "      <td>781,653</td>\n",
       "      <td>23.584</td>\n",
       "    </tr>\n",
       "    <tr>\n",
       "      <th>11</th>\n",
       "      <td>12</td>\n",
       "      <td>Delhi</td>\n",
       "      <td>0.39%</td>\n",
       "      <td>8.59%</td>\n",
       "      <td>774,870</td>\n",
       "      <td>11.065</td>\n",
       "    </tr>\n",
       "    <tr>\n",
       "      <th>12</th>\n",
       "      <td>13</td>\n",
       "      <td>Haryana</td>\n",
       "      <td>0.22%</td>\n",
       "      <td>246.529</td>\n",
       "      <td>734,163</td>\n",
       "      <td>6.369</td>\n",
       "    </tr>\n",
       "    <tr>\n",
       "      <th>13</th>\n",
       "      <td>14</td>\n",
       "      <td>Bihar</td>\n",
       "      <td>0.18%</td>\n",
       "      <td>1,312,929</td>\n",
       "      <td>530,363</td>\n",
       "      <td>5.063</td>\n",
       "    </tr>\n",
       "    <tr>\n",
       "      <th>14</th>\n",
       "      <td>15</td>\n",
       "      <td>Punjab</td>\n",
       "      <td>0.15%</td>\n",
       "      <td>1,215,307</td>\n",
       "      <td>526,376</td>\n",
       "      <td>4.214</td>\n",
       "    </tr>\n",
       "    <tr>\n",
       "      <th>15</th>\n",
       "      <td>16</td>\n",
       "      <td>Odisha</td>\n",
       "      <td>0.13%</td>\n",
       "      <td>1,699,115</td>\n",
       "      <td>492,229</td>\n",
       "      <td>3.721</td>\n",
       "    </tr>\n",
       "    <tr>\n",
       "      <th>16</th>\n",
       "      <td>17</td>\n",
       "      <td>Assam</td>\n",
       "      <td>-</td>\n",
       "      <td>8.14%</td>\n",
       "      <td>315,881</td>\n",
       "      <td>-</td>\n",
       "    </tr>\n",
       "    <tr>\n",
       "      <th>17</th>\n",
       "      <td>18</td>\n",
       "      <td>Chhattisgarh</td>\n",
       "      <td>13.90%</td>\n",
       "      <td>233.552</td>\n",
       "      <td>304,063</td>\n",
       "      <td>-</td>\n",
       "    </tr>\n",
       "    <tr>\n",
       "      <th>18</th>\n",
       "      <td>19</td>\n",
       "      <td>Jharkhand</td>\n",
       "      <td>8.73%</td>\n",
       "      <td>1,201,031</td>\n",
       "      <td>297,204</td>\n",
       "      <td>1,167,776</td>\n",
       "    </tr>\n",
       "    <tr>\n",
       "      <th>19</th>\n",
       "      <td>20</td>\n",
       "      <td>Uttarakhand</td>\n",
       "      <td>7.88%</td>\n",
       "      <td>1,124,423</td>\n",
       "      <td>245,895</td>\n",
       "      <td>-</td>\n",
       "    </tr>\n",
       "    <tr>\n",
       "      <th>20</th>\n",
       "      <td>21</td>\n",
       "      <td>Jammu &amp; Kashmir</td>\n",
       "      <td>5.03%</td>\n",
       "      <td>-</td>\n",
       "      <td>155,956</td>\n",
       "      <td>630,693</td>\n",
       "    </tr>\n",
       "    <tr>\n",
       "      <th>21</th>\n",
       "      <td>22</td>\n",
       "      <td>Himachal Pradesh</td>\n",
       "      <td>4.62%</td>\n",
       "      <td>7.92%</td>\n",
       "      <td>153,845</td>\n",
       "      <td>595,605</td>\n",
       "    </tr>\n",
       "    <tr>\n",
       "      <th>22</th>\n",
       "      <td>23</td>\n",
       "      <td>Goa</td>\n",
       "      <td>4.21%</td>\n",
       "      <td>227.276</td>\n",
       "      <td>73,170</td>\n",
       "      <td>-</td>\n",
       "    </tr>\n",
       "    <tr>\n",
       "      <th>23</th>\n",
       "      <td>24</td>\n",
       "      <td>Tripura</td>\n",
       "      <td>3.97%</td>\n",
       "      <td>-</td>\n",
       "      <td>49,845</td>\n",
       "      <td>514,983</td>\n",
       "    </tr>\n",
       "    <tr>\n",
       "      <th>24</th>\n",
       "      <td>25</td>\n",
       "      <td>Chandigarh</td>\n",
       "      <td>2.81%</td>\n",
       "      <td>1,186,379</td>\n",
       "      <td>42,114</td>\n",
       "      <td>374,015</td>\n",
       "    </tr>\n",
       "    <tr>\n",
       "      <th>25</th>\n",
       "      <td>26</td>\n",
       "      <td>Puducherry</td>\n",
       "      <td>1.68%</td>\n",
       "      <td>1,253,832</td>\n",
       "      <td>36,656</td>\n",
       "      <td>-</td>\n",
       "    </tr>\n",
       "    <tr>\n",
       "      <th>26</th>\n",
       "      <td>27</td>\n",
       "      <td>Meghalaya</td>\n",
       "      <td>1.59%</td>\n",
       "      <td>5.75%</td>\n",
       "      <td>33,481</td>\n",
       "      <td>210,837</td>\n",
       "    </tr>\n",
       "    <tr>\n",
       "      <th>27</th>\n",
       "      <td>28</td>\n",
       "      <td>Sikkim</td>\n",
       "      <td>0.79%</td>\n",
       "      <td>164.820</td>\n",
       "      <td>28,723</td>\n",
       "      <td>107,171</td>\n",
       "    </tr>\n",
       "    <tr>\n",
       "      <th>28</th>\n",
       "      <td>29</td>\n",
       "      <td>Manipur</td>\n",
       "      <td>0.39%</td>\n",
       "      <td>793,223</td>\n",
       "      <td>27,869</td>\n",
       "      <td>-</td>\n",
       "    </tr>\n",
       "    <tr>\n",
       "      <th>29</th>\n",
       "      <td>30</td>\n",
       "      <td>Nagaland</td>\n",
       "      <td>0.22%</td>\n",
       "      <td>739,525</td>\n",
       "      <td>27,283</td>\n",
       "      <td>-</td>\n",
       "    </tr>\n",
       "    <tr>\n",
       "      <th>30</th>\n",
       "      <td>31</td>\n",
       "      <td>Arunachal Pradesh</td>\n",
       "      <td>0.18%</td>\n",
       "      <td>1,020,989</td>\n",
       "      <td>24,603</td>\n",
       "      <td>23,564</td>\n",
       "    </tr>\n",
       "    <tr>\n",
       "      <th>31</th>\n",
       "      <td>32</td>\n",
       "      <td>Mizoram</td>\n",
       "      <td>0.15%</td>\n",
       "      <td>4.97%</td>\n",
       "      <td>19,520</td>\n",
       "      <td>17,060</td>\n",
       "    </tr>\n",
       "    <tr>\n",
       "      <th>32</th>\n",
       "      <td>33</td>\n",
       "      <td>Andaman &amp; Nicobar Islands</td>\n",
       "      <td>0.13%</td>\n",
       "      <td>142.543</td>\n",
       "      <td>-</td>\n",
       "      <td>-</td>\n",
       "    </tr>\n",
       "  </tbody>\n",
       "</table>\n",
       "</div>"
      ],
      "text/plain": [
       "   rank                      state   share       gsdp       GSDP        gdp\n",
       "0     1                Maharashtra  13.88%          -  2,632,792    398.145\n",
       "1     2              Uttar Pradesh   8.59%     13.88%  1,668,229    246.529\n",
       "2     3                 Tamil Nadu   7.92%    398.145  1,630,208    227.276\n",
       "3     4                  Karnataka   4.97%          -  1,544,399    142.543\n",
       "4     5                    Gujarat   4.54%  2,039,074  1,502,899    130.210\n",
       "5     6                West Bengal   4.12%  1,794,508  1,089,898    118.206\n",
       "6     7                  Rajasthan   3.87%      8.79%    942,586    111.024\n",
       "7     8             Andhra Pradesh   2.77%    252.278    862,957     79.601\n",
       "8     9                  Telangana   1.67%  1,187,277    861,031     47.769\n",
       "9    10             Madhya Pradesh   1.57%  1,137,469    809,592     44.945\n",
       "10   11                     Kerala   0.82%  1,845,853    781,653     23.584\n",
       "11   12                      Delhi   0.39%      8.59%    774,870     11.065\n",
       "12   13                    Haryana   0.22%    246.529    734,163      6.369\n",
       "13   14                      Bihar   0.18%  1,312,929    530,363      5.063\n",
       "14   15                     Punjab   0.15%  1,215,307    526,376      4.214\n",
       "15   16                     Odisha   0.13%  1,699,115    492,229      3.721\n",
       "16   17                      Assam       -      8.14%    315,881          -\n",
       "17   18               Chhattisgarh  13.90%    233.552    304,063          -\n",
       "18   19                  Jharkhand   8.73%  1,201,031    297,204  1,167,776\n",
       "19   20                Uttarakhand   7.88%  1,124,423    245,895          -\n",
       "20   21            Jammu & Kashmir   5.03%          -    155,956    630,693\n",
       "21   22           Himachal Pradesh   4.62%      7.92%    153,845    595,605\n",
       "22   23                        Goa   4.21%    227.276     73,170          -\n",
       "23   24                    Tripura   3.97%          -     49,845    514,983\n",
       "24   25                 Chandigarh   2.81%  1,186,379     42,114    374,015\n",
       "25   26                 Puducherry   1.68%  1,253,832     36,656          -\n",
       "26   27                  Meghalaya   1.59%      5.75%     33,481    210,837\n",
       "27   28                     Sikkim   0.79%    164.820     28,723    107,171\n",
       "28   29                    Manipur   0.39%    793,223     27,869          -\n",
       "29   30                   Nagaland   0.22%    739,525     27,283          -\n",
       "30   31          Arunachal Pradesh   0.18%  1,020,989     24,603     23,564\n",
       "31   32                    Mizoram   0.15%      4.97%     19,520     17,060\n",
       "32   33  Andaman & Nicobar Islands   0.13%    142.543          -          -"
      ]
     },
     "execution_count": 43,
     "metadata": {},
     "output_type": "execute_result"
    }
   ],
   "source": [
    "data"
   ]
  },
  {
   "cell_type": "code",
   "execution_count": 44,
   "metadata": {},
   "outputs": [
    {
     "data": {
      "text/plain": [
       "',rank,state,share,gsdp,GSDP,gdp\\r\\n0,1,Maharashtra,13.88%,-,\"2,632,792\",398.145\\r\\n1,2,Uttar Pradesh,8.59%,13.88%,\"1,668,229\",246.529\\r\\n2,3,Tamil Nadu,7.92%,398.145,\"1,630,208\",227.276\\r\\n3,4,Karnataka,4.97%,-,\"1,544,399\",142.543\\r\\n4,5,Gujarat,4.54%,\"2,039,074\",\"1,502,899\",130.210\\r\\n5,6,West Bengal,4.12%,\"1,794,508\",\"1,089,898\",118.206\\r\\n6,7,Rajasthan,3.87%,8.79%,\"942,586\",111.024\\r\\n7,8,Andhra Pradesh,2.77%,252.278,\"862,957\",79.601\\r\\n8,9,Telangana,1.67%,\"1,187,277\",\"861,031\",47.769\\r\\n9,10,Madhya Pradesh,1.57%,\"1,137,469\",\"809,592\",44.945\\r\\n10,11,Kerala,0.82%,\"1,845,853\",\"781,653\",23.584\\r\\n11,12,Delhi,0.39%,8.59%,\"774,870\",11.065\\r\\n12,13,Haryana,0.22%,246.529,\"734,163\",6.369\\r\\n13,14,Bihar,0.18%,\"1,312,929\",\"530,363\",5.063\\r\\n14,15,Punjab,0.15%,\"1,215,307\",\"526,376\",4.214\\r\\n15,16,Odisha,0.13%,\"1,699,115\",\"492,229\",3.721\\r\\n16,17,Assam,-,8.14%,\"315,881\",-\\r\\n17,18,Chhattisgarh,13.90%,233.552,\"304,063\",-\\r\\n18,19,Jharkhand,8.73%,\"1,201,031\",\"297,204\",\"1,167,776\"\\r\\n19,20,Uttarakhand,7.88%,\"1,124,423\",\"245,895\",-\\r\\n20,21,Jammu & Kashmir,5.03%,-,\"155,956\",\"630,693\"\\r\\n21,22,Himachal Pradesh,4.62%,7.92%,\"153,845\",\"595,605\"\\r\\n22,23,Goa,4.21%,227.276,\"73,170\",-\\r\\n23,24,Tripura,3.97%,-,\"49,845\",\"514,983\"\\r\\n24,25,Chandigarh,2.81%,\"1,186,379\",\"42,114\",\"374,015\"\\r\\n25,26,Puducherry,1.68%,\"1,253,832\",\"36,656\",-\\r\\n26,27,Meghalaya,1.59%,5.75%,\"33,481\",\"210,837\"\\r\\n27,28,Sikkim,0.79%,164.820,\"28,723\",\"107,171\"\\r\\n28,29,Manipur,0.39%,\"793,223\",\"27,869\",-\\r\\n29,30,Nagaland,0.22%,\"739,525\",\"27,283\",-\\r\\n30,31,Arunachal Pradesh,0.18%,\"1,020,989\",\"24,603\",\"23,564\"\\r\\n31,32,Mizoram,0.15%,4.97%,\"19,520\",\"17,060\"\\r\\n32,33,Andaman & Nicobar Islands,0.13%,142.543,-,-\\r\\n'"
      ]
     },
     "execution_count": 44,
     "metadata": {},
     "output_type": "execute_result"
    }
   ],
   "source": [
    "data.to_csv()"
   ]
  },
  {
   "cell_type": "markdown",
   "metadata": {},
   "source": [
    "# Que--5"
   ]
  },
  {
   "cell_type": "code",
   "execution_count": 2,
   "metadata": {},
   "outputs": [],
   "source": [
    "#connecting to web driver\n",
    "driver = webdriver.Chrome(r\"E:\\FRT\\chromedriver.exe\")"
   ]
  },
  {
   "cell_type": "code",
   "execution_count": 3,
   "metadata": {},
   "outputs": [],
   "source": [
    "# Opening the homepage of github.com\n",
    "driver.get('https://github.com/')"
   ]
  },
  {
   "cell_type": "code",
   "execution_count": 4,
   "metadata": {},
   "outputs": [
    {
     "name": "stdout",
     "output_type": "stream",
     "text": [
      "Enter input: Trending repositories\n"
     ]
    }
   ],
   "source": [
    "user_inp = input('Enter input: ')"
   ]
  },
  {
   "cell_type": "code",
   "execution_count": 17,
   "metadata": {},
   "outputs": [],
   "source": [
    "search_bar2 =  driver.find_element_by_xpath('/html/body/div[1]/header/div/div[2]/div[2]/div/div/div/form/label/input[1]')"
   ]
  },
  {
   "cell_type": "code",
   "execution_count": 18,
   "metadata": {},
   "outputs": [],
   "source": [
    "search_bar2.click()\n",
    "search_bar2.clear()"
   ]
  },
  {
   "cell_type": "code",
   "execution_count": 19,
   "metadata": {},
   "outputs": [],
   "source": [
    "search_bar2.send_keys(user_inp)       # sending user input"
   ]
  },
  {
   "cell_type": "code",
   "execution_count": 20,
   "metadata": {},
   "outputs": [],
   "source": [
    "search_button = driver.find_element_by_xpath('//*[@id=\"jump-to-suggestion-search-global\"]/a')       # Locating search_button by xpath\n",
    "#search_button.click()\n",
    "driver.get(search_button.get_attribute('href'))  "
   ]
  },
  {
   "cell_type": "code",
   "execution_count": 4,
   "metadata": {},
   "outputs": [],
   "source": [
    "# creating empty list\n",
    "Rep_title=[]\n",
    "Rep_desc=[]\n",
    "Contri_count=[]\n",
    "Lang_used=[]"
   ]
  },
  {
   "cell_type": "code",
   "execution_count": 5,
   "metadata": {},
   "outputs": [],
   "source": [
    " # Extracting titles\n",
    "for b in range(1,10):\n",
    "    title_tags=driver.find_elements_by_xpath('//*[@id=\"js-pjax-container\"]/div/div[3]/div/ul/li[%d]/div[2]/div[1]/a'%(b))\n",
    "    for i in title_tags:\n",
    "        Rep_title.append(i.text)"
   ]
  },
  {
   "cell_type": "code",
   "execution_count": 6,
   "metadata": {},
   "outputs": [
    {
     "data": {
      "text/plain": [
       "['mbadry1/Trending-Deep-Learning',\n",
       " 'vitalets/github-trending-repos',\n",
       " 'Semigradsky/trending-repositories',\n",
       " 'laowch/GithubTrends',\n",
       " 'ophobe/trending',\n",
       " 'ecrmnn/trending-github',\n",
       " 'zhuowenli/githuber',\n",
       " 'andygrunwald/TrendingGithub',\n",
       " 'andygrunwald/go-trending']"
      ]
     },
     "execution_count": 6,
     "metadata": {},
     "output_type": "execute_result"
    }
   ],
   "source": [
    "Rep_title"
   ]
  },
  {
   "cell_type": "code",
   "execution_count": 7,
   "metadata": {},
   "outputs": [],
   "source": [
    " # Extracting description\n",
    "for b in range(1,10):\n",
    "    desc_tags=driver.find_elements_by_xpath('//*[@id=\"js-pjax-container\"]/div/div[3]/div/ul/li[%d]/div[2]/p'%(b))\n",
    "    for i in desc_tags:\n",
    "        Rep_desc.append(i.text)"
   ]
  },
  {
   "cell_type": "code",
   "execution_count": 8,
   "metadata": {},
   "outputs": [
    {
     "data": {
      "text/plain": [
       "['Top 100 trending deep learning repositories sorted by the number of stars gained on a specific day.',\n",
       " 'Track GitHub trending repositories in your favorite programming language by native GitHub notifications!',\n",
       " 'This is a list of repositories that were trending for a day',\n",
       " \"It's a GitHub Trending repositories Viewer with Material Design.\",\n",
       " 'Dataset of trending repositories on GitHub',\n",
       " ' Simple API for getting trending repositories on GitHub',\n",
       " 'Display Github Trending repositories on Chrome New Tab Extensions',\n",
       " 'A twitter bot (@TrendingGithub) to tweet trending repositories and developers from GitHub',\n",
       " 'Go library for accessing trending repositories and developers at Github.']"
      ]
     },
     "execution_count": 8,
     "metadata": {},
     "output_type": "execute_result"
    }
   ],
   "source": [
    "Rep_desc"
   ]
  },
  {
   "cell_type": "code",
   "execution_count": 11,
   "metadata": {},
   "outputs": [],
   "source": [
    " # Extracting language\n",
    "for b in range(1,10):\n",
    "    try:\n",
    "        lang_tags=driver.find_elements_by_xpath('//*[@id=\"js-pjax-container\"]/div/div[3]/div/ul/li[%d]/div[2]/div[2]/div[2]/div[2]/span/span[2]'%(b))\n",
    "        for i in lang_tags:\n",
    "            Lang_used.append(i.text)\n",
    "    except NoSuchElementException:\n",
    "        Lang_used.append(\"---\")\n",
    "        "
   ]
  },
  {
   "cell_type": "code",
   "execution_count": 12,
   "metadata": {},
   "outputs": [
    {
     "data": {
      "text/plain": [
       "['Python',\n",
       " 'HTML',\n",
       " 'TypeScript',\n",
       " 'JavaScript',\n",
       " 'Python',\n",
       " 'HTML',\n",
       " 'TypeScript',\n",
       " 'JavaScript']"
      ]
     },
     "execution_count": 12,
     "metadata": {},
     "output_type": "execute_result"
    }
   ],
   "source": [
    "Lang_used"
   ]
  },
  {
   "cell_type": "code",
   "execution_count": 13,
   "metadata": {},
   "outputs": [],
   "source": [
    "URLS=[]\n",
    "for i in range(10):\n",
    "    for b in range(1,10):\n",
    "        url=driver.find_elements_by_xpath('//*[@id=\"js-pjax-container\"]/div/div[3]/div/ul/li[%d]/div[2]/div[1]/a'%(b))\n",
    "        for urls in url:\n",
    "            URLS.append(urls.get_attribute(\"href\"))\n",
    "      "
   ]
  },
  {
   "cell_type": "code",
   "execution_count": 14,
   "metadata": {},
   "outputs": [
    {
     "data": {
      "text/plain": [
       "['https://github.com/mbadry1/Trending-Deep-Learning',\n",
       " 'https://github.com/vitalets/github-trending-repos',\n",
       " 'https://github.com/Semigradsky/trending-repositories',\n",
       " 'https://github.com/laowch/GithubTrends']"
      ]
     },
     "execution_count": 14,
     "metadata": {},
     "output_type": "execute_result"
    }
   ],
   "source": [
    "URLS[0:4]"
   ]
  },
  {
   "cell_type": "code",
   "execution_count": 21,
   "metadata": {},
   "outputs": [],
   "source": [
    "ul=[]\n",
    "ull=[]\n",
    "for i in URLS[2:10]:\n",
    "    driver.get(i)\n",
    "   \n",
    "    \n",
    "    c=driver.find_element_by_xpath('//*[@id=\"js-repo-pjax-container\"]/div[1]/nav/ul/li[7]/a')\n",
    "    ul.append(c.get_attribute('href'))\n",
    "    "
   ]
  },
  {
   "cell_type": "code",
   "execution_count": 16,
   "metadata": {},
   "outputs": [
    {
     "data": {
      "text/plain": [
       "['https://github.com/Semigradsky/trending-repositories/pulse',\n",
       " 'https://github.com/laowch/GithubTrends/pulse',\n",
       " 'https://github.com/ophobe/trending/pulse',\n",
       " 'https://github.com/ecrmnn/trending-github/pulse',\n",
       " 'https://github.com/zhuowenli/githuber/pulse',\n",
       " 'https://github.com/andygrunwald/TrendingGithub/pulse',\n",
       " 'https://github.com/andygrunwald/go-trending/pulse',\n",
       " 'https://github.com/mbadry1/Trending-Deep-Learning/pulse']"
      ]
     },
     "execution_count": 16,
     "metadata": {},
     "output_type": "execute_result"
    }
   ],
   "source": [
    "ul"
   ]
  },
  {
   "cell_type": "code",
   "execution_count": 38,
   "metadata": {},
   "outputs": [],
   "source": [
    "for j in ul[0:7]:\n",
    "    c1=driver.find_element_by_xpath('//*[@id=\"repo-content-pjax-container\"]/div/div[1]/nav/a[2]')\n",
    "    ull=driver.get(c1.get_attribute('href'))\n",
    "    \n"
   ]
  },
  {
   "cell_type": "code",
   "execution_count": 31,
   "metadata": {},
   "outputs": [],
   "source": [
    "for range in(0,10):\n",
    "    Contri_tags=driver.find_elements_by_xpath('//*[@id=\"contributors\"]/ol/li/span/h3/span[2]/span/div/span[1]')\n",
    "    for i in Contri_tags:\n",
    "        Contri_count.append(i.text)"
   ]
  },
  {
   "cell_type": "code",
   "execution_count": 36,
   "metadata": {},
   "outputs": [],
   "source": [
    "import pandas as pd\n",
    "data=pd.DataFrame({})\n",
    "data['Rep_title']=Rep_title[0:7]\n",
    "data['Rep_desc']=Rep_desc[0:7]\n",
    "data['Contri_count']=Contri_count[0:7]\n",
    "data['Lang_used']=Lang_used[0:7]\n"
   ]
  },
  {
   "cell_type": "code",
   "execution_count": 37,
   "metadata": {},
   "outputs": [
    {
     "data": {
      "text/html": [
       "<div>\n",
       "<style scoped>\n",
       "    .dataframe tbody tr th:only-of-type {\n",
       "        vertical-align: middle;\n",
       "    }\n",
       "\n",
       "    .dataframe tbody tr th {\n",
       "        vertical-align: top;\n",
       "    }\n",
       "\n",
       "    .dataframe thead th {\n",
       "        text-align: right;\n",
       "    }\n",
       "</style>\n",
       "<table border=\"1\" class=\"dataframe\">\n",
       "  <thead>\n",
       "    <tr style=\"text-align: right;\">\n",
       "      <th></th>\n",
       "      <th>Rep_title</th>\n",
       "      <th>Rep_desc</th>\n",
       "      <th>Contri_count</th>\n",
       "      <th>Lang_used</th>\n",
       "    </tr>\n",
       "  </thead>\n",
       "  <tbody>\n",
       "    <tr>\n",
       "      <th>0</th>\n",
       "      <td>mbadry1/Trending-Deep-Learning</td>\n",
       "      <td>Top 100 trending deep learning repositories so...</td>\n",
       "      <td>3,342 ++</td>\n",
       "      <td>Python</td>\n",
       "    </tr>\n",
       "    <tr>\n",
       "      <th>1</th>\n",
       "      <td>vitalets/github-trending-repos</td>\n",
       "      <td>Track GitHub trending repositories in your fav...</td>\n",
       "      <td>3,342 ++</td>\n",
       "      <td>HTML</td>\n",
       "    </tr>\n",
       "    <tr>\n",
       "      <th>2</th>\n",
       "      <td>Semigradsky/trending-repositories</td>\n",
       "      <td>This is a list of repositories that were trend...</td>\n",
       "      <td>3,342 ++</td>\n",
       "      <td>TypeScript</td>\n",
       "    </tr>\n",
       "    <tr>\n",
       "      <th>3</th>\n",
       "      <td>laowch/GithubTrends</td>\n",
       "      <td>It's a GitHub Trending repositories Viewer wit...</td>\n",
       "      <td>3,342 ++</td>\n",
       "      <td>JavaScript</td>\n",
       "    </tr>\n",
       "    <tr>\n",
       "      <th>4</th>\n",
       "      <td>ophobe/trending</td>\n",
       "      <td>Dataset of trending repositories on GitHub</td>\n",
       "      <td>3,342 ++</td>\n",
       "      <td>Python</td>\n",
       "    </tr>\n",
       "    <tr>\n",
       "      <th>5</th>\n",
       "      <td>ecrmnn/trending-github</td>\n",
       "      <td>Simple API for getting trending repositories ...</td>\n",
       "      <td>3,342 ++</td>\n",
       "      <td>HTML</td>\n",
       "    </tr>\n",
       "    <tr>\n",
       "      <th>6</th>\n",
       "      <td>zhuowenli/githuber</td>\n",
       "      <td>Display Github Trending repositories on Chrome...</td>\n",
       "      <td>3,342 ++</td>\n",
       "      <td>TypeScript</td>\n",
       "    </tr>\n",
       "  </tbody>\n",
       "</table>\n",
       "</div>"
      ],
      "text/plain": [
       "                           Rep_title  \\\n",
       "0     mbadry1/Trending-Deep-Learning   \n",
       "1     vitalets/github-trending-repos   \n",
       "2  Semigradsky/trending-repositories   \n",
       "3                laowch/GithubTrends   \n",
       "4                    ophobe/trending   \n",
       "5             ecrmnn/trending-github   \n",
       "6                 zhuowenli/githuber   \n",
       "\n",
       "                                            Rep_desc Contri_count   Lang_used  \n",
       "0  Top 100 trending deep learning repositories so...     3,342 ++      Python  \n",
       "1  Track GitHub trending repositories in your fav...     3,342 ++        HTML  \n",
       "2  This is a list of repositories that were trend...     3,342 ++  TypeScript  \n",
       "3  It's a GitHub Trending repositories Viewer wit...     3,342 ++  JavaScript  \n",
       "4         Dataset of trending repositories on GitHub     3,342 ++      Python  \n",
       "5   Simple API for getting trending repositories ...     3,342 ++        HTML  \n",
       "6  Display Github Trending repositories on Chrome...     3,342 ++  TypeScript  "
      ]
     },
     "execution_count": 37,
     "metadata": {},
     "output_type": "execute_result"
    }
   ],
   "source": [
    "data"
   ]
  },
  {
   "cell_type": "markdown",
   "metadata": {},
   "source": [
    "# Que--6"
   ]
  },
  {
   "cell_type": "code",
   "execution_count": 29,
   "metadata": {},
   "outputs": [],
   "source": [
    "#connecting to web driver\n",
    "driver = webdriver.Chrome(r\"E:\\FRT\\chromedriver.exe\")"
   ]
  },
  {
   "cell_type": "code",
   "execution_count": 30,
   "metadata": {},
   "outputs": [],
   "source": [
    "# Opening the homepage of billboard.com\n",
    "driver.get('https://www.billboard.com/')"
   ]
  },
  {
   "cell_type": "code",
   "execution_count": 4,
   "metadata": {},
   "outputs": [],
   "source": [
    "button = driver.find_element_by_xpath('//*[@id=\"root\"]/div[2]/div[2]/nav/ul/li[3]/a')       # Locating webpage by xpath\n",
    "driver.get(button.get_attribute('href')) "
   ]
  },
  {
   "cell_type": "code",
   "execution_count": 5,
   "metadata": {},
   "outputs": [],
   "source": [
    "# creating empty list\n",
    "name=[]\n",
    "artist=[]\n",
    "last_week_rank=[]\n",
    "peak_rank=[]\n",
    "weeks_on_chart=[]"
   ]
  },
  {
   "cell_type": "code",
   "execution_count": 8,
   "metadata": {},
   "outputs": [],
   "source": [
    " # Extracting name\n",
    "for b in range(1,100):\n",
    "    name_tags=driver.find_elements_by_xpath('//*[@id=\"charts\"]/div/div[7]/div/ol/li[%d]/button/span[2]/span[1]'%(b))\n",
    "    for i in name_tags:\n",
    "        name.append(i.text)"
   ]
  },
  {
   "cell_type": "code",
   "execution_count": 22,
   "metadata": {},
   "outputs": [
    {
     "data": {
      "text/plain": [
       "['Drivers License', 'Drivers License', 'Mood']"
      ]
     },
     "execution_count": 22,
     "metadata": {},
     "output_type": "execute_result"
    }
   ],
   "source": [
    "name[0:3]"
   ]
  },
  {
   "cell_type": "code",
   "execution_count": 15,
   "metadata": {},
   "outputs": [],
   "source": [
    " # Extracting artist\n",
    "for b in range(1,100):\n",
    "    artist_tags=driver.find_elements_by_xpath('//*[@id=\"charts\"]/div/div[7]/div/ol/li[%d]/button/span[2]/span[2]'%(b))\n",
    "    for i in artist_tags:\n",
    "        artist.append(i.text)"
   ]
  },
  {
   "cell_type": "code",
   "execution_count": 16,
   "metadata": {},
   "outputs": [
    {
     "data": {
      "text/plain": [
       "['Olivia Rodrigo', '24kGoldn Featuring iann dior']"
      ]
     },
     "execution_count": 16,
     "metadata": {},
     "output_type": "execute_result"
    }
   ],
   "source": [
    "artist[0:2]"
   ]
  },
  {
   "cell_type": "code",
   "execution_count": 18,
   "metadata": {},
   "outputs": [],
   "source": [
    " # Extracting last week rank\n",
    "for b in range(1,100):\n",
    "    l_w_tags=driver.find_elements_by_xpath('//*[@id=\"charts\"]/div/div[7]/div/ol/li[%d]/button/div/div[1]'%(b))\n",
    "    for i in l_w_tags:\n",
    "        last_week_rank.append(i.text)"
   ]
  },
  {
   "cell_type": "code",
   "execution_count": 19,
   "metadata": {},
   "outputs": [
    {
     "data": {
      "text/plain": [
       "['', '2', '3']"
      ]
     },
     "execution_count": 19,
     "metadata": {},
     "output_type": "execute_result"
    }
   ],
   "source": [
    "last_week_rank[0:3]"
   ]
  },
  {
   "cell_type": "code",
   "execution_count": 25,
   "metadata": {},
   "outputs": [],
   "source": [
    " # Extracting peak rank\n",
    "for b in range(1,100):\n",
    "    peak_tags=driver.find_elements_by_xpath('//*[@id=\"charts\"]/div/div[7]/div/ol/li[%d]/button/div/div[2]'%(b))\n",
    "    for i in peak_tags:\n",
    "        peak_rank.append(i.text)"
   ]
  },
  {
   "cell_type": "code",
   "execution_count": 26,
   "metadata": {},
   "outputs": [
    {
     "data": {
      "text/plain": [
       "['1', '1', '1']"
      ]
     },
     "execution_count": 26,
     "metadata": {},
     "output_type": "execute_result"
    }
   ],
   "source": [
    "peak_rank[0:3]"
   ]
  },
  {
   "cell_type": "code",
   "execution_count": 31,
   "metadata": {},
   "outputs": [],
   "source": [
    " # Extracting weeks on chart\n",
    "for b in range(1,100):\n",
    "    weeks_on_chart_tags=driver.find_elements_by_xpath('//*[@id=\"charts\"]/div/div[7]/div/ol/li[%d]/button/div/div[3]'%(b))\n",
    "    for i in weeks_on_chart_tags:\n",
    "        weeks_on_chart.append(i.text)"
   ]
  },
  {
   "cell_type": "code",
   "execution_count": 32,
   "metadata": {},
   "outputs": [
    {
     "data": {
      "text/plain": [
       "['1', '26', '61']"
      ]
     },
     "execution_count": 32,
     "metadata": {},
     "output_type": "execute_result"
    }
   ],
   "source": [
    "weeks_on_chart[0:3]"
   ]
  },
  {
   "cell_type": "code",
   "execution_count": 33,
   "metadata": {},
   "outputs": [],
   "source": [
    "import pandas as pd\n",
    "data=pd.DataFrame({})\n",
    "data['name']=name[0:90]\n",
    "data['artist']=artist[0:90]\n",
    "data['last_week_rank']=last_week_rank[0:90]\n",
    "data['peak_rank']=peak_rank[0:90]\n",
    "data['weeks_on_chart']=weeks_on_chart[0:90]"
   ]
  },
  {
   "cell_type": "code",
   "execution_count": 34,
   "metadata": {},
   "outputs": [
    {
     "data": {
      "text/html": [
       "<div>\n",
       "<style scoped>\n",
       "    .dataframe tbody tr th:only-of-type {\n",
       "        vertical-align: middle;\n",
       "    }\n",
       "\n",
       "    .dataframe tbody tr th {\n",
       "        vertical-align: top;\n",
       "    }\n",
       "\n",
       "    .dataframe thead th {\n",
       "        text-align: right;\n",
       "    }\n",
       "</style>\n",
       "<table border=\"1\" class=\"dataframe\">\n",
       "  <thead>\n",
       "    <tr style=\"text-align: right;\">\n",
       "      <th></th>\n",
       "      <th>name</th>\n",
       "      <th>artist</th>\n",
       "      <th>last_week_rank</th>\n",
       "      <th>peak_rank</th>\n",
       "      <th>weeks_on_chart</th>\n",
       "    </tr>\n",
       "  </thead>\n",
       "  <tbody>\n",
       "    <tr>\n",
       "      <th>0</th>\n",
       "      <td>Drivers License</td>\n",
       "      <td>Olivia Rodrigo</td>\n",
       "      <td></td>\n",
       "      <td>1</td>\n",
       "      <td>1</td>\n",
       "    </tr>\n",
       "    <tr>\n",
       "      <th>1</th>\n",
       "      <td>Drivers License</td>\n",
       "      <td>24kGoldn Featuring iann dior</td>\n",
       "      <td>2</td>\n",
       "      <td>1</td>\n",
       "      <td>26</td>\n",
       "    </tr>\n",
       "    <tr>\n",
       "      <th>2</th>\n",
       "      <td>Mood</td>\n",
       "      <td>The Weeknd</td>\n",
       "      <td>3</td>\n",
       "      <td>1</td>\n",
       "      <td>61</td>\n",
       "    </tr>\n",
       "    <tr>\n",
       "      <th>3</th>\n",
       "      <td>Blinding Lights</td>\n",
       "      <td>Ariana Grande</td>\n",
       "      <td>4</td>\n",
       "      <td>2</td>\n",
       "      <td>14</td>\n",
       "    </tr>\n",
       "    <tr>\n",
       "      <th>4</th>\n",
       "      <td>34+35</td>\n",
       "      <td>Dua Lipa Featuring DaBaby</td>\n",
       "      <td>5</td>\n",
       "      <td>5</td>\n",
       "      <td>18</td>\n",
       "    </tr>\n",
       "    <tr>\n",
       "      <th>...</th>\n",
       "      <td>...</td>\n",
       "      <td>...</td>\n",
       "      <td>...</td>\n",
       "      <td>...</td>\n",
       "      <td>...</td>\n",
       "    </tr>\n",
       "    <tr>\n",
       "      <th>85</th>\n",
       "      <td>Monster</td>\n",
       "      <td>Glass Animals</td>\n",
       "      <td></td>\n",
       "      <td>91</td>\n",
       "      <td>86</td>\n",
       "    </tr>\n",
       "    <tr>\n",
       "      <th>86</th>\n",
       "      <td>Heat Waves</td>\n",
       "      <td>Lil Durk, 6LACK &amp; Young Thug</td>\n",
       "      <td></td>\n",
       "      <td>-</td>\n",
       "      <td>73</td>\n",
       "    </tr>\n",
       "    <tr>\n",
       "      <th>87</th>\n",
       "      <td>Stay Down</td>\n",
       "      <td>Tenille Arts</td>\n",
       "      <td></td>\n",
       "      <td>89</td>\n",
       "      <td>88</td>\n",
       "    </tr>\n",
       "    <tr>\n",
       "      <th>88</th>\n",
       "      <td>Somebody Like That</td>\n",
       "      <td>Sabrina Carpenter</td>\n",
       "      <td>48</td>\n",
       "      <td>48</td>\n",
       "      <td>2</td>\n",
       "    </tr>\n",
       "    <tr>\n",
       "      <th>89</th>\n",
       "      <td>Skin</td>\n",
       "      <td>DDG</td>\n",
       "      <td>88</td>\n",
       "      <td>82</td>\n",
       "      <td>6</td>\n",
       "    </tr>\n",
       "  </tbody>\n",
       "</table>\n",
       "<p>90 rows × 5 columns</p>\n",
       "</div>"
      ],
      "text/plain": [
       "                  name                        artist last_week_rank peak_rank  \\\n",
       "0      Drivers License                Olivia Rodrigo                        1   \n",
       "1      Drivers License  24kGoldn Featuring iann dior              2         1   \n",
       "2                 Mood                    The Weeknd              3         1   \n",
       "3      Blinding Lights                 Ariana Grande              4         2   \n",
       "4                34+35     Dua Lipa Featuring DaBaby              5         5   \n",
       "..                 ...                           ...            ...       ...   \n",
       "85             Monster                 Glass Animals                       91   \n",
       "86          Heat Waves  Lil Durk, 6LACK & Young Thug                        -   \n",
       "87           Stay Down                  Tenille Arts                       89   \n",
       "88  Somebody Like That             Sabrina Carpenter             48        48   \n",
       "89                Skin                           DDG             88        82   \n",
       "\n",
       "   weeks_on_chart  \n",
       "0               1  \n",
       "1              26  \n",
       "2              61  \n",
       "3              14  \n",
       "4              18  \n",
       "..            ...  \n",
       "85             86  \n",
       "86             73  \n",
       "87             88  \n",
       "88              2  \n",
       "89              6  \n",
       "\n",
       "[90 rows x 5 columns]"
      ]
     },
     "execution_count": 34,
     "metadata": {},
     "output_type": "execute_result"
    }
   ],
   "source": [
    "data"
   ]
  },
  {
   "cell_type": "code",
   "execution_count": 35,
   "metadata": {},
   "outputs": [
    {
     "data": {
      "text/plain": [
       "',name,artist,last_week_rank,peak_rank,weeks_on_chart\\r\\n0,Drivers License,Olivia Rodrigo,,1,1\\r\\n1,Drivers License,24kGoldn Featuring iann dior,2,1,26\\r\\n2,Mood,The Weeknd,3,1,61\\r\\n3,Blinding Lights,Ariana Grande,4,2,14\\r\\n4,34+35,Dua Lipa Featuring DaBaby,5,5,18\\r\\n5,Levitating,Chris Brown & Young Thug,6,5,39\\r\\n6,Go Crazy,Ariana Grande,7,1,15\\r\\n7,Positions,The Weeknd,,14,8\\r\\n8,Save Your Tears,Justin Bieber Featuring Chance The Rapper,8,3,20\\r\\n9,Holy,CJ,,16,10\\r\\n10,Whoopty,SZA,9,9,6\\r\\n11,Good Days,Justin Bieber & benny blanco,,13,12\\r\\n12,Lonely,Pop Smoke,,19,13\\r\\n13,What You Know Bout Love,Billie Eilish,12,2,13\\r\\n14,Therefore I Am,Pop Smoke Featuring Lil Baby & DaBaby,11,6,31\\r\\n15,For The Night,AJR,10,8,31\\r\\n16,Bang!,Luke Combs,15,15,18\\r\\n17,Better Together,Doja Cat,,25,18\\r\\n18,Streets,Gabby Barrett Featuring Charlie Puth,17,3,58\\r\\n19,I Hope,Megan Thee Stallion,18,12,11\\r\\n20,Body,Bad Bunny & Jhay Cortez,20,5,14\\r\\n21,Dakiti,Internet Money & Gunna Featuring Don Toliver & NAV,21,6,25\\r\\n22,Lemonade,Tate McRae,,27,23\\r\\n23,You Broke Me First.,Drake Featuring Lil Durk,22,2,25\\r\\n24,Laugh Now Cry Later,Machine Gun Kelly X blackbear,,34,25\\r\\n25,My Ex\\'s Best Friend,Morgan Wallen,,31,9\\r\\n26,Wasted On You,Yung Bleu Featuring Drake,,32,27\\r\\n27,You\\'re Mines Still,Justin Bieber,26,6,5\\r\\n28,Anyone,Taylor Swift,28,1,8\\r\\n29,Willow,Lil Baby,29,29,9\\r\\n30,On Me,Niko Moon,,37,31\\r\\n31,Good Time,Morgan Wallen,,38,32\\r\\n32,Sand In My Boots,BRS Kash,24,24,16\\r\\n33,Throat Baby (Go Baby),Lewis Capaldi,33,9,50\\r\\n34,Before You Go,Morgan Wallen,23,6,24\\r\\n35,7 Summers,Chris Stapleton,,36,25\\r\\n36,Starting Over,Pooh Shiesty Featuring Lil Durk,,40,37\\r\\n37,Back In Blood,Morgan Wallen,,30,15\\r\\n38,More Than My Hometown,Lil Durk Featuring Lil Baby,,-,39\\r\\n39,Finesse Out The Gang Way,Kelsea Ballerini,,42,40\\r\\n40,Hole In The Bottle,Ava Max,35,13,26\\r\\n41,Kings & Queens,Saweetie Featuring Doja Cat,,45,39\\r\\n42,Best Friend,Megan Thee Stallion Featuring DaBaby,,54,43\\r\\n43,Cry Baby,DaBaby Featuring Roddy Ricch,41,1,41\\r\\n44,Rockstar,Ed Sheeran,39,29,7\\r\\n45,Afterglow,BTS,46,1,24\\r\\n46,Dynamite,Kenny Chesney,,50,47\\r\\n47,Happy Does,Morgan Wallen,43,25,8\\r\\n48,Somebody\\'s Problem,\"Jack Harlow Featuring DaBaby, Tory Lanez & Lil Wayne\",44,2,51\\r\\n49,Whats Poppin,Ritt Momney,,55,50\\r\\n50,Put Your Records On,H.E.R.,,52,51\\r\\n51,Damage,The Kid LAROI,47,47,9\\r\\n52,Without You,Lil Durk Featuring Pooh Shiesty,,-,53\\r\\n53,Should\\'ve Ducked,Parmalee x Blanco Brown,,56,54\\r\\n54,Just The Way,Darius Rucker,,53,53\\r\\n55,Beers And Sunshine,Luke Bryan,,58,56\\r\\n56,Down To One,Thomas Rhett,,59,57\\r\\n57,What\\'s Your Country Song,SpotemGottem,,60,58\\r\\n58,Beat Box,Sam Smith,49,39,20\\r\\n59,Diamonds,Gabby Barrett,,64,60\\r\\n60,The Good Ones,Harry Styles,,65,61\\r\\n61,Golden,Erica Banks,,67,62\\r\\n62,Buss It,Travis Scott & HVME,,73,63\\r\\n63,Goosebumps,All Time Low Featuring Demi Lovato & blackbear,,69,64\\r\\n64,Monsters,Florida Georgia Line,,68,65\\r\\n65,Long Live,Jack Harlow,63,34,15\\r\\n66,Tyler Herro,Morgan Wallen,,74,52\\r\\n67,Cover Me Up,Luke Combs,66,2,15\\r\\n68,Forever After All,Saweetie Featuring Jhene Aiko,61,58,11\\r\\n69,Back To The Streets,Lil Durk & King Von,,84,53\\r\\n70,Still Trappin\\',\"Brent Faiyaz & DJ Dahi Featuring Tyler, The Creator\",,-,71\\r\\n71,Gravity,Karol G,,75,72\\r\\n72,Bichota,Juice WRLD & Young Thug,57,22,3\\r\\n73,Bad Boy,Selena Gomez With Rauw Alejandro,,-,74\\r\\n74,Baila Conmigo,Brett Young,,86,75\\r\\n75,Lady,Morgan Wallen,72,45,7\\r\\n76,Still Goin Down,Morgan Wallen,,77,46\\r\\n77,865,The Kid LAROI,79,59,13\\r\\n78,So Done,Morgan Wallen,76,42,4\\r\\n79,Warning,Lil Nas X,71,37,12\\r\\n80,Holiday,Eric Church,,90,81\\r\\n81,Hell Of A View,Black Eyed Peas X Shakira,,85,82\\r\\n82,Girl Like Me,Dustin Lynch,,87,83\\r\\n83,Momma\\'s House,Chris Lane,82,42,18\\r\\n84,\"Big, Big Plans\",Shawn Mendes & Justin Bieber,70,8,11\\r\\n85,Monster,Glass Animals,,91,86\\r\\n86,Heat Waves,\"Lil Durk, 6LACK & Young Thug\",,-,73\\r\\n87,Stay Down,Tenille Arts,,89,88\\r\\n88,Somebody Like That,Sabrina Carpenter,48,48,2\\r\\n89,Skin,DDG,88,82,6\\r\\n'"
      ]
     },
     "execution_count": 35,
     "metadata": {},
     "output_type": "execute_result"
    }
   ],
   "source": [
    "data.to_csv()"
   ]
  },
  {
   "cell_type": "markdown",
   "metadata": {},
   "source": [
    "# Que--7"
   ]
  },
  {
   "cell_type": "code",
   "execution_count": 5,
   "metadata": {},
   "outputs": [],
   "source": [
    "#connecting to web driver\n",
    "driver = webdriver.Chrome(r\"E:\\FRT\\chromedriver.exe\")"
   ]
  },
  {
   "cell_type": "code",
   "execution_count": 6,
   "metadata": {},
   "outputs": [],
   "source": [
    "# Opening the homepage of naukri.com\n",
    "driver.get('https://www.naukri.com/')"
   ]
  },
  {
   "cell_type": "code",
   "execution_count": 38,
   "metadata": {},
   "outputs": [],
   "source": [
    "r = driver.find_element_by_xpath('//*[@id=\"root\"]/div[1]/div/ul[1]/li[2]/a')       # Locating search_button by xpath\n",
    "driver.get(r.get_attribute('href')) "
   ]
  },
  {
   "cell_type": "code",
   "execution_count": 43,
   "metadata": {},
   "outputs": [],
   "source": [
    "search_field_designation=driver.find_element_by_xpath('//*[@id=\"skill\"]/div[1]/div[2]/input')\n",
    "search_field_designation.send_keys(\"Data scientist\")\n",
    "\n"
   ]
  },
  {
   "cell_type": "code",
   "execution_count": 45,
   "metadata": {},
   "outputs": [],
   "source": [
    "search_field_location=driver.find_element_by_xpath('//*[@id=\"location\"]/div[1]/div[2]/input')\n",
    "search_field_location.send_keys(\"Bangalore\")"
   ]
  },
  {
   "cell_type": "code",
   "execution_count": 47,
   "metadata": {},
   "outputs": [],
   "source": [
    "# clicking the search button\n",
    "search_button=driver.find_element_by_xpath('//button[@class=\"fl qsbSrch blueBtn\"]')\n",
    "search_button.click()\n",
    "    "
   ]
  },
  {
   "cell_type": "code",
   "execution_count": 19,
   "metadata": {},
   "outputs": [],
   "source": [
    "# creating empty list\n",
    "Name=[]\n",
    "Desg=[]\n",
    "company=[]\n",
    "loc=[]\n",
    "skills=[]"
   ]
  },
  {
   "cell_type": "code",
   "execution_count": 30,
   "metadata": {},
   "outputs": [],
   "source": [
    " # Extracting name\n",
    "for b in range(1,25):\n",
    "    Name_tags=driver.find_elements_by_xpath('//*[@id=\"tabP-1\"]/div[%d]/div[1]/div[1]/div[1]/p/a[1]/span'%(b))\n",
    "    for i in Name_tags:\n",
    "        Name.append(i.text)"
   ]
  },
  {
   "cell_type": "code",
   "execution_count": 31,
   "metadata": {},
   "outputs": [
    {
     "data": {
      "text/plain": [
       "['Bitapi',\n",
       " 'HS Sandesh',\n",
       " 'Datafoundry',\n",
       " 'Prashant K',\n",
       " 'Best In Town Analytics',\n",
       " 'Nagajothi Edumdan',\n",
       " 'rajesh',\n",
       " 'Gautam Malaiappan',\n",
       " 'TerraBlue XT',\n",
       " 'kumar',\n",
       " 'John Paul',\n",
       " 'Biju John',\n",
       " 'Anantha Padmanabhan',\n",
       " 'Harshitha H P',\n",
       " 'Rajani Nagaraj',\n",
       " 'Shiva Kumar N',\n",
       " 'Ishaan',\n",
       " 'abha',\n",
       " 'Nithin Prasad',\n",
       " 'Srinivasan S Saripalli',\n",
       " 'Leena Nothani',\n",
       " 'Supriya Patanjali',\n",
       " 'Saravanaprakash Balakrishnan',\n",
       " 'Suresh Chalikavada']"
      ]
     },
     "execution_count": 31,
     "metadata": {},
     "output_type": "execute_result"
    }
   ],
   "source": [
    "Name"
   ]
  },
  {
   "cell_type": "code",
   "execution_count": 28,
   "metadata": {},
   "outputs": [],
   "source": [
    " # Extracting designation\n",
    "for b in range(1,25):\n",
    "    desg_tags=driver.find_elements_by_xpath('//*[@id=\"tabP-1\"]/div[%d]/div[1]/div[1]/div[1]/p/span[1]'%(b))\n",
    "    for i in desg_tags:\n",
    "        Desg.append(i.text)"
   ]
  },
  {
   "cell_type": "code",
   "execution_count": 29,
   "metadata": {},
   "outputs": [
    {
     "data": {
      "text/plain": [
       "['HR and Operation Manager',\n",
       " 'Talent Evangelist www staffiohr co',\n",
       " 'Company HR',\n",
       " 'Sr HR',\n",
       " 'Analytics Associate',\n",
       " 'Lead Technical Recruiter',\n",
       " 'HR Executive',\n",
       " 'Founder CEO',\n",
       " 'HR manager',\n",
       " 'Proprietor',\n",
       " 'Company HR',\n",
       " 'Recruitment Consultant',\n",
       " 'HR Executive',\n",
       " 'Senior Associate TA',\n",
       " 'HR Manager',\n",
       " 'Founder',\n",
       " 'Talent Manager',\n",
       " 'Company HR',\n",
       " 'HR Executive',\n",
       " 'Technology Director and Operations',\n",
       " 'Associate Partner Analytics Hiring',\n",
       " 'Talent Acquisition Specialist',\n",
       " 'Technical Recruiter',\n",
       " 'Manager Talent Acquisition']"
      ]
     },
     "execution_count": 29,
     "metadata": {},
     "output_type": "execute_result"
    }
   ],
   "source": [
    "Desg"
   ]
  },
  {
   "cell_type": "code",
   "execution_count": 26,
   "metadata": {},
   "outputs": [],
   "source": [
    " # Extracting company\n",
    "for b in range(1,25):\n",
    "    company_tags=driver.find_elements_by_xpath('//*[@id=\"tabP-1\"]/div[%d]/div[2]/div[1]/div[1]/p/a[2]'%(b))\n",
    "    for i in company_tags:\n",
    "        company.append(i.text)"
   ]
  },
  {
   "cell_type": "code",
   "execution_count": 27,
   "metadata": {},
   "outputs": [
    {
     "data": {
      "text/plain": [
       "['Wipro',\n",
       " 'Rinalytics Advisors',\n",
       " 'Redbus.in',\n",
       " 'Talent Management Labs Inc.',\n",
       " 'DeepIQ Software Solutions Pvt Ltd',\n",
       " 'Terra Blue Exploration Technologies Pvt....',\n",
       " 'Quaero 3 India Ltd',\n",
       " 'BlackBuck Insights',\n",
       " 'ABC Consultants Pvt Ltd',\n",
       " 'Accenture',\n",
       " 'Makonis Software Solutions Private Limited',\n",
       " 'Gladwin Analytics',\n",
       " 'Adcuratio Media Inc',\n",
       " 'MADHUSUDHAN SRIDHAR',\n",
       " 'SigTuple Technologies Pvt Ltd',\n",
       " 'Connecting The Dots',\n",
       " 'Opendoors Fintech Private Limited',\n",
       " 'Mwyn Tech Pvt Ltd',\n",
       " 'SRIT India PVt Ltd',\n",
       " 'Engage IT Manpower Solutions Pvt Ltd',\n",
       " 'AppsTec',\n",
       " 'BMS Innolabs',\n",
       " 'Sling Media Private Limited',\n",
       " 'Kwalee']"
      ]
     },
     "execution_count": 27,
     "metadata": {},
     "output_type": "execute_result"
    }
   ],
   "source": [
    "company"
   ]
  },
  {
   "cell_type": "code",
   "execution_count": 20,
   "metadata": {},
   "outputs": [],
   "source": [
    "location\n",
    "for b in range(1,25):\n",
    "    l_tags=driver.find_elements_by_xpath('//*[@id=\"tabP-1\"]/div[%d]/div[1]/div[1]/div[1]/p/span[2]/small'%(b))\n",
    "    for i in l_tags:\n",
    "        loc.append(i.text)"
   ]
  },
  {
   "cell_type": "code",
   "execution_count": 21,
   "metadata": {},
   "outputs": [
    {
     "data": {
      "text/plain": [
       "['Bengaluru / Bangalore',\n",
       " 'Bengaluru / Bangalore',\n",
       " 'Bengaluru / Bangalore',\n",
       " 'Bengaluru / Bangalore',\n",
       " 'Bengaluru / Bangalore',\n",
       " 'Bengaluru / Bangalore',\n",
       " 'Bengaluru / Bangalore',\n",
       " 'Bengaluru / Bangalore',\n",
       " 'Bengaluru / Bangalore',\n",
       " 'Bengaluru / Bangalore',\n",
       " 'Bengaluru / Bangalore',\n",
       " 'Bengaluru / Bangalore',\n",
       " 'Bengaluru / Bangalore',\n",
       " 'Bengaluru / Bangalore',\n",
       " 'Bengaluru / Bangalore',\n",
       " 'Bengaluru / Bangalore',\n",
       " 'Bengaluru / Bangalore',\n",
       " 'Bengaluru / Bangalore',\n",
       " 'Bengaluru / Bangalore',\n",
       " 'Bengaluru / Bangalore',\n",
       " 'Bengaluru / Bangalore',\n",
       " 'Bengaluru / Bangalore',\n",
       " 'Bengaluru / Bangalore',\n",
       " 'Bengaluru / Bangalore']"
      ]
     },
     "execution_count": 21,
     "metadata": {},
     "output_type": "execute_result"
    }
   ],
   "source": [
    "loc"
   ]
  },
  {
   "cell_type": "code",
   "execution_count": 23,
   "metadata": {},
   "outputs": [],
   "source": [
    " # Extracting skills\n",
    "for b in range(1,25):\n",
    "    s_tags=driver.find_elements_by_xpath('//*[@id=\"tabP-1\"]/div[%d]/div[1]/div[1]/div[2]'%(b))\n",
    "    for i in s_tags:\n",
    "        skills.append(i.text)"
   ]
  },
  {
   "cell_type": "code",
   "execution_count": 24,
   "metadata": {},
   "outputs": [
    {
     "data": {
      "text/plain": [
       "['Hadoop, Big Data, Data Scientists, Java, Spring Boot, Oracle, SQL, MySQL, Object Oriented Programming, RDBMS, Data Modeling',\n",
       " 'Digital Marketing, General Manager, Business Development, Product Manager, Big Data, Business Analyst, Frontend Developer, Human Resources, data',\n",
       " 'Webmethods Developer, Mean Stack, Business Analysis, Data Scientist, Database Development, java, python, Algorithm Scientist, Machine Learning, artificial',\n",
       " 'Data Analyst, Statistical Analysis, Data Scientist, Analytics Manager, Software Engineer',\n",
       " 'Data Analytics',\n",
       " 'architect, Technical Lead, director, java, J2ee, Embedded Technologies, Qa Testing, dicom, ruby, python, c++, Product Engineer, Engineering Manager, oracle',\n",
       " 'Data Scientist, Tableau, R Tool, Data Analytics, Business Analytics',\n",
       " 'Sql, Sas, Sas Programming, Python, Tableau, Vba, Advanced Excel, Qlikview, Spotfire, Cognos, R, Statistical Modeling, Statistical Programming, Statistics',\n",
       " 'Java, SQL, Algorithms, Python, Data Mining, R, Hadoop, Photoshop, Corel Draw, Usability, UX, Animation, Javascript, Design, Html, Wordpress, Css, Indesign',\n",
       " 'Data Science, Hadoop, Rpas, Devops, Python, Aws, Teaching, Big Data',\n",
       " 'analytics, Business Intelligence, Data Analytics, Data Science',\n",
       " 'Software Architecture, Project Management, Software Development, Engineering, Ux, System Administration, Hardware, Firmware Development, Investment Banking',\n",
       " 'Automation Testing, Python Developer, Bigdata, Ui Development, Genesys, Linux Administration, Ios Development, Data Science, Hardware Design, Analog Design',\n",
       " 'Infineon Technologies, Intel',\n",
       " 'Java, Hadoop, R, Machine Learning, Spark, Flume, Hdfs, Data Mining, Sas, Big, Data Science, Cloudera, Impala, Bigdata',\n",
       " 'salaesforce, Web Technologies, .net, .net full stack, java full stack, servicenow, Java, Automation Testing, Front End Developer, Backend Developer, Mobile',\n",
       " 'Data Analysis, Customer Service, Business Managers',\n",
       " 'Not Specified',\n",
       " 'Devops, Automation, HMI, Tech/Solution Architect, Sales Associate, Inside Sales, Account Management, Bigdata, Testing, Inside Sales Executive, Inside',\n",
       " 'Android Application Development, Artificial Intelligence, Data Analytics, Java, Spring Framework, C++, Docker, Machine Learning, Computer Vision, Python',\n",
       " 'Analytics, Machine Learning, Big Data Analytics, Predictive Modeling, Advanced Analytics, Statistical Modeling',\n",
       " 'Not Specified',\n",
       " 'Big Data, Application Development, User Interface Designing, Ui Development, Database Development, Analytics',\n",
       " 'HR, Benefits, Employee Development, Succession Planning, Policies, Design Development, Query Resolution']"
      ]
     },
     "execution_count": 24,
     "metadata": {},
     "output_type": "execute_result"
    }
   ],
   "source": [
    "skills"
   ]
  },
  {
   "cell_type": "code",
   "execution_count": 32,
   "metadata": {},
   "outputs": [],
   "source": [
    "import pandas as pd\n",
    "data=pd.DataFrame({})\n",
    "data['Name']=Name[0:25]\n",
    "data['Desg']=Desg[0:25]\n",
    "data['company']=company[0:25]\n",
    "data['location']=loc[0:25]\n",
    "data['skills']=skills[0:25]"
   ]
  },
  {
   "cell_type": "code",
   "execution_count": 33,
   "metadata": {},
   "outputs": [
    {
     "data": {
      "text/html": [
       "<div>\n",
       "<style scoped>\n",
       "    .dataframe tbody tr th:only-of-type {\n",
       "        vertical-align: middle;\n",
       "    }\n",
       "\n",
       "    .dataframe tbody tr th {\n",
       "        vertical-align: top;\n",
       "    }\n",
       "\n",
       "    .dataframe thead th {\n",
       "        text-align: right;\n",
       "    }\n",
       "</style>\n",
       "<table border=\"1\" class=\"dataframe\">\n",
       "  <thead>\n",
       "    <tr style=\"text-align: right;\">\n",
       "      <th></th>\n",
       "      <th>Name</th>\n",
       "      <th>Desg</th>\n",
       "      <th>company</th>\n",
       "      <th>location</th>\n",
       "      <th>skills</th>\n",
       "    </tr>\n",
       "  </thead>\n",
       "  <tbody>\n",
       "    <tr>\n",
       "      <th>0</th>\n",
       "      <td>Bitapi</td>\n",
       "      <td>HR and Operation Manager</td>\n",
       "      <td>Wipro</td>\n",
       "      <td>Bengaluru / Bangalore</td>\n",
       "      <td>Hadoop, Big Data, Data Scientists, Java, Sprin...</td>\n",
       "    </tr>\n",
       "    <tr>\n",
       "      <th>1</th>\n",
       "      <td>HS Sandesh</td>\n",
       "      <td>Talent Evangelist www staffiohr co</td>\n",
       "      <td>Rinalytics Advisors</td>\n",
       "      <td>Bengaluru / Bangalore</td>\n",
       "      <td>Digital Marketing, General Manager, Business D...</td>\n",
       "    </tr>\n",
       "    <tr>\n",
       "      <th>2</th>\n",
       "      <td>Datafoundry</td>\n",
       "      <td>Company HR</td>\n",
       "      <td>Redbus.in</td>\n",
       "      <td>Bengaluru / Bangalore</td>\n",
       "      <td>Webmethods Developer, Mean Stack, Business Ana...</td>\n",
       "    </tr>\n",
       "    <tr>\n",
       "      <th>3</th>\n",
       "      <td>Prashant K</td>\n",
       "      <td>Sr HR</td>\n",
       "      <td>Talent Management Labs Inc.</td>\n",
       "      <td>Bengaluru / Bangalore</td>\n",
       "      <td>Data Analyst, Statistical Analysis, Data Scien...</td>\n",
       "    </tr>\n",
       "    <tr>\n",
       "      <th>4</th>\n",
       "      <td>Best In Town Analytics</td>\n",
       "      <td>Analytics Associate</td>\n",
       "      <td>DeepIQ Software Solutions Pvt Ltd</td>\n",
       "      <td>Bengaluru / Bangalore</td>\n",
       "      <td>Data Analytics</td>\n",
       "    </tr>\n",
       "    <tr>\n",
       "      <th>5</th>\n",
       "      <td>Nagajothi Edumdan</td>\n",
       "      <td>Lead Technical Recruiter</td>\n",
       "      <td>Terra Blue Exploration Technologies Pvt....</td>\n",
       "      <td>Bengaluru / Bangalore</td>\n",
       "      <td>architect, Technical Lead, director, java, J2e...</td>\n",
       "    </tr>\n",
       "    <tr>\n",
       "      <th>6</th>\n",
       "      <td>rajesh</td>\n",
       "      <td>HR Executive</td>\n",
       "      <td>Quaero 3 India Ltd</td>\n",
       "      <td>Bengaluru / Bangalore</td>\n",
       "      <td>Data Scientist, Tableau, R Tool, Data Analytic...</td>\n",
       "    </tr>\n",
       "    <tr>\n",
       "      <th>7</th>\n",
       "      <td>Gautam Malaiappan</td>\n",
       "      <td>Founder CEO</td>\n",
       "      <td>BlackBuck Insights</td>\n",
       "      <td>Bengaluru / Bangalore</td>\n",
       "      <td>Sql, Sas, Sas Programming, Python, Tableau, Vb...</td>\n",
       "    </tr>\n",
       "    <tr>\n",
       "      <th>8</th>\n",
       "      <td>TerraBlue XT</td>\n",
       "      <td>HR manager</td>\n",
       "      <td>ABC Consultants Pvt Ltd</td>\n",
       "      <td>Bengaluru / Bangalore</td>\n",
       "      <td>Java, SQL, Algorithms, Python, Data Mining, R,...</td>\n",
       "    </tr>\n",
       "    <tr>\n",
       "      <th>9</th>\n",
       "      <td>kumar</td>\n",
       "      <td>Proprietor</td>\n",
       "      <td>Accenture</td>\n",
       "      <td>Bengaluru / Bangalore</td>\n",
       "      <td>Data Science, Hadoop, Rpas, Devops, Python, Aw...</td>\n",
       "    </tr>\n",
       "    <tr>\n",
       "      <th>10</th>\n",
       "      <td>John Paul</td>\n",
       "      <td>Company HR</td>\n",
       "      <td>Makonis Software Solutions Private Limited</td>\n",
       "      <td>Bengaluru / Bangalore</td>\n",
       "      <td>analytics, Business Intelligence, Data Analyti...</td>\n",
       "    </tr>\n",
       "    <tr>\n",
       "      <th>11</th>\n",
       "      <td>Biju John</td>\n",
       "      <td>Recruitment Consultant</td>\n",
       "      <td>Gladwin Analytics</td>\n",
       "      <td>Bengaluru / Bangalore</td>\n",
       "      <td>Software Architecture, Project Management, Sof...</td>\n",
       "    </tr>\n",
       "    <tr>\n",
       "      <th>12</th>\n",
       "      <td>Anantha Padmanabhan</td>\n",
       "      <td>HR Executive</td>\n",
       "      <td>Adcuratio Media Inc</td>\n",
       "      <td>Bengaluru / Bangalore</td>\n",
       "      <td>Automation Testing, Python Developer, Bigdata,...</td>\n",
       "    </tr>\n",
       "    <tr>\n",
       "      <th>13</th>\n",
       "      <td>Harshitha H P</td>\n",
       "      <td>Senior Associate TA</td>\n",
       "      <td>MADHUSUDHAN SRIDHAR</td>\n",
       "      <td>Bengaluru / Bangalore</td>\n",
       "      <td>Infineon Technologies, Intel</td>\n",
       "    </tr>\n",
       "    <tr>\n",
       "      <th>14</th>\n",
       "      <td>Rajani Nagaraj</td>\n",
       "      <td>HR Manager</td>\n",
       "      <td>SigTuple Technologies Pvt Ltd</td>\n",
       "      <td>Bengaluru / Bangalore</td>\n",
       "      <td>Java, Hadoop, R, Machine Learning, Spark, Flum...</td>\n",
       "    </tr>\n",
       "    <tr>\n",
       "      <th>15</th>\n",
       "      <td>Shiva Kumar N</td>\n",
       "      <td>Founder</td>\n",
       "      <td>Connecting The Dots</td>\n",
       "      <td>Bengaluru / Bangalore</td>\n",
       "      <td>salaesforce, Web Technologies, .net, .net full...</td>\n",
       "    </tr>\n",
       "    <tr>\n",
       "      <th>16</th>\n",
       "      <td>Ishaan</td>\n",
       "      <td>Talent Manager</td>\n",
       "      <td>Opendoors Fintech Private Limited</td>\n",
       "      <td>Bengaluru / Bangalore</td>\n",
       "      <td>Data Analysis, Customer Service, Business Mana...</td>\n",
       "    </tr>\n",
       "    <tr>\n",
       "      <th>17</th>\n",
       "      <td>abha</td>\n",
       "      <td>Company HR</td>\n",
       "      <td>Mwyn Tech Pvt Ltd</td>\n",
       "      <td>Bengaluru / Bangalore</td>\n",
       "      <td>Not Specified</td>\n",
       "    </tr>\n",
       "    <tr>\n",
       "      <th>18</th>\n",
       "      <td>Nithin Prasad</td>\n",
       "      <td>HR Executive</td>\n",
       "      <td>SRIT India PVt Ltd</td>\n",
       "      <td>Bengaluru / Bangalore</td>\n",
       "      <td>Devops, Automation, HMI, Tech/Solution Archite...</td>\n",
       "    </tr>\n",
       "    <tr>\n",
       "      <th>19</th>\n",
       "      <td>Srinivasan S Saripalli</td>\n",
       "      <td>Technology Director and Operations</td>\n",
       "      <td>Engage IT Manpower Solutions Pvt Ltd</td>\n",
       "      <td>Bengaluru / Bangalore</td>\n",
       "      <td>Android Application Development, Artificial In...</td>\n",
       "    </tr>\n",
       "    <tr>\n",
       "      <th>20</th>\n",
       "      <td>Leena Nothani</td>\n",
       "      <td>Associate Partner Analytics Hiring</td>\n",
       "      <td>AppsTec</td>\n",
       "      <td>Bengaluru / Bangalore</td>\n",
       "      <td>Analytics, Machine Learning, Big Data Analytic...</td>\n",
       "    </tr>\n",
       "    <tr>\n",
       "      <th>21</th>\n",
       "      <td>Supriya Patanjali</td>\n",
       "      <td>Talent Acquisition Specialist</td>\n",
       "      <td>BMS Innolabs</td>\n",
       "      <td>Bengaluru / Bangalore</td>\n",
       "      <td>Not Specified</td>\n",
       "    </tr>\n",
       "    <tr>\n",
       "      <th>22</th>\n",
       "      <td>Saravanaprakash Balakrishnan</td>\n",
       "      <td>Technical Recruiter</td>\n",
       "      <td>Sling Media Private Limited</td>\n",
       "      <td>Bengaluru / Bangalore</td>\n",
       "      <td>Big Data, Application Development, User Interf...</td>\n",
       "    </tr>\n",
       "    <tr>\n",
       "      <th>23</th>\n",
       "      <td>Suresh Chalikavada</td>\n",
       "      <td>Manager Talent Acquisition</td>\n",
       "      <td>Kwalee</td>\n",
       "      <td>Bengaluru / Bangalore</td>\n",
       "      <td>HR, Benefits, Employee Development, Succession...</td>\n",
       "    </tr>\n",
       "  </tbody>\n",
       "</table>\n",
       "</div>"
      ],
      "text/plain": [
       "                            Name                                Desg  \\\n",
       "0                         Bitapi            HR and Operation Manager   \n",
       "1                     HS Sandesh  Talent Evangelist www staffiohr co   \n",
       "2                    Datafoundry                          Company HR   \n",
       "3                     Prashant K                               Sr HR   \n",
       "4         Best In Town Analytics                 Analytics Associate   \n",
       "5              Nagajothi Edumdan            Lead Technical Recruiter   \n",
       "6                         rajesh                        HR Executive   \n",
       "7              Gautam Malaiappan                         Founder CEO   \n",
       "8                   TerraBlue XT                          HR manager   \n",
       "9                          kumar                          Proprietor   \n",
       "10                     John Paul                          Company HR   \n",
       "11                     Biju John              Recruitment Consultant   \n",
       "12           Anantha Padmanabhan                        HR Executive   \n",
       "13                 Harshitha H P                 Senior Associate TA   \n",
       "14                Rajani Nagaraj                          HR Manager   \n",
       "15                 Shiva Kumar N                             Founder   \n",
       "16                        Ishaan                      Talent Manager   \n",
       "17                          abha                          Company HR   \n",
       "18                 Nithin Prasad                        HR Executive   \n",
       "19        Srinivasan S Saripalli  Technology Director and Operations   \n",
       "20                 Leena Nothani  Associate Partner Analytics Hiring   \n",
       "21             Supriya Patanjali       Talent Acquisition Specialist   \n",
       "22  Saravanaprakash Balakrishnan                 Technical Recruiter   \n",
       "23            Suresh Chalikavada          Manager Talent Acquisition   \n",
       "\n",
       "                                        company               location  \\\n",
       "0                                         Wipro  Bengaluru / Bangalore   \n",
       "1                           Rinalytics Advisors  Bengaluru / Bangalore   \n",
       "2                                     Redbus.in  Bengaluru / Bangalore   \n",
       "3                   Talent Management Labs Inc.  Bengaluru / Bangalore   \n",
       "4             DeepIQ Software Solutions Pvt Ltd  Bengaluru / Bangalore   \n",
       "5   Terra Blue Exploration Technologies Pvt....  Bengaluru / Bangalore   \n",
       "6                            Quaero 3 India Ltd  Bengaluru / Bangalore   \n",
       "7                            BlackBuck Insights  Bengaluru / Bangalore   \n",
       "8                       ABC Consultants Pvt Ltd  Bengaluru / Bangalore   \n",
       "9                                     Accenture  Bengaluru / Bangalore   \n",
       "10   Makonis Software Solutions Private Limited  Bengaluru / Bangalore   \n",
       "11                            Gladwin Analytics  Bengaluru / Bangalore   \n",
       "12                          Adcuratio Media Inc  Bengaluru / Bangalore   \n",
       "13                          MADHUSUDHAN SRIDHAR  Bengaluru / Bangalore   \n",
       "14                SigTuple Technologies Pvt Ltd  Bengaluru / Bangalore   \n",
       "15                          Connecting The Dots  Bengaluru / Bangalore   \n",
       "16            Opendoors Fintech Private Limited  Bengaluru / Bangalore   \n",
       "17                            Mwyn Tech Pvt Ltd  Bengaluru / Bangalore   \n",
       "18                           SRIT India PVt Ltd  Bengaluru / Bangalore   \n",
       "19         Engage IT Manpower Solutions Pvt Ltd  Bengaluru / Bangalore   \n",
       "20                                      AppsTec  Bengaluru / Bangalore   \n",
       "21                                 BMS Innolabs  Bengaluru / Bangalore   \n",
       "22                  Sling Media Private Limited  Bengaluru / Bangalore   \n",
       "23                                       Kwalee  Bengaluru / Bangalore   \n",
       "\n",
       "                                               skills  \n",
       "0   Hadoop, Big Data, Data Scientists, Java, Sprin...  \n",
       "1   Digital Marketing, General Manager, Business D...  \n",
       "2   Webmethods Developer, Mean Stack, Business Ana...  \n",
       "3   Data Analyst, Statistical Analysis, Data Scien...  \n",
       "4                                      Data Analytics  \n",
       "5   architect, Technical Lead, director, java, J2e...  \n",
       "6   Data Scientist, Tableau, R Tool, Data Analytic...  \n",
       "7   Sql, Sas, Sas Programming, Python, Tableau, Vb...  \n",
       "8   Java, SQL, Algorithms, Python, Data Mining, R,...  \n",
       "9   Data Science, Hadoop, Rpas, Devops, Python, Aw...  \n",
       "10  analytics, Business Intelligence, Data Analyti...  \n",
       "11  Software Architecture, Project Management, Sof...  \n",
       "12  Automation Testing, Python Developer, Bigdata,...  \n",
       "13                       Infineon Technologies, Intel  \n",
       "14  Java, Hadoop, R, Machine Learning, Spark, Flum...  \n",
       "15  salaesforce, Web Technologies, .net, .net full...  \n",
       "16  Data Analysis, Customer Service, Business Mana...  \n",
       "17                                      Not Specified  \n",
       "18  Devops, Automation, HMI, Tech/Solution Archite...  \n",
       "19  Android Application Development, Artificial In...  \n",
       "20  Analytics, Machine Learning, Big Data Analytic...  \n",
       "21                                      Not Specified  \n",
       "22  Big Data, Application Development, User Interf...  \n",
       "23  HR, Benefits, Employee Development, Succession...  "
      ]
     },
     "execution_count": 33,
     "metadata": {},
     "output_type": "execute_result"
    }
   ],
   "source": [
    "data"
   ]
  },
  {
   "cell_type": "code",
   "execution_count": 34,
   "metadata": {},
   "outputs": [
    {
     "data": {
      "text/plain": [
       "',Name,Desg,company,location,skills\\r\\n0,Bitapi,HR and Operation Manager,Wipro,Bengaluru / Bangalore,\"Hadoop, Big Data, Data Scientists, Java, Spring Boot, Oracle, SQL, MySQL, Object Oriented Programming, RDBMS, Data Modeling\"\\r\\n1,HS Sandesh,Talent Evangelist www staffiohr co,Rinalytics Advisors,Bengaluru / Bangalore,\"Digital Marketing, General Manager, Business Development, Product Manager, Big Data, Business Analyst, Frontend Developer, Human Resources, data\"\\r\\n2,Datafoundry,Company HR,Redbus.in,Bengaluru / Bangalore,\"Webmethods Developer, Mean Stack, Business Analysis, Data Scientist, Database Development, java, python, Algorithm Scientist, Machine Learning, artificial\"\\r\\n3,Prashant K,Sr HR,Talent Management Labs Inc.,Bengaluru / Bangalore,\"Data Analyst, Statistical Analysis, Data Scientist, Analytics Manager, Software Engineer\"\\r\\n4,Best In Town Analytics,Analytics Associate,DeepIQ Software Solutions Pvt Ltd,Bengaluru / Bangalore,Data Analytics\\r\\n5,Nagajothi Edumdan,Lead Technical Recruiter,Terra Blue Exploration Technologies Pvt....,Bengaluru / Bangalore,\"architect, Technical Lead, director, java, J2ee, Embedded Technologies, Qa Testing, dicom, ruby, python, c++, Product Engineer, Engineering Manager, oracle\"\\r\\n6,rajesh,HR Executive,Quaero 3 India Ltd,Bengaluru / Bangalore,\"Data Scientist, Tableau, R Tool, Data Analytics, Business Analytics\"\\r\\n7,Gautam Malaiappan,Founder CEO,BlackBuck Insights,Bengaluru / Bangalore,\"Sql, Sas, Sas Programming, Python, Tableau, Vba, Advanced Excel, Qlikview, Spotfire, Cognos, R, Statistical Modeling, Statistical Programming, Statistics\"\\r\\n8,TerraBlue XT,HR manager,ABC Consultants Pvt Ltd,Bengaluru / Bangalore,\"Java, SQL, Algorithms, Python, Data Mining, R, Hadoop, Photoshop, Corel Draw, Usability, UX, Animation, Javascript, Design, Html, Wordpress, Css, Indesign\"\\r\\n9,kumar,Proprietor,Accenture,Bengaluru / Bangalore,\"Data Science, Hadoop, Rpas, Devops, Python, Aws, Teaching, Big Data\"\\r\\n10,John Paul,Company HR,Makonis Software Solutions Private Limited,Bengaluru / Bangalore,\"analytics, Business Intelligence, Data Analytics, Data Science\"\\r\\n11,Biju John,Recruitment Consultant,Gladwin Analytics,Bengaluru / Bangalore,\"Software Architecture, Project Management, Software Development, Engineering, Ux, System Administration, Hardware, Firmware Development, Investment Banking\"\\r\\n12,Anantha Padmanabhan,HR Executive,Adcuratio Media Inc,Bengaluru / Bangalore,\"Automation Testing, Python Developer, Bigdata, Ui Development, Genesys, Linux Administration, Ios Development, Data Science, Hardware Design, Analog Design\"\\r\\n13,Harshitha H P,Senior Associate TA,MADHUSUDHAN SRIDHAR,Bengaluru / Bangalore,\"Infineon Technologies, Intel\"\\r\\n14,Rajani Nagaraj,HR Manager,SigTuple Technologies Pvt Ltd,Bengaluru / Bangalore,\"Java, Hadoop, R, Machine Learning, Spark, Flume, Hdfs, Data Mining, Sas, Big, Data Science, Cloudera, Impala, Bigdata\"\\r\\n15,Shiva Kumar N,Founder,Connecting The Dots,Bengaluru / Bangalore,\"salaesforce, Web Technologies, .net, .net full stack, java full stack, servicenow, Java, Automation Testing, Front End Developer, Backend Developer, Mobile\"\\r\\n16,Ishaan,Talent Manager,Opendoors Fintech Private Limited,Bengaluru / Bangalore,\"Data Analysis, Customer Service, Business Managers\"\\r\\n17,abha,Company HR,Mwyn Tech Pvt Ltd,Bengaluru / Bangalore,Not Specified\\r\\n18,Nithin Prasad,HR Executive,SRIT India PVt Ltd,Bengaluru / Bangalore,\"Devops, Automation, HMI, Tech/Solution Architect, Sales Associate, Inside Sales, Account Management, Bigdata, Testing, Inside Sales Executive, Inside\"\\r\\n19,Srinivasan S Saripalli,Technology Director and Operations,Engage IT Manpower Solutions Pvt Ltd,Bengaluru / Bangalore,\"Android Application Development, Artificial Intelligence, Data Analytics, Java, Spring Framework, C++, Docker, Machine Learning, Computer Vision, Python\"\\r\\n20,Leena Nothani,Associate Partner Analytics Hiring,AppsTec,Bengaluru / Bangalore,\"Analytics, Machine Learning, Big Data Analytics, Predictive Modeling, Advanced Analytics, Statistical Modeling\"\\r\\n21,Supriya Patanjali,Talent Acquisition Specialist,BMS Innolabs,Bengaluru / Bangalore,Not Specified\\r\\n22,Saravanaprakash Balakrishnan,Technical Recruiter,Sling Media Private Limited,Bengaluru / Bangalore,\"Big Data, Application Development, User Interface Designing, Ui Development, Database Development, Analytics\"\\r\\n23,Suresh Chalikavada,Manager Talent Acquisition,Kwalee,Bengaluru / Bangalore,\"HR, Benefits, Employee Development, Succession Planning, Policies, Design Development, Query Resolution\"\\r\\n'"
      ]
     },
     "execution_count": 34,
     "metadata": {},
     "output_type": "execute_result"
    }
   ],
   "source": [
    "data.to_csv()"
   ]
  },
  {
   "cell_type": "markdown",
   "metadata": {},
   "source": [
    "# Que--8"
   ]
  },
  {
   "cell_type": "code",
   "execution_count": 35,
   "metadata": {},
   "outputs": [],
   "source": [
    "#connecting to web driver\n",
    "driver = webdriver.Chrome(r\"E:\\FRT\\chromedriver.exe\")"
   ]
  },
  {
   "cell_type": "code",
   "execution_count": 36,
   "metadata": {},
   "outputs": [],
   "source": [
    "# Opening the homepage \n",
    "driver.get('https://www.theguardian.com/news/datablog/2012/aug/09/best-selling-books-all-time-fifty-shades-grey-compare/')"
   ]
  },
  {
   "cell_type": "code",
   "execution_count": 37,
   "metadata": {},
   "outputs": [],
   "source": [
    "# creating empty list\n",
    "book_name=[]\n",
    "a_name=[]\n",
    "vol_sold=[]\n",
    "publ=[]\n",
    "genre=[]"
   ]
  },
  {
   "cell_type": "code",
   "execution_count": 42,
   "metadata": {},
   "outputs": [],
   "source": [
    " # Extracting book name\n",
    "for b in range(1,99):\n",
    "    b_tags=driver.find_elements_by_xpath('//*[@id=\"table-cell-10943-%d-1\"]'%(b))\n",
    "    for i in b_tags:\n",
    "        book_name.append(i.text)"
   ]
  },
  {
   "cell_type": "code",
   "execution_count": 45,
   "metadata": {},
   "outputs": [
    {
     "data": {
      "text/plain": [
       "['Da Vinci Code,The',\n",
       " 'Harry Potter and the Deathly Hallows',\n",
       " \"Harry Potter and the Philosopher's Stone\"]"
      ]
     },
     "execution_count": 45,
     "metadata": {},
     "output_type": "execute_result"
    }
   ],
   "source": [
    "book_name[0:3]"
   ]
  },
  {
   "cell_type": "code",
   "execution_count": 44,
   "metadata": {},
   "outputs": [
    {
     "data": {
      "text/plain": [
       "99"
      ]
     },
     "execution_count": 44,
     "metadata": {},
     "output_type": "execute_result"
    }
   ],
   "source": [
    "len(book_name)"
   ]
  },
  {
   "cell_type": "code",
   "execution_count": 46,
   "metadata": {},
   "outputs": [],
   "source": [
    " # Extracting authors\n",
    "for b in range(0,99):\n",
    "    a_tags=driver.find_elements_by_xpath('//*[@id=\"table-cell-10943-%d-2\"]'%(b))\n",
    "    for i in a_tags:\n",
    "        a_name.append(i.text)"
   ]
  },
  {
   "cell_type": "code",
   "execution_count": 48,
   "metadata": {},
   "outputs": [
    {
     "data": {
      "text/plain": [
       "['Brown, Dan', 'Rowling, J.K.', 'Rowling, J.K.']"
      ]
     },
     "execution_count": 48,
     "metadata": {},
     "output_type": "execute_result"
    }
   ],
   "source": [
    "a_name[0:3]"
   ]
  },
  {
   "cell_type": "code",
   "execution_count": 49,
   "metadata": {},
   "outputs": [
    {
     "data": {
      "text/plain": [
       "99"
      ]
     },
     "execution_count": 49,
     "metadata": {},
     "output_type": "execute_result"
    }
   ],
   "source": [
    "len(a_name)"
   ]
  },
  {
   "cell_type": "code",
   "execution_count": 51,
   "metadata": {},
   "outputs": [],
   "source": [
    " # Extracting volume sold\n",
    "for b in range(0,99):\n",
    "    v_tags=driver.find_elements_by_xpath('//*[@id=\"table-cell-10943-%d-3\"]'%(b))\n",
    "    for i in v_tags:\n",
    "        vol_sold.append(i.text)"
   ]
  },
  {
   "cell_type": "code",
   "execution_count": 52,
   "metadata": {},
   "outputs": [
    {
     "data": {
      "text/plain": [
       "['5,094,805', '4,475,152', '4,200,654']"
      ]
     },
     "execution_count": 52,
     "metadata": {},
     "output_type": "execute_result"
    }
   ],
   "source": [
    "vol_sold[0:3]"
   ]
  },
  {
   "cell_type": "code",
   "execution_count": 53,
   "metadata": {},
   "outputs": [],
   "source": [
    " # Extracting publication\n",
    "for b in range(0,99):\n",
    "    p_tags=driver.find_elements_by_xpath('//*[@id=\"table-cell-10943-%d-4\"]'%(b))\n",
    "    for i in p_tags:\n",
    "        publ.append(i.text)"
   ]
  },
  {
   "cell_type": "code",
   "execution_count": 54,
   "metadata": {},
   "outputs": [
    {
     "data": {
      "text/plain": [
       "['Transworld', 'Bloomsbury', 'Bloomsbury']"
      ]
     },
     "execution_count": 54,
     "metadata": {},
     "output_type": "execute_result"
    }
   ],
   "source": [
    "publ[0:3]"
   ]
  },
  {
   "cell_type": "code",
   "execution_count": 55,
   "metadata": {},
   "outputs": [],
   "source": [
    " # Extracting genre\n",
    "for b in range(0,99):\n",
    "    g_tags=driver.find_elements_by_xpath('//*[@id=\"table-cell-10943-%d-5\"]'%(b))\n",
    "    for i in g_tags:\n",
    "        genre.append(i.text)"
   ]
  },
  {
   "cell_type": "code",
   "execution_count": 56,
   "metadata": {},
   "outputs": [
    {
     "data": {
      "text/plain": [
       "['Crime, Thriller & Adventure', \"Children's Fiction\", \"Children's Fiction\"]"
      ]
     },
     "execution_count": 56,
     "metadata": {},
     "output_type": "execute_result"
    }
   ],
   "source": [
    "genre[0:3]"
   ]
  },
  {
   "cell_type": "code",
   "execution_count": 57,
   "metadata": {},
   "outputs": [],
   "source": [
    "import pandas as pd\n",
    "data=pd.DataFrame({})\n",
    "data['Book_name']=book_name[0:25]\n",
    "data['Author_name']=a_name[0:25]\n",
    "data['Volume_sold']=vol_sold[0:25]\n",
    "data['Publisher']=publ[0:25]\n",
    "data['Genre']=genre[0:25]"
   ]
  },
  {
   "cell_type": "code",
   "execution_count": 58,
   "metadata": {},
   "outputs": [
    {
     "data": {
      "text/html": [
       "<div>\n",
       "<style scoped>\n",
       "    .dataframe tbody tr th:only-of-type {\n",
       "        vertical-align: middle;\n",
       "    }\n",
       "\n",
       "    .dataframe tbody tr th {\n",
       "        vertical-align: top;\n",
       "    }\n",
       "\n",
       "    .dataframe thead th {\n",
       "        text-align: right;\n",
       "    }\n",
       "</style>\n",
       "<table border=\"1\" class=\"dataframe\">\n",
       "  <thead>\n",
       "    <tr style=\"text-align: right;\">\n",
       "      <th></th>\n",
       "      <th>Book_name</th>\n",
       "      <th>Author_name</th>\n",
       "      <th>Volume_sold</th>\n",
       "      <th>Publisher</th>\n",
       "      <th>Genre</th>\n",
       "    </tr>\n",
       "  </thead>\n",
       "  <tbody>\n",
       "    <tr>\n",
       "      <th>0</th>\n",
       "      <td>Da Vinci Code,The</td>\n",
       "      <td>Brown, Dan</td>\n",
       "      <td>5,094,805</td>\n",
       "      <td>Transworld</td>\n",
       "      <td>Crime, Thriller &amp; Adventure</td>\n",
       "    </tr>\n",
       "    <tr>\n",
       "      <th>1</th>\n",
       "      <td>Harry Potter and the Deathly Hallows</td>\n",
       "      <td>Rowling, J.K.</td>\n",
       "      <td>4,475,152</td>\n",
       "      <td>Bloomsbury</td>\n",
       "      <td>Children's Fiction</td>\n",
       "    </tr>\n",
       "    <tr>\n",
       "      <th>2</th>\n",
       "      <td>Harry Potter and the Philosopher's Stone</td>\n",
       "      <td>Rowling, J.K.</td>\n",
       "      <td>4,200,654</td>\n",
       "      <td>Bloomsbury</td>\n",
       "      <td>Children's Fiction</td>\n",
       "    </tr>\n",
       "    <tr>\n",
       "      <th>3</th>\n",
       "      <td>Harry Potter and the Order of the Phoenix</td>\n",
       "      <td>Rowling, J.K.</td>\n",
       "      <td>4,179,479</td>\n",
       "      <td>Bloomsbury</td>\n",
       "      <td>Children's Fiction</td>\n",
       "    </tr>\n",
       "    <tr>\n",
       "      <th>4</th>\n",
       "      <td>Fifty Shades of Grey</td>\n",
       "      <td>James, E. L.</td>\n",
       "      <td>3,758,936</td>\n",
       "      <td>Random House</td>\n",
       "      <td>Romance &amp; Sagas</td>\n",
       "    </tr>\n",
       "    <tr>\n",
       "      <th>5</th>\n",
       "      <td>Harry Potter and the Goblet of Fire</td>\n",
       "      <td>Rowling, J.K.</td>\n",
       "      <td>3,583,215</td>\n",
       "      <td>Bloomsbury</td>\n",
       "      <td>Children's Fiction</td>\n",
       "    </tr>\n",
       "    <tr>\n",
       "      <th>6</th>\n",
       "      <td>Harry Potter and the Chamber of Secrets</td>\n",
       "      <td>Rowling, J.K.</td>\n",
       "      <td>3,484,047</td>\n",
       "      <td>Bloomsbury</td>\n",
       "      <td>Children's Fiction</td>\n",
       "    </tr>\n",
       "    <tr>\n",
       "      <th>7</th>\n",
       "      <td>Harry Potter and the Prisoner of Azkaban</td>\n",
       "      <td>Rowling, J.K.</td>\n",
       "      <td>3,377,906</td>\n",
       "      <td>Bloomsbury</td>\n",
       "      <td>Children's Fiction</td>\n",
       "    </tr>\n",
       "    <tr>\n",
       "      <th>8</th>\n",
       "      <td>Angels and Demons</td>\n",
       "      <td>Brown, Dan</td>\n",
       "      <td>3,193,946</td>\n",
       "      <td>Transworld</td>\n",
       "      <td>Crime, Thriller &amp; Adventure</td>\n",
       "    </tr>\n",
       "    <tr>\n",
       "      <th>9</th>\n",
       "      <td>Harry Potter and the Half-blood Prince:Childre...</td>\n",
       "      <td>Rowling, J.K.</td>\n",
       "      <td>2,950,264</td>\n",
       "      <td>Bloomsbury</td>\n",
       "      <td>Children's Fiction</td>\n",
       "    </tr>\n",
       "    <tr>\n",
       "      <th>10</th>\n",
       "      <td>Fifty Shades Darker</td>\n",
       "      <td>James, E. L.</td>\n",
       "      <td>2,479,784</td>\n",
       "      <td>Random House</td>\n",
       "      <td>Romance &amp; Sagas</td>\n",
       "    </tr>\n",
       "    <tr>\n",
       "      <th>11</th>\n",
       "      <td>Twilight</td>\n",
       "      <td>Meyer, Stephenie</td>\n",
       "      <td>2,315,405</td>\n",
       "      <td>Little, Brown Book</td>\n",
       "      <td>Young Adult Fiction</td>\n",
       "    </tr>\n",
       "    <tr>\n",
       "      <th>12</th>\n",
       "      <td>Girl with the Dragon Tattoo,The:Millennium Tri...</td>\n",
       "      <td>Larsson, Stieg</td>\n",
       "      <td>2,233,570</td>\n",
       "      <td>Quercus</td>\n",
       "      <td>Crime, Thriller &amp; Adventure</td>\n",
       "    </tr>\n",
       "    <tr>\n",
       "      <th>13</th>\n",
       "      <td>Fifty Shades Freed</td>\n",
       "      <td>James, E. L.</td>\n",
       "      <td>2,193,928</td>\n",
       "      <td>Random House</td>\n",
       "      <td>Romance &amp; Sagas</td>\n",
       "    </tr>\n",
       "    <tr>\n",
       "      <th>14</th>\n",
       "      <td>Lost Symbol,The</td>\n",
       "      <td>Brown, Dan</td>\n",
       "      <td>2,183,031</td>\n",
       "      <td>Transworld</td>\n",
       "      <td>Crime, Thriller &amp; Adventure</td>\n",
       "    </tr>\n",
       "    <tr>\n",
       "      <th>15</th>\n",
       "      <td>New Moon</td>\n",
       "      <td>Meyer, Stephenie</td>\n",
       "      <td>2,152,737</td>\n",
       "      <td>Little, Brown Book</td>\n",
       "      <td>Young Adult Fiction</td>\n",
       "    </tr>\n",
       "    <tr>\n",
       "      <th>16</th>\n",
       "      <td>Deception Point</td>\n",
       "      <td>Brown, Dan</td>\n",
       "      <td>2,062,145</td>\n",
       "      <td>Transworld</td>\n",
       "      <td>Crime, Thriller &amp; Adventure</td>\n",
       "    </tr>\n",
       "    <tr>\n",
       "      <th>17</th>\n",
       "      <td>Eclipse</td>\n",
       "      <td>Meyer, Stephenie</td>\n",
       "      <td>2,052,876</td>\n",
       "      <td>Little, Brown Book</td>\n",
       "      <td>Young Adult Fiction</td>\n",
       "    </tr>\n",
       "    <tr>\n",
       "      <th>18</th>\n",
       "      <td>Lovely Bones,The</td>\n",
       "      <td>Sebold, Alice</td>\n",
       "      <td>2,005,598</td>\n",
       "      <td>Pan Macmillan</td>\n",
       "      <td>General &amp; Literary Fiction</td>\n",
       "    </tr>\n",
       "    <tr>\n",
       "      <th>19</th>\n",
       "      <td>Curious Incident of the Dog in the Night-time,The</td>\n",
       "      <td>Haddon, Mark</td>\n",
       "      <td>1,979,552</td>\n",
       "      <td>Random House</td>\n",
       "      <td>General &amp; Literary Fiction</td>\n",
       "    </tr>\n",
       "    <tr>\n",
       "      <th>20</th>\n",
       "      <td>Digital Fortress</td>\n",
       "      <td>Brown, Dan</td>\n",
       "      <td>1,928,900</td>\n",
       "      <td>Transworld</td>\n",
       "      <td>Crime, Thriller &amp; Adventure</td>\n",
       "    </tr>\n",
       "    <tr>\n",
       "      <th>21</th>\n",
       "      <td>Short History of Nearly Everything,A</td>\n",
       "      <td>Bryson, Bill</td>\n",
       "      <td>1,852,919</td>\n",
       "      <td>Transworld</td>\n",
       "      <td>Popular Science</td>\n",
       "    </tr>\n",
       "    <tr>\n",
       "      <th>22</th>\n",
       "      <td>Girl Who Played with Fire,The:Millennium Trilogy</td>\n",
       "      <td>Larsson, Stieg</td>\n",
       "      <td>1,814,784</td>\n",
       "      <td>Quercus</td>\n",
       "      <td>Crime, Thriller &amp; Adventure</td>\n",
       "    </tr>\n",
       "    <tr>\n",
       "      <th>23</th>\n",
       "      <td>Breaking Dawn</td>\n",
       "      <td>Meyer, Stephenie</td>\n",
       "      <td>1,787,118</td>\n",
       "      <td>Little, Brown Book</td>\n",
       "      <td>Young Adult Fiction</td>\n",
       "    </tr>\n",
       "    <tr>\n",
       "      <th>24</th>\n",
       "      <td>Very Hungry Caterpillar,The:The Very Hungry Ca...</td>\n",
       "      <td>Carle, Eric</td>\n",
       "      <td>1,783,535</td>\n",
       "      <td>Penguin</td>\n",
       "      <td>Picture Books</td>\n",
       "    </tr>\n",
       "  </tbody>\n",
       "</table>\n",
       "</div>"
      ],
      "text/plain": [
       "                                            Book_name       Author_name  \\\n",
       "0                                   Da Vinci Code,The        Brown, Dan   \n",
       "1                Harry Potter and the Deathly Hallows     Rowling, J.K.   \n",
       "2            Harry Potter and the Philosopher's Stone     Rowling, J.K.   \n",
       "3           Harry Potter and the Order of the Phoenix     Rowling, J.K.   \n",
       "4                                Fifty Shades of Grey      James, E. L.   \n",
       "5                 Harry Potter and the Goblet of Fire     Rowling, J.K.   \n",
       "6             Harry Potter and the Chamber of Secrets     Rowling, J.K.   \n",
       "7            Harry Potter and the Prisoner of Azkaban     Rowling, J.K.   \n",
       "8                                   Angels and Demons        Brown, Dan   \n",
       "9   Harry Potter and the Half-blood Prince:Childre...     Rowling, J.K.   \n",
       "10                                Fifty Shades Darker      James, E. L.   \n",
       "11                                           Twilight  Meyer, Stephenie   \n",
       "12  Girl with the Dragon Tattoo,The:Millennium Tri...    Larsson, Stieg   \n",
       "13                                 Fifty Shades Freed      James, E. L.   \n",
       "14                                    Lost Symbol,The        Brown, Dan   \n",
       "15                                           New Moon  Meyer, Stephenie   \n",
       "16                                    Deception Point        Brown, Dan   \n",
       "17                                            Eclipse  Meyer, Stephenie   \n",
       "18                                   Lovely Bones,The     Sebold, Alice   \n",
       "19  Curious Incident of the Dog in the Night-time,The      Haddon, Mark   \n",
       "20                                   Digital Fortress        Brown, Dan   \n",
       "21               Short History of Nearly Everything,A      Bryson, Bill   \n",
       "22   Girl Who Played with Fire,The:Millennium Trilogy    Larsson, Stieg   \n",
       "23                                      Breaking Dawn  Meyer, Stephenie   \n",
       "24  Very Hungry Caterpillar,The:The Very Hungry Ca...       Carle, Eric   \n",
       "\n",
       "   Volume_sold           Publisher                        Genre  \n",
       "0    5,094,805          Transworld  Crime, Thriller & Adventure  \n",
       "1    4,475,152          Bloomsbury           Children's Fiction  \n",
       "2    4,200,654          Bloomsbury           Children's Fiction  \n",
       "3    4,179,479          Bloomsbury           Children's Fiction  \n",
       "4    3,758,936        Random House              Romance & Sagas  \n",
       "5    3,583,215          Bloomsbury           Children's Fiction  \n",
       "6    3,484,047          Bloomsbury           Children's Fiction  \n",
       "7    3,377,906          Bloomsbury           Children's Fiction  \n",
       "8    3,193,946          Transworld  Crime, Thriller & Adventure  \n",
       "9    2,950,264          Bloomsbury           Children's Fiction  \n",
       "10   2,479,784        Random House              Romance & Sagas  \n",
       "11   2,315,405  Little, Brown Book          Young Adult Fiction  \n",
       "12   2,233,570             Quercus  Crime, Thriller & Adventure  \n",
       "13   2,193,928        Random House              Romance & Sagas  \n",
       "14   2,183,031          Transworld  Crime, Thriller & Adventure  \n",
       "15   2,152,737  Little, Brown Book          Young Adult Fiction  \n",
       "16   2,062,145          Transworld  Crime, Thriller & Adventure  \n",
       "17   2,052,876  Little, Brown Book          Young Adult Fiction  \n",
       "18   2,005,598       Pan Macmillan   General & Literary Fiction  \n",
       "19   1,979,552        Random House   General & Literary Fiction  \n",
       "20   1,928,900          Transworld  Crime, Thriller & Adventure  \n",
       "21   1,852,919          Transworld              Popular Science  \n",
       "22   1,814,784             Quercus  Crime, Thriller & Adventure  \n",
       "23   1,787,118  Little, Brown Book          Young Adult Fiction  \n",
       "24   1,783,535             Penguin                Picture Books  "
      ]
     },
     "execution_count": 58,
     "metadata": {},
     "output_type": "execute_result"
    }
   ],
   "source": [
    "data"
   ]
  },
  {
   "cell_type": "code",
   "execution_count": 59,
   "metadata": {},
   "outputs": [
    {
     "data": {
      "text/plain": [
       "',Book_name,Author_name,Volume_sold,Publisher,Genre\\r\\n0,\"Da Vinci Code,The\",\"Brown, Dan\",\"5,094,805\",Transworld,\"Crime, Thriller & Adventure\"\\r\\n1,Harry Potter and the Deathly Hallows,\"Rowling, J.K.\",\"4,475,152\",Bloomsbury,Children\\'s Fiction\\r\\n2,Harry Potter and the Philosopher\\'s Stone,\"Rowling, J.K.\",\"4,200,654\",Bloomsbury,Children\\'s Fiction\\r\\n3,Harry Potter and the Order of the Phoenix,\"Rowling, J.K.\",\"4,179,479\",Bloomsbury,Children\\'s Fiction\\r\\n4,Fifty Shades of Grey,\"James, E. L.\",\"3,758,936\",Random House,Romance & Sagas\\r\\n5,Harry Potter and the Goblet of Fire,\"Rowling, J.K.\",\"3,583,215\",Bloomsbury,Children\\'s Fiction\\r\\n6,Harry Potter and the Chamber of Secrets,\"Rowling, J.K.\",\"3,484,047\",Bloomsbury,Children\\'s Fiction\\r\\n7,Harry Potter and the Prisoner of Azkaban,\"Rowling, J.K.\",\"3,377,906\",Bloomsbury,Children\\'s Fiction\\r\\n8,Angels and Demons,\"Brown, Dan\",\"3,193,946\",Transworld,\"Crime, Thriller & Adventure\"\\r\\n9,Harry Potter and the Half-blood Prince:Children\\'s Edition,\"Rowling, J.K.\",\"2,950,264\",Bloomsbury,Children\\'s Fiction\\r\\n10,Fifty Shades Darker,\"James, E. L.\",\"2,479,784\",Random House,Romance & Sagas\\r\\n11,Twilight,\"Meyer, Stephenie\",\"2,315,405\",\"Little, Brown Book\",Young Adult Fiction\\r\\n12,\"Girl with the Dragon Tattoo,The:Millennium Trilogy\",\"Larsson, Stieg\",\"2,233,570\",Quercus,\"Crime, Thriller & Adventure\"\\r\\n13,Fifty Shades Freed,\"James, E. L.\",\"2,193,928\",Random House,Romance & Sagas\\r\\n14,\"Lost Symbol,The\",\"Brown, Dan\",\"2,183,031\",Transworld,\"Crime, Thriller & Adventure\"\\r\\n15,New Moon,\"Meyer, Stephenie\",\"2,152,737\",\"Little, Brown Book\",Young Adult Fiction\\r\\n16,Deception Point,\"Brown, Dan\",\"2,062,145\",Transworld,\"Crime, Thriller & Adventure\"\\r\\n17,Eclipse,\"Meyer, Stephenie\",\"2,052,876\",\"Little, Brown Book\",Young Adult Fiction\\r\\n18,\"Lovely Bones,The\",\"Sebold, Alice\",\"2,005,598\",Pan Macmillan,General & Literary Fiction\\r\\n19,\"Curious Incident of the Dog in the Night-time,The\",\"Haddon, Mark\",\"1,979,552\",Random House,General & Literary Fiction\\r\\n20,Digital Fortress,\"Brown, Dan\",\"1,928,900\",Transworld,\"Crime, Thriller & Adventure\"\\r\\n21,\"Short History of Nearly Everything,A\",\"Bryson, Bill\",\"1,852,919\",Transworld,Popular Science\\r\\n22,\"Girl Who Played with Fire,The:Millennium Trilogy\",\"Larsson, Stieg\",\"1,814,784\",Quercus,\"Crime, Thriller & Adventure\"\\r\\n23,Breaking Dawn,\"Meyer, Stephenie\",\"1,787,118\",\"Little, Brown Book\",Young Adult Fiction\\r\\n24,\"Very Hungry Caterpillar,The:The Very Hungry Caterpillar\",\"Carle, Eric\",\"1,783,535\",Penguin,Picture Books\\r\\n'"
      ]
     },
     "execution_count": 59,
     "metadata": {},
     "output_type": "execute_result"
    }
   ],
   "source": [
    "data.to_csv()"
   ]
  },
  {
   "cell_type": "markdown",
   "metadata": {},
   "source": [
    "# Que--9"
   ]
  },
  {
   "cell_type": "code",
   "execution_count": 60,
   "metadata": {},
   "outputs": [],
   "source": [
    "#connecting to web driver\n",
    "driver = webdriver.Chrome(r\"E:\\FRT\\chromedriver.exe\")"
   ]
  },
  {
   "cell_type": "code",
   "execution_count": 61,
   "metadata": {},
   "outputs": [],
   "source": [
    "# Opening the homepage of Amazon.in\n",
    "driver.get('https://www.imdb.com/list/ls095964455/')"
   ]
  },
  {
   "cell_type": "code",
   "execution_count": 62,
   "metadata": {},
   "outputs": [],
   "source": [
    "# creating empty list\n",
    "name=[]\n",
    "year_span=[]\n",
    "genre=[]\n",
    "r_time=[]\n",
    "rating=[]\n",
    "votes=[]\n"
   ]
  },
  {
   "cell_type": "code",
   "execution_count": 64,
   "metadata": {},
   "outputs": [],
   "source": [
    " # Extracting name\n",
    "for b in range(1,100):\n",
    "    name_tags=driver.find_elements_by_xpath('//*[@id=\"main\"]/div/div[3]/div[3]/div[%d]/div[2]/h3/a'%(b))\n",
    "    for i in name_tags:\n",
    "        name.append(i.text)"
   ]
  },
  {
   "cell_type": "code",
   "execution_count": 65,
   "metadata": {},
   "outputs": [
    {
     "data": {
      "text/plain": [
       "['Game of Thrones', 'Stranger Things']"
      ]
     },
     "execution_count": 65,
     "metadata": {},
     "output_type": "execute_result"
    }
   ],
   "source": [
    "name[0:2]"
   ]
  },
  {
   "cell_type": "code",
   "execution_count": 66,
   "metadata": {},
   "outputs": [
    {
     "data": {
      "text/plain": [
       "99"
      ]
     },
     "execution_count": 66,
     "metadata": {},
     "output_type": "execute_result"
    }
   ],
   "source": [
    "len(name)"
   ]
  },
  {
   "cell_type": "code",
   "execution_count": 67,
   "metadata": {},
   "outputs": [],
   "source": [
    " # Extracting year span\n",
    "for b in range(1,100):\n",
    "    y_tags=driver.find_elements_by_xpath('//*[@id=\"main\"]/div/div[3]/div[3]/div[%d]/div[2]/h3/span[2]'%(b))\n",
    "    for i in y_tags:\n",
    "        year_span.append(i.text)"
   ]
  },
  {
   "cell_type": "code",
   "execution_count": 68,
   "metadata": {},
   "outputs": [
    {
     "data": {
      "text/plain": [
       "['(2011–2019)', '(2016– )', '(2010– )']"
      ]
     },
     "execution_count": 68,
     "metadata": {},
     "output_type": "execute_result"
    }
   ],
   "source": [
    "year_span[0:3]"
   ]
  },
  {
   "cell_type": "code",
   "execution_count": 69,
   "metadata": {},
   "outputs": [],
   "source": [
    " # Extracting genre\n",
    "for b in range(1,100):\n",
    "    g_tags=driver.find_elements_by_xpath('//*[@id=\"main\"]/div/div[3]/div[3]/div[%d]/div[2]/p[1]/span[5]'%(b))\n",
    "    for i in g_tags:\n",
    "        genre.append(i.text)"
   ]
  },
  {
   "cell_type": "code",
   "execution_count": 70,
   "metadata": {},
   "outputs": [
    {
     "data": {
      "text/plain": [
       "['Action, Adventure, Drama',\n",
       " 'Drama, Fantasy, Horror',\n",
       " 'Drama, Horror, Thriller']"
      ]
     },
     "execution_count": 70,
     "metadata": {},
     "output_type": "execute_result"
    }
   ],
   "source": [
    "genre[0:3]"
   ]
  },
  {
   "cell_type": "code",
   "execution_count": 71,
   "metadata": {},
   "outputs": [],
   "source": [
    "for b in range(1,100):\n",
    "    r_tags=driver.find_elements_by_xpath('//*[@id=\"main\"]/div/div[3]/div[3]/div[%d]/div[2]/p[1]/span[3]'%(b))\n",
    "    for i in r_tags:\n",
    "        r_time.append(i.text)"
   ]
  },
  {
   "cell_type": "code",
   "execution_count": 72,
   "metadata": {},
   "outputs": [
    {
     "data": {
      "text/plain": [
       "['57 min', '51 min', '44 min']"
      ]
     },
     "execution_count": 72,
     "metadata": {},
     "output_type": "execute_result"
    }
   ],
   "source": [
    "r_time[0:3]"
   ]
  },
  {
   "cell_type": "code",
   "execution_count": 73,
   "metadata": {},
   "outputs": [],
   "source": [
    " # Extracting  ratings\n",
    "for b in range(1,100):\n",
    "    rating_tags=driver.find_elements_by_xpath('//*[@id=\"main\"]/div/div[3]/div[3]/div[%d]/div[2]/div[1]/div[1]/span[2]'%(b))\n",
    "    for i in rating_tags:\n",
    "        rating.append(i.text)"
   ]
  },
  {
   "cell_type": "code",
   "execution_count": 74,
   "metadata": {},
   "outputs": [
    {
     "data": {
      "text/plain": [
       "['9.3', '8.7', '8.2']"
      ]
     },
     "execution_count": 74,
     "metadata": {},
     "output_type": "execute_result"
    }
   ],
   "source": [
    "rating[0:3]"
   ]
  },
  {
   "cell_type": "code",
   "execution_count": 75,
   "metadata": {},
   "outputs": [],
   "source": [
    " # Extracting votes\n",
    "v_tags=driver.find_elements_by_xpath('//p[@class=\"text-muted text-small\"]/span[2]')\n",
    "for i in v_tags:\n",
    "    votes.append(i.text)"
   ]
  },
  {
   "cell_type": "code",
   "execution_count": 88,
   "metadata": {},
   "outputs": [
    {
     "data": {
      "text/plain": [
       "['|', '1,768,387', '|']"
      ]
     },
     "execution_count": 88,
     "metadata": {},
     "output_type": "execute_result"
    }
   ],
   "source": [
    "votes[0:3]"
   ]
  },
  {
   "cell_type": "code",
   "execution_count": 89,
   "metadata": {},
   "outputs": [
    {
     "data": {
      "text/plain": [
       "['1,768,387', '820,970', '852,781', '256,007']"
      ]
     },
     "execution_count": 89,
     "metadata": {},
     "output_type": "execute_result"
    }
   ],
   "source": [
    "v = votes[1::2] + votes[::2] \n",
    "v[0:4]"
   ]
  },
  {
   "cell_type": "code",
   "execution_count": 95,
   "metadata": {},
   "outputs": [],
   "source": [
    "V=v[0:100]"
   ]
  },
  {
   "cell_type": "code",
   "execution_count": 97,
   "metadata": {},
   "outputs": [
    {
     "data": {
      "text/plain": [
       "100"
      ]
     },
     "execution_count": 97,
     "metadata": {},
     "output_type": "execute_result"
    }
   ],
   "source": [
    "len(V)"
   ]
  },
  {
   "cell_type": "code",
   "execution_count": 101,
   "metadata": {},
   "outputs": [],
   "source": [
    "import pandas as pd\n",
    "data=pd.DataFrame({})\n",
    "data['name']=name[0:100]\n",
    "data['year_span']=year_span[0:100]\n",
    "data['genre']=genre[0:100]\n",
    "data['r_time']=r_time[0:100]\n",
    "data['rating']=rating[0:100]\n",
    "#data['votes']=V[0:100]"
   ]
  },
  {
   "cell_type": "code",
   "execution_count": 83,
   "metadata": {},
   "outputs": [
    {
     "data": {
      "text/html": [
       "<div>\n",
       "<style scoped>\n",
       "    .dataframe tbody tr th:only-of-type {\n",
       "        vertical-align: middle;\n",
       "    }\n",
       "\n",
       "    .dataframe tbody tr th {\n",
       "        vertical-align: top;\n",
       "    }\n",
       "\n",
       "    .dataframe thead th {\n",
       "        text-align: right;\n",
       "    }\n",
       "</style>\n",
       "<table border=\"1\" class=\"dataframe\">\n",
       "  <thead>\n",
       "    <tr style=\"text-align: right;\">\n",
       "      <th></th>\n",
       "      <th>name</th>\n",
       "      <th>year_span</th>\n",
       "      <th>genre</th>\n",
       "      <th>r_time</th>\n",
       "      <th>rating</th>\n",
       "    </tr>\n",
       "  </thead>\n",
       "  <tbody>\n",
       "    <tr>\n",
       "      <th>0</th>\n",
       "      <td>Game of Thrones</td>\n",
       "      <td>(2011–2019)</td>\n",
       "      <td>Action, Adventure, Drama</td>\n",
       "      <td>57 min</td>\n",
       "      <td>9.3</td>\n",
       "    </tr>\n",
       "    <tr>\n",
       "      <th>1</th>\n",
       "      <td>Stranger Things</td>\n",
       "      <td>(2016– )</td>\n",
       "      <td>Drama, Fantasy, Horror</td>\n",
       "      <td>51 min</td>\n",
       "      <td>8.7</td>\n",
       "    </tr>\n",
       "    <tr>\n",
       "      <th>2</th>\n",
       "      <td>The Walking Dead</td>\n",
       "      <td>(2010– )</td>\n",
       "      <td>Drama, Horror, Thriller</td>\n",
       "      <td>44 min</td>\n",
       "      <td>8.2</td>\n",
       "    </tr>\n",
       "    <tr>\n",
       "      <th>3</th>\n",
       "      <td>13 Reasons Why</td>\n",
       "      <td>(2017–2020)</td>\n",
       "      <td>Drama, Mystery, Thriller</td>\n",
       "      <td>60 min</td>\n",
       "      <td>7.6</td>\n",
       "    </tr>\n",
       "    <tr>\n",
       "      <th>4</th>\n",
       "      <td>The 100</td>\n",
       "      <td>(2014–2020)</td>\n",
       "      <td>Drama, Mystery, Sci-Fi</td>\n",
       "      <td>43 min</td>\n",
       "      <td>7.6</td>\n",
       "    </tr>\n",
       "    <tr>\n",
       "      <th>...</th>\n",
       "      <td>...</td>\n",
       "      <td>...</td>\n",
       "      <td>...</td>\n",
       "      <td>...</td>\n",
       "      <td>...</td>\n",
       "    </tr>\n",
       "    <tr>\n",
       "      <th>94</th>\n",
       "      <td>iZombie</td>\n",
       "      <td>(2015–2019)</td>\n",
       "      <td>Comedy, Crime, Drama</td>\n",
       "      <td>42 min</td>\n",
       "      <td>7.8</td>\n",
       "    </tr>\n",
       "    <tr>\n",
       "      <th>95</th>\n",
       "      <td>Reign</td>\n",
       "      <td>(2013–2017)</td>\n",
       "      <td>Drama, Fantasy</td>\n",
       "      <td>42 min</td>\n",
       "      <td>7.5</td>\n",
       "    </tr>\n",
       "    <tr>\n",
       "      <th>96</th>\n",
       "      <td>A Series of Unfortunate Events</td>\n",
       "      <td>(2017–2019)</td>\n",
       "      <td>Adventure, Comedy, Drama</td>\n",
       "      <td>50 min</td>\n",
       "      <td>7.8</td>\n",
       "    </tr>\n",
       "    <tr>\n",
       "      <th>97</th>\n",
       "      <td>Criminal Minds</td>\n",
       "      <td>(2005–2020)</td>\n",
       "      <td>Crime, Drama, Mystery</td>\n",
       "      <td>42 min</td>\n",
       "      <td>8.1</td>\n",
       "    </tr>\n",
       "    <tr>\n",
       "      <th>98</th>\n",
       "      <td>Scream: The TV Series</td>\n",
       "      <td>(2015–2019)</td>\n",
       "      <td>Crime, Drama, Horror</td>\n",
       "      <td>45 min</td>\n",
       "      <td>7.2</td>\n",
       "    </tr>\n",
       "  </tbody>\n",
       "</table>\n",
       "<p>99 rows × 5 columns</p>\n",
       "</div>"
      ],
      "text/plain": [
       "                              name    year_span                     genre  \\\n",
       "0                  Game of Thrones  (2011–2019)  Action, Adventure, Drama   \n",
       "1                  Stranger Things     (2016– )    Drama, Fantasy, Horror   \n",
       "2                 The Walking Dead     (2010– )   Drama, Horror, Thriller   \n",
       "3                   13 Reasons Why  (2017–2020)  Drama, Mystery, Thriller   \n",
       "4                          The 100  (2014–2020)    Drama, Mystery, Sci-Fi   \n",
       "..                             ...          ...                       ...   \n",
       "94                         iZombie  (2015–2019)      Comedy, Crime, Drama   \n",
       "95                           Reign  (2013–2017)            Drama, Fantasy   \n",
       "96  A Series of Unfortunate Events  (2017–2019)  Adventure, Comedy, Drama   \n",
       "97                  Criminal Minds  (2005–2020)     Crime, Drama, Mystery   \n",
       "98           Scream: The TV Series  (2015–2019)      Crime, Drama, Horror   \n",
       "\n",
       "    r_time rating  \n",
       "0   57 min    9.3  \n",
       "1   51 min    8.7  \n",
       "2   44 min    8.2  \n",
       "3   60 min    7.6  \n",
       "4   43 min    7.6  \n",
       "..     ...    ...  \n",
       "94  42 min    7.8  \n",
       "95  42 min    7.5  \n",
       "96  50 min    7.8  \n",
       "97  42 min    8.1  \n",
       "98  45 min    7.2  \n",
       "\n",
       "[99 rows x 5 columns]"
      ]
     },
     "execution_count": 83,
     "metadata": {},
     "output_type": "execute_result"
    }
   ],
   "source": [
    "data"
   ]
  },
  {
   "cell_type": "code",
   "execution_count": 87,
   "metadata": {},
   "outputs": [
    {
     "data": {
      "text/plain": [
       "<bound method NDFrame.to_csv of                               name    year_span                     genre  \\\n",
       "0                  Game of Thrones  (2011–2019)  Action, Adventure, Drama   \n",
       "1                  Stranger Things     (2016– )    Drama, Fantasy, Horror   \n",
       "2                 The Walking Dead     (2010– )   Drama, Horror, Thriller   \n",
       "3                   13 Reasons Why  (2017–2020)  Drama, Mystery, Thriller   \n",
       "4                          The 100  (2014–2020)    Drama, Mystery, Sci-Fi   \n",
       "..                             ...          ...                       ...   \n",
       "94                         iZombie  (2015–2019)      Comedy, Crime, Drama   \n",
       "95                           Reign  (2013–2017)            Drama, Fantasy   \n",
       "96  A Series of Unfortunate Events  (2017–2019)  Adventure, Comedy, Drama   \n",
       "97                  Criminal Minds  (2005–2020)     Crime, Drama, Mystery   \n",
       "98           Scream: The TV Series  (2015–2019)      Crime, Drama, Horror   \n",
       "\n",
       "    r_time rating  \n",
       "0   57 min    9.3  \n",
       "1   51 min    8.7  \n",
       "2   44 min    8.2  \n",
       "3   60 min    7.6  \n",
       "4   43 min    7.6  \n",
       "..     ...    ...  \n",
       "94  42 min    7.8  \n",
       "95  42 min    7.5  \n",
       "96  50 min    7.8  \n",
       "97  42 min    8.1  \n",
       "98  45 min    7.2  \n",
       "\n",
       "[99 rows x 5 columns]>"
      ]
     },
     "execution_count": 87,
     "metadata": {},
     "output_type": "execute_result"
    }
   ],
   "source": [
    "data.to_csv"
   ]
  },
  {
   "cell_type": "markdown",
   "metadata": {},
   "source": [
    "# Que--10"
   ]
  },
  {
   "cell_type": "code",
   "execution_count": 2,
   "metadata": {},
   "outputs": [],
   "source": [
    "#connecting to web driver\n",
    "driver = webdriver.Chrome(r\"E:\\FRT\\chromedriver.exe\")"
   ]
  },
  {
   "cell_type": "code",
   "execution_count": 3,
   "metadata": {},
   "outputs": [],
   "source": [
    "# Opening the homepage of uci\n",
    "driver.get('https://archive.ics.uci.edu/')"
   ]
  },
  {
   "cell_type": "code",
   "execution_count": 105,
   "metadata": {},
   "outputs": [],
   "source": [
    "button=driver.find_element_by_xpath('//span[@class=\"whitetext\"]/a')\n",
    "driver.get(button.get_attribute('href')) "
   ]
  },
  {
   "cell_type": "code",
   "execution_count": 106,
   "metadata": {},
   "outputs": [],
   "source": [
    "button=driver.find_element_by_xpath('/html/body/table[1]/tbody/tr/td[2]/span[2]/a')\n",
    "driver.get(button.get_attribute('href')) "
   ]
  },
  {
   "cell_type": "code",
   "execution_count": 4,
   "metadata": {},
   "outputs": [],
   "source": [
    "# creating empty list\n",
    "d_name=[]\n",
    "d_type=[]\n",
    "task=[]\n",
    "attr_type=[]\n",
    "no_of_instance=[]\n",
    "no_of_att=[]\n",
    "year=[]"
   ]
  },
  {
   "cell_type": "code",
   "execution_count": 5,
   "metadata": {},
   "outputs": [],
   "source": [
    " # Extracting dataset name\n",
    "for b in range(1,100):\n",
    "    d_tags=driver.find_elements_by_xpath('/html/body/table[2]/tbody/tr/td[2]/table[2]/tbody/tr[%d]/td[1]/table/tbody/tr/td[2]/p/b/a'%(b))\n",
    "    for i in d_tags:\n",
    "        d_name.append(i.text)"
   ]
  },
  {
   "cell_type": "code",
   "execution_count": 6,
   "metadata": {},
   "outputs": [
    {
     "data": {
      "text/plain": [
       "['Abalone', 'Adult']"
      ]
     },
     "execution_count": 6,
     "metadata": {},
     "output_type": "execute_result"
    }
   ],
   "source": [
    "d_name[0:2]"
   ]
  },
  {
   "cell_type": "code",
   "execution_count": 7,
   "metadata": {},
   "outputs": [],
   "source": [
    " # Extracting dataset type\n",
    "or b in range(2,101):\n",
    "    dt_tags=driver.find_elements_by_xpath('/html/body/table[2]/tbody/tr/td[2]/table[2]/tbody/tr[%d]/td[2]/p'%(b))\n",
    "    for i in dt_tags:\n",
    "        d_type.append(i.text)"
   ]
  },
  {
   "cell_type": "code",
   "execution_count": 8,
   "metadata": {},
   "outputs": [
    {
     "data": {
      "text/plain": [
       "['Multivariate ', 'Multivariate ']"
      ]
     },
     "execution_count": 8,
     "metadata": {},
     "output_type": "execute_result"
    }
   ],
   "source": [
    "d_type[0:2]"
   ]
  },
  {
   "cell_type": "code",
   "execution_count": 9,
   "metadata": {},
   "outputs": [],
   "source": [
    " # Extracting task\n",
    "for b in range(2,101):\n",
    "    t_tags=driver.find_elements_by_xpath('/html/body/table[2]/tbody/tr/td[2]/table[2]/tbody/tr[%d]/td[3]/p'%(b))\n",
    "    for i in t_tags:\n",
    "        task.append(i.text)"
   ]
  },
  {
   "cell_type": "code",
   "execution_count": 10,
   "metadata": {},
   "outputs": [
    {
     "data": {
      "text/plain": [
       "['Classification ', 'Classification ']"
      ]
     },
     "execution_count": 10,
     "metadata": {},
     "output_type": "execute_result"
    }
   ],
   "source": [
    "task[0:2]"
   ]
  },
  {
   "cell_type": "code",
   "execution_count": 11,
   "metadata": {},
   "outputs": [],
   "source": [
    " # Extracting attribute type\n",
    "for b in range(2,101):\n",
    "    a_tags=driver.find_elements_by_xpath('/html/body/table[2]/tbody/tr/td[2]/table[2]/tbody/tr[%d]/td[4]/p'%(b))\n",
    "    for i in a_tags:\n",
    "        attr_type.append(i.text)"
   ]
  },
  {
   "cell_type": "code",
   "execution_count": 12,
   "metadata": {},
   "outputs": [
    {
     "data": {
      "text/plain": [
       "['Categorical, Integer, Real ', 'Categorical, Integer ']"
      ]
     },
     "execution_count": 12,
     "metadata": {},
     "output_type": "execute_result"
    }
   ],
   "source": [
    "attr_type[0:2]"
   ]
  },
  {
   "cell_type": "code",
   "execution_count": 13,
   "metadata": {},
   "outputs": [],
   "source": [
    " # Extracting no_of_instances\n",
    "for b in range(2,101):\n",
    "    n_tags=driver.find_elements_by_xpath('/html/body/table[2]/tbody/tr/td[2]/table[2]/tbody/tr[%d]/td[5]/p'%(b))\n",
    "    for i in n_tags:\n",
    "        no_of_instance.append(i.text)"
   ]
  },
  {
   "cell_type": "code",
   "execution_count": 14,
   "metadata": {},
   "outputs": [
    {
     "data": {
      "text/plain": [
       "['4177 ', '48842 ']"
      ]
     },
     "execution_count": 14,
     "metadata": {},
     "output_type": "execute_result"
    }
   ],
   "source": [
    "no_of_instance[0:2]"
   ]
  },
  {
   "cell_type": "code",
   "execution_count": 15,
   "metadata": {},
   "outputs": [],
   "source": [
    " # Extracting no of attributes\n",
    "for b in range(2,101):\n",
    "    nt_tags=driver.find_elements_by_xpath('/html/body/table[2]/tbody/tr/td[2]/table[2]/tbody/tr[%d]/td[6]/p'%(b))\n",
    "    for i in nt_tags:\n",
    "        no_of_att.append(i.text)"
   ]
  },
  {
   "cell_type": "code",
   "execution_count": 16,
   "metadata": {},
   "outputs": [
    {
     "data": {
      "text/plain": [
       "['8 ', '14 ']"
      ]
     },
     "execution_count": 16,
     "metadata": {},
     "output_type": "execute_result"
    }
   ],
   "source": [
    "no_of_att[0:2]"
   ]
  },
  {
   "cell_type": "code",
   "execution_count": 17,
   "metadata": {},
   "outputs": [],
   "source": [
    " # Extracting year\n",
    "for b in range(2,101):\n",
    "    y_tags=driver.find_elements_by_xpath('/html/body/table[2]/tbody/tr/td[2]/table[2]/tbody/tr[%d]/td[7]/p'%(b))\n",
    "    for i in y_tags:\n",
    "        year.append(i.text)"
   ]
  },
  {
   "cell_type": "code",
   "execution_count": 18,
   "metadata": {},
   "outputs": [
    {
     "data": {
      "text/plain": [
       "['1995 ', '1996 ']"
      ]
     },
     "execution_count": 18,
     "metadata": {},
     "output_type": "execute_result"
    }
   ],
   "source": [
    "year[0:2]"
   ]
  },
  {
   "cell_type": "code",
   "execution_count": 24,
   "metadata": {},
   "outputs": [],
   "source": [
    "import pandas as pd\n",
    "data=pd.DataFrame({})\n",
    "data['Data_set']=d_name[0:98]\n",
    "data['Data_type']=d_type[0:98]\n",
    "data['Task']=task[0:98]\n",
    "data['Attribute_type']=attr_type[0:98]\n",
    "data['No_of_instances']=no_of_instance[0:98]\n",
    "data['No_of_attribute']=no_of_att[0:98]\n",
    "data['Year']=year[0:98]"
   ]
  },
  {
   "cell_type": "code",
   "execution_count": 25,
   "metadata": {},
   "outputs": [
    {
     "data": {
      "text/html": [
       "<div>\n",
       "<style scoped>\n",
       "    .dataframe tbody tr th:only-of-type {\n",
       "        vertical-align: middle;\n",
       "    }\n",
       "\n",
       "    .dataframe tbody tr th {\n",
       "        vertical-align: top;\n",
       "    }\n",
       "\n",
       "    .dataframe thead th {\n",
       "        text-align: right;\n",
       "    }\n",
       "</style>\n",
       "<table border=\"1\" class=\"dataframe\">\n",
       "  <thead>\n",
       "    <tr style=\"text-align: right;\">\n",
       "      <th></th>\n",
       "      <th>Data_set</th>\n",
       "      <th>Data_type</th>\n",
       "      <th>Task</th>\n",
       "      <th>Attribute_type</th>\n",
       "      <th>No_of_instances</th>\n",
       "      <th>No_of_attribute</th>\n",
       "      <th>Year</th>\n",
       "    </tr>\n",
       "  </thead>\n",
       "  <tbody>\n",
       "    <tr>\n",
       "      <th>0</th>\n",
       "      <td>Abalone</td>\n",
       "      <td>Multivariate</td>\n",
       "      <td>Classification</td>\n",
       "      <td>Categorical, Integer, Real</td>\n",
       "      <td>4177</td>\n",
       "      <td>8</td>\n",
       "      <td>1995</td>\n",
       "    </tr>\n",
       "    <tr>\n",
       "      <th>1</th>\n",
       "      <td>Adult</td>\n",
       "      <td>Multivariate</td>\n",
       "      <td>Classification</td>\n",
       "      <td>Categorical, Integer</td>\n",
       "      <td>48842</td>\n",
       "      <td>14</td>\n",
       "      <td>1996</td>\n",
       "    </tr>\n",
       "    <tr>\n",
       "      <th>2</th>\n",
       "      <td>Annealing</td>\n",
       "      <td>Multivariate</td>\n",
       "      <td>Classification</td>\n",
       "      <td>Categorical, Integer, Real</td>\n",
       "      <td>798</td>\n",
       "      <td>38</td>\n",
       "      <td></td>\n",
       "    </tr>\n",
       "    <tr>\n",
       "      <th>3</th>\n",
       "      <td>Anonymous Microsoft Web Data</td>\n",
       "      <td></td>\n",
       "      <td>Recommender-Systems</td>\n",
       "      <td>Categorical</td>\n",
       "      <td>37711</td>\n",
       "      <td>294</td>\n",
       "      <td>1998</td>\n",
       "    </tr>\n",
       "    <tr>\n",
       "      <th>4</th>\n",
       "      <td>Arrhythmia</td>\n",
       "      <td>Multivariate</td>\n",
       "      <td>Classification</td>\n",
       "      <td>Categorical, Integer, Real</td>\n",
       "      <td>452</td>\n",
       "      <td>279</td>\n",
       "      <td>1998</td>\n",
       "    </tr>\n",
       "    <tr>\n",
       "      <th>...</th>\n",
       "      <td>...</td>\n",
       "      <td>...</td>\n",
       "      <td>...</td>\n",
       "      <td>...</td>\n",
       "      <td>...</td>\n",
       "      <td>...</td>\n",
       "      <td>...</td>\n",
       "    </tr>\n",
       "    <tr>\n",
       "      <th>93</th>\n",
       "      <td>SPECTF Heart</td>\n",
       "      <td>Multivariate</td>\n",
       "      <td>Classification</td>\n",
       "      <td>Integer</td>\n",
       "      <td>267</td>\n",
       "      <td>44</td>\n",
       "      <td>2001</td>\n",
       "    </tr>\n",
       "    <tr>\n",
       "      <th>94</th>\n",
       "      <td>Sponge</td>\n",
       "      <td>Multivariate</td>\n",
       "      <td>Clustering</td>\n",
       "      <td>Categorical, Integer</td>\n",
       "      <td>76</td>\n",
       "      <td>45</td>\n",
       "      <td></td>\n",
       "    </tr>\n",
       "    <tr>\n",
       "      <th>95</th>\n",
       "      <td>Statlog Project</td>\n",
       "      <td></td>\n",
       "      <td></td>\n",
       "      <td></td>\n",
       "      <td></td>\n",
       "      <td></td>\n",
       "      <td>1992</td>\n",
       "    </tr>\n",
       "    <tr>\n",
       "      <th>96</th>\n",
       "      <td>Student Loan Relational</td>\n",
       "      <td>Domain-Theory</td>\n",
       "      <td></td>\n",
       "      <td></td>\n",
       "      <td>1000</td>\n",
       "      <td></td>\n",
       "      <td>1993</td>\n",
       "    </tr>\n",
       "    <tr>\n",
       "      <th>97</th>\n",
       "      <td>Teaching Assistant Evaluation</td>\n",
       "      <td>Multivariate</td>\n",
       "      <td>Classification</td>\n",
       "      <td>Categorical, Integer</td>\n",
       "      <td>151</td>\n",
       "      <td>5</td>\n",
       "      <td>1997</td>\n",
       "    </tr>\n",
       "  </tbody>\n",
       "</table>\n",
       "<p>98 rows × 7 columns</p>\n",
       "</div>"
      ],
      "text/plain": [
       "                         Data_set       Data_type                  Task  \\\n",
       "0                         Abalone   Multivariate        Classification    \n",
       "1                           Adult   Multivariate        Classification    \n",
       "2                       Annealing   Multivariate        Classification    \n",
       "3    Anonymous Microsoft Web Data                  Recommender-Systems    \n",
       "4                      Arrhythmia   Multivariate        Classification    \n",
       "..                            ...             ...                   ...   \n",
       "93                   SPECTF Heart   Multivariate        Classification    \n",
       "94                         Sponge   Multivariate            Clustering    \n",
       "95                Statlog Project                                         \n",
       "96        Student Loan Relational  Domain-Theory                          \n",
       "97  Teaching Assistant Evaluation   Multivariate        Classification    \n",
       "\n",
       "                 Attribute_type No_of_instances No_of_attribute   Year  \n",
       "0   Categorical, Integer, Real            4177               8   1995   \n",
       "1         Categorical, Integer           48842              14   1996   \n",
       "2   Categorical, Integer, Real             798              38          \n",
       "3                  Categorical           37711             294   1998   \n",
       "4   Categorical, Integer, Real             452             279   1998   \n",
       "..                          ...             ...             ...    ...  \n",
       "93                     Integer             267              44   2001   \n",
       "94        Categorical, Integer              76              45          \n",
       "95                                                               1992   \n",
       "96                                        1000                   1993   \n",
       "97        Categorical, Integer             151               5   1997   \n",
       "\n",
       "[98 rows x 7 columns]"
      ]
     },
     "execution_count": 25,
     "metadata": {},
     "output_type": "execute_result"
    }
   ],
   "source": [
    "data"
   ]
  },
  {
   "cell_type": "code",
   "execution_count": 26,
   "metadata": {},
   "outputs": [
    {
     "data": {
      "text/plain": [
       "<bound method NDFrame.to_csv of                          Data_set       Data_type                  Task  \\\n",
       "0                         Abalone   Multivariate        Classification    \n",
       "1                           Adult   Multivariate        Classification    \n",
       "2                       Annealing   Multivariate        Classification    \n",
       "3    Anonymous Microsoft Web Data                  Recommender-Systems    \n",
       "4                      Arrhythmia   Multivariate        Classification    \n",
       "..                            ...             ...                   ...   \n",
       "93                   SPECTF Heart   Multivariate        Classification    \n",
       "94                         Sponge   Multivariate            Clustering    \n",
       "95                Statlog Project                                         \n",
       "96        Student Loan Relational  Domain-Theory                          \n",
       "97  Teaching Assistant Evaluation   Multivariate        Classification    \n",
       "\n",
       "                 Attribute_type No_of_instances No_of_attribute   Year  \n",
       "0   Categorical, Integer, Real            4177               8   1995   \n",
       "1         Categorical, Integer           48842              14   1996   \n",
       "2   Categorical, Integer, Real             798              38          \n",
       "3                  Categorical           37711             294   1998   \n",
       "4   Categorical, Integer, Real             452             279   1998   \n",
       "..                          ...             ...             ...    ...  \n",
       "93                     Integer             267              44   2001   \n",
       "94        Categorical, Integer              76              45          \n",
       "95                                                               1992   \n",
       "96                                        1000                   1993   \n",
       "97        Categorical, Integer             151               5   1997   \n",
       "\n",
       "[98 rows x 7 columns]>"
      ]
     },
     "execution_count": 26,
     "metadata": {},
     "output_type": "execute_result"
    }
   ],
   "source": [
    "data.to_csv"
   ]
  },
  {
   "cell_type": "code",
   "execution_count": null,
   "metadata": {},
   "outputs": [],
   "source": []
  },
  {
   "cell_type": "code",
   "execution_count": null,
   "metadata": {},
   "outputs": [],
   "source": []
  },
  {
   "cell_type": "code",
   "execution_count": null,
   "metadata": {},
   "outputs": [],
   "source": []
  },
  {
   "cell_type": "code",
   "execution_count": null,
   "metadata": {},
   "outputs": [],
   "source": []
  },
  {
   "cell_type": "code",
   "execution_count": null,
   "metadata": {},
   "outputs": [],
   "source": []
  },
  {
   "cell_type": "code",
   "execution_count": null,
   "metadata": {},
   "outputs": [],
   "source": []
  },
  {
   "cell_type": "code",
   "execution_count": null,
   "metadata": {},
   "outputs": [],
   "source": []
  },
  {
   "cell_type": "code",
   "execution_count": null,
   "metadata": {},
   "outputs": [],
   "source": []
  },
  {
   "cell_type": "code",
   "execution_count": null,
   "metadata": {},
   "outputs": [],
   "source": []
  },
  {
   "cell_type": "code",
   "execution_count": null,
   "metadata": {},
   "outputs": [],
   "source": []
  },
  {
   "cell_type": "code",
   "execution_count": null,
   "metadata": {},
   "outputs": [],
   "source": []
  },
  {
   "cell_type": "code",
   "execution_count": null,
   "metadata": {},
   "outputs": [],
   "source": []
  },
  {
   "cell_type": "code",
   "execution_count": null,
   "metadata": {},
   "outputs": [],
   "source": []
  },
  {
   "cell_type": "code",
   "execution_count": null,
   "metadata": {},
   "outputs": [],
   "source": []
  },
  {
   "cell_type": "code",
   "execution_count": null,
   "metadata": {},
   "outputs": [],
   "source": []
  },
  {
   "cell_type": "code",
   "execution_count": null,
   "metadata": {},
   "outputs": [],
   "source": []
  },
  {
   "cell_type": "code",
   "execution_count": null,
   "metadata": {},
   "outputs": [],
   "source": []
  },
  {
   "cell_type": "code",
   "execution_count": null,
   "metadata": {},
   "outputs": [],
   "source": []
  },
  {
   "cell_type": "code",
   "execution_count": null,
   "metadata": {},
   "outputs": [],
   "source": []
  },
  {
   "cell_type": "code",
   "execution_count": null,
   "metadata": {},
   "outputs": [],
   "source": []
  },
  {
   "cell_type": "code",
   "execution_count": null,
   "metadata": {},
   "outputs": [],
   "source": []
  },
  {
   "cell_type": "code",
   "execution_count": null,
   "metadata": {},
   "outputs": [],
   "source": []
  },
  {
   "cell_type": "code",
   "execution_count": null,
   "metadata": {},
   "outputs": [],
   "source": []
  },
  {
   "cell_type": "code",
   "execution_count": null,
   "metadata": {},
   "outputs": [],
   "source": []
  },
  {
   "cell_type": "code",
   "execution_count": null,
   "metadata": {},
   "outputs": [],
   "source": []
  },
  {
   "cell_type": "code",
   "execution_count": null,
   "metadata": {},
   "outputs": [],
   "source": []
  },
  {
   "cell_type": "code",
   "execution_count": null,
   "metadata": {},
   "outputs": [],
   "source": []
  },
  {
   "cell_type": "code",
   "execution_count": null,
   "metadata": {},
   "outputs": [],
   "source": []
  },
  {
   "cell_type": "code",
   "execution_count": null,
   "metadata": {},
   "outputs": [],
   "source": []
  },
  {
   "cell_type": "code",
   "execution_count": null,
   "metadata": {},
   "outputs": [],
   "source": []
  },
  {
   "cell_type": "code",
   "execution_count": null,
   "metadata": {},
   "outputs": [],
   "source": []
  },
  {
   "cell_type": "code",
   "execution_count": null,
   "metadata": {},
   "outputs": [],
   "source": []
  },
  {
   "cell_type": "code",
   "execution_count": null,
   "metadata": {},
   "outputs": [],
   "source": []
  },
  {
   "cell_type": "code",
   "execution_count": null,
   "metadata": {},
   "outputs": [],
   "source": []
  },
  {
   "cell_type": "code",
   "execution_count": null,
   "metadata": {},
   "outputs": [],
   "source": []
  },
  {
   "cell_type": "code",
   "execution_count": null,
   "metadata": {},
   "outputs": [],
   "source": []
  },
  {
   "cell_type": "code",
   "execution_count": null,
   "metadata": {},
   "outputs": [],
   "source": []
  },
  {
   "cell_type": "code",
   "execution_count": null,
   "metadata": {},
   "outputs": [],
   "source": []
  },
  {
   "cell_type": "code",
   "execution_count": null,
   "metadata": {},
   "outputs": [],
   "source": []
  },
  {
   "cell_type": "code",
   "execution_count": null,
   "metadata": {},
   "outputs": [],
   "source": []
  },
  {
   "cell_type": "code",
   "execution_count": null,
   "metadata": {},
   "outputs": [],
   "source": []
  },
  {
   "cell_type": "code",
   "execution_count": null,
   "metadata": {},
   "outputs": [],
   "source": []
  },
  {
   "cell_type": "code",
   "execution_count": null,
   "metadata": {},
   "outputs": [],
   "source": []
  },
  {
   "cell_type": "code",
   "execution_count": null,
   "metadata": {},
   "outputs": [],
   "source": []
  },
  {
   "cell_type": "code",
   "execution_count": null,
   "metadata": {},
   "outputs": [],
   "source": []
  },
  {
   "cell_type": "code",
   "execution_count": null,
   "metadata": {},
   "outputs": [],
   "source": []
  },
  {
   "cell_type": "code",
   "execution_count": null,
   "metadata": {},
   "outputs": [],
   "source": []
  },
  {
   "cell_type": "code",
   "execution_count": null,
   "metadata": {},
   "outputs": [],
   "source": []
  },
  {
   "cell_type": "code",
   "execution_count": null,
   "metadata": {},
   "outputs": [],
   "source": []
  },
  {
   "cell_type": "code",
   "execution_count": null,
   "metadata": {},
   "outputs": [],
   "source": []
  },
  {
   "cell_type": "code",
   "execution_count": null,
   "metadata": {},
   "outputs": [],
   "source": []
  },
  {
   "cell_type": "code",
   "execution_count": null,
   "metadata": {},
   "outputs": [],
   "source": []
  },
  {
   "cell_type": "code",
   "execution_count": null,
   "metadata": {},
   "outputs": [],
   "source": []
  },
  {
   "cell_type": "code",
   "execution_count": null,
   "metadata": {},
   "outputs": [],
   "source": []
  }
 ],
 "metadata": {
  "kernelspec": {
   "display_name": "Python 3",
   "language": "python",
   "name": "python3"
  },
  "language_info": {
   "codemirror_mode": {
    "name": "ipython",
    "version": 3
   },
   "file_extension": ".py",
   "mimetype": "text/x-python",
   "name": "python",
   "nbconvert_exporter": "python",
   "pygments_lexer": "ipython3",
   "version": "3.7.6"
  }
 },
 "nbformat": 4,
 "nbformat_minor": 4
}
