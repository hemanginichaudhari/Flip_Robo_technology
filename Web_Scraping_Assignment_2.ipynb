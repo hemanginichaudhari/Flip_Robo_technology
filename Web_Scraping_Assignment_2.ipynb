{
 "cells": [
  {
   "cell_type": "code",
   "execution_count": 2,
   "metadata": {},
   "outputs": [
    {
     "name": "stdout",
     "output_type": "stream",
     "text": [
      "Requirement already satisfied: selenium in c:\\users\\inspiron\\anaconda3\\lib\\site-packages (3.141.0)\n",
      "Requirement already satisfied: urllib3 in c:\\users\\inspiron\\anaconda3\\lib\\site-packages (from selenium) (1.25.8)\n"
     ]
    }
   ],
   "source": [
    "# Installing Selenium library\n",
    "!pip install selenium"
   ]
  },
  {
   "cell_type": "code",
   "execution_count": 3,
   "metadata": {},
   "outputs": [],
   "source": [
    "#imorting all required libraries\n",
    "import selenium\n",
    "import pandas as pd\n",
    "from selenium import webdriver"
   ]
  },
  {
   "cell_type": "code",
   "execution_count": 4,
   "metadata": {},
   "outputs": [],
   "source": [
    "#connecting to web driver\n",
    "driver = webdriver.Chrome(r\"E:\\FRT\\chromedriver.exe\")"
   ]
  },
  {
   "cell_type": "markdown",
   "metadata": {},
   "source": [
    "# Que--1"
   ]
  },
  {
   "cell_type": "code",
   "execution_count": 4,
   "metadata": {},
   "outputs": [],
   "source": [
    "# specifying the url of the webpage to be scraped\n",
    "url = \"https://www.naukri.com/data-analyst-jobs-in-bangalore?k=data%20analyst&l=bangalore\""
   ]
  },
  {
   "cell_type": "code",
   "execution_count": 5,
   "metadata": {},
   "outputs": [],
   "source": [
    "# Lets open the web page through the web driver\n",
    "driver.get(url)"
   ]
  },
  {
   "cell_type": "code",
   "execution_count": 6,
   "metadata": {},
   "outputs": [],
   "source": [
    "# creating 4 empty lists to stored scraped data\n",
    "job_titles1=[]\n",
    "company_names1=[]\n",
    "experience1=[]\n",
    "job_location1=[]"
   ]
  },
  {
   "cell_type": "code",
   "execution_count": 7,
   "metadata": {},
   "outputs": [],
   "source": [
    "# Lets extract all the tags having job titles\n",
    "job_tags1=driver.find_elements_by_xpath(\"//a[@class='title fw500 ellipsis']\")"
   ]
  },
  {
   "cell_type": "code",
   "execution_count": 8,
   "metadata": {},
   "outputs": [
    {
     "data": {
      "text/plain": [
       "[<selenium.webdriver.remote.webelement.WebElement (session=\"3cc4c63a1a0b2ec1802ddfafbd9b139a\", element=\"e4f44a4d-61f7-4fb1-8a63-ac8ed9fc126e\")>,\n",
       " <selenium.webdriver.remote.webelement.WebElement (session=\"3cc4c63a1a0b2ec1802ddfafbd9b139a\", element=\"63af71ce-213f-4f20-bd10-5772357716e7\")>,\n",
       " <selenium.webdriver.remote.webelement.WebElement (session=\"3cc4c63a1a0b2ec1802ddfafbd9b139a\", element=\"ddb9e951-350e-4ef4-a5eb-589c262112b3\")>,\n",
       " <selenium.webdriver.remote.webelement.WebElement (session=\"3cc4c63a1a0b2ec1802ddfafbd9b139a\", element=\"4191abd9-6aa5-46bc-8260-db2aa302293a\")>,\n",
       " <selenium.webdriver.remote.webelement.WebElement (session=\"3cc4c63a1a0b2ec1802ddfafbd9b139a\", element=\"4277dc27-9a90-4cdc-96f6-7fca605a31a4\")>,\n",
       " <selenium.webdriver.remote.webelement.WebElement (session=\"3cc4c63a1a0b2ec1802ddfafbd9b139a\", element=\"f2a6426d-1350-4047-9172-c13d90344843\")>,\n",
       " <selenium.webdriver.remote.webelement.WebElement (session=\"3cc4c63a1a0b2ec1802ddfafbd9b139a\", element=\"15fcb184-93b0-4114-ae8c-d868855c1ba5\")>,\n",
       " <selenium.webdriver.remote.webelement.WebElement (session=\"3cc4c63a1a0b2ec1802ddfafbd9b139a\", element=\"1b8ae963-fe28-429b-b077-436d12717221\")>,\n",
       " <selenium.webdriver.remote.webelement.WebElement (session=\"3cc4c63a1a0b2ec1802ddfafbd9b139a\", element=\"91e18bd1-320b-465a-8f72-98182bb0a090\")>,\n",
       " <selenium.webdriver.remote.webelement.WebElement (session=\"3cc4c63a1a0b2ec1802ddfafbd9b139a\", element=\"f19f61fe-9507-42a7-88e6-3cccc3a74b3d\")>,\n",
       " <selenium.webdriver.remote.webelement.WebElement (session=\"3cc4c63a1a0b2ec1802ddfafbd9b139a\", element=\"f619e2de-c727-4dbc-b3f4-c5f3b36bd0fb\")>,\n",
       " <selenium.webdriver.remote.webelement.WebElement (session=\"3cc4c63a1a0b2ec1802ddfafbd9b139a\", element=\"ede3b911-9a06-4978-87c3-08a75129c16f\")>,\n",
       " <selenium.webdriver.remote.webelement.WebElement (session=\"3cc4c63a1a0b2ec1802ddfafbd9b139a\", element=\"63933fd7-15dd-4a0f-a4ea-f1ccc9b1c809\")>,\n",
       " <selenium.webdriver.remote.webelement.WebElement (session=\"3cc4c63a1a0b2ec1802ddfafbd9b139a\", element=\"843d3194-206c-43b0-b0db-34c570b88e32\")>,\n",
       " <selenium.webdriver.remote.webelement.WebElement (session=\"3cc4c63a1a0b2ec1802ddfafbd9b139a\", element=\"550e7611-7084-467a-acb9-8b9c22aaef1f\")>,\n",
       " <selenium.webdriver.remote.webelement.WebElement (session=\"3cc4c63a1a0b2ec1802ddfafbd9b139a\", element=\"0cb729fd-3b22-4998-af20-30cb59009d11\")>,\n",
       " <selenium.webdriver.remote.webelement.WebElement (session=\"3cc4c63a1a0b2ec1802ddfafbd9b139a\", element=\"1dd1d03a-2a28-4a5d-967d-20b99d63a159\")>,\n",
       " <selenium.webdriver.remote.webelement.WebElement (session=\"3cc4c63a1a0b2ec1802ddfafbd9b139a\", element=\"67b9634f-521b-4c53-9d6b-4467cd341b9f\")>,\n",
       " <selenium.webdriver.remote.webelement.WebElement (session=\"3cc4c63a1a0b2ec1802ddfafbd9b139a\", element=\"2f628954-e50a-4c10-90bb-964483c80002\")>,\n",
       " <selenium.webdriver.remote.webelement.WebElement (session=\"3cc4c63a1a0b2ec1802ddfafbd9b139a\", element=\"875d80d7-a79f-469e-b039-6078d993f10c\")>]"
      ]
     },
     "execution_count": 8,
     "metadata": {},
     "output_type": "execute_result"
    }
   ],
   "source": [
    "job_tags1"
   ]
  },
  {
   "cell_type": "code",
   "execution_count": 9,
   "metadata": {},
   "outputs": [],
   "source": [
    "# Exctracting the text from above exctracted tags using for loop\n",
    "\n",
    "for i in job_tags1:\n",
    "        job_titles1.append(i.text)"
   ]
  },
  {
   "cell_type": "code",
   "execution_count": 10,
   "metadata": {},
   "outputs": [
    {
     "data": {
      "text/plain": [
       "['Data Scientist/Data Analyst-immediate',\n",
       " 'Immediate openings For MIS executive /Data analyst For Bangalore',\n",
       " 'Data Analyst',\n",
       " 'Data Analyst',\n",
       " 'Data Analyst',\n",
       " 'Data Analyst',\n",
       " 'Procurement Data Analyst ( 0.6 To 3 Yrs, Bangalore)',\n",
       " 'ID&A - Data Analyst - Informatica MDM',\n",
       " 'Data Analyst',\n",
       " 'Data Analyst']"
      ]
     },
     "execution_count": 10,
     "metadata": {},
     "output_type": "execute_result"
    }
   ],
   "source": [
    " job_titles1[0:10]"
   ]
  },
  {
   "cell_type": "code",
   "execution_count": 11,
   "metadata": {},
   "outputs": [
    {
     "data": {
      "text/plain": [
       "[<selenium.webdriver.remote.webelement.WebElement (session=\"3cc4c63a1a0b2ec1802ddfafbd9b139a\", element=\"917aa7d6-1c9b-4492-92e2-fd516f6800ea\")>,\n",
       " <selenium.webdriver.remote.webelement.WebElement (session=\"3cc4c63a1a0b2ec1802ddfafbd9b139a\", element=\"ae4f1d62-a106-489f-983b-7cee37e03d2c\")>,\n",
       " <selenium.webdriver.remote.webelement.WebElement (session=\"3cc4c63a1a0b2ec1802ddfafbd9b139a\", element=\"0c30ee84-8097-4b19-943b-fc15e8eceb72\")>,\n",
       " <selenium.webdriver.remote.webelement.WebElement (session=\"3cc4c63a1a0b2ec1802ddfafbd9b139a\", element=\"dd91d8a0-23d3-45db-abde-703c5617000b\")>,\n",
       " <selenium.webdriver.remote.webelement.WebElement (session=\"3cc4c63a1a0b2ec1802ddfafbd9b139a\", element=\"9c4e6f3f-7c39-4ade-9d59-95d7da7d0ee4\")>,\n",
       " <selenium.webdriver.remote.webelement.WebElement (session=\"3cc4c63a1a0b2ec1802ddfafbd9b139a\", element=\"a8d2c8f9-bf88-4918-a2e8-09818745d678\")>,\n",
       " <selenium.webdriver.remote.webelement.WebElement (session=\"3cc4c63a1a0b2ec1802ddfafbd9b139a\", element=\"a084f68a-bcd9-423c-aa77-210c5608fbe1\")>,\n",
       " <selenium.webdriver.remote.webelement.WebElement (session=\"3cc4c63a1a0b2ec1802ddfafbd9b139a\", element=\"1aaede69-893f-4ed7-839a-d50b395e5edc\")>,\n",
       " <selenium.webdriver.remote.webelement.WebElement (session=\"3cc4c63a1a0b2ec1802ddfafbd9b139a\", element=\"d0bfe388-a41f-45f7-82d3-bfde618905c5\")>,\n",
       " <selenium.webdriver.remote.webelement.WebElement (session=\"3cc4c63a1a0b2ec1802ddfafbd9b139a\", element=\"60aa8893-0379-4fe3-a9bc-90479bcca307\")>,\n",
       " <selenium.webdriver.remote.webelement.WebElement (session=\"3cc4c63a1a0b2ec1802ddfafbd9b139a\", element=\"2ae49373-6e55-4a93-ade7-d256812e00db\")>,\n",
       " <selenium.webdriver.remote.webelement.WebElement (session=\"3cc4c63a1a0b2ec1802ddfafbd9b139a\", element=\"a268c26d-cd9f-4fde-9b5c-d95640cac07a\")>,\n",
       " <selenium.webdriver.remote.webelement.WebElement (session=\"3cc4c63a1a0b2ec1802ddfafbd9b139a\", element=\"53e4624d-bc6d-4319-8c97-d34e0961057a\")>,\n",
       " <selenium.webdriver.remote.webelement.WebElement (session=\"3cc4c63a1a0b2ec1802ddfafbd9b139a\", element=\"b7a4f3e8-4a38-4f18-9fe5-6f642478e8f7\")>,\n",
       " <selenium.webdriver.remote.webelement.WebElement (session=\"3cc4c63a1a0b2ec1802ddfafbd9b139a\", element=\"eb4d7596-92a6-4a8f-8e3b-10d09ca3a730\")>,\n",
       " <selenium.webdriver.remote.webelement.WebElement (session=\"3cc4c63a1a0b2ec1802ddfafbd9b139a\", element=\"43ead1ed-b7b4-4484-8a8c-67ce3b953cde\")>,\n",
       " <selenium.webdriver.remote.webelement.WebElement (session=\"3cc4c63a1a0b2ec1802ddfafbd9b139a\", element=\"f1a479e8-86d7-4cca-a7fc-c97b75aebd57\")>,\n",
       " <selenium.webdriver.remote.webelement.WebElement (session=\"3cc4c63a1a0b2ec1802ddfafbd9b139a\", element=\"82c4b8e4-20f9-4b69-a22f-064d9850350f\")>,\n",
       " <selenium.webdriver.remote.webelement.WebElement (session=\"3cc4c63a1a0b2ec1802ddfafbd9b139a\", element=\"03f19c2c-1aad-434d-8398-cc8f90490eac\")>,\n",
       " <selenium.webdriver.remote.webelement.WebElement (session=\"3cc4c63a1a0b2ec1802ddfafbd9b139a\", element=\"220bdc97-05d4-4f82-a41e-f7ceecaaf296\")>]"
      ]
     },
     "execution_count": 11,
     "metadata": {},
     "output_type": "execute_result"
    }
   ],
   "source": [
    "# Lets extract all the tags having company names\n",
    "companies_tags1=driver.find_elements_by_xpath(\"//a[@class='subTitle ellipsis fleft']\")\n",
    "companies_tags1"
   ]
  },
  {
   "cell_type": "code",
   "execution_count": 12,
   "metadata": {},
   "outputs": [],
   "source": [
    "# Exctracting the text from above exctracted tags using for loop\n",
    "\n",
    "for i in companies_tags1:\n",
    "        company_names1.append(i.text)"
   ]
  },
  {
   "cell_type": "code",
   "execution_count": 13,
   "metadata": {},
   "outputs": [
    {
     "data": {
      "text/plain": [
       "['CAIA-Center For Artificial Intelligence & Advanced Analytics',\n",
       " 'RANDSTAD INDIA PVT LTD',\n",
       " 'Applied Materials',\n",
       " 'Cognizant Technology Solutions India Pvt Ltd',\n",
       " 'St. John’s Research Institute',\n",
       " 'Siemens Limited',\n",
       " 'Sunstream Global Technologies LLP',\n",
       " 'Shell India Markets Private Limited',\n",
       " 'GlaxoSmithKline Pharmaceuticals Limited',\n",
       " 'Cognizant Technology Solutions India Pvt Ltd']"
      ]
     },
     "execution_count": 13,
     "metadata": {},
     "output_type": "execute_result"
    }
   ],
   "source": [
    "company_names1[0:10]"
   ]
  },
  {
   "cell_type": "code",
   "execution_count": 14,
   "metadata": {},
   "outputs": [
    {
     "data": {
      "text/plain": [
       "[<selenium.webdriver.remote.webelement.WebElement (session=\"3cc4c63a1a0b2ec1802ddfafbd9b139a\", element=\"5532447d-6b05-45fc-ab0b-fa3499cec6b4\")>,\n",
       " <selenium.webdriver.remote.webelement.WebElement (session=\"3cc4c63a1a0b2ec1802ddfafbd9b139a\", element=\"0bfce321-78ad-4994-9c30-d3376c6619f3\")>,\n",
       " <selenium.webdriver.remote.webelement.WebElement (session=\"3cc4c63a1a0b2ec1802ddfafbd9b139a\", element=\"78c79dee-31dc-4cf5-b6ef-7f53c37a7cce\")>,\n",
       " <selenium.webdriver.remote.webelement.WebElement (session=\"3cc4c63a1a0b2ec1802ddfafbd9b139a\", element=\"c852fe4f-15b2-41ae-bae3-f62d5d1ba695\")>,\n",
       " <selenium.webdriver.remote.webelement.WebElement (session=\"3cc4c63a1a0b2ec1802ddfafbd9b139a\", element=\"2c8a27e7-d9e3-4761-a7df-90fd4a31b2a1\")>,\n",
       " <selenium.webdriver.remote.webelement.WebElement (session=\"3cc4c63a1a0b2ec1802ddfafbd9b139a\", element=\"c1eed28f-0b71-4661-a483-fe7251a4b798\")>,\n",
       " <selenium.webdriver.remote.webelement.WebElement (session=\"3cc4c63a1a0b2ec1802ddfafbd9b139a\", element=\"a0671ea5-c980-4e8e-9c53-e4b43c634d17\")>,\n",
       " <selenium.webdriver.remote.webelement.WebElement (session=\"3cc4c63a1a0b2ec1802ddfafbd9b139a\", element=\"b64f8c94-99ef-4feb-bd5f-aa105ce31e22\")>,\n",
       " <selenium.webdriver.remote.webelement.WebElement (session=\"3cc4c63a1a0b2ec1802ddfafbd9b139a\", element=\"1643a20e-2a39-4b63-bc5d-a0c3b26d602b\")>,\n",
       " <selenium.webdriver.remote.webelement.WebElement (session=\"3cc4c63a1a0b2ec1802ddfafbd9b139a\", element=\"8a299ca4-03ad-4db9-a536-d3de696b71ab\")>,\n",
       " <selenium.webdriver.remote.webelement.WebElement (session=\"3cc4c63a1a0b2ec1802ddfafbd9b139a\", element=\"d6ca7900-fee6-4f94-ae0d-65270c1ed9ca\")>,\n",
       " <selenium.webdriver.remote.webelement.WebElement (session=\"3cc4c63a1a0b2ec1802ddfafbd9b139a\", element=\"7d342b30-5c86-42b4-b310-b32a6b0c3d30\")>,\n",
       " <selenium.webdriver.remote.webelement.WebElement (session=\"3cc4c63a1a0b2ec1802ddfafbd9b139a\", element=\"3f827952-aeac-41e5-a86e-842f6f4c49ea\")>,\n",
       " <selenium.webdriver.remote.webelement.WebElement (session=\"3cc4c63a1a0b2ec1802ddfafbd9b139a\", element=\"2608d1ab-d59b-47ea-9a53-a36b5d569899\")>,\n",
       " <selenium.webdriver.remote.webelement.WebElement (session=\"3cc4c63a1a0b2ec1802ddfafbd9b139a\", element=\"10afb82b-328b-470a-8697-6cdf4f39d4b0\")>,\n",
       " <selenium.webdriver.remote.webelement.WebElement (session=\"3cc4c63a1a0b2ec1802ddfafbd9b139a\", element=\"a1ac6947-a4cc-45fb-bd4a-89f4ebebd341\")>,\n",
       " <selenium.webdriver.remote.webelement.WebElement (session=\"3cc4c63a1a0b2ec1802ddfafbd9b139a\", element=\"2af74234-c8ec-433b-b296-647bcdc0da94\")>,\n",
       " <selenium.webdriver.remote.webelement.WebElement (session=\"3cc4c63a1a0b2ec1802ddfafbd9b139a\", element=\"34429737-fee7-484c-8a3e-b8ea2b7a1c84\")>,\n",
       " <selenium.webdriver.remote.webelement.WebElement (session=\"3cc4c63a1a0b2ec1802ddfafbd9b139a\", element=\"0a2e10e1-5fc1-4c33-ab81-e388332565dd\")>,\n",
       " <selenium.webdriver.remote.webelement.WebElement (session=\"3cc4c63a1a0b2ec1802ddfafbd9b139a\", element=\"6ee17b66-b86f-46bc-a3a0-dba940104e1c\")>]"
      ]
     },
     "execution_count": 14,
     "metadata": {},
     "output_type": "execute_result"
    }
   ],
   "source": [
    "## Lets extract all the tags having experience_tags\n",
    "experience_tags1=driver.find_elements_by_xpath(\"//li[@class='fleft grey-text br2 placeHolderLi experience']/span[1]\")\n",
    "experience_tags1"
   ]
  },
  {
   "cell_type": "code",
   "execution_count": 15,
   "metadata": {},
   "outputs": [
    {
     "data": {
      "text/plain": [
       "['0-3 Yrs',\n",
       " '3-8 Yrs',\n",
       " '6-11 Yrs',\n",
       " '2-3 Yrs',\n",
       " '0-4 Yrs',\n",
       " '0-3 Yrs',\n",
       " '0-3 Yrs',\n",
       " '6-9 Yrs',\n",
       " '2-7 Yrs',\n",
       " '3-4 Yrs']"
      ]
     },
     "execution_count": 15,
     "metadata": {},
     "output_type": "execute_result"
    }
   ],
   "source": [
    "# Exctracting the text from above exctracted tags using for loop\n",
    "for i in experience_tags1:\n",
    "        experience1.append(i.text)\n",
    "experience1[0:10]        "
   ]
  },
  {
   "cell_type": "code",
   "execution_count": 16,
   "metadata": {},
   "outputs": [
    {
     "data": {
      "text/plain": [
       "[<selenium.webdriver.remote.webelement.WebElement (session=\"3cc4c63a1a0b2ec1802ddfafbd9b139a\", element=\"c0aca7eb-5244-425a-911c-83f7d0bf19cb\")>,\n",
       " <selenium.webdriver.remote.webelement.WebElement (session=\"3cc4c63a1a0b2ec1802ddfafbd9b139a\", element=\"8ca46c00-8fa6-4d75-95c9-958a472d9c2f\")>,\n",
       " <selenium.webdriver.remote.webelement.WebElement (session=\"3cc4c63a1a0b2ec1802ddfafbd9b139a\", element=\"6c0b403c-f0a2-4129-9c5c-40ae53aaef60\")>,\n",
       " <selenium.webdriver.remote.webelement.WebElement (session=\"3cc4c63a1a0b2ec1802ddfafbd9b139a\", element=\"87633527-7473-4d84-b85e-92de31691e9f\")>,\n",
       " <selenium.webdriver.remote.webelement.WebElement (session=\"3cc4c63a1a0b2ec1802ddfafbd9b139a\", element=\"bd2de401-97fc-4010-ab58-ba2bb3d6c233\")>,\n",
       " <selenium.webdriver.remote.webelement.WebElement (session=\"3cc4c63a1a0b2ec1802ddfafbd9b139a\", element=\"1d05093e-b83c-4d52-9c30-642ac903aa7d\")>,\n",
       " <selenium.webdriver.remote.webelement.WebElement (session=\"3cc4c63a1a0b2ec1802ddfafbd9b139a\", element=\"e1ab4da0-5916-4f19-ad93-fd99ccf4f9e5\")>,\n",
       " <selenium.webdriver.remote.webelement.WebElement (session=\"3cc4c63a1a0b2ec1802ddfafbd9b139a\", element=\"1ac65a05-aff4-4dd3-b2aa-ec7b1c867780\")>,\n",
       " <selenium.webdriver.remote.webelement.WebElement (session=\"3cc4c63a1a0b2ec1802ddfafbd9b139a\", element=\"8b60829b-73fe-41c3-9c08-14ba1ab76272\")>,\n",
       " <selenium.webdriver.remote.webelement.WebElement (session=\"3cc4c63a1a0b2ec1802ddfafbd9b139a\", element=\"cc82873e-345c-4e9c-af8c-0bd1be632a4a\")>,\n",
       " <selenium.webdriver.remote.webelement.WebElement (session=\"3cc4c63a1a0b2ec1802ddfafbd9b139a\", element=\"abf00534-3618-49e0-83bf-a9c09eac855e\")>,\n",
       " <selenium.webdriver.remote.webelement.WebElement (session=\"3cc4c63a1a0b2ec1802ddfafbd9b139a\", element=\"7268237f-f280-491e-b61e-d15e5e9d1a80\")>,\n",
       " <selenium.webdriver.remote.webelement.WebElement (session=\"3cc4c63a1a0b2ec1802ddfafbd9b139a\", element=\"51b85563-1eed-46c8-b78c-ca871a644c24\")>,\n",
       " <selenium.webdriver.remote.webelement.WebElement (session=\"3cc4c63a1a0b2ec1802ddfafbd9b139a\", element=\"8c2417ff-df62-4c89-98c6-fd0069c6a74b\")>,\n",
       " <selenium.webdriver.remote.webelement.WebElement (session=\"3cc4c63a1a0b2ec1802ddfafbd9b139a\", element=\"f2fb8d5e-d6b4-455d-ba7f-662a203b7e1f\")>,\n",
       " <selenium.webdriver.remote.webelement.WebElement (session=\"3cc4c63a1a0b2ec1802ddfafbd9b139a\", element=\"d1d7ba56-b2dc-4558-92c8-406c1e2611a6\")>,\n",
       " <selenium.webdriver.remote.webelement.WebElement (session=\"3cc4c63a1a0b2ec1802ddfafbd9b139a\", element=\"26c2607e-7d7a-4693-b031-3e04aee78169\")>,\n",
       " <selenium.webdriver.remote.webelement.WebElement (session=\"3cc4c63a1a0b2ec1802ddfafbd9b139a\", element=\"f250d04b-82c0-4d70-82b9-d5bdb33941c7\")>,\n",
       " <selenium.webdriver.remote.webelement.WebElement (session=\"3cc4c63a1a0b2ec1802ddfafbd9b139a\", element=\"ec76e5b7-4f89-4dc6-bdc1-9adca1e33ca2\")>,\n",
       " <selenium.webdriver.remote.webelement.WebElement (session=\"3cc4c63a1a0b2ec1802ddfafbd9b139a\", element=\"7a067f52-ae64-4e12-9f36-4404b4cff79c\")>]"
      ]
     },
     "execution_count": 16,
     "metadata": {},
     "output_type": "execute_result"
    }
   ],
   "source": [
    "# Lets extract all the tags having job location \n",
    "job_location_tags1=driver.find_elements_by_xpath(\"//li[@class='fleft grey-text br2 placeHolderLi location']/span[1]\")\n",
    "job_location_tags1"
   ]
  },
  {
   "cell_type": "code",
   "execution_count": 17,
   "metadata": {},
   "outputs": [
    {
     "data": {
      "text/plain": [
       "['Chennai, Pune, Bengaluru, Hyderabad',\n",
       " 'Bengaluru',\n",
       " 'Bengaluru',\n",
       " 'Mumbai, Bengaluru, Hyderabad',\n",
       " 'Bengaluru',\n",
       " 'Bengaluru',\n",
       " 'Bengaluru(Koramangala)',\n",
       " 'Bengaluru',\n",
       " 'Bengaluru',\n",
       " 'Bengaluru, Kolkata']"
      ]
     },
     "execution_count": 17,
     "metadata": {},
     "output_type": "execute_result"
    }
   ],
   "source": [
    "# Exctracting the text from above exctracted tags using for loop\n",
    "\n",
    "for i in job_location_tags1:\n",
    "        job_location1.append(i.text)\n",
    "job_location1[0:10]   "
   ]
  },
  {
   "cell_type": "code",
   "execution_count": 18,
   "metadata": {},
   "outputs": [],
   "source": [
    "import pandas as pd\n",
    "jobs1=pd.DataFrame({})\n",
    "jobs1['title']=job_titles1[0:10]\n",
    "jobs1['company']=company_names1[0:10]\n",
    "jobs1['experience']=experience1[0:10]\n",
    "jobs1['location']=job_location1[0:10]"
   ]
  },
  {
   "cell_type": "code",
   "execution_count": 19,
   "metadata": {},
   "outputs": [
    {
     "data": {
      "text/html": [
       "<div>\n",
       "<style scoped>\n",
       "    .dataframe tbody tr th:only-of-type {\n",
       "        vertical-align: middle;\n",
       "    }\n",
       "\n",
       "    .dataframe tbody tr th {\n",
       "        vertical-align: top;\n",
       "    }\n",
       "\n",
       "    .dataframe thead th {\n",
       "        text-align: right;\n",
       "    }\n",
       "</style>\n",
       "<table border=\"1\" class=\"dataframe\">\n",
       "  <thead>\n",
       "    <tr style=\"text-align: right;\">\n",
       "      <th></th>\n",
       "      <th>title</th>\n",
       "      <th>company</th>\n",
       "      <th>experience</th>\n",
       "      <th>location</th>\n",
       "    </tr>\n",
       "  </thead>\n",
       "  <tbody>\n",
       "    <tr>\n",
       "      <th>0</th>\n",
       "      <td>Data Scientist/Data Analyst-immediate</td>\n",
       "      <td>CAIA-Center For Artificial Intelligence &amp; Adva...</td>\n",
       "      <td>0-3 Yrs</td>\n",
       "      <td>Chennai, Pune, Bengaluru, Hyderabad</td>\n",
       "    </tr>\n",
       "    <tr>\n",
       "      <th>1</th>\n",
       "      <td>Immediate openings For MIS executive /Data ana...</td>\n",
       "      <td>RANDSTAD INDIA PVT LTD</td>\n",
       "      <td>3-8 Yrs</td>\n",
       "      <td>Bengaluru</td>\n",
       "    </tr>\n",
       "    <tr>\n",
       "      <th>2</th>\n",
       "      <td>Data Analyst</td>\n",
       "      <td>Applied Materials</td>\n",
       "      <td>6-11 Yrs</td>\n",
       "      <td>Bengaluru</td>\n",
       "    </tr>\n",
       "    <tr>\n",
       "      <th>3</th>\n",
       "      <td>Data Analyst</td>\n",
       "      <td>Cognizant Technology Solutions India Pvt Ltd</td>\n",
       "      <td>2-3 Yrs</td>\n",
       "      <td>Mumbai, Bengaluru, Hyderabad</td>\n",
       "    </tr>\n",
       "    <tr>\n",
       "      <th>4</th>\n",
       "      <td>Data Analyst</td>\n",
       "      <td>St. John’s Research Institute</td>\n",
       "      <td>0-4 Yrs</td>\n",
       "      <td>Bengaluru</td>\n",
       "    </tr>\n",
       "    <tr>\n",
       "      <th>5</th>\n",
       "      <td>Data Analyst</td>\n",
       "      <td>Siemens Limited</td>\n",
       "      <td>0-3 Yrs</td>\n",
       "      <td>Bengaluru</td>\n",
       "    </tr>\n",
       "    <tr>\n",
       "      <th>6</th>\n",
       "      <td>Procurement Data Analyst ( 0.6 To 3 Yrs, Banga...</td>\n",
       "      <td>Sunstream Global Technologies LLP</td>\n",
       "      <td>0-3 Yrs</td>\n",
       "      <td>Bengaluru(Koramangala)</td>\n",
       "    </tr>\n",
       "    <tr>\n",
       "      <th>7</th>\n",
       "      <td>ID&amp;A - Data Analyst - Informatica MDM</td>\n",
       "      <td>Shell India Markets Private Limited</td>\n",
       "      <td>6-9 Yrs</td>\n",
       "      <td>Bengaluru</td>\n",
       "    </tr>\n",
       "    <tr>\n",
       "      <th>8</th>\n",
       "      <td>Data Analyst</td>\n",
       "      <td>GlaxoSmithKline Pharmaceuticals Limited</td>\n",
       "      <td>2-7 Yrs</td>\n",
       "      <td>Bengaluru</td>\n",
       "    </tr>\n",
       "    <tr>\n",
       "      <th>9</th>\n",
       "      <td>Data Analyst</td>\n",
       "      <td>Cognizant Technology Solutions India Pvt Ltd</td>\n",
       "      <td>3-4 Yrs</td>\n",
       "      <td>Bengaluru, Kolkata</td>\n",
       "    </tr>\n",
       "  </tbody>\n",
       "</table>\n",
       "</div>"
      ],
      "text/plain": [
       "                                               title  \\\n",
       "0              Data Scientist/Data Analyst-immediate   \n",
       "1  Immediate openings For MIS executive /Data ana...   \n",
       "2                                       Data Analyst   \n",
       "3                                       Data Analyst   \n",
       "4                                       Data Analyst   \n",
       "5                                       Data Analyst   \n",
       "6  Procurement Data Analyst ( 0.6 To 3 Yrs, Banga...   \n",
       "7              ID&A - Data Analyst - Informatica MDM   \n",
       "8                                       Data Analyst   \n",
       "9                                       Data Analyst   \n",
       "\n",
       "                                             company experience  \\\n",
       "0  CAIA-Center For Artificial Intelligence & Adva...    0-3 Yrs   \n",
       "1                             RANDSTAD INDIA PVT LTD    3-8 Yrs   \n",
       "2                                  Applied Materials   6-11 Yrs   \n",
       "3       Cognizant Technology Solutions India Pvt Ltd    2-3 Yrs   \n",
       "4                      St. John’s Research Institute    0-4 Yrs   \n",
       "5                                    Siemens Limited    0-3 Yrs   \n",
       "6                  Sunstream Global Technologies LLP    0-3 Yrs   \n",
       "7                Shell India Markets Private Limited    6-9 Yrs   \n",
       "8            GlaxoSmithKline Pharmaceuticals Limited    2-7 Yrs   \n",
       "9       Cognizant Technology Solutions India Pvt Ltd    3-4 Yrs   \n",
       "\n",
       "                              location  \n",
       "0  Chennai, Pune, Bengaluru, Hyderabad  \n",
       "1                            Bengaluru  \n",
       "2                            Bengaluru  \n",
       "3         Mumbai, Bengaluru, Hyderabad  \n",
       "4                            Bengaluru  \n",
       "5                            Bengaluru  \n",
       "6               Bengaluru(Koramangala)  \n",
       "7                            Bengaluru  \n",
       "8                            Bengaluru  \n",
       "9                   Bengaluru, Kolkata  "
      ]
     },
     "execution_count": 19,
     "metadata": {},
     "output_type": "execute_result"
    }
   ],
   "source": [
    "jobs1"
   ]
  },
  {
   "cell_type": "code",
   "execution_count": 20,
   "metadata": {},
   "outputs": [
    {
     "data": {
      "text/plain": [
       "',title,company,experience,location\\r\\n0,Data Scientist/Data Analyst-immediate,CAIA-Center For Artificial Intelligence & Advanced Analytics,0-3 Yrs,\"Chennai, Pune, Bengaluru, Hyderabad\"\\r\\n1,Immediate openings For MIS executive /Data analyst For Bangalore,RANDSTAD INDIA PVT LTD,3-8 Yrs,Bengaluru\\r\\n2,Data Analyst,Applied Materials,6-11 Yrs,Bengaluru\\r\\n3,Data Analyst,Cognizant Technology Solutions India Pvt Ltd,2-3 Yrs,\"Mumbai, Bengaluru, Hyderabad\"\\r\\n4,Data Analyst,St. John’s Research Institute,0-4 Yrs,Bengaluru\\r\\n5,Data Analyst,Siemens Limited,0-3 Yrs,Bengaluru\\r\\n6,\"Procurement Data Analyst ( 0.6 To 3 Yrs, Bangalore)\",Sunstream Global Technologies LLP,0-3 Yrs,Bengaluru(Koramangala)\\r\\n7,ID&A - Data Analyst - Informatica MDM,Shell India Markets Private Limited,6-9 Yrs,Bengaluru\\r\\n8,Data Analyst,GlaxoSmithKline Pharmaceuticals Limited,2-7 Yrs,Bengaluru\\r\\n9,Data Analyst,Cognizant Technology Solutions India Pvt Ltd,3-4 Yrs,\"Bengaluru, Kolkata\"\\r\\n'"
      ]
     },
     "execution_count": 20,
     "metadata": {},
     "output_type": "execute_result"
    }
   ],
   "source": [
    "jobs1.to_csv()   # saving data to csv"
   ]
  },
  {
   "cell_type": "markdown",
   "metadata": {},
   "source": [
    "# Que--2"
   ]
  },
  {
   "cell_type": "code",
   "execution_count": 118,
   "metadata": {},
   "outputs": [],
   "source": [
    "#connecting to web driver\n",
    "driver = webdriver.Chrome(r\"E:\\FRT\\chromedriver.exe\")"
   ]
  },
  {
   "cell_type": "code",
   "execution_count": 119,
   "metadata": {},
   "outputs": [],
   "source": [
    "# specifying the url of the webpage to be scraped\n",
    "url = \"https://www.naukri.com/data-scientist-jobs-in-bangalore?k=data%20scientist&l=bangalore\""
   ]
  },
  {
   "cell_type": "code",
   "execution_count": 120,
   "metadata": {},
   "outputs": [],
   "source": [
    "# Lets open the web page through the web driver\n",
    "driver.get(url)"
   ]
  },
  {
   "cell_type": "code",
   "execution_count": 121,
   "metadata": {},
   "outputs": [],
   "source": [
    "# creating 4 empty lists to stored scraped data\n",
    "job_titles=[]\n",
    "company_names=[]\n",
    "experience=[]\n",
    "job_location=[]"
   ]
  },
  {
   "cell_type": "code",
   "execution_count": 122,
   "metadata": {},
   "outputs": [
    {
     "data": {
      "text/plain": [
       "[<selenium.webdriver.remote.webelement.WebElement (session=\"0b7702d7885e02de87cf8cdb09dd2216\", element=\"760529c0-ac9c-4b4e-8a35-79da60d792c1\")>,\n",
       " <selenium.webdriver.remote.webelement.WebElement (session=\"0b7702d7885e02de87cf8cdb09dd2216\", element=\"5ffa8e8b-2aca-44c6-94d9-92c78b362c87\")>,\n",
       " <selenium.webdriver.remote.webelement.WebElement (session=\"0b7702d7885e02de87cf8cdb09dd2216\", element=\"945b0ee0-8ca1-4db7-9bf7-eafd1d497704\")>,\n",
       " <selenium.webdriver.remote.webelement.WebElement (session=\"0b7702d7885e02de87cf8cdb09dd2216\", element=\"28f1ba53-f0e8-4914-a728-c87c77f006d3\")>,\n",
       " <selenium.webdriver.remote.webelement.WebElement (session=\"0b7702d7885e02de87cf8cdb09dd2216\", element=\"38b2a2f0-cd7d-4aaf-ab1d-031aba80e7ad\")>,\n",
       " <selenium.webdriver.remote.webelement.WebElement (session=\"0b7702d7885e02de87cf8cdb09dd2216\", element=\"87c23255-90c4-491b-92b7-e93efa67b557\")>,\n",
       " <selenium.webdriver.remote.webelement.WebElement (session=\"0b7702d7885e02de87cf8cdb09dd2216\", element=\"aba89387-7fdb-4a20-b84d-745bc1afc714\")>,\n",
       " <selenium.webdriver.remote.webelement.WebElement (session=\"0b7702d7885e02de87cf8cdb09dd2216\", element=\"ea30b711-6a7d-4bc5-9db7-aeb9e9d4ca4a\")>,\n",
       " <selenium.webdriver.remote.webelement.WebElement (session=\"0b7702d7885e02de87cf8cdb09dd2216\", element=\"060078ea-9050-4918-9cfb-2a050193cb00\")>,\n",
       " <selenium.webdriver.remote.webelement.WebElement (session=\"0b7702d7885e02de87cf8cdb09dd2216\", element=\"5fcd3bdf-119f-494c-a7cf-f6e2ee7a6d12\")>,\n",
       " <selenium.webdriver.remote.webelement.WebElement (session=\"0b7702d7885e02de87cf8cdb09dd2216\", element=\"f78e8703-c339-4c92-a413-2dc8a58af4da\")>,\n",
       " <selenium.webdriver.remote.webelement.WebElement (session=\"0b7702d7885e02de87cf8cdb09dd2216\", element=\"62ba5f07-7a24-4ef3-ab99-b0a8396115f6\")>,\n",
       " <selenium.webdriver.remote.webelement.WebElement (session=\"0b7702d7885e02de87cf8cdb09dd2216\", element=\"78e2ef3e-a6ae-4ca8-bdc5-7c4ebe7bf878\")>,\n",
       " <selenium.webdriver.remote.webelement.WebElement (session=\"0b7702d7885e02de87cf8cdb09dd2216\", element=\"e76b670b-eedb-4f5e-ae92-3b469761c92d\")>,\n",
       " <selenium.webdriver.remote.webelement.WebElement (session=\"0b7702d7885e02de87cf8cdb09dd2216\", element=\"d96c7c46-9a91-43f2-a32b-92c18a797e27\")>,\n",
       " <selenium.webdriver.remote.webelement.WebElement (session=\"0b7702d7885e02de87cf8cdb09dd2216\", element=\"59644ae3-168d-4473-8e9a-8d7a605234f3\")>,\n",
       " <selenium.webdriver.remote.webelement.WebElement (session=\"0b7702d7885e02de87cf8cdb09dd2216\", element=\"03d59cdc-4ec1-4748-b092-12bb4a3f8f01\")>,\n",
       " <selenium.webdriver.remote.webelement.WebElement (session=\"0b7702d7885e02de87cf8cdb09dd2216\", element=\"81dcea8c-e37e-46b0-b674-0bfc891bbe31\")>,\n",
       " <selenium.webdriver.remote.webelement.WebElement (session=\"0b7702d7885e02de87cf8cdb09dd2216\", element=\"c4d23c93-aec6-46e2-bbe1-b864dbca06b8\")>,\n",
       " <selenium.webdriver.remote.webelement.WebElement (session=\"0b7702d7885e02de87cf8cdb09dd2216\", element=\"6266035a-aa41-4951-9e1a-2adc30192703\")>]"
      ]
     },
     "execution_count": 122,
     "metadata": {},
     "output_type": "execute_result"
    }
   ],
   "source": [
    "# Lets extract all the tags having job titles\n",
    "job_tags=driver.find_elements_by_xpath(\"//a[@class='title fw500 ellipsis']\")\n",
    "job_tags"
   ]
  },
  {
   "cell_type": "code",
   "execution_count": 123,
   "metadata": {},
   "outputs": [
    {
     "data": {
      "text/plain": [
       "['Data Scientist/Data Analyst-immediate',\n",
       " 'HCL hiring Data scientist with exp in machine learning &SQL-Bangalore!',\n",
       " 'Data Scientist - Machine Learning',\n",
       " 'Senior Associate - Data Scientist/ML Engineer',\n",
       " 'Senior Data Scientist',\n",
       " 'Data Scientist - Machine Learning - Remote Working',\n",
       " 'Software Developer - Data Scientist / NLP / Machine Learning',\n",
       " 'Sr. Data Scientist',\n",
       " 'Data Scientist - Machine Learning',\n",
       " 'Data Scientist - Machine Learning']"
      ]
     },
     "execution_count": 123,
     "metadata": {},
     "output_type": "execute_result"
    }
   ],
   "source": [
    "# Exctracting the text from above exctracted tags using for loop\n",
    "for i in job_tags:\n",
    "        job_titles.append(i.text)\n",
    "job_titles[0:10]        "
   ]
  },
  {
   "cell_type": "code",
   "execution_count": 124,
   "metadata": {},
   "outputs": [
    {
     "data": {
      "text/plain": [
       "[<selenium.webdriver.remote.webelement.WebElement (session=\"0b7702d7885e02de87cf8cdb09dd2216\", element=\"fbe617e3-872e-47dc-b964-9957c5423998\")>,\n",
       " <selenium.webdriver.remote.webelement.WebElement (session=\"0b7702d7885e02de87cf8cdb09dd2216\", element=\"88b1d827-7d06-4642-9dce-b63a1a455f1f\")>,\n",
       " <selenium.webdriver.remote.webelement.WebElement (session=\"0b7702d7885e02de87cf8cdb09dd2216\", element=\"12cca548-61d3-42d9-8ec8-c35d866a47fe\")>,\n",
       " <selenium.webdriver.remote.webelement.WebElement (session=\"0b7702d7885e02de87cf8cdb09dd2216\", element=\"7f96854f-155f-42fa-a114-99e75d579e8e\")>,\n",
       " <selenium.webdriver.remote.webelement.WebElement (session=\"0b7702d7885e02de87cf8cdb09dd2216\", element=\"b5c590cf-7aee-4183-9381-469ad9c12c8c\")>,\n",
       " <selenium.webdriver.remote.webelement.WebElement (session=\"0b7702d7885e02de87cf8cdb09dd2216\", element=\"af0aafb7-559e-441b-9663-f1de554d4e39\")>,\n",
       " <selenium.webdriver.remote.webelement.WebElement (session=\"0b7702d7885e02de87cf8cdb09dd2216\", element=\"1a5bf7af-9424-429c-9ec6-5b3d0be94d90\")>,\n",
       " <selenium.webdriver.remote.webelement.WebElement (session=\"0b7702d7885e02de87cf8cdb09dd2216\", element=\"a6b2e7b6-dc18-412e-85cb-473e612dd1a4\")>,\n",
       " <selenium.webdriver.remote.webelement.WebElement (session=\"0b7702d7885e02de87cf8cdb09dd2216\", element=\"a1c736fb-569c-4868-b6e3-b0204dcd7b9d\")>,\n",
       " <selenium.webdriver.remote.webelement.WebElement (session=\"0b7702d7885e02de87cf8cdb09dd2216\", element=\"c610b704-2b7d-403a-b552-78878dbef2df\")>,\n",
       " <selenium.webdriver.remote.webelement.WebElement (session=\"0b7702d7885e02de87cf8cdb09dd2216\", element=\"4f0ddf48-8e0f-489f-a64d-08362fd3e7af\")>,\n",
       " <selenium.webdriver.remote.webelement.WebElement (session=\"0b7702d7885e02de87cf8cdb09dd2216\", element=\"e68d64db-cb14-4e13-a59f-0105b73ed83a\")>,\n",
       " <selenium.webdriver.remote.webelement.WebElement (session=\"0b7702d7885e02de87cf8cdb09dd2216\", element=\"2a707018-c70f-48fe-acc2-03f722ae2d96\")>,\n",
       " <selenium.webdriver.remote.webelement.WebElement (session=\"0b7702d7885e02de87cf8cdb09dd2216\", element=\"112ce820-0444-4bab-b505-a658ea8e0eaa\")>,\n",
       " <selenium.webdriver.remote.webelement.WebElement (session=\"0b7702d7885e02de87cf8cdb09dd2216\", element=\"426ebe59-1f53-46d7-ae78-6b14e9996a25\")>,\n",
       " <selenium.webdriver.remote.webelement.WebElement (session=\"0b7702d7885e02de87cf8cdb09dd2216\", element=\"679b78d2-e238-4df9-a3db-99245489c669\")>,\n",
       " <selenium.webdriver.remote.webelement.WebElement (session=\"0b7702d7885e02de87cf8cdb09dd2216\", element=\"f8f2765a-f906-4745-8372-c85df776864c\")>,\n",
       " <selenium.webdriver.remote.webelement.WebElement (session=\"0b7702d7885e02de87cf8cdb09dd2216\", element=\"ac6af4d0-a6a0-4191-9c6b-2f98738ee6e2\")>,\n",
       " <selenium.webdriver.remote.webelement.WebElement (session=\"0b7702d7885e02de87cf8cdb09dd2216\", element=\"f22cae74-8cd3-4569-b4e7-0a6b8ce551b4\")>,\n",
       " <selenium.webdriver.remote.webelement.WebElement (session=\"0b7702d7885e02de87cf8cdb09dd2216\", element=\"29f87b6c-9757-4eee-8757-d839872a595e\")>]"
      ]
     },
     "execution_count": 124,
     "metadata": {},
     "output_type": "execute_result"
    }
   ],
   "source": [
    "## Lets extract all the tags having company_names\n",
    "companies_tags=driver.find_elements_by_xpath(\"//a[@class='subTitle ellipsis fleft']\")\n",
    "companies_tags"
   ]
  },
  {
   "cell_type": "code",
   "execution_count": 125,
   "metadata": {},
   "outputs": [
    {
     "data": {
      "text/plain": [
       "['CAIA-Center For Artificial Intelligence & Advanced Analytics',\n",
       " 'HCL Technologies Limited',\n",
       " 'AugmatrixGo',\n",
       " 'Pricewaterhouse Coopers Private Limited',\n",
       " 'Philips India Limited',\n",
       " 'Doji Ltd',\n",
       " 'Cunesoft India Private Limited',\n",
       " 'NetApp',\n",
       " 'BLUE YONDER INDIA PRIVATE LIMITED',\n",
       " 'BLUE YONDER INDIA PRIVATE LIMITED']"
      ]
     },
     "execution_count": 125,
     "metadata": {},
     "output_type": "execute_result"
    }
   ],
   "source": [
    " # Exctracting the text from above exctracted tags using for loop\n",
    "for i in companies_tags:\n",
    "    company_names.append(i.text)\n",
    "company_names[0:10]        "
   ]
  },
  {
   "cell_type": "code",
   "execution_count": 126,
   "metadata": {},
   "outputs": [
    {
     "data": {
      "text/plain": [
       "[<selenium.webdriver.remote.webelement.WebElement (session=\"0b7702d7885e02de87cf8cdb09dd2216\", element=\"1ed47956-31c9-457b-8b3f-ff0dc3c6d1b0\")>,\n",
       " <selenium.webdriver.remote.webelement.WebElement (session=\"0b7702d7885e02de87cf8cdb09dd2216\", element=\"3f652d5f-23a0-44d1-a5b4-7977745cafa0\")>,\n",
       " <selenium.webdriver.remote.webelement.WebElement (session=\"0b7702d7885e02de87cf8cdb09dd2216\", element=\"32999a72-f17a-4e43-b325-3e91dc61cc16\")>,\n",
       " <selenium.webdriver.remote.webelement.WebElement (session=\"0b7702d7885e02de87cf8cdb09dd2216\", element=\"29038b19-0440-440c-bf37-3337954c4bf6\")>,\n",
       " <selenium.webdriver.remote.webelement.WebElement (session=\"0b7702d7885e02de87cf8cdb09dd2216\", element=\"7f3aaa8d-4214-4f47-9317-c6fc91e0b400\")>,\n",
       " <selenium.webdriver.remote.webelement.WebElement (session=\"0b7702d7885e02de87cf8cdb09dd2216\", element=\"608cff7c-0fce-4cef-a22f-2f450074a55f\")>,\n",
       " <selenium.webdriver.remote.webelement.WebElement (session=\"0b7702d7885e02de87cf8cdb09dd2216\", element=\"9e1501fb-f0ab-4ff0-ab6c-5c4f0a59c98f\")>,\n",
       " <selenium.webdriver.remote.webelement.WebElement (session=\"0b7702d7885e02de87cf8cdb09dd2216\", element=\"d061e0cb-23b9-435b-9c40-3fe991b8df4b\")>,\n",
       " <selenium.webdriver.remote.webelement.WebElement (session=\"0b7702d7885e02de87cf8cdb09dd2216\", element=\"717e6263-60cd-469a-9e51-b1615e8028d7\")>,\n",
       " <selenium.webdriver.remote.webelement.WebElement (session=\"0b7702d7885e02de87cf8cdb09dd2216\", element=\"f52ded7c-8c59-490b-a3f9-8238d94cb7e2\")>,\n",
       " <selenium.webdriver.remote.webelement.WebElement (session=\"0b7702d7885e02de87cf8cdb09dd2216\", element=\"4742927b-911f-4817-afd6-c2bb45153df9\")>,\n",
       " <selenium.webdriver.remote.webelement.WebElement (session=\"0b7702d7885e02de87cf8cdb09dd2216\", element=\"1105df45-e086-4ff6-95c5-3d441bbeac21\")>,\n",
       " <selenium.webdriver.remote.webelement.WebElement (session=\"0b7702d7885e02de87cf8cdb09dd2216\", element=\"ec06649b-6aa4-4740-9f00-184906ddb156\")>,\n",
       " <selenium.webdriver.remote.webelement.WebElement (session=\"0b7702d7885e02de87cf8cdb09dd2216\", element=\"810d31c8-e622-4a35-bdd9-64b9c48aab2d\")>,\n",
       " <selenium.webdriver.remote.webelement.WebElement (session=\"0b7702d7885e02de87cf8cdb09dd2216\", element=\"cbf33047-d3ed-464b-bb99-013bdbaee086\")>,\n",
       " <selenium.webdriver.remote.webelement.WebElement (session=\"0b7702d7885e02de87cf8cdb09dd2216\", element=\"b99d8aa3-22fc-48b0-9c30-9a6aef66c536\")>,\n",
       " <selenium.webdriver.remote.webelement.WebElement (session=\"0b7702d7885e02de87cf8cdb09dd2216\", element=\"4b765ae7-a681-4d31-b123-b31ca5490d7d\")>,\n",
       " <selenium.webdriver.remote.webelement.WebElement (session=\"0b7702d7885e02de87cf8cdb09dd2216\", element=\"a6f1f8e8-ed75-4b38-895c-ce32ab01187e\")>,\n",
       " <selenium.webdriver.remote.webelement.WebElement (session=\"0b7702d7885e02de87cf8cdb09dd2216\", element=\"98a65113-c983-4c67-8012-1c4ba7a7b3c0\")>,\n",
       " <selenium.webdriver.remote.webelement.WebElement (session=\"0b7702d7885e02de87cf8cdb09dd2216\", element=\"498b696b-9a0b-4b23-bd18-b46d559be9d3\")>]"
      ]
     },
     "execution_count": 126,
     "metadata": {},
     "output_type": "execute_result"
    }
   ],
   "source": [
    "## Lets extract all the tags having experience_tags\n",
    "experience_tags=driver.find_elements_by_xpath(\"//li[@class='fleft grey-text br2 placeHolderLi experience']/span[1]\")\n",
    "experience_tags"
   ]
  },
  {
   "cell_type": "code",
   "execution_count": 127,
   "metadata": {},
   "outputs": [
    {
     "data": {
      "text/plain": [
       "['0-3 Yrs',\n",
       " '5-10 Yrs',\n",
       " '2-5 Yrs',\n",
       " '3-8 Yrs',\n",
       " '8-12 Yrs',\n",
       " '2-5 Yrs',\n",
       " '3-6 Yrs',\n",
       " '10-15 Yrs',\n",
       " '5-8 Yrs',\n",
       " '3-5 Yrs']"
      ]
     },
     "execution_count": 127,
     "metadata": {},
     "output_type": "execute_result"
    }
   ],
   "source": [
    "# Exctracting the text from above exctracted tags using for loop\n",
    "for i in experience_tags:\n",
    "        experience.append(i.text)\n",
    "experience[0:10]        "
   ]
  },
  {
   "cell_type": "code",
   "execution_count": 128,
   "metadata": {},
   "outputs": [
    {
     "data": {
      "text/plain": [
       "[<selenium.webdriver.remote.webelement.WebElement (session=\"0b7702d7885e02de87cf8cdb09dd2216\", element=\"f8d219d9-fa0c-40ea-96ef-07b244750895\")>,\n",
       " <selenium.webdriver.remote.webelement.WebElement (session=\"0b7702d7885e02de87cf8cdb09dd2216\", element=\"2a003ff4-dea5-49eb-8245-d578a887b745\")>,\n",
       " <selenium.webdriver.remote.webelement.WebElement (session=\"0b7702d7885e02de87cf8cdb09dd2216\", element=\"bbbf6832-02e6-4504-8f5a-90bf49ac7355\")>,\n",
       " <selenium.webdriver.remote.webelement.WebElement (session=\"0b7702d7885e02de87cf8cdb09dd2216\", element=\"78c699d8-9f8d-4566-a58e-bd4777640f08\")>,\n",
       " <selenium.webdriver.remote.webelement.WebElement (session=\"0b7702d7885e02de87cf8cdb09dd2216\", element=\"91f207fb-1189-4caf-a8cc-c3df3f473f6e\")>,\n",
       " <selenium.webdriver.remote.webelement.WebElement (session=\"0b7702d7885e02de87cf8cdb09dd2216\", element=\"1c5c16df-2722-45cb-851b-4bd2873e92eb\")>,\n",
       " <selenium.webdriver.remote.webelement.WebElement (session=\"0b7702d7885e02de87cf8cdb09dd2216\", element=\"3441868b-4c86-4b60-b4b0-bfd841cbf978\")>,\n",
       " <selenium.webdriver.remote.webelement.WebElement (session=\"0b7702d7885e02de87cf8cdb09dd2216\", element=\"a3205a37-d78a-4cdb-a150-415948a2cfe3\")>,\n",
       " <selenium.webdriver.remote.webelement.WebElement (session=\"0b7702d7885e02de87cf8cdb09dd2216\", element=\"0e0d7458-fe19-4cfc-ba3c-39880c98e0e9\")>,\n",
       " <selenium.webdriver.remote.webelement.WebElement (session=\"0b7702d7885e02de87cf8cdb09dd2216\", element=\"cc17088b-f935-4d61-9797-c1f6d75e18e9\")>,\n",
       " <selenium.webdriver.remote.webelement.WebElement (session=\"0b7702d7885e02de87cf8cdb09dd2216\", element=\"5defaadd-19ee-4505-84ed-211467ee13d2\")>,\n",
       " <selenium.webdriver.remote.webelement.WebElement (session=\"0b7702d7885e02de87cf8cdb09dd2216\", element=\"c9664127-c65d-49be-bbba-e668c9ac3f7e\")>,\n",
       " <selenium.webdriver.remote.webelement.WebElement (session=\"0b7702d7885e02de87cf8cdb09dd2216\", element=\"5a52a6ed-d63d-4650-ae07-5b347341dfc3\")>,\n",
       " <selenium.webdriver.remote.webelement.WebElement (session=\"0b7702d7885e02de87cf8cdb09dd2216\", element=\"d4cd06be-baa1-4c60-8688-e4c77d92b8ef\")>,\n",
       " <selenium.webdriver.remote.webelement.WebElement (session=\"0b7702d7885e02de87cf8cdb09dd2216\", element=\"2ae23b22-83fe-4adc-a9b0-9f9beaf7c225\")>,\n",
       " <selenium.webdriver.remote.webelement.WebElement (session=\"0b7702d7885e02de87cf8cdb09dd2216\", element=\"c6c01994-c6ed-4343-90c1-74c72e32697b\")>,\n",
       " <selenium.webdriver.remote.webelement.WebElement (session=\"0b7702d7885e02de87cf8cdb09dd2216\", element=\"c9879bd4-48cd-4582-ae5d-53d29bb4096c\")>,\n",
       " <selenium.webdriver.remote.webelement.WebElement (session=\"0b7702d7885e02de87cf8cdb09dd2216\", element=\"44a5f007-e06f-4457-8322-1b434aeb6f7f\")>,\n",
       " <selenium.webdriver.remote.webelement.WebElement (session=\"0b7702d7885e02de87cf8cdb09dd2216\", element=\"91a5754a-104f-4b9b-a22b-7fa01f436f0c\")>,\n",
       " <selenium.webdriver.remote.webelement.WebElement (session=\"0b7702d7885e02de87cf8cdb09dd2216\", element=\"11dcd4dc-10e8-45b6-accb-f1b51ddae775\")>]"
      ]
     },
     "execution_count": 128,
     "metadata": {},
     "output_type": "execute_result"
    }
   ],
   "source": [
    "## Lets extract all the tags having job location tags\n",
    "job_location_tags=driver.find_elements_by_xpath(\"//li[@class='fleft grey-text br2 placeHolderLi location']/span[1]\")\n",
    "job_location_tags"
   ]
  },
  {
   "cell_type": "code",
   "execution_count": 129,
   "metadata": {},
   "outputs": [
    {
     "data": {
      "text/plain": [
       "['Chennai, Pune, Bengaluru, Hyderabad',\n",
       " 'Bengaluru',\n",
       " 'Bengaluru',\n",
       " 'Bengaluru',\n",
       " 'Bengaluru',\n",
       " 'Delhi NCR, Bengaluru, Anywhere in India',\n",
       " 'Bengaluru / Bangalore',\n",
       " 'Bengaluru',\n",
       " 'Bengaluru',\n",
       " 'Bengaluru']"
      ]
     },
     "execution_count": 129,
     "metadata": {},
     "output_type": "execute_result"
    }
   ],
   "source": [
    "# Exctracting the text from above exctracted tags using for loop\n",
    "for i in job_location_tags:\n",
    "        job_location.append(i.text)\n",
    "job_location[0:10]       "
   ]
  },
  {
   "cell_type": "code",
   "execution_count": 130,
   "metadata": {},
   "outputs": [
    {
     "name": "stdout",
     "output_type": "stream",
     "text": [
      "20 20 20 20\n"
     ]
    }
   ],
   "source": [
    "# Checking length of lists\n",
    "print(len(job_titles),len(company_names),len(experience),len(job_location))"
   ]
  },
  {
   "cell_type": "code",
   "execution_count": 131,
   "metadata": {},
   "outputs": [],
   "source": [
    "import pandas as pd\n",
    "jobs=pd.DataFrame({})\n",
    "jobs['title']=job_titles[0:10]\n",
    "jobs['company']=company_names[0:10]\n",
    "jobs['experience']=experience[0:10]\n",
    "jobs['location']=job_location[0:10]"
   ]
  },
  {
   "cell_type": "code",
   "execution_count": 132,
   "metadata": {},
   "outputs": [
    {
     "data": {
      "text/html": [
       "<div>\n",
       "<style scoped>\n",
       "    .dataframe tbody tr th:only-of-type {\n",
       "        vertical-align: middle;\n",
       "    }\n",
       "\n",
       "    .dataframe tbody tr th {\n",
       "        vertical-align: top;\n",
       "    }\n",
       "\n",
       "    .dataframe thead th {\n",
       "        text-align: right;\n",
       "    }\n",
       "</style>\n",
       "<table border=\"1\" class=\"dataframe\">\n",
       "  <thead>\n",
       "    <tr style=\"text-align: right;\">\n",
       "      <th></th>\n",
       "      <th>title</th>\n",
       "      <th>company</th>\n",
       "      <th>experience</th>\n",
       "      <th>location</th>\n",
       "    </tr>\n",
       "  </thead>\n",
       "  <tbody>\n",
       "    <tr>\n",
       "      <th>0</th>\n",
       "      <td>Data Scientist/Data Analyst-immediate</td>\n",
       "      <td>CAIA-Center For Artificial Intelligence &amp; Adva...</td>\n",
       "      <td>0-3 Yrs</td>\n",
       "      <td>Chennai, Pune, Bengaluru, Hyderabad</td>\n",
       "    </tr>\n",
       "    <tr>\n",
       "      <th>1</th>\n",
       "      <td>HCL hiring Data scientist with exp in machine ...</td>\n",
       "      <td>HCL Technologies Limited</td>\n",
       "      <td>5-10 Yrs</td>\n",
       "      <td>Bengaluru</td>\n",
       "    </tr>\n",
       "    <tr>\n",
       "      <th>2</th>\n",
       "      <td>Data Scientist - Machine Learning</td>\n",
       "      <td>AugmatrixGo</td>\n",
       "      <td>2-5 Yrs</td>\n",
       "      <td>Bengaluru</td>\n",
       "    </tr>\n",
       "    <tr>\n",
       "      <th>3</th>\n",
       "      <td>Senior Associate - Data Scientist/ML Engineer</td>\n",
       "      <td>Pricewaterhouse Coopers Private Limited</td>\n",
       "      <td>3-8 Yrs</td>\n",
       "      <td>Bengaluru</td>\n",
       "    </tr>\n",
       "    <tr>\n",
       "      <th>4</th>\n",
       "      <td>Senior Data Scientist</td>\n",
       "      <td>Philips India Limited</td>\n",
       "      <td>8-12 Yrs</td>\n",
       "      <td>Bengaluru</td>\n",
       "    </tr>\n",
       "    <tr>\n",
       "      <th>5</th>\n",
       "      <td>Data Scientist - Machine Learning - Remote Wor...</td>\n",
       "      <td>Doji Ltd</td>\n",
       "      <td>2-5 Yrs</td>\n",
       "      <td>Delhi NCR, Bengaluru, Anywhere in India</td>\n",
       "    </tr>\n",
       "    <tr>\n",
       "      <th>6</th>\n",
       "      <td>Software Developer - Data Scientist / NLP / Ma...</td>\n",
       "      <td>Cunesoft India Private Limited</td>\n",
       "      <td>3-6 Yrs</td>\n",
       "      <td>Bengaluru / Bangalore</td>\n",
       "    </tr>\n",
       "    <tr>\n",
       "      <th>7</th>\n",
       "      <td>Sr. Data Scientist</td>\n",
       "      <td>NetApp</td>\n",
       "      <td>10-15 Yrs</td>\n",
       "      <td>Bengaluru</td>\n",
       "    </tr>\n",
       "    <tr>\n",
       "      <th>8</th>\n",
       "      <td>Data Scientist - Machine Learning</td>\n",
       "      <td>BLUE YONDER INDIA PRIVATE LIMITED</td>\n",
       "      <td>5-8 Yrs</td>\n",
       "      <td>Bengaluru</td>\n",
       "    </tr>\n",
       "    <tr>\n",
       "      <th>9</th>\n",
       "      <td>Data Scientist - Machine Learning</td>\n",
       "      <td>BLUE YONDER INDIA PRIVATE LIMITED</td>\n",
       "      <td>3-5 Yrs</td>\n",
       "      <td>Bengaluru</td>\n",
       "    </tr>\n",
       "  </tbody>\n",
       "</table>\n",
       "</div>"
      ],
      "text/plain": [
       "                                               title  \\\n",
       "0              Data Scientist/Data Analyst-immediate   \n",
       "1  HCL hiring Data scientist with exp in machine ...   \n",
       "2                  Data Scientist - Machine Learning   \n",
       "3      Senior Associate - Data Scientist/ML Engineer   \n",
       "4                              Senior Data Scientist   \n",
       "5  Data Scientist - Machine Learning - Remote Wor...   \n",
       "6  Software Developer - Data Scientist / NLP / Ma...   \n",
       "7                                 Sr. Data Scientist   \n",
       "8                  Data Scientist - Machine Learning   \n",
       "9                  Data Scientist - Machine Learning   \n",
       "\n",
       "                                             company experience  \\\n",
       "0  CAIA-Center For Artificial Intelligence & Adva...    0-3 Yrs   \n",
       "1                           HCL Technologies Limited   5-10 Yrs   \n",
       "2                                        AugmatrixGo    2-5 Yrs   \n",
       "3            Pricewaterhouse Coopers Private Limited    3-8 Yrs   \n",
       "4                              Philips India Limited   8-12 Yrs   \n",
       "5                                           Doji Ltd    2-5 Yrs   \n",
       "6                     Cunesoft India Private Limited    3-6 Yrs   \n",
       "7                                             NetApp  10-15 Yrs   \n",
       "8                  BLUE YONDER INDIA PRIVATE LIMITED    5-8 Yrs   \n",
       "9                  BLUE YONDER INDIA PRIVATE LIMITED    3-5 Yrs   \n",
       "\n",
       "                                  location  \n",
       "0      Chennai, Pune, Bengaluru, Hyderabad  \n",
       "1                                Bengaluru  \n",
       "2                                Bengaluru  \n",
       "3                                Bengaluru  \n",
       "4                                Bengaluru  \n",
       "5  Delhi NCR, Bengaluru, Anywhere in India  \n",
       "6                    Bengaluru / Bangalore  \n",
       "7                                Bengaluru  \n",
       "8                                Bengaluru  \n",
       "9                                Bengaluru  "
      ]
     },
     "execution_count": 132,
     "metadata": {},
     "output_type": "execute_result"
    }
   ],
   "source": [
    "jobs"
   ]
  },
  {
   "cell_type": "code",
   "execution_count": 133,
   "metadata": {},
   "outputs": [
    {
     "data": {
      "text/plain": [
       "',title,company,experience,location\\r\\n0,Data Scientist/Data Analyst-immediate,CAIA-Center For Artificial Intelligence & Advanced Analytics,0-3 Yrs,\"Chennai, Pune, Bengaluru, Hyderabad\"\\r\\n1,HCL hiring Data scientist with exp in machine learning &SQL-Bangalore!,HCL Technologies Limited,5-10 Yrs,Bengaluru\\r\\n2,Data Scientist - Machine Learning,AugmatrixGo,2-5 Yrs,Bengaluru\\r\\n3,Senior Associate - Data Scientist/ML Engineer,Pricewaterhouse Coopers Private Limited,3-8 Yrs,Bengaluru\\r\\n4,Senior Data Scientist,Philips India Limited,8-12 Yrs,Bengaluru\\r\\n5,Data Scientist - Machine Learning - Remote Working,Doji Ltd,2-5 Yrs,\"Delhi NCR, Bengaluru, Anywhere in India\"\\r\\n6,Software Developer - Data Scientist / NLP / Machine Learning,Cunesoft India Private Limited,3-6 Yrs,Bengaluru / Bangalore\\r\\n7,Sr. Data Scientist,NetApp,10-15 Yrs,Bengaluru\\r\\n8,Data Scientist - Machine Learning,BLUE YONDER INDIA PRIVATE LIMITED,5-8 Yrs,Bengaluru\\r\\n9,Data Scientist - Machine Learning,BLUE YONDER INDIA PRIVATE LIMITED,3-5 Yrs,Bengaluru\\r\\n'"
      ]
     },
     "execution_count": 133,
     "metadata": {},
     "output_type": "execute_result"
    }
   ],
   "source": [
    "jobs.to_csv()      # Saving data to csv"
   ]
  },
  {
   "cell_type": "markdown",
   "metadata": {},
   "source": [
    "# 2--(ii)"
   ]
  },
  {
   "cell_type": "code",
   "execution_count": 134,
   "metadata": {},
   "outputs": [],
   "source": [
    "#connecting to web driver\n",
    "driver = webdriver.Chrome(r\"E:\\FRT\\chromedriver.exe\")"
   ]
  },
  {
   "cell_type": "code",
   "execution_count": 135,
   "metadata": {},
   "outputs": [],
   "source": [
    "\n",
    "url=\"https://www.naukri.com/job-listings-data-scientist-machine-learning-augmatrixgo-bengaluru-bangalore-2-to-5-years-140121905423?src=jobsearchDesk&sid=1611048663663373&xp=2&px=1\"\n",
    "url1=\"https://www.naukri.com/job-listings-data-scientist-machine-learning-blue-yonder-india-private-limited-bengaluru-bangalore-5-to-8-years-130121902169?src=jobsearchDesk&sid=1611048663663373&xp=3&px=1\"\n",
    "url2=\"https://www.naukri.com/job-listings-data-scientist-machine-learning-blue-yonder-india-private-limited-bengaluru-bangalore-3-to-5-years-130121902167?src=jobsearchDesk&sid=1611048663663373&xp=4&px=1\"\n",
    "url3=\"https://www.naukri.com/job-listings-senior-associate-data-scientist-ml-engineer-pricewaterhouse-coopers-private-limited-bengaluru-bangalore-3-to-8-years-080121501399?src=jobsearchDesk&sid=1611048663663373&xp=5&px=1\"\n",
    "url4=\"https://www.naukri.com/job-listings-senior-data-scientist-philips-india-limited-bengaluru-bangalore-8-to-12-years-110121501358?src=jobsearchDesk&sid=1611048663663373&xp=6&px=1\"\n",
    "url5=\"https://www.naukri.com/job-listings-data-scientist-machine-learning-remote-working-doji-ltd-delhi-ncr-bengaluru-bangalore-anywhere-in-india-2-to-5-years-171220006270?src=jobsearchDesk&sid=1611048663663373&xp=7&px=1\"\n",
    "url6=\"https://www.naukri.com/job-listings-hcl-hiring-data-scientist-with-exp-in-machine-learning-sql-bangalore-hcl-technologies-limited-bengaluru-bangalore-5-to-10-years-190121001223?src=jobsearchDesk&sid=1611048663663373&xp=8&px=1\"\n",
    "url7=\"https://www.naukri.com/job-listings-senior-data-scientist-fractal-analytics-ltd-bengaluru-bangalore-4-to-8-years-040121501287?src=jobsearchDesk&sid=1611048663663373&xp=9&px=1\"\n",
    "url8=\"https://www.naukri.com/job-listings-software-developer-data-scientist-nlp-machine-learning-cunesoft-india-private-limited-bengaluru-bangalore-3-to-6-years-190121001281?src=jobsearchDesk&sid=1611048663663373&xp=10&px=1\"\n",
    "url9=\"https://www.naukri.com/job-listings-software-developer-data-scientist-nlp-machine-learning-cunesoft-india-private-limited-bengaluru-bangalore-3-to-6-years-190121001281?src=jobsearchDesk&sid=1611048663663373&xp=10&px=1\""
   ]
  },
  {
   "cell_type": "code",
   "execution_count": 136,
   "metadata": {},
   "outputs": [],
   "source": [
    "# Lets open the web page through the web driver\n",
    "driver.get(url)"
   ]
  },
  {
   "cell_type": "code",
   "execution_count": 137,
   "metadata": {},
   "outputs": [],
   "source": [
    "job_description=[]"
   ]
  },
  {
   "cell_type": "code",
   "execution_count": 138,
   "metadata": {},
   "outputs": [
    {
     "data": {
      "text/plain": [
       "[<selenium.webdriver.remote.webelement.WebElement (session=\"7df04642384dbed4b3a51b134e8b1dc6\", element=\"3d9d29bb-4835-46fb-8c4d-4ab1fdb16d72\")>]"
      ]
     },
     "execution_count": 138,
     "metadata": {},
     "output_type": "execute_result"
    }
   ],
   "source": [
    "# Lets extract all the tags having job titles\n",
    "job_desp_tags=driver.find_elements_by_xpath(\"//div[@class='dang-inner-html']\")\n",
    "job_desp_tags"
   ]
  },
  {
   "cell_type": "code",
   "execution_count": 139,
   "metadata": {},
   "outputs": [
    {
     "data": {
      "text/plain": [
       "['Roles and Responsibilities\\n\\n\\n- Selecting features, building and optimizing classifiers using machine learning techniques\\n\\n- Data mining using state-of-the-art methods\\n\\n- Enhancing data collection procedures to include information that is relevant for building analytic systems\\n\\n- Processing, cleansing, and verifying the integrity of data used for analysis\\n\\n- Doing ad-hoc analysis and presenting results in a clear manner\\n\\n- Creating automated anomaly detection systems and constant tracking of its performance\\n\\nSkills Required :\\n\\n- Excellent understanding of machine learning techniques and algorithms, such as k-NN, Naive Bayes, SVM, Decision Forests, etc.\\n\\n- Experiences with one or more of the following is highly desirable: HPC/Parallelization, operationalizing ML models; cloud computing (e.g. Google Cloud, AWS, etc.); familiarity with ML frameworks such as Tensorflow, Theano, MXNet, etc\\n\\n- Good experience in a few of the following areas: deep neural networks, reinforcement learning, Markov Random Fields, Bayesian networks, semi-supervised learning, computer vision, image processing, signal processing, distributed computing, and/or numerical optimization\\n\\n- 2+ years of experience with computer vision and deep learning solutions, including image classification, object detection, segmentation, and equivalent computer vision-based vision tasks\\n\\n- Experience with common data science toolkits, such as R, Weka, NumPy, etc . Excellence in at least one of these is highly desirable\\n\\n- Proficiency in using query languages such as SQL, Hive, Pig\\n\\n- Good applied statistics skills, such as distributions, statistical testing, regression, etc.\\n\\n- Good scripting and programming skills\\n\\n- Data-oriented personality\\n\\n- B.Tech/M.Tech degree in from reputed institutes like IIT / NIT / BITS']"
      ]
     },
     "execution_count": 139,
     "metadata": {},
     "output_type": "execute_result"
    }
   ],
   "source": [
    "# creating 4 empty lists to stored scraped data\n",
    "for i in job_desp_tags:\n",
    "    job_description.append(i.text)\n",
    "    \n",
    "job_description    "
   ]
  },
  {
   "cell_type": "code",
   "execution_count": 140,
   "metadata": {},
   "outputs": [],
   "source": [
    "driver = webdriver.Chrome(r\"E:\\FRT\\chromedriver.exe\")"
   ]
  },
  {
   "cell_type": "code",
   "execution_count": 141,
   "metadata": {},
   "outputs": [],
   "source": [
    "# specifying the url of the webpage to be scraped\n",
    "url1=\"https://www.naukri.com/job-listings-data-scientist-machine-learning-blue-yonder-india-private-limited-bengaluru-bangalore-5-to-8-years-130121902169?src=jobsearchDesk&sid=1611048663663373&xp=3&px=1\""
   ]
  },
  {
   "cell_type": "code",
   "execution_count": 142,
   "metadata": {},
   "outputs": [],
   "source": [
    "# Lets open the web page through the web driver\n",
    "driver.get(url1)"
   ]
  },
  {
   "cell_type": "code",
   "execution_count": 143,
   "metadata": {},
   "outputs": [
    {
     "data": {
      "text/plain": [
       "[<selenium.webdriver.remote.webelement.WebElement (session=\"03e53b2dac379880d6d903b13d8319f0\", element=\"5633120f-d5ab-4889-a342-49a92222f54f\")>]"
      ]
     },
     "execution_count": 143,
     "metadata": {},
     "output_type": "execute_result"
    }
   ],
   "source": [
    "# Lets extract all the tags having job description\n",
    "job_desp_tags=driver.find_elements_by_xpath(\"//div[@class='clearboth description']\")\n",
    "job_desp_tags"
   ]
  },
  {
   "cell_type": "code",
   "execution_count": 144,
   "metadata": {},
   "outputs": [
    {
     "data": {
      "text/plain": [
       "['Roles and Responsibilities\\n\\n\\n- Selecting features, building and optimizing classifiers using machine learning techniques\\n\\n- Data mining using state-of-the-art methods\\n\\n- Enhancing data collection procedures to include information that is relevant for building analytic systems\\n\\n- Processing, cleansing, and verifying the integrity of data used for analysis\\n\\n- Doing ad-hoc analysis and presenting results in a clear manner\\n\\n- Creating automated anomaly detection systems and constant tracking of its performance\\n\\nSkills Required :\\n\\n- Excellent understanding of machine learning techniques and algorithms, such as k-NN, Naive Bayes, SVM, Decision Forests, etc.\\n\\n- Experiences with one or more of the following is highly desirable: HPC/Parallelization, operationalizing ML models; cloud computing (e.g. Google Cloud, AWS, etc.); familiarity with ML frameworks such as Tensorflow, Theano, MXNet, etc\\n\\n- Good experience in a few of the following areas: deep neural networks, reinforcement learning, Markov Random Fields, Bayesian networks, semi-supervised learning, computer vision, image processing, signal processing, distributed computing, and/or numerical optimization\\n\\n- 2+ years of experience with computer vision and deep learning solutions, including image classification, object detection, segmentation, and equivalent computer vision-based vision tasks\\n\\n- Experience with common data science toolkits, such as R, Weka, NumPy, etc . Excellence in at least one of these is highly desirable\\n\\n- Proficiency in using query languages such as SQL, Hive, Pig\\n\\n- Good applied statistics skills, such as distributions, statistical testing, regression, etc.\\n\\n- Good scripting and programming skills\\n\\n- Data-oriented personality\\n\\n- B.Tech/M.Tech degree in from reputed institutes like IIT / NIT / BITS',\n",
       " 'Roles and Responsibilities\\nUnder guidance, or independently, design and implement machine learning models by\\nProcuring data from platform, client and public data sources\\nImplementing data enrichment and cleansing routines\\nImplementing features, preparing modeling data sets, feature selection, etc.\\nEvaluating candidate models, selecting and reporting on test performance of final one\\nEnsuring proper runtime deployment of models, and\\nImplementing runtime monitoring of model inputs and performance in order to ensure continued model stability\\nWork with product, sales and engineering teams helping shape up the final solution\\nUse data to understand patterns, come up with and test hypothesis; iterate\\nHelp prepare sales materials, estimate hardware requirements, etc.']"
      ]
     },
     "execution_count": 144,
     "metadata": {},
     "output_type": "execute_result"
    }
   ],
   "source": [
    "for i in job_desp_tags:\n",
    "    job_description.append(i.text)\n",
    "    \n",
    "job_description    "
   ]
  },
  {
   "cell_type": "code",
   "execution_count": 145,
   "metadata": {},
   "outputs": [],
   "source": [
    "#connecting to web driver\n",
    "driver = webdriver.Chrome(r\"E:\\FRT\\chromedriver.exe\")"
   ]
  },
  {
   "cell_type": "code",
   "execution_count": 146,
   "metadata": {},
   "outputs": [],
   "source": [
    "# Lets open the web page through the web driver\n",
    "driver.get(url2)"
   ]
  },
  {
   "cell_type": "code",
   "execution_count": 147,
   "metadata": {},
   "outputs": [
    {
     "data": {
      "text/plain": [
       "[<selenium.webdriver.remote.webelement.WebElement (session=\"3cd100aa0d96bae762cb1342f46d9bed\", element=\"e4003f55-5033-48a5-af81-f2eddc5bb430\")>]"
      ]
     },
     "execution_count": 147,
     "metadata": {},
     "output_type": "execute_result"
    }
   ],
   "source": [
    "# Lets extract all the tags having job description\n",
    "job_desp_tags=driver.find_elements_by_xpath(\"//div[@class='clearboth description']\")\n",
    "job_desp_tags"
   ]
  },
  {
   "cell_type": "code",
   "execution_count": 148,
   "metadata": {},
   "outputs": [
    {
     "data": {
      "text/plain": [
       "['Roles and Responsibilities\\n\\n\\n- Selecting features, building and optimizing classifiers using machine learning techniques\\n\\n- Data mining using state-of-the-art methods\\n\\n- Enhancing data collection procedures to include information that is relevant for building analytic systems\\n\\n- Processing, cleansing, and verifying the integrity of data used for analysis\\n\\n- Doing ad-hoc analysis and presenting results in a clear manner\\n\\n- Creating automated anomaly detection systems and constant tracking of its performance\\n\\nSkills Required :\\n\\n- Excellent understanding of machine learning techniques and algorithms, such as k-NN, Naive Bayes, SVM, Decision Forests, etc.\\n\\n- Experiences with one or more of the following is highly desirable: HPC/Parallelization, operationalizing ML models; cloud computing (e.g. Google Cloud, AWS, etc.); familiarity with ML frameworks such as Tensorflow, Theano, MXNet, etc\\n\\n- Good experience in a few of the following areas: deep neural networks, reinforcement learning, Markov Random Fields, Bayesian networks, semi-supervised learning, computer vision, image processing, signal processing, distributed computing, and/or numerical optimization\\n\\n- 2+ years of experience with computer vision and deep learning solutions, including image classification, object detection, segmentation, and equivalent computer vision-based vision tasks\\n\\n- Experience with common data science toolkits, such as R, Weka, NumPy, etc . Excellence in at least one of these is highly desirable\\n\\n- Proficiency in using query languages such as SQL, Hive, Pig\\n\\n- Good applied statistics skills, such as distributions, statistical testing, regression, etc.\\n\\n- Good scripting and programming skills\\n\\n- Data-oriented personality\\n\\n- B.Tech/M.Tech degree in from reputed institutes like IIT / NIT / BITS',\n",
       " 'Roles and Responsibilities\\nUnder guidance, or independently, design and implement machine learning models by\\nProcuring data from platform, client and public data sources\\nImplementing data enrichment and cleansing routines\\nImplementing features, preparing modeling data sets, feature selection, etc.\\nEvaluating candidate models, selecting and reporting on test performance of final one\\nEnsuring proper runtime deployment of models, and\\nImplementing runtime monitoring of model inputs and performance in order to ensure continued model stability\\nWork with product, sales and engineering teams helping shape up the final solution\\nUse data to understand patterns, come up with and test hypothesis; iterate\\nHelp prepare sales materials, estimate hardware requirements, etc.',\n",
       " 'Roles and Responsibilities\\nThe Yantriks Data Science and Machine Learning team works closely with sales, product and engineering teams to design and implement the next generation of retail solutions. Data Science team members bear the heavy burden of turning both small, sparse and massive data into actionable insights with measurable improvements to the customer bottom line. They use rigorous analysis and repeatable processes to implement both black box and interpretable models.\\nResponsibilities:\\nUnder guidance, or independently, design and implement machine learning models by\\nProcuring data from platform, client and public data sources\\nImplementing data enrichment and cleansing routines\\nImplementing features, preparing modeling data sets, feature selection, etc.\\nEvaluating candidate models, selecting and reporting on test performance of final one\\nEnsuring proper runtime deployment of models, and\\nImplementing runtime monitoring of model inputs and performance in order to ensure continued model stability\\nWork with product, sales and engineering teams helping shape up the final solution\\nUse data to understand patterns, come up with and test hypothesis; iterate\\nHelp prepare sales materials, estimate hardware requirements, etc.\\nRequired Skills & Experience:\\nBachelor’s Degree in Computer Science or related fields\\n2+ years of data science experience, retail setting preferred\\n3+ years of Python programming experience\\nFamiliarity with Big Data tech such as Hadoop and Spark\\nWorking knowledge of data science and machine learning foundations\\nExperience working with some of the following frameworks and libraries: Pandas, Numpy, sklearn, Keras, Tensorflow, Jupyter, Matplotlib etc.']"
      ]
     },
     "execution_count": 148,
     "metadata": {},
     "output_type": "execute_result"
    }
   ],
   "source": [
    "# creating 4 empty lists to stored scraped data\n",
    "for i in job_desp_tags:\n",
    "    job_description.append(i.text)\n",
    "    \n",
    "job_description    "
   ]
  },
  {
   "cell_type": "code",
   "execution_count": 149,
   "metadata": {},
   "outputs": [],
   "source": [
    "#connecting to web driver\n",
    "driver = webdriver.Chrome(r\"E:\\FRT\\chromedriver.exe\")"
   ]
  },
  {
   "cell_type": "code",
   "execution_count": 150,
   "metadata": {},
   "outputs": [],
   "source": [
    "# Lets open the web page through the web driver\n",
    "driver.get(url3)"
   ]
  },
  {
   "cell_type": "code",
   "execution_count": 151,
   "metadata": {},
   "outputs": [
    {
     "data": {
      "text/plain": [
       "[<selenium.webdriver.remote.webelement.WebElement (session=\"4e169b2495e77b7d6944890653d3357a\", element=\"9372aae3-6663-42af-a100-4f44ea7e0fe7\")>]"
      ]
     },
     "execution_count": 151,
     "metadata": {},
     "output_type": "execute_result"
    }
   ],
   "source": [
    "# Lets extract all the tags having job description\n",
    "job_desp_tags=driver.find_elements_by_xpath(\"//div[@class='dang-inner-html']\")\n",
    "job_desp_tags"
   ]
  },
  {
   "cell_type": "code",
   "execution_count": 152,
   "metadata": {},
   "outputs": [
    {
     "data": {
      "text/plain": [
       "['Roles and Responsibilities\\n\\n\\n- Selecting features, building and optimizing classifiers using machine learning techniques\\n\\n- Data mining using state-of-the-art methods\\n\\n- Enhancing data collection procedures to include information that is relevant for building analytic systems\\n\\n- Processing, cleansing, and verifying the integrity of data used for analysis\\n\\n- Doing ad-hoc analysis and presenting results in a clear manner\\n\\n- Creating automated anomaly detection systems and constant tracking of its performance\\n\\nSkills Required :\\n\\n- Excellent understanding of machine learning techniques and algorithms, such as k-NN, Naive Bayes, SVM, Decision Forests, etc.\\n\\n- Experiences with one or more of the following is highly desirable: HPC/Parallelization, operationalizing ML models; cloud computing (e.g. Google Cloud, AWS, etc.); familiarity with ML frameworks such as Tensorflow, Theano, MXNet, etc\\n\\n- Good experience in a few of the following areas: deep neural networks, reinforcement learning, Markov Random Fields, Bayesian networks, semi-supervised learning, computer vision, image processing, signal processing, distributed computing, and/or numerical optimization\\n\\n- 2+ years of experience with computer vision and deep learning solutions, including image classification, object detection, segmentation, and equivalent computer vision-based vision tasks\\n\\n- Experience with common data science toolkits, such as R, Weka, NumPy, etc . Excellence in at least one of these is highly desirable\\n\\n- Proficiency in using query languages such as SQL, Hive, Pig\\n\\n- Good applied statistics skills, such as distributions, statistical testing, regression, etc.\\n\\n- Good scripting and programming skills\\n\\n- Data-oriented personality\\n\\n- B.Tech/M.Tech degree in from reputed institutes like IIT / NIT / BITS',\n",
       " 'Roles and Responsibilities\\nUnder guidance, or independently, design and implement machine learning models by\\nProcuring data from platform, client and public data sources\\nImplementing data enrichment and cleansing routines\\nImplementing features, preparing modeling data sets, feature selection, etc.\\nEvaluating candidate models, selecting and reporting on test performance of final one\\nEnsuring proper runtime deployment of models, and\\nImplementing runtime monitoring of model inputs and performance in order to ensure continued model stability\\nWork with product, sales and engineering teams helping shape up the final solution\\nUse data to understand patterns, come up with and test hypothesis; iterate\\nHelp prepare sales materials, estimate hardware requirements, etc.',\n",
       " 'Roles and Responsibilities\\nThe Yantriks Data Science and Machine Learning team works closely with sales, product and engineering teams to design and implement the next generation of retail solutions. Data Science team members bear the heavy burden of turning both small, sparse and massive data into actionable insights with measurable improvements to the customer bottom line. They use rigorous analysis and repeatable processes to implement both black box and interpretable models.\\nResponsibilities:\\nUnder guidance, or independently, design and implement machine learning models by\\nProcuring data from platform, client and public data sources\\nImplementing data enrichment and cleansing routines\\nImplementing features, preparing modeling data sets, feature selection, etc.\\nEvaluating candidate models, selecting and reporting on test performance of final one\\nEnsuring proper runtime deployment of models, and\\nImplementing runtime monitoring of model inputs and performance in order to ensure continued model stability\\nWork with product, sales and engineering teams helping shape up the final solution\\nUse data to understand patterns, come up with and test hypothesis; iterate\\nHelp prepare sales materials, estimate hardware requirements, etc.\\nRequired Skills & Experience:\\nBachelor’s Degree in Computer Science or related fields\\n2+ years of data science experience, retail setting preferred\\n3+ years of Python programming experience\\nFamiliarity with Big Data tech such as Hadoop and Spark\\nWorking knowledge of data science and machine learning foundations\\nExperience working with some of the following frameworks and libraries: Pandas, Numpy, sklearn, Keras, Tensorflow, Jupyter, Matplotlib etc.',\n",
       " 'Day-to-Day Responsibilities\\nDesign and develop data science, machine learning, natural language processing, deep learning and related solutions to address business needs.\\nDesign and implement current state-of-art machine learning, algorithms related to Forecasting, Classification, Data/Text Mining, NLP, Computer Vision, Decision Trees, Adaptive Decision Algorithms, Random Forest, Search Algorithms, Neural Networks, Deep Learning Algorithms.\\nConverting the AI models into microservices and deploy them using dockers.\\nDeploy AI models in production using docker with automated data pipelines.\\nWork creatively and analytically to apply cutting edge techniques to specific challenges.\\nAssist in the management and delivery of large data science projects.\\nWork with a wide range of automation teams to validate findings and proposed analytics solutions.\\nContinuously expand personal skill sets and stay up to speed on the latest A.I. trends, tools, methodologies, and techniques.\\nSkills and Experience:\\nDemonstrates extensive knowledge and/or a proven record of success in data analytics, including the following areas:\\nIdeally at least 8 years of total experience and at least 6 years of relevant experience in the field of AI/ML.\\nBachelor s or Master s Degree in Computer Science, Engineering or other technical discipline (BE, BTech, MCA).\\nExperience in analyzing complex problems and translating them to data science algorithms with due attention to computational efficiency and testing at scale.\\nExperience in machine learning, supervised and unsupervised: Forecasting,\\nClassification, Data/Text Mining, NLP, Computer Vision, Decision Trees, Adaptive Decision Algorithms, Random Forest, Search Algorithms, Neural Networks, Deep Learning Algorithms.\\nWorked with at least one mainstream machine learning frameworks, including Caffe, ConvNet, Tensor Flow, Keras, Torch.\\nWorking proficiency with SQL and relational databases, data warehouse.\\nExperience with big data platforms - Hadoop (Hive, Pig, Map Reduce, HQL) / Spark / H20.\\nExperience with Google Cloud Platform, AWS or Azure.\\nExperience with GPU/CUDA for computational efficiency.\\nStrong implementation experience with languages, such as Python, Java, or Scala and familiarity with Linux/Unix/Shell environments.\\nStrong hands-on skills in sourcing, cleaning, identifying patterns and outliers, manipulating and analyzing large volumes of big data using distributed computing platform\\nUnderstanding of NoSQL (Graph, Document, Columnar) database models, XML, relational and other database models and associated SQL.\\nDemonstrates extensive abilities and/or a proven record of success in the application of statistical modelling, algorithms, data mining and machine learning algorithms problem solving.\\nA track record of delivery within several large-scale projects, demonstrating ownership of architecture solutions and managing change.\\nLeading, training and working with other data scientists in designing effective analytical approaches taking into consideration performance and scalability to large datasets.\\nExperience manipulating and analyzing complex, high-volume, high-dimensionality data from varying sources.\\nProven ability with NLP, Computer Vision and text-based extraction techniques.\\nUnderstanding of not only how to develop data science analytic models but how to operationalize and deploy the models as microservices in production using Dockers and automated pipelines.\\nDemonstrates extensive abilities and/or a proven record of success in the application of statistical or numerical methods, data mining, data wrangling and data-driven problem solving, including the following areas:\\nUtilizing and applying knowledge commonly used data science packages including Spark, Pandas, SciPy, and Numpy.\\nFamiliarity with deep learning architectures used for text analysis, computer vision and signal processing.\\nUtilizing programming skills and knowledge on how to write models which can be directly used in production as part of a large-scale system.\\nApplying techniques such as multivariate regressions, Bayesian probabilities, clustering algorithms, machine learning, dynamic programming, stochastic-processes, queuing theory, algorithmic knowledge to efficiently research and solve complex development problems and application of engineering methods to define, predict and evaluate the results obtained.\\nDeveloping end to end deep learning solutions for structured and unstructured data problems.\\nDeveloping and deploying A.I. solutions as part of a larger automation pipeline.\\nUsing common cloud computing platforms including Azure, AWS and GCP in addition to their respective utilities for managing and manipulating large data sources, model, development, and deployment.\\nVisualizing and communicating analytical results, using technologies such as HTML, JavaScript, Tableau, and Power BI.']"
      ]
     },
     "execution_count": 152,
     "metadata": {},
     "output_type": "execute_result"
    }
   ],
   "source": [
    "# creating 4 empty lists to stored scraped data\n",
    "for i in job_desp_tags:\n",
    "    job_description.append(i.text)\n",
    "    \n",
    "job_description    "
   ]
  },
  {
   "cell_type": "code",
   "execution_count": 153,
   "metadata": {},
   "outputs": [],
   "source": [
    "#connecting to web driver\n",
    "driver = webdriver.Chrome(r\"E:\\FRT\\chromedriver.exe\")"
   ]
  },
  {
   "cell_type": "code",
   "execution_count": 154,
   "metadata": {},
   "outputs": [],
   "source": [
    "# Lets open the web page through the web driver\n",
    "driver.get(url4)"
   ]
  },
  {
   "cell_type": "code",
   "execution_count": 155,
   "metadata": {},
   "outputs": [
    {
     "data": {
      "text/plain": [
       "[<selenium.webdriver.remote.webelement.WebElement (session=\"0c5cf01fa6265fc463875f44dfe845ea\", element=\"13825acc-5910-451f-ab74-08887714aaca\")>]"
      ]
     },
     "execution_count": 155,
     "metadata": {},
     "output_type": "execute_result"
    }
   ],
   "source": [
    "# Lets extract all the tags having job description\n",
    "job_desp_tags=driver.find_elements_by_xpath(\"//div[@class='dang-inner-html']\")\n",
    "job_desp_tags"
   ]
  },
  {
   "cell_type": "code",
   "execution_count": 156,
   "metadata": {},
   "outputs": [
    {
     "data": {
      "text/plain": [
       "['Roles and Responsibilities\\n\\n\\n- Selecting features, building and optimizing classifiers using machine learning techniques\\n\\n- Data mining using state-of-the-art methods\\n\\n- Enhancing data collection procedures to include information that is relevant for building analytic systems\\n\\n- Processing, cleansing, and verifying the integrity of data used for analysis\\n\\n- Doing ad-hoc analysis and presenting results in a clear manner\\n\\n- Creating automated anomaly detection systems and constant tracking of its performance\\n\\nSkills Required :\\n\\n- Excellent understanding of machine learning techniques and algorithms, such as k-NN, Naive Bayes, SVM, Decision Forests, etc.\\n\\n- Experiences with one or more of the following is highly desirable: HPC/Parallelization, operationalizing ML models; cloud computing (e.g. Google Cloud, AWS, etc.); familiarity with ML frameworks such as Tensorflow, Theano, MXNet, etc\\n\\n- Good experience in a few of the following areas: deep neural networks, reinforcement learning, Markov Random Fields, Bayesian networks, semi-supervised learning, computer vision, image processing, signal processing, distributed computing, and/or numerical optimization\\n\\n- 2+ years of experience with computer vision and deep learning solutions, including image classification, object detection, segmentation, and equivalent computer vision-based vision tasks\\n\\n- Experience with common data science toolkits, such as R, Weka, NumPy, etc . Excellence in at least one of these is highly desirable\\n\\n- Proficiency in using query languages such as SQL, Hive, Pig\\n\\n- Good applied statistics skills, such as distributions, statistical testing, regression, etc.\\n\\n- Good scripting and programming skills\\n\\n- Data-oriented personality\\n\\n- B.Tech/M.Tech degree in from reputed institutes like IIT / NIT / BITS',\n",
       " 'Roles and Responsibilities\\nUnder guidance, or independently, design and implement machine learning models by\\nProcuring data from platform, client and public data sources\\nImplementing data enrichment and cleansing routines\\nImplementing features, preparing modeling data sets, feature selection, etc.\\nEvaluating candidate models, selecting and reporting on test performance of final one\\nEnsuring proper runtime deployment of models, and\\nImplementing runtime monitoring of model inputs and performance in order to ensure continued model stability\\nWork with product, sales and engineering teams helping shape up the final solution\\nUse data to understand patterns, come up with and test hypothesis; iterate\\nHelp prepare sales materials, estimate hardware requirements, etc.',\n",
       " 'Roles and Responsibilities\\nThe Yantriks Data Science and Machine Learning team works closely with sales, product and engineering teams to design and implement the next generation of retail solutions. Data Science team members bear the heavy burden of turning both small, sparse and massive data into actionable insights with measurable improvements to the customer bottom line. They use rigorous analysis and repeatable processes to implement both black box and interpretable models.\\nResponsibilities:\\nUnder guidance, or independently, design and implement machine learning models by\\nProcuring data from platform, client and public data sources\\nImplementing data enrichment and cleansing routines\\nImplementing features, preparing modeling data sets, feature selection, etc.\\nEvaluating candidate models, selecting and reporting on test performance of final one\\nEnsuring proper runtime deployment of models, and\\nImplementing runtime monitoring of model inputs and performance in order to ensure continued model stability\\nWork with product, sales and engineering teams helping shape up the final solution\\nUse data to understand patterns, come up with and test hypothesis; iterate\\nHelp prepare sales materials, estimate hardware requirements, etc.\\nRequired Skills & Experience:\\nBachelor’s Degree in Computer Science or related fields\\n2+ years of data science experience, retail setting preferred\\n3+ years of Python programming experience\\nFamiliarity with Big Data tech such as Hadoop and Spark\\nWorking knowledge of data science and machine learning foundations\\nExperience working with some of the following frameworks and libraries: Pandas, Numpy, sklearn, Keras, Tensorflow, Jupyter, Matplotlib etc.',\n",
       " 'Day-to-Day Responsibilities\\nDesign and develop data science, machine learning, natural language processing, deep learning and related solutions to address business needs.\\nDesign and implement current state-of-art machine learning, algorithms related to Forecasting, Classification, Data/Text Mining, NLP, Computer Vision, Decision Trees, Adaptive Decision Algorithms, Random Forest, Search Algorithms, Neural Networks, Deep Learning Algorithms.\\nConverting the AI models into microservices and deploy them using dockers.\\nDeploy AI models in production using docker with automated data pipelines.\\nWork creatively and analytically to apply cutting edge techniques to specific challenges.\\nAssist in the management and delivery of large data science projects.\\nWork with a wide range of automation teams to validate findings and proposed analytics solutions.\\nContinuously expand personal skill sets and stay up to speed on the latest A.I. trends, tools, methodologies, and techniques.\\nSkills and Experience:\\nDemonstrates extensive knowledge and/or a proven record of success in data analytics, including the following areas:\\nIdeally at least 8 years of total experience and at least 6 years of relevant experience in the field of AI/ML.\\nBachelor s or Master s Degree in Computer Science, Engineering or other technical discipline (BE, BTech, MCA).\\nExperience in analyzing complex problems and translating them to data science algorithms with due attention to computational efficiency and testing at scale.\\nExperience in machine learning, supervised and unsupervised: Forecasting,\\nClassification, Data/Text Mining, NLP, Computer Vision, Decision Trees, Adaptive Decision Algorithms, Random Forest, Search Algorithms, Neural Networks, Deep Learning Algorithms.\\nWorked with at least one mainstream machine learning frameworks, including Caffe, ConvNet, Tensor Flow, Keras, Torch.\\nWorking proficiency with SQL and relational databases, data warehouse.\\nExperience with big data platforms - Hadoop (Hive, Pig, Map Reduce, HQL) / Spark / H20.\\nExperience with Google Cloud Platform, AWS or Azure.\\nExperience with GPU/CUDA for computational efficiency.\\nStrong implementation experience with languages, such as Python, Java, or Scala and familiarity with Linux/Unix/Shell environments.\\nStrong hands-on skills in sourcing, cleaning, identifying patterns and outliers, manipulating and analyzing large volumes of big data using distributed computing platform\\nUnderstanding of NoSQL (Graph, Document, Columnar) database models, XML, relational and other database models and associated SQL.\\nDemonstrates extensive abilities and/or a proven record of success in the application of statistical modelling, algorithms, data mining and machine learning algorithms problem solving.\\nA track record of delivery within several large-scale projects, demonstrating ownership of architecture solutions and managing change.\\nLeading, training and working with other data scientists in designing effective analytical approaches taking into consideration performance and scalability to large datasets.\\nExperience manipulating and analyzing complex, high-volume, high-dimensionality data from varying sources.\\nProven ability with NLP, Computer Vision and text-based extraction techniques.\\nUnderstanding of not only how to develop data science analytic models but how to operationalize and deploy the models as microservices in production using Dockers and automated pipelines.\\nDemonstrates extensive abilities and/or a proven record of success in the application of statistical or numerical methods, data mining, data wrangling and data-driven problem solving, including the following areas:\\nUtilizing and applying knowledge commonly used data science packages including Spark, Pandas, SciPy, and Numpy.\\nFamiliarity with deep learning architectures used for text analysis, computer vision and signal processing.\\nUtilizing programming skills and knowledge on how to write models which can be directly used in production as part of a large-scale system.\\nApplying techniques such as multivariate regressions, Bayesian probabilities, clustering algorithms, machine learning, dynamic programming, stochastic-processes, queuing theory, algorithmic knowledge to efficiently research and solve complex development problems and application of engineering methods to define, predict and evaluate the results obtained.\\nDeveloping end to end deep learning solutions for structured and unstructured data problems.\\nDeveloping and deploying A.I. solutions as part of a larger automation pipeline.\\nUsing common cloud computing platforms including Azure, AWS and GCP in addition to their respective utilities for managing and manipulating large data sources, model, development, and deployment.\\nVisualizing and communicating analytical results, using technologies such as HTML, JavaScript, Tableau, and Power BI.',\n",
       " 'Job Description\\nAt Philips, data is in the centre of everything we do. We believe that, every data item has a story of its own. If you have a penchant for unravelling the hidden patterns, then you are the person we are looking for!\\nTo build our next generation smarts, you will be working with experts in a variety of fields, including clinical & regulatory specialists, UX designers, dental and skin care professionals, system architects, product management to integrate new technologies and refine system performance. You will help build learning systems, leveraging data sets consisting of user interactions and actions, collected from hundreds of thousands of consumer devices, per day to model, analyse, and predict user behaviours. While some of our algorithms run on resource constrained devices, others require large clusters on our cloud infrastructure. As data scientist you will investigate, discern, and interpret data sets to recognize user behaviour and predict trends.\\nJob Responsibilities\\nUse predictive modeling to increase and optimize customer experiences, revenue generation, campaign optimization and other business outcomes\\nWork with product management to develop data use cases and embed predictive models in workflows on resource constrained platforms and cloud enabled.\\nSelecting features, building and optimizing classifiers using machine learning and deep learning techniques\\nCollaborates with Data Engineers to enhance data collection and ingestion/curation techniques to include information that is relevant for building analytic systems\\nProcessing, cleansing, and verifying the integrity of data used for analysis\\nDevelop processes and tools to monitor and analyze model performance and data accuracy. Life cycle management of predictive models.\\nAdherence to compliance procedures in accordance with regulatory standards, requirements, and policies. Managing and designing the reporting environment, including data sources security, and metadata.\\nJob Qualifications:\\nMaster’s degree or PhD in Computer Science, Information management, Statistics or related field, with 10+ years of experience in the Consumer or Healthcare industry manipulating data sets and building predictive models with focus on product development\\nExperience in statistical modelling, machine learning, data mining, unstructured data analytics and natural language processing. Sound understanding of - Bayesian Modelling, Classification Models, Cluster Analysis, Neural Network, Nonparametric Methods, Multivariate Statistics, etc.\\nStrong hands on knowledge of ML techniques like regression algorithms, K- NN, Nave Bayes, SVM and ensemble techniques like Random forest, AdaBoost etc\\nHaving strong knowledge in unsupervised learning algorithms using Neural networks and Deep- Learning\\nStrong knowledge in Data Wrangling and Exploration techniques to identify the patterns, trends and outliners.\\nDeep knowledge and practical experience with data science toolkits, such as NumPy, Pandas, scikit- learn or equivalent\\nExperience with data visualization tools, such as QlikView, Matplotlib, seaborn or equivalent tools.\\nProficiency in using query languages, such as SQL, PL/SQL\\nHands on experience in the one or more databases like Hadoop, AWS Redshift, Snowflake etc.\\nGood applied statistics skills, such as distributions, statistical testing, regression, etc.\\nGood ETL scripting and programming skills, such as Python, R or Scala to integrate developed solution into the proposition.\\nA team player capable of working and integrating across cross- functional team for implementing project requirements. Experience in technical requirements gathering and documentation.\\nAbility to work effectively and independently in a fast- paced global collaborative agile team environment with tight deadlines\\nA flexible, pragmatic and collaborative team player with innate ability to engage with stakeholders at all levels in the organization.\\nA self- starter with high levels of drive, energy, resilience and a desire for professional excellence with a passion for data and data science']"
      ]
     },
     "execution_count": 156,
     "metadata": {},
     "output_type": "execute_result"
    }
   ],
   "source": [
    "# Exctracting the text from above exctracted tags using for loop\n",
    "for i in job_desp_tags:\n",
    "    job_description.append(i.text)\n",
    "    \n",
    "job_description    "
   ]
  },
  {
   "cell_type": "code",
   "execution_count": 157,
   "metadata": {},
   "outputs": [],
   "source": [
    "#connecting to web driver\n",
    "driver = webdriver.Chrome(r\"E:\\FRT\\chromedriver.exe\")"
   ]
  },
  {
   "cell_type": "code",
   "execution_count": 158,
   "metadata": {},
   "outputs": [],
   "source": [
    "# Lets open the web page through the web driver\n",
    "driver.get(url5)"
   ]
  },
  {
   "cell_type": "code",
   "execution_count": 159,
   "metadata": {},
   "outputs": [
    {
     "data": {
      "text/plain": [
       "[<selenium.webdriver.remote.webelement.WebElement (session=\"83b8e4757edaf3a841d9ce28096f4a25\", element=\"72d7459d-18c7-4f62-b539-568512b1e82b\")>]"
      ]
     },
     "execution_count": 159,
     "metadata": {},
     "output_type": "execute_result"
    }
   ],
   "source": [
    "# Lets extract all the tags having job description\n",
    "job_desp_tags=driver.find_elements_by_xpath(\"//div[@class='dang-inner-html']\")\n",
    "job_desp_tags"
   ]
  },
  {
   "cell_type": "code",
   "execution_count": 160,
   "metadata": {},
   "outputs": [
    {
     "data": {
      "text/plain": [
       "['Roles and Responsibilities\\n\\n\\n- Selecting features, building and optimizing classifiers using machine learning techniques\\n\\n- Data mining using state-of-the-art methods\\n\\n- Enhancing data collection procedures to include information that is relevant for building analytic systems\\n\\n- Processing, cleansing, and verifying the integrity of data used for analysis\\n\\n- Doing ad-hoc analysis and presenting results in a clear manner\\n\\n- Creating automated anomaly detection systems and constant tracking of its performance\\n\\nSkills Required :\\n\\n- Excellent understanding of machine learning techniques and algorithms, such as k-NN, Naive Bayes, SVM, Decision Forests, etc.\\n\\n- Experiences with one or more of the following is highly desirable: HPC/Parallelization, operationalizing ML models; cloud computing (e.g. Google Cloud, AWS, etc.); familiarity with ML frameworks such as Tensorflow, Theano, MXNet, etc\\n\\n- Good experience in a few of the following areas: deep neural networks, reinforcement learning, Markov Random Fields, Bayesian networks, semi-supervised learning, computer vision, image processing, signal processing, distributed computing, and/or numerical optimization\\n\\n- 2+ years of experience with computer vision and deep learning solutions, including image classification, object detection, segmentation, and equivalent computer vision-based vision tasks\\n\\n- Experience with common data science toolkits, such as R, Weka, NumPy, etc . Excellence in at least one of these is highly desirable\\n\\n- Proficiency in using query languages such as SQL, Hive, Pig\\n\\n- Good applied statistics skills, such as distributions, statistical testing, regression, etc.\\n\\n- Good scripting and programming skills\\n\\n- Data-oriented personality\\n\\n- B.Tech/M.Tech degree in from reputed institutes like IIT / NIT / BITS',\n",
       " 'Roles and Responsibilities\\nUnder guidance, or independently, design and implement machine learning models by\\nProcuring data from platform, client and public data sources\\nImplementing data enrichment and cleansing routines\\nImplementing features, preparing modeling data sets, feature selection, etc.\\nEvaluating candidate models, selecting and reporting on test performance of final one\\nEnsuring proper runtime deployment of models, and\\nImplementing runtime monitoring of model inputs and performance in order to ensure continued model stability\\nWork with product, sales and engineering teams helping shape up the final solution\\nUse data to understand patterns, come up with and test hypothesis; iterate\\nHelp prepare sales materials, estimate hardware requirements, etc.',\n",
       " 'Roles and Responsibilities\\nThe Yantriks Data Science and Machine Learning team works closely with sales, product and engineering teams to design and implement the next generation of retail solutions. Data Science team members bear the heavy burden of turning both small, sparse and massive data into actionable insights with measurable improvements to the customer bottom line. They use rigorous analysis and repeatable processes to implement both black box and interpretable models.\\nResponsibilities:\\nUnder guidance, or independently, design and implement machine learning models by\\nProcuring data from platform, client and public data sources\\nImplementing data enrichment and cleansing routines\\nImplementing features, preparing modeling data sets, feature selection, etc.\\nEvaluating candidate models, selecting and reporting on test performance of final one\\nEnsuring proper runtime deployment of models, and\\nImplementing runtime monitoring of model inputs and performance in order to ensure continued model stability\\nWork with product, sales and engineering teams helping shape up the final solution\\nUse data to understand patterns, come up with and test hypothesis; iterate\\nHelp prepare sales materials, estimate hardware requirements, etc.\\nRequired Skills & Experience:\\nBachelor’s Degree in Computer Science or related fields\\n2+ years of data science experience, retail setting preferred\\n3+ years of Python programming experience\\nFamiliarity with Big Data tech such as Hadoop and Spark\\nWorking knowledge of data science and machine learning foundations\\nExperience working with some of the following frameworks and libraries: Pandas, Numpy, sklearn, Keras, Tensorflow, Jupyter, Matplotlib etc.',\n",
       " 'Day-to-Day Responsibilities\\nDesign and develop data science, machine learning, natural language processing, deep learning and related solutions to address business needs.\\nDesign and implement current state-of-art machine learning, algorithms related to Forecasting, Classification, Data/Text Mining, NLP, Computer Vision, Decision Trees, Adaptive Decision Algorithms, Random Forest, Search Algorithms, Neural Networks, Deep Learning Algorithms.\\nConverting the AI models into microservices and deploy them using dockers.\\nDeploy AI models in production using docker with automated data pipelines.\\nWork creatively and analytically to apply cutting edge techniques to specific challenges.\\nAssist in the management and delivery of large data science projects.\\nWork with a wide range of automation teams to validate findings and proposed analytics solutions.\\nContinuously expand personal skill sets and stay up to speed on the latest A.I. trends, tools, methodologies, and techniques.\\nSkills and Experience:\\nDemonstrates extensive knowledge and/or a proven record of success in data analytics, including the following areas:\\nIdeally at least 8 years of total experience and at least 6 years of relevant experience in the field of AI/ML.\\nBachelor s or Master s Degree in Computer Science, Engineering or other technical discipline (BE, BTech, MCA).\\nExperience in analyzing complex problems and translating them to data science algorithms with due attention to computational efficiency and testing at scale.\\nExperience in machine learning, supervised and unsupervised: Forecasting,\\nClassification, Data/Text Mining, NLP, Computer Vision, Decision Trees, Adaptive Decision Algorithms, Random Forest, Search Algorithms, Neural Networks, Deep Learning Algorithms.\\nWorked with at least one mainstream machine learning frameworks, including Caffe, ConvNet, Tensor Flow, Keras, Torch.\\nWorking proficiency with SQL and relational databases, data warehouse.\\nExperience with big data platforms - Hadoop (Hive, Pig, Map Reduce, HQL) / Spark / H20.\\nExperience with Google Cloud Platform, AWS or Azure.\\nExperience with GPU/CUDA for computational efficiency.\\nStrong implementation experience with languages, such as Python, Java, or Scala and familiarity with Linux/Unix/Shell environments.\\nStrong hands-on skills in sourcing, cleaning, identifying patterns and outliers, manipulating and analyzing large volumes of big data using distributed computing platform\\nUnderstanding of NoSQL (Graph, Document, Columnar) database models, XML, relational and other database models and associated SQL.\\nDemonstrates extensive abilities and/or a proven record of success in the application of statistical modelling, algorithms, data mining and machine learning algorithms problem solving.\\nA track record of delivery within several large-scale projects, demonstrating ownership of architecture solutions and managing change.\\nLeading, training and working with other data scientists in designing effective analytical approaches taking into consideration performance and scalability to large datasets.\\nExperience manipulating and analyzing complex, high-volume, high-dimensionality data from varying sources.\\nProven ability with NLP, Computer Vision and text-based extraction techniques.\\nUnderstanding of not only how to develop data science analytic models but how to operationalize and deploy the models as microservices in production using Dockers and automated pipelines.\\nDemonstrates extensive abilities and/or a proven record of success in the application of statistical or numerical methods, data mining, data wrangling and data-driven problem solving, including the following areas:\\nUtilizing and applying knowledge commonly used data science packages including Spark, Pandas, SciPy, and Numpy.\\nFamiliarity with deep learning architectures used for text analysis, computer vision and signal processing.\\nUtilizing programming skills and knowledge on how to write models which can be directly used in production as part of a large-scale system.\\nApplying techniques such as multivariate regressions, Bayesian probabilities, clustering algorithms, machine learning, dynamic programming, stochastic-processes, queuing theory, algorithmic knowledge to efficiently research and solve complex development problems and application of engineering methods to define, predict and evaluate the results obtained.\\nDeveloping end to end deep learning solutions for structured and unstructured data problems.\\nDeveloping and deploying A.I. solutions as part of a larger automation pipeline.\\nUsing common cloud computing platforms including Azure, AWS and GCP in addition to their respective utilities for managing and manipulating large data sources, model, development, and deployment.\\nVisualizing and communicating analytical results, using technologies such as HTML, JavaScript, Tableau, and Power BI.',\n",
       " 'Job Description\\nAt Philips, data is in the centre of everything we do. We believe that, every data item has a story of its own. If you have a penchant for unravelling the hidden patterns, then you are the person we are looking for!\\nTo build our next generation smarts, you will be working with experts in a variety of fields, including clinical & regulatory specialists, UX designers, dental and skin care professionals, system architects, product management to integrate new technologies and refine system performance. You will help build learning systems, leveraging data sets consisting of user interactions and actions, collected from hundreds of thousands of consumer devices, per day to model, analyse, and predict user behaviours. While some of our algorithms run on resource constrained devices, others require large clusters on our cloud infrastructure. As data scientist you will investigate, discern, and interpret data sets to recognize user behaviour and predict trends.\\nJob Responsibilities\\nUse predictive modeling to increase and optimize customer experiences, revenue generation, campaign optimization and other business outcomes\\nWork with product management to develop data use cases and embed predictive models in workflows on resource constrained platforms and cloud enabled.\\nSelecting features, building and optimizing classifiers using machine learning and deep learning techniques\\nCollaborates with Data Engineers to enhance data collection and ingestion/curation techniques to include information that is relevant for building analytic systems\\nProcessing, cleansing, and verifying the integrity of data used for analysis\\nDevelop processes and tools to monitor and analyze model performance and data accuracy. Life cycle management of predictive models.\\nAdherence to compliance procedures in accordance with regulatory standards, requirements, and policies. Managing and designing the reporting environment, including data sources security, and metadata.\\nJob Qualifications:\\nMaster’s degree or PhD in Computer Science, Information management, Statistics or related field, with 10+ years of experience in the Consumer or Healthcare industry manipulating data sets and building predictive models with focus on product development\\nExperience in statistical modelling, machine learning, data mining, unstructured data analytics and natural language processing. Sound understanding of - Bayesian Modelling, Classification Models, Cluster Analysis, Neural Network, Nonparametric Methods, Multivariate Statistics, etc.\\nStrong hands on knowledge of ML techniques like regression algorithms, K- NN, Nave Bayes, SVM and ensemble techniques like Random forest, AdaBoost etc\\nHaving strong knowledge in unsupervised learning algorithms using Neural networks and Deep- Learning\\nStrong knowledge in Data Wrangling and Exploration techniques to identify the patterns, trends and outliners.\\nDeep knowledge and practical experience with data science toolkits, such as NumPy, Pandas, scikit- learn or equivalent\\nExperience with data visualization tools, such as QlikView, Matplotlib, seaborn or equivalent tools.\\nProficiency in using query languages, such as SQL, PL/SQL\\nHands on experience in the one or more databases like Hadoop, AWS Redshift, Snowflake etc.\\nGood applied statistics skills, such as distributions, statistical testing, regression, etc.\\nGood ETL scripting and programming skills, such as Python, R or Scala to integrate developed solution into the proposition.\\nA team player capable of working and integrating across cross- functional team for implementing project requirements. Experience in technical requirements gathering and documentation.\\nAbility to work effectively and independently in a fast- paced global collaborative agile team environment with tight deadlines\\nA flexible, pragmatic and collaborative team player with innate ability to engage with stakeholders at all levels in the organization.\\nA self- starter with high levels of drive, energy, resilience and a desire for professional excellence with a passion for data and data science',\n",
       " \"Please note that this role will be Remote / Home-based for next 6 to 12 months.\\n\\nIn DOJI, we are building a next generation marketplace and setting new standards for e-commerce buyers and sellers worldwide. We are a UK based tech start-up, founded by three passionate entrepreneurs with a track record of building and exiting successful ventures.\\nWe're excited to build this world-class team that is going to reshape the way people buy and sell consumer goods.\\n\\nRoles and Responsibilities\\n\\nPerform exploratory and statistical analyses to understand and predict our customer behaviours, identify bottlenecks, and answer critical business questions.\\nBuild and deploy scalable machine learning models and oversee their performance against KPIs.\\nForecast our users conversion, engagement, and churn with rigorous statistical models\\nBuild overall data capability of our organisation by performing complex data processing, building data pipelines and developing data products which can be directly used by our business users such as marketing and product teams\\n\\nRequirements\\n\\nFollowing are the mandatory skills & experience requirements for this role:\\nBeen a data scientist for 2+ years in a commercial set-up\\nDirect experience in performing statistical analyses or building a variety of machine learning models from complex, specialised or large data pools.\\nPassion for understanding user behaviour and building solutions to optimise customer experience and growth.\\nDemonstrated competency with unsupervised machine learning algorithms (k-means clustering, isolation forests etc.) and / or supervised algorithms (logistic regression, SVM, Random Forests, GBM etc.)\\nDirect experience using programming languages such as Python or R for statistical and/or numeric computing\\nUndergraduate degree in a quantitative discipline (maths, statistics, econometrics etc.) or computer science\\n\\nAlthough the following requirements are not mandatory, however we would strongly prefer candidates with this skill and experience.\\nWe would prefer someone who also has experience in: data engineering, building data pipelines and cloud (AWS, Azure or GCP).\\nExperience with additional programming languages used for data processing such as SQL, Hive, PySpark, Scala etc.\\nExperience with consumer retail or e-commerce data\\nPostgraduate degree in a quantitative discipline or computer science\\n\\nPerks and Benefits\\n\\nA very competitive package of 15 to 20 Lacs\\nBe part of a start-up with an entrepreneurial mindset that thinks big, with a long-term vision.\\nBe the owner of your own development in an environment that is full of opportunities, learning, growth, expansion and challenging projects.\\nShare and learn with the team, amongst great professionals and experts.\\nAn excellent work environment, with everything that you need to enjoy a great experience\\n\\nSince this role will be 'Remote' (e.g. home office) during the initial stages, you will be responsible to ensure proper working conditions (computer and related equipment, reliable internet connection, etc) and availability during normal business working hours. As per business needs, you could be asked to work from an office based office location in the future.\\nIn Doji, we work hard to promote a culture of inclusiveness and diversity that seeks equality and values from different perspectives. We believe in building trust and fairness amongst people and making a positive impact on the environment.\\nShould you require reasonable adjustments throughout the hiring process, please don't hesitate to get in touch with us.\"]"
      ]
     },
     "execution_count": 160,
     "metadata": {},
     "output_type": "execute_result"
    }
   ],
   "source": [
    "# Exctracting the text from above exctracted tags using for loop\n",
    "for i in job_desp_tags:\n",
    "    job_description.append(i.text)\n",
    "    \n",
    "job_description    "
   ]
  },
  {
   "cell_type": "code",
   "execution_count": 161,
   "metadata": {},
   "outputs": [],
   "source": [
    "#connecting to web driver\n",
    "driver = webdriver.Chrome(r\"E:\\FRT\\chromedriver.exe\")"
   ]
  },
  {
   "cell_type": "code",
   "execution_count": 162,
   "metadata": {},
   "outputs": [],
   "source": [
    "# Lets open the web page through the web driver\n",
    "driver.get(url6)"
   ]
  },
  {
   "cell_type": "code",
   "execution_count": 163,
   "metadata": {},
   "outputs": [
    {
     "data": {
      "text/plain": [
       "[<selenium.webdriver.remote.webelement.WebElement (session=\"e6d225f06d6950ba4288ee79c6cb40df\", element=\"b6929c52-c2b7-4339-9f01-78c5cc4780fb\")>]"
      ]
     },
     "execution_count": 163,
     "metadata": {},
     "output_type": "execute_result"
    }
   ],
   "source": [
    "# Lets extract all the tags having job description\n",
    "job_desp_tags=driver.find_elements_by_xpath(\"//div[@class='dang-inner-html']\")\n",
    "job_desp_tags"
   ]
  },
  {
   "cell_type": "code",
   "execution_count": 164,
   "metadata": {},
   "outputs": [],
   "source": [
    "# Exctracting the text from above exctracted tags using for loop\n",
    "for i in job_desp_tags:\n",
    "    job_description.append(i.text)   "
   ]
  },
  {
   "cell_type": "code",
   "execution_count": 165,
   "metadata": {},
   "outputs": [],
   "source": [
    "driver = webdriver.Chrome(r\"E:\\FRT\\chromedriver.exe\")"
   ]
  },
  {
   "cell_type": "code",
   "execution_count": 166,
   "metadata": {},
   "outputs": [],
   "source": [
    "driver.get(url7)"
   ]
  },
  {
   "cell_type": "code",
   "execution_count": 167,
   "metadata": {},
   "outputs": [
    {
     "data": {
      "text/plain": [
       "[<selenium.webdriver.remote.webelement.WebElement (session=\"cb211ccaa115a25e4a52fa50010bd21a\", element=\"7af8d01d-d00c-44ef-b500-a224c2660ff3\")>]"
      ]
     },
     "execution_count": 167,
     "metadata": {},
     "output_type": "execute_result"
    }
   ],
   "source": [
    "# Lets extract all the tags having job description\n",
    "job_desp_tags=driver.find_elements_by_xpath(\"//div[@class='dang-inner-html']\")\n",
    "job_desp_tags"
   ]
  },
  {
   "cell_type": "code",
   "execution_count": 168,
   "metadata": {},
   "outputs": [],
   "source": [
    "# Exctracting the text from above exctracted tags using for loop\n",
    "for i in job_desp_tags:\n",
    "    job_description.append(i.text)   "
   ]
  },
  {
   "cell_type": "code",
   "execution_count": 169,
   "metadata": {},
   "outputs": [],
   "source": [
    "#connecting to web driver\n",
    "driver = webdriver.Chrome(r\"E:\\FRT\\chromedriver.exe\")"
   ]
  },
  {
   "cell_type": "code",
   "execution_count": 170,
   "metadata": {},
   "outputs": [],
   "source": [
    "# Lets open the web page through the web driver\n",
    "driver.get(url8)"
   ]
  },
  {
   "cell_type": "code",
   "execution_count": 171,
   "metadata": {},
   "outputs": [
    {
     "data": {
      "text/plain": [
       "[<selenium.webdriver.remote.webelement.WebElement (session=\"704a678533bf7271835db3c905a27103\", element=\"15039605-531c-4df4-a033-741e517970f4\")>]"
      ]
     },
     "execution_count": 171,
     "metadata": {},
     "output_type": "execute_result"
    }
   ],
   "source": [
    "job_desp_tags=driver.find_elements_by_xpath(\"//div[@class='dang-inner-html']\")\n",
    "job_desp_tags"
   ]
  },
  {
   "cell_type": "code",
   "execution_count": 172,
   "metadata": {},
   "outputs": [],
   "source": [
    "# Exctracting the text from above exctracted tags using for loop\n",
    "for i in job_desp_tags:\n",
    "    job_description.append(i.text)   "
   ]
  },
  {
   "cell_type": "code",
   "execution_count": 173,
   "metadata": {},
   "outputs": [],
   "source": [
    "#connecting to web driver\n",
    "driver = webdriver.Chrome(r\"E:\\FRT\\chromedriver.exe\")"
   ]
  },
  {
   "cell_type": "code",
   "execution_count": 174,
   "metadata": {},
   "outputs": [],
   "source": [
    "# Lets open the web page through the web driver\n",
    "driver.get(url9)"
   ]
  },
  {
   "cell_type": "code",
   "execution_count": 175,
   "metadata": {},
   "outputs": [
    {
     "data": {
      "text/plain": [
       "[<selenium.webdriver.remote.webelement.WebElement (session=\"e363448b3836ee90a996c442c212ded6\", element=\"884bfe2a-8d7b-4215-979e-f83da7213237\")>]"
      ]
     },
     "execution_count": 175,
     "metadata": {},
     "output_type": "execute_result"
    }
   ],
   "source": [
    "# Lets extract all the tags having job description\n",
    "job_desp_tags=driver.find_elements_by_xpath(\"//div[@class='dang-inner-html']\")\n",
    "job_desp_tags"
   ]
  },
  {
   "cell_type": "code",
   "execution_count": 176,
   "metadata": {},
   "outputs": [],
   "source": [
    "# Exctracting the text from above exctracted tags using for loop\n",
    "for i in job_desp_tags:\n",
    "    job_description.append(i.text)   "
   ]
  },
  {
   "cell_type": "code",
   "execution_count": 177,
   "metadata": {},
   "outputs": [],
   "source": [
    "import pandas as pd\n",
    "jobs_Desp=pd.DataFrame({})\n",
    "jobs_Desp['Description']=job_description"
   ]
  },
  {
   "cell_type": "code",
   "execution_count": 178,
   "metadata": {},
   "outputs": [
    {
     "data": {
      "text/html": [
       "<div>\n",
       "<style scoped>\n",
       "    .dataframe tbody tr th:only-of-type {\n",
       "        vertical-align: middle;\n",
       "    }\n",
       "\n",
       "    .dataframe tbody tr th {\n",
       "        vertical-align: top;\n",
       "    }\n",
       "\n",
       "    .dataframe thead th {\n",
       "        text-align: right;\n",
       "    }\n",
       "</style>\n",
       "<table border=\"1\" class=\"dataframe\">\n",
       "  <thead>\n",
       "    <tr style=\"text-align: right;\">\n",
       "      <th></th>\n",
       "      <th>Description</th>\n",
       "    </tr>\n",
       "  </thead>\n",
       "  <tbody>\n",
       "    <tr>\n",
       "      <th>0</th>\n",
       "      <td>Roles and Responsibilities\\n\\n\\n- Selecting fe...</td>\n",
       "    </tr>\n",
       "    <tr>\n",
       "      <th>1</th>\n",
       "      <td>Roles and Responsibilities\\nUnder guidance, or...</td>\n",
       "    </tr>\n",
       "    <tr>\n",
       "      <th>2</th>\n",
       "      <td>Roles and Responsibilities\\nThe Yantriks Data ...</td>\n",
       "    </tr>\n",
       "    <tr>\n",
       "      <th>3</th>\n",
       "      <td>Day-to-Day Responsibilities\\nDesign and develo...</td>\n",
       "    </tr>\n",
       "    <tr>\n",
       "      <th>4</th>\n",
       "      <td>Job Description\\nAt Philips, data is in the ce...</td>\n",
       "    </tr>\n",
       "    <tr>\n",
       "      <th>5</th>\n",
       "      <td>Please note that this role will be Remote / Ho...</td>\n",
       "    </tr>\n",
       "    <tr>\n",
       "      <th>6</th>\n",
       "      <td>Dear Candidate,\\n\\nGreetings from HCL!!!\\nWe a...</td>\n",
       "    </tr>\n",
       "    <tr>\n",
       "      <th>7</th>\n",
       "      <td>Role Brief\\nAs a Senior data scientist you wil...</td>\n",
       "    </tr>\n",
       "    <tr>\n",
       "      <th>8</th>\n",
       "      <td>Roles and Responsibilities\\nWe are looking for...</td>\n",
       "    </tr>\n",
       "    <tr>\n",
       "      <th>9</th>\n",
       "      <td>Roles and Responsibilities\\nWe are looking for...</td>\n",
       "    </tr>\n",
       "  </tbody>\n",
       "</table>\n",
       "</div>"
      ],
      "text/plain": [
       "                                         Description\n",
       "0  Roles and Responsibilities\\n\\n\\n- Selecting fe...\n",
       "1  Roles and Responsibilities\\nUnder guidance, or...\n",
       "2  Roles and Responsibilities\\nThe Yantriks Data ...\n",
       "3  Day-to-Day Responsibilities\\nDesign and develo...\n",
       "4  Job Description\\nAt Philips, data is in the ce...\n",
       "5  Please note that this role will be Remote / Ho...\n",
       "6  Dear Candidate,\\n\\nGreetings from HCL!!!\\nWe a...\n",
       "7  Role Brief\\nAs a Senior data scientist you wil...\n",
       "8  Roles and Responsibilities\\nWe are looking for...\n",
       "9  Roles and Responsibilities\\nWe are looking for..."
      ]
     },
     "execution_count": 178,
     "metadata": {},
     "output_type": "execute_result"
    }
   ],
   "source": [
    "jobs_Desp"
   ]
  },
  {
   "cell_type": "markdown",
   "metadata": {},
   "source": [
    "# Que--3"
   ]
  },
  {
   "cell_type": "code",
   "execution_count": 4,
   "metadata": {},
   "outputs": [],
   "source": [
    "#connecting to web driver\n",
    "driver = webdriver.Chrome(r\"E:\\FRT\\chromedriver.exe\")"
   ]
  },
  {
   "cell_type": "code",
   "execution_count": 5,
   "metadata": {},
   "outputs": [],
   "source": [
    "url = \"https://www.naukri.com/data-scientist-jobs-in-delhi-ncr?k=data%20scientist&l=delhi%2Fncr&cityType=25.9.31&ctcFilter=3to6\""
   ]
  },
  {
   "cell_type": "code",
   "execution_count": 6,
   "metadata": {},
   "outputs": [],
   "source": [
    "# Lets open the web page through the web driver\n",
    "driver.get(url)"
   ]
  },
  {
   "cell_type": "code",
   "execution_count": 7,
   "metadata": {},
   "outputs": [],
   "source": [
    "job_titles3=[]\n",
    "company_names3=[]\n",
    "experience3=[]\n",
    "job_location3=[]"
   ]
  },
  {
   "cell_type": "code",
   "execution_count": 8,
   "metadata": {},
   "outputs": [
    {
     "data": {
      "text/plain": [
       "[<selenium.webdriver.remote.webelement.WebElement (session=\"521be66034e5b21545852a541f1f39ea\", element=\"0e4fb42a-068b-4c84-9bb7-81f96a48d7f1\")>,\n",
       " <selenium.webdriver.remote.webelement.WebElement (session=\"521be66034e5b21545852a541f1f39ea\", element=\"69424c0e-12b1-4a66-be9b-a7b38b6fffe0\")>,\n",
       " <selenium.webdriver.remote.webelement.WebElement (session=\"521be66034e5b21545852a541f1f39ea\", element=\"30459324-67a1-431f-9c51-2db41029b901\")>,\n",
       " <selenium.webdriver.remote.webelement.WebElement (session=\"521be66034e5b21545852a541f1f39ea\", element=\"9d4f6308-5460-413c-8605-9ff0961cf9a2\")>,\n",
       " <selenium.webdriver.remote.webelement.WebElement (session=\"521be66034e5b21545852a541f1f39ea\", element=\"17a6b3a4-8842-4dc2-a20d-54ce5103ef28\")>,\n",
       " <selenium.webdriver.remote.webelement.WebElement (session=\"521be66034e5b21545852a541f1f39ea\", element=\"e748b913-c288-4293-b5b2-78449e574188\")>,\n",
       " <selenium.webdriver.remote.webelement.WebElement (session=\"521be66034e5b21545852a541f1f39ea\", element=\"0f69abec-651f-46f0-aba5-c8d3ceb3cef4\")>,\n",
       " <selenium.webdriver.remote.webelement.WebElement (session=\"521be66034e5b21545852a541f1f39ea\", element=\"5f36683b-494e-4512-be9d-704f967b6aa9\")>,\n",
       " <selenium.webdriver.remote.webelement.WebElement (session=\"521be66034e5b21545852a541f1f39ea\", element=\"4e4d0b9a-37dc-42dd-b9e0-c48bfe39abd7\")>,\n",
       " <selenium.webdriver.remote.webelement.WebElement (session=\"521be66034e5b21545852a541f1f39ea\", element=\"6a0972e7-9ac9-493c-ae95-e305575e296c\")>]"
      ]
     },
     "execution_count": 8,
     "metadata": {},
     "output_type": "execute_result"
    }
   ],
   "source": [
    "# Lets extract all the tags having job titles tags\n",
    "job_tags3=driver.find_elements_by_xpath(\"//a[@class='title fw500 ellipsis']\")\n",
    "job_tags3[0:10]"
   ]
  },
  {
   "cell_type": "code",
   "execution_count": 9,
   "metadata": {},
   "outputs": [
    {
     "data": {
      "text/plain": [
       "['Data Scientist - Python/Machine Learning',\n",
       " 'Data Scientist - Commercial Planning and Analysis',\n",
       " 'Data Scientist - Machine Learning/ Artificial Intelligence - IT',\n",
       " 'Tech Mahindra hiring For Data Scientist- Noida',\n",
       " 'GCP Skilled Analytics Resources (Data engineer / Data scientists)',\n",
       " 'Data Scientist',\n",
       " 'Data Scientist Machine Learning',\n",
       " 'Data Scientist',\n",
       " 'Business Analyst - Data Scientist',\n",
       " 'Analyst - Data Scientist']"
      ]
     },
     "execution_count": 9,
     "metadata": {},
     "output_type": "execute_result"
    }
   ],
   "source": [
    "# Exctracting the text from above exctracted tags using for loop\n",
    "for i in job_tags3:\n",
    "        job_titles3.append(i.text)\n",
    "job_titles3[0:10]        "
   ]
  },
  {
   "cell_type": "code",
   "execution_count": 10,
   "metadata": {},
   "outputs": [
    {
     "data": {
      "text/plain": [
       "[<selenium.webdriver.remote.webelement.WebElement (session=\"521be66034e5b21545852a541f1f39ea\", element=\"248c2fe9-b32e-42e2-aee9-f94e64fbebd7\")>,\n",
       " <selenium.webdriver.remote.webelement.WebElement (session=\"521be66034e5b21545852a541f1f39ea\", element=\"529f718a-ecec-4659-af8e-5c29350a57b7\")>,\n",
       " <selenium.webdriver.remote.webelement.WebElement (session=\"521be66034e5b21545852a541f1f39ea\", element=\"174a59ed-b6f7-4746-9609-474ac6fe0bda\")>,\n",
       " <selenium.webdriver.remote.webelement.WebElement (session=\"521be66034e5b21545852a541f1f39ea\", element=\"ae380c1f-362f-4461-a0c5-08fa0014bdfe\")>,\n",
       " <selenium.webdriver.remote.webelement.WebElement (session=\"521be66034e5b21545852a541f1f39ea\", element=\"0043b374-ca60-45cf-a514-af9529c5a553\")>,\n",
       " <selenium.webdriver.remote.webelement.WebElement (session=\"521be66034e5b21545852a541f1f39ea\", element=\"877346d9-dc2b-49df-a567-25be0001bbf5\")>,\n",
       " <selenium.webdriver.remote.webelement.WebElement (session=\"521be66034e5b21545852a541f1f39ea\", element=\"a54b670b-6121-437c-998c-7f1e34ffdcfc\")>,\n",
       " <selenium.webdriver.remote.webelement.WebElement (session=\"521be66034e5b21545852a541f1f39ea\", element=\"50222001-f4cd-4b09-a7d6-faee24130f77\")>,\n",
       " <selenium.webdriver.remote.webelement.WebElement (session=\"521be66034e5b21545852a541f1f39ea\", element=\"702e101d-6e2c-4017-a2fa-b501d1b21896\")>,\n",
       " <selenium.webdriver.remote.webelement.WebElement (session=\"521be66034e5b21545852a541f1f39ea\", element=\"23acc661-715f-4260-84b6-1cf5ce92069b\")>,\n",
       " <selenium.webdriver.remote.webelement.WebElement (session=\"521be66034e5b21545852a541f1f39ea\", element=\"c930788e-dcc9-4f64-9f45-3680aef224c7\")>,\n",
       " <selenium.webdriver.remote.webelement.WebElement (session=\"521be66034e5b21545852a541f1f39ea\", element=\"bf8e83a1-535a-405b-8d10-ab20c31ac209\")>,\n",
       " <selenium.webdriver.remote.webelement.WebElement (session=\"521be66034e5b21545852a541f1f39ea\", element=\"bf3ff509-025f-4180-9821-e6214005fd0f\")>,\n",
       " <selenium.webdriver.remote.webelement.WebElement (session=\"521be66034e5b21545852a541f1f39ea\", element=\"8a50c288-81b5-4e2b-97b7-735c3c72f850\")>,\n",
       " <selenium.webdriver.remote.webelement.WebElement (session=\"521be66034e5b21545852a541f1f39ea\", element=\"15e67209-9838-4eb9-bc99-bfbc30b9fe5e\")>,\n",
       " <selenium.webdriver.remote.webelement.WebElement (session=\"521be66034e5b21545852a541f1f39ea\", element=\"6e1eebad-2387-460a-8844-c36da36aa779\")>,\n",
       " <selenium.webdriver.remote.webelement.WebElement (session=\"521be66034e5b21545852a541f1f39ea\", element=\"58efd10a-b649-426c-8242-82eb0db656bb\")>,\n",
       " <selenium.webdriver.remote.webelement.WebElement (session=\"521be66034e5b21545852a541f1f39ea\", element=\"8419cc27-b6f9-482e-abd4-f703df3b3d3d\")>,\n",
       " <selenium.webdriver.remote.webelement.WebElement (session=\"521be66034e5b21545852a541f1f39ea\", element=\"63375ba5-bea1-4ea6-90b3-4478219bbeed\")>,\n",
       " <selenium.webdriver.remote.webelement.WebElement (session=\"521be66034e5b21545852a541f1f39ea\", element=\"e5efc368-01b6-4c60-8ae5-06d9fbd840a5\")>]"
      ]
     },
     "execution_count": 10,
     "metadata": {},
     "output_type": "execute_result"
    }
   ],
   "source": [
    "# Lets extract all the tags having company names tags\n",
    "companies_tags3=driver.find_elements_by_xpath(\"//a[@class='subTitle ellipsis fleft']\")\n",
    "companies_tags3"
   ]
  },
  {
   "cell_type": "code",
   "execution_count": 11,
   "metadata": {},
   "outputs": [
    {
     "data": {
      "text/plain": [
       "['Jubna',\n",
       " 'Air Asia India Limited',\n",
       " 'Talent Acceleration Corridor',\n",
       " 'tech mahindra ltd',\n",
       " 'Aerial Telecom Solutions Pvt. Ltd.',\n",
       " 'IBM India Pvt. Limited',\n",
       " 'Delhivery',\n",
       " 'Eighteen Pixels India Private Limited',\n",
       " 'HyreFox Consultants Pvt Ltd',\n",
       " 'HyreFox Consultants Pvt Ltd']"
      ]
     },
     "execution_count": 11,
     "metadata": {},
     "output_type": "execute_result"
    }
   ],
   "source": [
    "# Exctracting the text from above exctracted tags using for loop\n",
    "for i in companies_tags3:\n",
    "        company_names3.append(i.text)\n",
    "company_names3[0:10]        "
   ]
  },
  {
   "cell_type": "code",
   "execution_count": 12,
   "metadata": {},
   "outputs": [
    {
     "data": {
      "text/plain": [
       "[<selenium.webdriver.remote.webelement.WebElement (session=\"521be66034e5b21545852a541f1f39ea\", element=\"50c360d2-638e-46aa-8ab0-9ae6c233f794\")>,\n",
       " <selenium.webdriver.remote.webelement.WebElement (session=\"521be66034e5b21545852a541f1f39ea\", element=\"59355a0b-70a4-4224-ba37-b90239a0add6\")>,\n",
       " <selenium.webdriver.remote.webelement.WebElement (session=\"521be66034e5b21545852a541f1f39ea\", element=\"55b5602e-83d2-4639-9993-582ddcd5d686\")>,\n",
       " <selenium.webdriver.remote.webelement.WebElement (session=\"521be66034e5b21545852a541f1f39ea\", element=\"17bf14f5-73b0-4476-9ff1-8023f9360d20\")>,\n",
       " <selenium.webdriver.remote.webelement.WebElement (session=\"521be66034e5b21545852a541f1f39ea\", element=\"fe90da43-5fb1-40b0-8d00-05595eb0ec2e\")>,\n",
       " <selenium.webdriver.remote.webelement.WebElement (session=\"521be66034e5b21545852a541f1f39ea\", element=\"3da1b0ec-5dd7-40d5-b92f-c9d0e62d10d8\")>,\n",
       " <selenium.webdriver.remote.webelement.WebElement (session=\"521be66034e5b21545852a541f1f39ea\", element=\"51f6203c-b84e-4352-ab22-72d4b5eaedd3\")>,\n",
       " <selenium.webdriver.remote.webelement.WebElement (session=\"521be66034e5b21545852a541f1f39ea\", element=\"2c0415a2-2dde-4859-a0dd-ec399fcdce8c\")>,\n",
       " <selenium.webdriver.remote.webelement.WebElement (session=\"521be66034e5b21545852a541f1f39ea\", element=\"9ac11ea2-20b6-467a-9aa3-2a66c9efa4fe\")>,\n",
       " <selenium.webdriver.remote.webelement.WebElement (session=\"521be66034e5b21545852a541f1f39ea\", element=\"6051337b-71b2-4712-8bf8-1f4de11436c1\")>,\n",
       " <selenium.webdriver.remote.webelement.WebElement (session=\"521be66034e5b21545852a541f1f39ea\", element=\"b3f840f8-5d8c-47b6-83c7-03ed86cf089e\")>,\n",
       " <selenium.webdriver.remote.webelement.WebElement (session=\"521be66034e5b21545852a541f1f39ea\", element=\"69a434b0-a95a-40b1-aa09-eff8b7e44962\")>,\n",
       " <selenium.webdriver.remote.webelement.WebElement (session=\"521be66034e5b21545852a541f1f39ea\", element=\"cdfc3a62-014c-4f89-b42d-37db03680a5b\")>,\n",
       " <selenium.webdriver.remote.webelement.WebElement (session=\"521be66034e5b21545852a541f1f39ea\", element=\"68154975-0793-4b89-86a9-36f02437871e\")>,\n",
       " <selenium.webdriver.remote.webelement.WebElement (session=\"521be66034e5b21545852a541f1f39ea\", element=\"34973282-bb11-4d76-882b-dcce04448976\")>,\n",
       " <selenium.webdriver.remote.webelement.WebElement (session=\"521be66034e5b21545852a541f1f39ea\", element=\"e34257ca-258c-44fb-9377-682440aa7f38\")>,\n",
       " <selenium.webdriver.remote.webelement.WebElement (session=\"521be66034e5b21545852a541f1f39ea\", element=\"7bc5c8a5-7ebd-4947-88c9-68b7e5f4a123\")>,\n",
       " <selenium.webdriver.remote.webelement.WebElement (session=\"521be66034e5b21545852a541f1f39ea\", element=\"1d9d1b7f-9e90-4159-9b2d-ce941a80d50d\")>,\n",
       " <selenium.webdriver.remote.webelement.WebElement (session=\"521be66034e5b21545852a541f1f39ea\", element=\"68401884-ffda-401e-a211-77bebd61b55e\")>,\n",
       " <selenium.webdriver.remote.webelement.WebElement (session=\"521be66034e5b21545852a541f1f39ea\", element=\"3e2af74e-f3ea-449d-84be-bb668cb7ef13\")>]"
      ]
     },
     "execution_count": 12,
     "metadata": {},
     "output_type": "execute_result"
    }
   ],
   "source": [
    "## Lets extract all the tags having experience_tags\n",
    "experience_tags3=driver.find_elements_by_xpath(\"//li[@class='fleft grey-text br2 placeHolderLi experience']/span[1]\")\n",
    "experience_tags3"
   ]
  },
  {
   "cell_type": "code",
   "execution_count": 13,
   "metadata": {},
   "outputs": [
    {
     "data": {
      "text/plain": [
       "['5-8 Yrs',\n",
       " '1-6 Yrs',\n",
       " '6-11 Yrs',\n",
       " '5-10 Yrs',\n",
       " '3-8 Yrs',\n",
       " '3-5 Yrs',\n",
       " '1-3 Yrs',\n",
       " '2-6 Yrs',\n",
       " '3-5 Yrs',\n",
       " '1-3 Yrs']"
      ]
     },
     "execution_count": 13,
     "metadata": {},
     "output_type": "execute_result"
    }
   ],
   "source": [
    "# Exctracting the text from above exctracted tags using for loop\n",
    "for i in experience_tags3:\n",
    "        experience3.append(i.text)\n",
    "experience3[0:10]  "
   ]
  },
  {
   "cell_type": "code",
   "execution_count": 14,
   "metadata": {},
   "outputs": [
    {
     "data": {
      "text/plain": [
       "[<selenium.webdriver.remote.webelement.WebElement (session=\"521be66034e5b21545852a541f1f39ea\", element=\"68ac3730-85ee-40cd-a07f-0832189c0911\")>,\n",
       " <selenium.webdriver.remote.webelement.WebElement (session=\"521be66034e5b21545852a541f1f39ea\", element=\"dbfd0bef-beb5-45b7-9a3e-9889bddef39c\")>,\n",
       " <selenium.webdriver.remote.webelement.WebElement (session=\"521be66034e5b21545852a541f1f39ea\", element=\"e675739c-92da-4839-8e0e-a22f3d000b4d\")>,\n",
       " <selenium.webdriver.remote.webelement.WebElement (session=\"521be66034e5b21545852a541f1f39ea\", element=\"2c2118ea-0864-4fbd-9f06-747ea91002c8\")>,\n",
       " <selenium.webdriver.remote.webelement.WebElement (session=\"521be66034e5b21545852a541f1f39ea\", element=\"ba421b29-4fe3-4aa9-b968-bc31f13ccec2\")>,\n",
       " <selenium.webdriver.remote.webelement.WebElement (session=\"521be66034e5b21545852a541f1f39ea\", element=\"f8792398-710c-4897-ac66-5fcf41024bc6\")>,\n",
       " <selenium.webdriver.remote.webelement.WebElement (session=\"521be66034e5b21545852a541f1f39ea\", element=\"b8a37750-70c5-4896-b6bb-93bf37a50b48\")>,\n",
       " <selenium.webdriver.remote.webelement.WebElement (session=\"521be66034e5b21545852a541f1f39ea\", element=\"eaad70c8-e43d-4159-95f0-fe114851c316\")>,\n",
       " <selenium.webdriver.remote.webelement.WebElement (session=\"521be66034e5b21545852a541f1f39ea\", element=\"1d497f9c-5646-4835-8b67-07a26c896e02\")>,\n",
       " <selenium.webdriver.remote.webelement.WebElement (session=\"521be66034e5b21545852a541f1f39ea\", element=\"1746fb92-7c10-4cca-907b-06012015fc5d\")>,\n",
       " <selenium.webdriver.remote.webelement.WebElement (session=\"521be66034e5b21545852a541f1f39ea\", element=\"d3bca3fa-10fe-44da-a789-90a46c3bbcb0\")>,\n",
       " <selenium.webdriver.remote.webelement.WebElement (session=\"521be66034e5b21545852a541f1f39ea\", element=\"c772f0e1-d206-4a6c-aa40-42a3a1da8b16\")>,\n",
       " <selenium.webdriver.remote.webelement.WebElement (session=\"521be66034e5b21545852a541f1f39ea\", element=\"6521d0d7-116a-49a4-a1f6-9f75695edadd\")>,\n",
       " <selenium.webdriver.remote.webelement.WebElement (session=\"521be66034e5b21545852a541f1f39ea\", element=\"cfc325b6-b2fe-4d18-8c0e-a71754d2440d\")>,\n",
       " <selenium.webdriver.remote.webelement.WebElement (session=\"521be66034e5b21545852a541f1f39ea\", element=\"551da325-c1a9-4702-95c9-799d6291f84c\")>,\n",
       " <selenium.webdriver.remote.webelement.WebElement (session=\"521be66034e5b21545852a541f1f39ea\", element=\"6453b874-b17f-43e7-94b7-ea3823e95341\")>,\n",
       " <selenium.webdriver.remote.webelement.WebElement (session=\"521be66034e5b21545852a541f1f39ea\", element=\"4ea91e96-a1dc-46fb-8426-d53d9c72c5e9\")>,\n",
       " <selenium.webdriver.remote.webelement.WebElement (session=\"521be66034e5b21545852a541f1f39ea\", element=\"2d66c878-56f0-41c5-940d-65db183f0f1d\")>,\n",
       " <selenium.webdriver.remote.webelement.WebElement (session=\"521be66034e5b21545852a541f1f39ea\", element=\"a5fc3e7a-379a-43b7-a761-50e81bb455a5\")>,\n",
       " <selenium.webdriver.remote.webelement.WebElement (session=\"521be66034e5b21545852a541f1f39ea\", element=\"230db41f-7f83-40de-93ce-39fab2f7b67a\")>]"
      ]
     },
     "execution_count": 14,
     "metadata": {},
     "output_type": "execute_result"
    }
   ],
   "source": [
    "# Lets extract all the tags having location tags\n",
    "job_location_tags3=driver.find_elements_by_xpath(\"//li[@class='fleft grey-text br2 placeHolderLi location']/span[1]\")\n",
    "job_location_tags3"
   ]
  },
  {
   "cell_type": "code",
   "execution_count": 15,
   "metadata": {},
   "outputs": [
    {
     "data": {
      "text/plain": [
       "['Noida',\n",
       " 'Delhi NCR, Gurgaon',\n",
       " 'Delhi/NCR Delhi NCR, Noida',\n",
       " 'Noida',\n",
       " 'Pune, Bengaluru, Gurgaon',\n",
       " 'Gurgaon Gurugram',\n",
       " 'Gurgaon',\n",
       " 'Delhi NCR',\n",
       " 'Gurgaon',\n",
       " 'Gurgaon']"
      ]
     },
     "execution_count": 15,
     "metadata": {},
     "output_type": "execute_result"
    }
   ],
   "source": [
    "# Exctracting the text from above exctracted tags using for loop\n",
    "for i in job_location_tags3:\n",
    "        job_location3.append(i.text)\n",
    "job_location3[0:10]"
   ]
  },
  {
   "cell_type": "code",
   "execution_count": 16,
   "metadata": {},
   "outputs": [],
   "source": [
    "import pandas as pd\n",
    "jobs3=pd.DataFrame({})\n",
    "jobs3['title']=job_titles3[0:10]\n",
    "jobs3['company']=company_names3[0:10]\n",
    "jobs3['experience']=experience3[0:10]\n",
    "jobs3['location']=job_location3[0:10]"
   ]
  },
  {
   "cell_type": "code",
   "execution_count": 17,
   "metadata": {},
   "outputs": [
    {
     "data": {
      "text/html": [
       "<div>\n",
       "<style scoped>\n",
       "    .dataframe tbody tr th:only-of-type {\n",
       "        vertical-align: middle;\n",
       "    }\n",
       "\n",
       "    .dataframe tbody tr th {\n",
       "        vertical-align: top;\n",
       "    }\n",
       "\n",
       "    .dataframe thead th {\n",
       "        text-align: right;\n",
       "    }\n",
       "</style>\n",
       "<table border=\"1\" class=\"dataframe\">\n",
       "  <thead>\n",
       "    <tr style=\"text-align: right;\">\n",
       "      <th></th>\n",
       "      <th>title</th>\n",
       "      <th>company</th>\n",
       "      <th>experience</th>\n",
       "      <th>location</th>\n",
       "    </tr>\n",
       "  </thead>\n",
       "  <tbody>\n",
       "    <tr>\n",
       "      <th>0</th>\n",
       "      <td>Data Scientist - Python/Machine Learning</td>\n",
       "      <td>Jubna</td>\n",
       "      <td>5-8 Yrs</td>\n",
       "      <td>Noida</td>\n",
       "    </tr>\n",
       "    <tr>\n",
       "      <th>1</th>\n",
       "      <td>Data Scientist - Commercial Planning and Analysis</td>\n",
       "      <td>Air Asia India Limited</td>\n",
       "      <td>1-6 Yrs</td>\n",
       "      <td>Delhi NCR, Gurgaon</td>\n",
       "    </tr>\n",
       "    <tr>\n",
       "      <th>2</th>\n",
       "      <td>Data Scientist - Machine Learning/ Artificial ...</td>\n",
       "      <td>Talent Acceleration Corridor</td>\n",
       "      <td>6-11 Yrs</td>\n",
       "      <td>Delhi/NCR Delhi NCR, Noida</td>\n",
       "    </tr>\n",
       "    <tr>\n",
       "      <th>3</th>\n",
       "      <td>Tech Mahindra hiring For Data Scientist- Noida</td>\n",
       "      <td>tech mahindra ltd</td>\n",
       "      <td>5-10 Yrs</td>\n",
       "      <td>Noida</td>\n",
       "    </tr>\n",
       "    <tr>\n",
       "      <th>4</th>\n",
       "      <td>GCP Skilled Analytics Resources (Data engineer...</td>\n",
       "      <td>Aerial Telecom Solutions Pvt. Ltd.</td>\n",
       "      <td>3-8 Yrs</td>\n",
       "      <td>Pune, Bengaluru, Gurgaon</td>\n",
       "    </tr>\n",
       "    <tr>\n",
       "      <th>5</th>\n",
       "      <td>Data Scientist</td>\n",
       "      <td>IBM India Pvt. Limited</td>\n",
       "      <td>3-5 Yrs</td>\n",
       "      <td>Gurgaon Gurugram</td>\n",
       "    </tr>\n",
       "    <tr>\n",
       "      <th>6</th>\n",
       "      <td>Data Scientist Machine Learning</td>\n",
       "      <td>Delhivery</td>\n",
       "      <td>1-3 Yrs</td>\n",
       "      <td>Gurgaon</td>\n",
       "    </tr>\n",
       "    <tr>\n",
       "      <th>7</th>\n",
       "      <td>Data Scientist</td>\n",
       "      <td>Eighteen Pixels India Private Limited</td>\n",
       "      <td>2-6 Yrs</td>\n",
       "      <td>Delhi NCR</td>\n",
       "    </tr>\n",
       "    <tr>\n",
       "      <th>8</th>\n",
       "      <td>Business Analyst - Data Scientist</td>\n",
       "      <td>HyreFox Consultants Pvt Ltd</td>\n",
       "      <td>3-5 Yrs</td>\n",
       "      <td>Gurgaon</td>\n",
       "    </tr>\n",
       "    <tr>\n",
       "      <th>9</th>\n",
       "      <td>Analyst - Data Scientist</td>\n",
       "      <td>HyreFox Consultants Pvt Ltd</td>\n",
       "      <td>1-3 Yrs</td>\n",
       "      <td>Gurgaon</td>\n",
       "    </tr>\n",
       "  </tbody>\n",
       "</table>\n",
       "</div>"
      ],
      "text/plain": [
       "                                               title  \\\n",
       "0           Data Scientist - Python/Machine Learning   \n",
       "1  Data Scientist - Commercial Planning and Analysis   \n",
       "2  Data Scientist - Machine Learning/ Artificial ...   \n",
       "3     Tech Mahindra hiring For Data Scientist- Noida   \n",
       "4  GCP Skilled Analytics Resources (Data engineer...   \n",
       "5                                     Data Scientist   \n",
       "6                    Data Scientist Machine Learning   \n",
       "7                                     Data Scientist   \n",
       "8                  Business Analyst - Data Scientist   \n",
       "9                           Analyst - Data Scientist   \n",
       "\n",
       "                                 company experience  \\\n",
       "0                                  Jubna    5-8 Yrs   \n",
       "1                 Air Asia India Limited    1-6 Yrs   \n",
       "2           Talent Acceleration Corridor   6-11 Yrs   \n",
       "3                      tech mahindra ltd   5-10 Yrs   \n",
       "4     Aerial Telecom Solutions Pvt. Ltd.    3-8 Yrs   \n",
       "5                 IBM India Pvt. Limited    3-5 Yrs   \n",
       "6                              Delhivery    1-3 Yrs   \n",
       "7  Eighteen Pixels India Private Limited    2-6 Yrs   \n",
       "8            HyreFox Consultants Pvt Ltd    3-5 Yrs   \n",
       "9            HyreFox Consultants Pvt Ltd    1-3 Yrs   \n",
       "\n",
       "                     location  \n",
       "0                       Noida  \n",
       "1          Delhi NCR, Gurgaon  \n",
       "2  Delhi/NCR Delhi NCR, Noida  \n",
       "3                       Noida  \n",
       "4    Pune, Bengaluru, Gurgaon  \n",
       "5            Gurgaon Gurugram  \n",
       "6                     Gurgaon  \n",
       "7                   Delhi NCR  \n",
       "8                     Gurgaon  \n",
       "9                     Gurgaon  "
      ]
     },
     "execution_count": 17,
     "metadata": {},
     "output_type": "execute_result"
    }
   ],
   "source": [
    "jobs3"
   ]
  },
  {
   "cell_type": "code",
   "execution_count": 18,
   "metadata": {},
   "outputs": [
    {
     "data": {
      "text/plain": [
       "',title,company,experience,location\\r\\n0,Data Scientist - Python/Machine Learning,Jubna,5-8 Yrs,Noida\\r\\n1,Data Scientist - Commercial Planning and Analysis,Air Asia India Limited,1-6 Yrs,\"Delhi NCR, Gurgaon\"\\r\\n2,Data Scientist - Machine Learning/ Artificial Intelligence - IT,Talent Acceleration Corridor,6-11 Yrs,\"Delhi/NCR Delhi NCR, Noida\"\\r\\n3,Tech Mahindra hiring For Data Scientist- Noida,tech mahindra ltd,5-10 Yrs,Noida\\r\\n4,GCP Skilled Analytics Resources (Data engineer / Data scientists),Aerial Telecom Solutions Pvt. Ltd.,3-8 Yrs,\"Pune, Bengaluru, Gurgaon\"\\r\\n5,Data Scientist,IBM India Pvt. Limited,3-5 Yrs,Gurgaon Gurugram\\r\\n6,Data Scientist Machine Learning,Delhivery,1-3 Yrs,Gurgaon\\r\\n7,Data Scientist,Eighteen Pixels India Private Limited,2-6 Yrs,Delhi NCR\\r\\n8,Business Analyst - Data Scientist,HyreFox Consultants Pvt Ltd,3-5 Yrs,Gurgaon\\r\\n9,Analyst - Data Scientist,HyreFox Consultants Pvt Ltd,1-3 Yrs,Gurgaon\\r\\n'"
      ]
     },
     "execution_count": 18,
     "metadata": {},
     "output_type": "execute_result"
    }
   ],
   "source": [
    "jobs3.to_csv()    # Saving data to csv"
   ]
  },
  {
   "cell_type": "code",
   "execution_count": null,
   "metadata": {},
   "outputs": [],
   "source": []
  },
  {
   "cell_type": "markdown",
   "metadata": {},
   "source": [
    "# Que--4"
   ]
  },
  {
   "cell_type": "code",
   "execution_count": 179,
   "metadata": {},
   "outputs": [],
   "source": [
    "#connecting to web driver\n",
    "driver = webdriver.Chrome(r\"E:\\FRT\\chromedriver.exe\")"
   ]
  },
  {
   "cell_type": "code",
   "execution_count": 180,
   "metadata": {},
   "outputs": [],
   "source": [
    "# specifying the url of the webpage to be scraped\n",
    "url =\"https://www.glassdoor.co.in/Job/noida-data-scientist-jobs-SRCH_IL.0,5_IC4477468_KO6,20.htm\""
   ]
  },
  {
   "cell_type": "code",
   "execution_count": 181,
   "metadata": {},
   "outputs": [],
   "source": [
    "# Lets open the web page through the web driver\n",
    "driver.get(url)"
   ]
  },
  {
   "cell_type": "code",
   "execution_count": 182,
   "metadata": {},
   "outputs": [],
   "source": [
    "# creating 4 empty lists to stored scraped data\n",
    "comp_names=[]\n",
    "no_of_days_ago_posted=[]\n",
    "rating=[]"
   ]
  },
  {
   "cell_type": "code",
   "execution_count": 183,
   "metadata": {},
   "outputs": [
    {
     "data": {
      "text/plain": [
       "[<selenium.webdriver.remote.webelement.WebElement (session=\"5ba3e1bf7912e308efa58beef42917ad\", element=\"4c380a60-218f-4c41-ae87-a56c3a5953dc\")>,\n",
       " <selenium.webdriver.remote.webelement.WebElement (session=\"5ba3e1bf7912e308efa58beef42917ad\", element=\"2d6b276d-00e7-425e-a6e5-b3f1755e06d6\")>,\n",
       " <selenium.webdriver.remote.webelement.WebElement (session=\"5ba3e1bf7912e308efa58beef42917ad\", element=\"7d6214f5-1497-4811-aa5a-4e40b85dfe31\")>,\n",
       " <selenium.webdriver.remote.webelement.WebElement (session=\"5ba3e1bf7912e308efa58beef42917ad\", element=\"a667a943-83d6-4bb2-8825-bd77ed9c63e3\")>,\n",
       " <selenium.webdriver.remote.webelement.WebElement (session=\"5ba3e1bf7912e308efa58beef42917ad\", element=\"cfe14589-f309-4f08-87e6-230e85ef06d5\")>,\n",
       " <selenium.webdriver.remote.webelement.WebElement (session=\"5ba3e1bf7912e308efa58beef42917ad\", element=\"afea1325-7d03-4bc0-8921-94da30d9d17a\")>,\n",
       " <selenium.webdriver.remote.webelement.WebElement (session=\"5ba3e1bf7912e308efa58beef42917ad\", element=\"0145eec7-b882-492c-bb91-d5acb5228bf0\")>,\n",
       " <selenium.webdriver.remote.webelement.WebElement (session=\"5ba3e1bf7912e308efa58beef42917ad\", element=\"d14ec3c7-d5d6-4ab9-b2a5-b14551b01446\")>,\n",
       " <selenium.webdriver.remote.webelement.WebElement (session=\"5ba3e1bf7912e308efa58beef42917ad\", element=\"d987830d-6ee1-42b3-af96-5cbe8313c5fe\")>,\n",
       " <selenium.webdriver.remote.webelement.WebElement (session=\"5ba3e1bf7912e308efa58beef42917ad\", element=\"1cde886f-f7e6-46eb-bb86-9a94fa54b3f5\")>,\n",
       " <selenium.webdriver.remote.webelement.WebElement (session=\"5ba3e1bf7912e308efa58beef42917ad\", element=\"e34d78d2-88f7-4505-8997-753937450210\")>,\n",
       " <selenium.webdriver.remote.webelement.WebElement (session=\"5ba3e1bf7912e308efa58beef42917ad\", element=\"e3f86d8a-b27d-48c1-8079-255eae3eb120\")>,\n",
       " <selenium.webdriver.remote.webelement.WebElement (session=\"5ba3e1bf7912e308efa58beef42917ad\", element=\"0783a4cf-da2b-4779-85e0-a969289fedee\")>,\n",
       " <selenium.webdriver.remote.webelement.WebElement (session=\"5ba3e1bf7912e308efa58beef42917ad\", element=\"c9015a8a-6b08-4e35-8336-3040c4ff6c0c\")>,\n",
       " <selenium.webdriver.remote.webelement.WebElement (session=\"5ba3e1bf7912e308efa58beef42917ad\", element=\"85429cf7-f741-4265-b689-97b0f27f1e2c\")>,\n",
       " <selenium.webdriver.remote.webelement.WebElement (session=\"5ba3e1bf7912e308efa58beef42917ad\", element=\"e9dc93d7-06ba-4bb1-9215-6709b812de7f\")>,\n",
       " <selenium.webdriver.remote.webelement.WebElement (session=\"5ba3e1bf7912e308efa58beef42917ad\", element=\"39728d45-d82e-4c52-abd4-978f815c9549\")>,\n",
       " <selenium.webdriver.remote.webelement.WebElement (session=\"5ba3e1bf7912e308efa58beef42917ad\", element=\"7fcea95a-cdf0-49a6-afa3-72f8528eaf4e\")>,\n",
       " <selenium.webdriver.remote.webelement.WebElement (session=\"5ba3e1bf7912e308efa58beef42917ad\", element=\"7922d556-6491-4f8e-a3f8-fbb4e1cd49d6\")>,\n",
       " <selenium.webdriver.remote.webelement.WebElement (session=\"5ba3e1bf7912e308efa58beef42917ad\", element=\"4485dfe9-3bc0-49a9-b810-a0613f5240cb\")>,\n",
       " <selenium.webdriver.remote.webelement.WebElement (session=\"5ba3e1bf7912e308efa58beef42917ad\", element=\"85f083c5-0f5a-45b1-9489-ee1d6d16508a\")>,\n",
       " <selenium.webdriver.remote.webelement.WebElement (session=\"5ba3e1bf7912e308efa58beef42917ad\", element=\"f5a13169-6024-46f9-825c-accda95219d8\")>,\n",
       " <selenium.webdriver.remote.webelement.WebElement (session=\"5ba3e1bf7912e308efa58beef42917ad\", element=\"6f5e24cc-57f6-44bd-96e4-1a6c0e11bd2e\")>,\n",
       " <selenium.webdriver.remote.webelement.WebElement (session=\"5ba3e1bf7912e308efa58beef42917ad\", element=\"55b49620-e32d-4e9c-8986-7ad529366816\")>,\n",
       " <selenium.webdriver.remote.webelement.WebElement (session=\"5ba3e1bf7912e308efa58beef42917ad\", element=\"6a81272c-134d-4e3a-a502-146f1a7e39a5\")>,\n",
       " <selenium.webdriver.remote.webelement.WebElement (session=\"5ba3e1bf7912e308efa58beef42917ad\", element=\"ba70e3fe-ef05-487c-8965-b01b772089a2\")>,\n",
       " <selenium.webdriver.remote.webelement.WebElement (session=\"5ba3e1bf7912e308efa58beef42917ad\", element=\"5b880b82-0f2d-4783-8ebc-2dc7900a5194\")>,\n",
       " <selenium.webdriver.remote.webelement.WebElement (session=\"5ba3e1bf7912e308efa58beef42917ad\", element=\"aaebeb31-a481-4ab4-a75c-503df100bf02\")>,\n",
       " <selenium.webdriver.remote.webelement.WebElement (session=\"5ba3e1bf7912e308efa58beef42917ad\", element=\"d799ca75-a60e-4f73-9525-f7b399b3f43d\")>,\n",
       " <selenium.webdriver.remote.webelement.WebElement (session=\"5ba3e1bf7912e308efa58beef42917ad\", element=\"c499aa47-e247-45d8-8fbd-139fc0f65b85\")>,\n",
       " <selenium.webdriver.remote.webelement.WebElement (session=\"5ba3e1bf7912e308efa58beef42917ad\", element=\"f659b15d-8d07-436a-9ff4-9cd7b30d6ed3\")>]"
      ]
     },
     "execution_count": 183,
     "metadata": {},
     "output_type": "execute_result"
    }
   ],
   "source": [
    "# Lets extract all the tags having company tags\n",
    "comp_tags=driver.find_elements_by_xpath(\"//a[@class=' css-10l5u4p e1n63ojh0 jobLink']\")\n",
    "comp_tags"
   ]
  },
  {
   "cell_type": "code",
   "execution_count": 184,
   "metadata": {},
   "outputs": [
    {
     "data": {
      "text/plain": [
       "['BlackRock',\n",
       " 'Genpact',\n",
       " 'Terra Economics & Analytics Lab (TEAL)',\n",
       " 'Builder.ai - What would you Build?',\n",
       " 'Brickred',\n",
       " 'Donaldson',\n",
       " 'Priority Vendor',\n",
       " 'abc consultants',\n",
       " 'Algoscale',\n",
       " 'Gauge Data Solutions']"
      ]
     },
     "execution_count": 184,
     "metadata": {},
     "output_type": "execute_result"
    }
   ],
   "source": [
    " # Exctracting the text from above exctracted tags using for loop\n",
    "for i in comp_tags:\n",
    "        comp_names.append(i.text)\n",
    "comp_names[0:10]        "
   ]
  },
  {
   "cell_type": "code",
   "execution_count": 185,
   "metadata": {},
   "outputs": [
    {
     "data": {
      "text/plain": [
       "[<selenium.webdriver.remote.webelement.WebElement (session=\"5ba3e1bf7912e308efa58beef42917ad\", element=\"42430372-fdac-4c7e-98ae-524f50c9cb19\")>,\n",
       " <selenium.webdriver.remote.webelement.WebElement (session=\"5ba3e1bf7912e308efa58beef42917ad\", element=\"433b66f2-3d81-4204-9691-286662c7e7f9\")>,\n",
       " <selenium.webdriver.remote.webelement.WebElement (session=\"5ba3e1bf7912e308efa58beef42917ad\", element=\"54947225-8696-4561-8fce-0c15fa6ffd74\")>,\n",
       " <selenium.webdriver.remote.webelement.WebElement (session=\"5ba3e1bf7912e308efa58beef42917ad\", element=\"886da191-dce9-4ced-8019-1a5eee9999fb\")>,\n",
       " <selenium.webdriver.remote.webelement.WebElement (session=\"5ba3e1bf7912e308efa58beef42917ad\", element=\"c00f4245-d70f-47de-b195-81b79ffe24eb\")>,\n",
       " <selenium.webdriver.remote.webelement.WebElement (session=\"5ba3e1bf7912e308efa58beef42917ad\", element=\"d7924ef9-d525-469c-9ea3-c03cc0ccd7be\")>,\n",
       " <selenium.webdriver.remote.webelement.WebElement (session=\"5ba3e1bf7912e308efa58beef42917ad\", element=\"8afd9cc2-19ec-4fb0-a5f7-9230f5ac08c4\")>,\n",
       " <selenium.webdriver.remote.webelement.WebElement (session=\"5ba3e1bf7912e308efa58beef42917ad\", element=\"a82d57e8-6948-4b36-a0cb-f6e09ccbc014\")>,\n",
       " <selenium.webdriver.remote.webelement.WebElement (session=\"5ba3e1bf7912e308efa58beef42917ad\", element=\"8102ed45-303a-45bc-8db8-40b1927fd4d8\")>,\n",
       " <selenium.webdriver.remote.webelement.WebElement (session=\"5ba3e1bf7912e308efa58beef42917ad\", element=\"55129e33-8588-4443-b635-21baa26bd3df\")>,\n",
       " <selenium.webdriver.remote.webelement.WebElement (session=\"5ba3e1bf7912e308efa58beef42917ad\", element=\"3fd5d25e-ec99-4f75-8ccd-5be2f5740aa5\")>,\n",
       " <selenium.webdriver.remote.webelement.WebElement (session=\"5ba3e1bf7912e308efa58beef42917ad\", element=\"3cdf0f0a-a076-45ad-b513-9e72451e95de\")>,\n",
       " <selenium.webdriver.remote.webelement.WebElement (session=\"5ba3e1bf7912e308efa58beef42917ad\", element=\"0971dbe4-ee6f-4d43-9280-f3f30bedad58\")>,\n",
       " <selenium.webdriver.remote.webelement.WebElement (session=\"5ba3e1bf7912e308efa58beef42917ad\", element=\"6bd802da-01b6-4e83-8cab-82a080be0f4c\")>,\n",
       " <selenium.webdriver.remote.webelement.WebElement (session=\"5ba3e1bf7912e308efa58beef42917ad\", element=\"cd7848b0-feb8-44c7-9b5d-9c2315b1175f\")>,\n",
       " <selenium.webdriver.remote.webelement.WebElement (session=\"5ba3e1bf7912e308efa58beef42917ad\", element=\"328d16dd-1ba0-4bd4-97f5-5027dd22971d\")>,\n",
       " <selenium.webdriver.remote.webelement.WebElement (session=\"5ba3e1bf7912e308efa58beef42917ad\", element=\"38c42ea2-6cd4-4fd8-801e-4761025fc237\")>,\n",
       " <selenium.webdriver.remote.webelement.WebElement (session=\"5ba3e1bf7912e308efa58beef42917ad\", element=\"f1a853bc-8fdc-4a88-8168-0d92de82f33b\")>,\n",
       " <selenium.webdriver.remote.webelement.WebElement (session=\"5ba3e1bf7912e308efa58beef42917ad\", element=\"3adfced3-48c9-4079-84e1-c3b6b6e0d965\")>,\n",
       " <selenium.webdriver.remote.webelement.WebElement (session=\"5ba3e1bf7912e308efa58beef42917ad\", element=\"0a53d5fa-fa85-4aaf-8a6b-f347e935f478\")>,\n",
       " <selenium.webdriver.remote.webelement.WebElement (session=\"5ba3e1bf7912e308efa58beef42917ad\", element=\"9a7e31b2-d873-4bf2-8d19-ee24488c80ff\")>,\n",
       " <selenium.webdriver.remote.webelement.WebElement (session=\"5ba3e1bf7912e308efa58beef42917ad\", element=\"8ac5d133-26dd-4fe6-b591-7cdbc4827e27\")>,\n",
       " <selenium.webdriver.remote.webelement.WebElement (session=\"5ba3e1bf7912e308efa58beef42917ad\", element=\"6dd35f01-f14a-4ae3-bf63-f7140c7e42b0\")>,\n",
       " <selenium.webdriver.remote.webelement.WebElement (session=\"5ba3e1bf7912e308efa58beef42917ad\", element=\"8ad4e1fc-c1ef-48da-a881-df34f8b7c575\")>,\n",
       " <selenium.webdriver.remote.webelement.WebElement (session=\"5ba3e1bf7912e308efa58beef42917ad\", element=\"90654a02-9bdd-45ed-b9bc-e7ac7acc156d\")>,\n",
       " <selenium.webdriver.remote.webelement.WebElement (session=\"5ba3e1bf7912e308efa58beef42917ad\", element=\"ba9c320a-fc35-41f2-9814-e1efca920750\")>,\n",
       " <selenium.webdriver.remote.webelement.WebElement (session=\"5ba3e1bf7912e308efa58beef42917ad\", element=\"363c39f8-f959-4c4a-b342-190988728daa\")>,\n",
       " <selenium.webdriver.remote.webelement.WebElement (session=\"5ba3e1bf7912e308efa58beef42917ad\", element=\"993568c7-b7ab-4d8b-95a8-5f0bef1fd6b4\")>,\n",
       " <selenium.webdriver.remote.webelement.WebElement (session=\"5ba3e1bf7912e308efa58beef42917ad\", element=\"4b36278d-ed74-4008-a5b9-558e456c369d\")>,\n",
       " <selenium.webdriver.remote.webelement.WebElement (session=\"5ba3e1bf7912e308efa58beef42917ad\", element=\"348152d4-5612-452d-8fc5-e7250a02ec1a\")>,\n",
       " <selenium.webdriver.remote.webelement.WebElement (session=\"5ba3e1bf7912e308efa58beef42917ad\", element=\"728ba635-05c2-4ec6-9ee6-84eee4151267\")>]"
      ]
     },
     "execution_count": 185,
     "metadata": {},
     "output_type": "execute_result"
    }
   ],
   "source": [
    "# Lets extract all the tags having days\n",
    "days_tags=driver.find_elements_by_xpath(\"//div[@class='d-flex align-items-end pl-std css-mi55ob']\")\n",
    "days_tags"
   ]
  },
  {
   "cell_type": "code",
   "execution_count": 186,
   "metadata": {},
   "outputs": [
    {
     "data": {
      "text/plain": [
       "['15d', '8d', '8d', '22d', '26d', '24h', '7d', '7d', '7d', '7d']"
      ]
     },
     "execution_count": 186,
     "metadata": {},
     "output_type": "execute_result"
    }
   ],
   "source": [
    "# Exctracting the text from above exctracted tags using for loop\n",
    "for i in days_tags:\n",
    "        no_of_days_ago_posted.append(i.text)\n",
    "no_of_days_ago_posted[0:10]        "
   ]
  },
  {
   "cell_type": "code",
   "execution_count": 187,
   "metadata": {},
   "outputs": [
    {
     "data": {
      "text/plain": [
       "[<selenium.webdriver.remote.webelement.WebElement (session=\"5ba3e1bf7912e308efa58beef42917ad\", element=\"80a3a60b-930b-4e2b-a030-9caa94ad254b\")>,\n",
       " <selenium.webdriver.remote.webelement.WebElement (session=\"5ba3e1bf7912e308efa58beef42917ad\", element=\"04cc506a-116c-4b53-9654-76c82b697219\")>,\n",
       " <selenium.webdriver.remote.webelement.WebElement (session=\"5ba3e1bf7912e308efa58beef42917ad\", element=\"45d2710e-9bd3-4c27-9477-c833383746cd\")>,\n",
       " <selenium.webdriver.remote.webelement.WebElement (session=\"5ba3e1bf7912e308efa58beef42917ad\", element=\"606606a4-2533-483c-9d82-d229a393cc9e\")>,\n",
       " <selenium.webdriver.remote.webelement.WebElement (session=\"5ba3e1bf7912e308efa58beef42917ad\", element=\"a2c93dfb-36d0-4fc9-8b0e-50402fa9ed8f\")>,\n",
       " <selenium.webdriver.remote.webelement.WebElement (session=\"5ba3e1bf7912e308efa58beef42917ad\", element=\"ef1f786f-b072-475c-915e-e3206d0d5710\")>,\n",
       " <selenium.webdriver.remote.webelement.WebElement (session=\"5ba3e1bf7912e308efa58beef42917ad\", element=\"357146c1-826c-4d2d-ba89-f29dce2718d6\")>,\n",
       " <selenium.webdriver.remote.webelement.WebElement (session=\"5ba3e1bf7912e308efa58beef42917ad\", element=\"dbe9b77a-2372-41c0-8ede-a1e3d8f6dab6\")>,\n",
       " <selenium.webdriver.remote.webelement.WebElement (session=\"5ba3e1bf7912e308efa58beef42917ad\", element=\"f4eb7179-0796-4a28-a6e0-f54f7e1de779\")>,\n",
       " <selenium.webdriver.remote.webelement.WebElement (session=\"5ba3e1bf7912e308efa58beef42917ad\", element=\"148caf18-4af3-44c8-9c68-19918043b9a7\")>,\n",
       " <selenium.webdriver.remote.webelement.WebElement (session=\"5ba3e1bf7912e308efa58beef42917ad\", element=\"e3d2bd59-e21e-4033-9638-277e89365312\")>,\n",
       " <selenium.webdriver.remote.webelement.WebElement (session=\"5ba3e1bf7912e308efa58beef42917ad\", element=\"2c64ce58-2a96-4d8f-b39e-c2f683cf8852\")>,\n",
       " <selenium.webdriver.remote.webelement.WebElement (session=\"5ba3e1bf7912e308efa58beef42917ad\", element=\"33267599-6268-4112-99fa-7f6e989b1261\")>,\n",
       " <selenium.webdriver.remote.webelement.WebElement (session=\"5ba3e1bf7912e308efa58beef42917ad\", element=\"ede28fc5-5171-4347-8a02-1bbab1355ead\")>,\n",
       " <selenium.webdriver.remote.webelement.WebElement (session=\"5ba3e1bf7912e308efa58beef42917ad\", element=\"fb999a6d-3df3-4569-a78f-f62bfc8d0c3b\")>,\n",
       " <selenium.webdriver.remote.webelement.WebElement (session=\"5ba3e1bf7912e308efa58beef42917ad\", element=\"53982276-3aca-4c7b-96ad-ffea28718caa\")>,\n",
       " <selenium.webdriver.remote.webelement.WebElement (session=\"5ba3e1bf7912e308efa58beef42917ad\", element=\"319f8a67-477b-464b-b85c-cee4f10de80e\")>,\n",
       " <selenium.webdriver.remote.webelement.WebElement (session=\"5ba3e1bf7912e308efa58beef42917ad\", element=\"76ff7138-5289-4deb-bcc2-27de3b082a3e\")>,\n",
       " <selenium.webdriver.remote.webelement.WebElement (session=\"5ba3e1bf7912e308efa58beef42917ad\", element=\"a1de9481-d67f-489d-ba78-dee37499af86\")>,\n",
       " <selenium.webdriver.remote.webelement.WebElement (session=\"5ba3e1bf7912e308efa58beef42917ad\", element=\"a3ab5a3a-6d49-4bc1-8b5b-932f99b2e078\")>,\n",
       " <selenium.webdriver.remote.webelement.WebElement (session=\"5ba3e1bf7912e308efa58beef42917ad\", element=\"e5e19041-8a3e-4a7c-84c6-83e6fa2f24e3\")>,\n",
       " <selenium.webdriver.remote.webelement.WebElement (session=\"5ba3e1bf7912e308efa58beef42917ad\", element=\"06c1ed49-0dfc-4052-bb1f-9daeef279cd9\")>,\n",
       " <selenium.webdriver.remote.webelement.WebElement (session=\"5ba3e1bf7912e308efa58beef42917ad\", element=\"e4b7053a-d931-4267-8f87-5ef783b88482\")>,\n",
       " <selenium.webdriver.remote.webelement.WebElement (session=\"5ba3e1bf7912e308efa58beef42917ad\", element=\"27cbe22d-7b5d-4324-bd2e-43e8ddaf5057\")>,\n",
       " <selenium.webdriver.remote.webelement.WebElement (session=\"5ba3e1bf7912e308efa58beef42917ad\", element=\"84522b61-a87b-4e39-b918-37e847ad9b7e\")>,\n",
       " <selenium.webdriver.remote.webelement.WebElement (session=\"5ba3e1bf7912e308efa58beef42917ad\", element=\"418e6870-db4f-4dd6-8681-428479299776\")>]"
      ]
     },
     "execution_count": 187,
     "metadata": {},
     "output_type": "execute_result"
    }
   ],
   "source": [
    "# Lets extract all the tags having ratings tags\n",
    "rating_tags=driver.find_elements_by_xpath(\"//span[@class='compactStars ']\")\n",
    "rating_tags"
   ]
  },
  {
   "cell_type": "code",
   "execution_count": 188,
   "metadata": {},
   "outputs": [
    {
     "data": {
      "text/plain": [
       "['4.1', '3.8', '4.9', '3.6', '3.7', '3.8', '4', '4.2', '3.7', '3.1']"
      ]
     },
     "execution_count": 188,
     "metadata": {},
     "output_type": "execute_result"
    }
   ],
   "source": [
    "# Exctracting the text from above exctracted tags using for loop\n",
    "for i in rating_tags:\n",
    "        rating.append(i.text)\n",
    "rating[0:10]        "
   ]
  },
  {
   "cell_type": "code",
   "execution_count": 189,
   "metadata": {},
   "outputs": [],
   "source": [
    "import pandas as pd\n",
    "jobs4=pd.DataFrame({})\n",
    "jobs4['company name']=comp_names[0:10]\n",
    "jobs4['No of days ago posted']=no_of_days_ago_posted[0:10]\n",
    "jobs4['Ratings']=rating[0:10]"
   ]
  },
  {
   "cell_type": "code",
   "execution_count": 190,
   "metadata": {},
   "outputs": [
    {
     "data": {
      "text/html": [
       "<div>\n",
       "<style scoped>\n",
       "    .dataframe tbody tr th:only-of-type {\n",
       "        vertical-align: middle;\n",
       "    }\n",
       "\n",
       "    .dataframe tbody tr th {\n",
       "        vertical-align: top;\n",
       "    }\n",
       "\n",
       "    .dataframe thead th {\n",
       "        text-align: right;\n",
       "    }\n",
       "</style>\n",
       "<table border=\"1\" class=\"dataframe\">\n",
       "  <thead>\n",
       "    <tr style=\"text-align: right;\">\n",
       "      <th></th>\n",
       "      <th>company name</th>\n",
       "      <th>No of days ago posted</th>\n",
       "      <th>Ratings</th>\n",
       "    </tr>\n",
       "  </thead>\n",
       "  <tbody>\n",
       "    <tr>\n",
       "      <th>0</th>\n",
       "      <td>BlackRock</td>\n",
       "      <td>15d</td>\n",
       "      <td>4.1</td>\n",
       "    </tr>\n",
       "    <tr>\n",
       "      <th>1</th>\n",
       "      <td>Genpact</td>\n",
       "      <td>8d</td>\n",
       "      <td>3.8</td>\n",
       "    </tr>\n",
       "    <tr>\n",
       "      <th>2</th>\n",
       "      <td>Terra Economics &amp; Analytics Lab (TEAL)</td>\n",
       "      <td>8d</td>\n",
       "      <td>4.9</td>\n",
       "    </tr>\n",
       "    <tr>\n",
       "      <th>3</th>\n",
       "      <td>Builder.ai - What would you Build?</td>\n",
       "      <td>22d</td>\n",
       "      <td>3.6</td>\n",
       "    </tr>\n",
       "    <tr>\n",
       "      <th>4</th>\n",
       "      <td>Brickred</td>\n",
       "      <td>26d</td>\n",
       "      <td>3.7</td>\n",
       "    </tr>\n",
       "    <tr>\n",
       "      <th>5</th>\n",
       "      <td>Donaldson</td>\n",
       "      <td>24h</td>\n",
       "      <td>3.8</td>\n",
       "    </tr>\n",
       "    <tr>\n",
       "      <th>6</th>\n",
       "      <td>Priority Vendor</td>\n",
       "      <td>7d</td>\n",
       "      <td>4</td>\n",
       "    </tr>\n",
       "    <tr>\n",
       "      <th>7</th>\n",
       "      <td>abc consultants</td>\n",
       "      <td>7d</td>\n",
       "      <td>4.2</td>\n",
       "    </tr>\n",
       "    <tr>\n",
       "      <th>8</th>\n",
       "      <td>Algoscale</td>\n",
       "      <td>7d</td>\n",
       "      <td>3.7</td>\n",
       "    </tr>\n",
       "    <tr>\n",
       "      <th>9</th>\n",
       "      <td>Gauge Data Solutions</td>\n",
       "      <td>7d</td>\n",
       "      <td>3.1</td>\n",
       "    </tr>\n",
       "  </tbody>\n",
       "</table>\n",
       "</div>"
      ],
      "text/plain": [
       "                             company name No of days ago posted Ratings\n",
       "0                               BlackRock                   15d     4.1\n",
       "1                                 Genpact                    8d     3.8\n",
       "2  Terra Economics & Analytics Lab (TEAL)                    8d     4.9\n",
       "3      Builder.ai - What would you Build?                   22d     3.6\n",
       "4                                Brickred                   26d     3.7\n",
       "5                               Donaldson                   24h     3.8\n",
       "6                         Priority Vendor                    7d       4\n",
       "7                         abc consultants                    7d     4.2\n",
       "8                               Algoscale                    7d     3.7\n",
       "9                    Gauge Data Solutions                    7d     3.1"
      ]
     },
     "execution_count": 190,
     "metadata": {},
     "output_type": "execute_result"
    }
   ],
   "source": [
    "jobs4"
   ]
  },
  {
   "cell_type": "code",
   "execution_count": 191,
   "metadata": {},
   "outputs": [
    {
     "data": {
      "text/plain": [
       "',company name,No of days ago posted,Ratings\\r\\n0,BlackRock,15d,4.1\\r\\n1,Genpact,8d,3.8\\r\\n2,Terra Economics & Analytics Lab (TEAL),8d,4.9\\r\\n3,Builder.ai - What would you Build?,22d,3.6\\r\\n4,Brickred,26d,3.7\\r\\n5,Donaldson,24h,3.8\\r\\n6,Priority Vendor,7d,4\\r\\n7,abc consultants,7d,4.2\\r\\n8,Algoscale,7d,3.7\\r\\n9,Gauge Data Solutions,7d,3.1\\r\\n'"
      ]
     },
     "execution_count": 191,
     "metadata": {},
     "output_type": "execute_result"
    }
   ],
   "source": [
    "jobs4.to_csv()"
   ]
  },
  {
   "cell_type": "markdown",
   "metadata": {},
   "source": [
    "# Que--5"
   ]
  },
  {
   "cell_type": "code",
   "execution_count": 192,
   "metadata": {},
   "outputs": [],
   "source": [
    "#connecting to web driver\n",
    "driver = webdriver.Chrome(r\"E:\\FRT\\chromedriver.exe\")"
   ]
  },
  {
   "cell_type": "code",
   "execution_count": 193,
   "metadata": {},
   "outputs": [],
   "source": [
    "# specifying the url of the webpage to be scraped\n",
    "url =\"https://www.glassdoor.co.in/Salaries/new-delhi-data-scientist-salary-SRCH_IL.0,9_IM1083_KO10,24.htm?clickSource=searchBtn\""
   ]
  },
  {
   "cell_type": "code",
   "execution_count": 194,
   "metadata": {},
   "outputs": [],
   "source": [
    "# Lets open the web page through the web driver\n",
    "driver.get(url)"
   ]
  },
  {
   "cell_type": "code",
   "execution_count": 195,
   "metadata": {},
   "outputs": [],
   "source": [
    "# creating 4 empty lists to stored scraped data\n",
    "comp_names=[]\n",
    "No_of_salaries=[]\n",
    "avg_salary=[]\n",
    "min_salary=[]\n",
    "max_salary=[]"
   ]
  },
  {
   "cell_type": "code",
   "execution_count": 196,
   "metadata": {},
   "outputs": [
    {
     "data": {
      "text/plain": [
       "[<selenium.webdriver.remote.webelement.WebElement (session=\"b5858bf858f30ee16f5e75b4e66b02cb\", element=\"98ae0c4c-644b-41c5-9130-090bde92404d\")>,\n",
       " <selenium.webdriver.remote.webelement.WebElement (session=\"b5858bf858f30ee16f5e75b4e66b02cb\", element=\"6f36d246-72e5-4f73-b0b9-d54a30201691\")>,\n",
       " <selenium.webdriver.remote.webelement.WebElement (session=\"b5858bf858f30ee16f5e75b4e66b02cb\", element=\"3a8c15e9-701c-4bfa-ab46-c437ab2406cd\")>,\n",
       " <selenium.webdriver.remote.webelement.WebElement (session=\"b5858bf858f30ee16f5e75b4e66b02cb\", element=\"ca57d320-0140-46ce-93b3-26a5c37ed67a\")>,\n",
       " <selenium.webdriver.remote.webelement.WebElement (session=\"b5858bf858f30ee16f5e75b4e66b02cb\", element=\"ae4ce0bf-1065-490d-9760-82fdd580c370\")>,\n",
       " <selenium.webdriver.remote.webelement.WebElement (session=\"b5858bf858f30ee16f5e75b4e66b02cb\", element=\"d028bc4e-9b42-4a5d-8f95-c0a6a3343ce2\")>,\n",
       " <selenium.webdriver.remote.webelement.WebElement (session=\"b5858bf858f30ee16f5e75b4e66b02cb\", element=\"32f182bd-b5e1-47a9-83b9-04cd72e70f35\")>,\n",
       " <selenium.webdriver.remote.webelement.WebElement (session=\"b5858bf858f30ee16f5e75b4e66b02cb\", element=\"bc42f7e9-0e64-4765-a86b-49e110dffa8d\")>,\n",
       " <selenium.webdriver.remote.webelement.WebElement (session=\"b5858bf858f30ee16f5e75b4e66b02cb\", element=\"79007492-2d8f-4dbc-990d-c45e6e6520ed\")>,\n",
       " <selenium.webdriver.remote.webelement.WebElement (session=\"b5858bf858f30ee16f5e75b4e66b02cb\", element=\"7489580f-ecdd-44b5-8039-95a9342aff9b\")>,\n",
       " <selenium.webdriver.remote.webelement.WebElement (session=\"b5858bf858f30ee16f5e75b4e66b02cb\", element=\"0d87fd82-d488-4259-b443-b1f6895f8053\")>,\n",
       " <selenium.webdriver.remote.webelement.WebElement (session=\"b5858bf858f30ee16f5e75b4e66b02cb\", element=\"52d3c97f-075d-48b0-a66e-dfb5945817b0\")>,\n",
       " <selenium.webdriver.remote.webelement.WebElement (session=\"b5858bf858f30ee16f5e75b4e66b02cb\", element=\"f3e600d0-ea3a-4754-be54-63e3990f3914\")>,\n",
       " <selenium.webdriver.remote.webelement.WebElement (session=\"b5858bf858f30ee16f5e75b4e66b02cb\", element=\"19b6c3f6-685e-4bc1-9e87-a94ff1921fc2\")>,\n",
       " <selenium.webdriver.remote.webelement.WebElement (session=\"b5858bf858f30ee16f5e75b4e66b02cb\", element=\"7f175935-181e-4afe-afd4-f162d3e7a6d1\")>,\n",
       " <selenium.webdriver.remote.webelement.WebElement (session=\"b5858bf858f30ee16f5e75b4e66b02cb\", element=\"673c8d01-8a45-46fe-b6f6-30bf66bca3b3\")>,\n",
       " <selenium.webdriver.remote.webelement.WebElement (session=\"b5858bf858f30ee16f5e75b4e66b02cb\", element=\"59af870b-b061-427d-8252-28ab4174932f\")>,\n",
       " <selenium.webdriver.remote.webelement.WebElement (session=\"b5858bf858f30ee16f5e75b4e66b02cb\", element=\"e5fb5338-348f-4943-9291-b41411c8d7fb\")>,\n",
       " <selenium.webdriver.remote.webelement.WebElement (session=\"b5858bf858f30ee16f5e75b4e66b02cb\", element=\"ad4fcb25-b88f-49b9-9407-1dc4965c42a6\")>,\n",
       " <selenium.webdriver.remote.webelement.WebElement (session=\"b5858bf858f30ee16f5e75b4e66b02cb\", element=\"7492e6bd-5d63-42e3-9927-ace287fdab43\")>]"
      ]
     },
     "execution_count": 196,
     "metadata": {},
     "output_type": "execute_result"
    }
   ],
   "source": [
    "# Lets extract all the tags having company tags\n",
    "comp_tags=driver.find_elements_by_xpath(\"//p[@class='m-0 ']\")\n",
    "comp_tags"
   ]
  },
  {
   "cell_type": "code",
   "execution_count": 197,
   "metadata": {},
   "outputs": [
    {
     "data": {
      "text/plain": [
       "['Delhivery',\n",
       " 'Accenture',\n",
       " 'Ericsson-Worldwide',\n",
       " 'Tata Consultancy Services',\n",
       " 'IBM',\n",
       " 'UnitedHealth Group',\n",
       " 'Valiance Solutions',\n",
       " 'Innovaccer',\n",
       " 'Cognizant Technology Solutions',\n",
       " 'ZS Associates',\n",
       " 'OYO',\n",
       " 'EXL Service',\n",
       " 'Optum',\n",
       " 'Sprinklr',\n",
       " 'dunnhumby',\n",
       " 'Algo8.ai',\n",
       " 'Publicis Sapient',\n",
       " 'Nagarro',\n",
       " 'Times Internet',\n",
       " 'CARS24.com']"
      ]
     },
     "execution_count": 197,
     "metadata": {},
     "output_type": "execute_result"
    }
   ],
   "source": [
    "# Exctracting the text from above exctracted tags using for loop\n",
    "for i in comp_tags:\n",
    "        comp_names.append(i.text)\n",
    "comp_names      "
   ]
  },
  {
   "cell_type": "code",
   "execution_count": 198,
   "metadata": {},
   "outputs": [
    {
     "data": {
      "text/plain": [
       "[<selenium.webdriver.remote.webelement.WebElement (session=\"b5858bf858f30ee16f5e75b4e66b02cb\", element=\"ae7bab99-9a23-425c-a4c3-7891b7b8934f\")>,\n",
       " <selenium.webdriver.remote.webelement.WebElement (session=\"b5858bf858f30ee16f5e75b4e66b02cb\", element=\"a5c6454d-c142-4630-9993-5f3db1369838\")>,\n",
       " <selenium.webdriver.remote.webelement.WebElement (session=\"b5858bf858f30ee16f5e75b4e66b02cb\", element=\"0631bac3-d738-4ee4-8aae-d625dbda049f\")>,\n",
       " <selenium.webdriver.remote.webelement.WebElement (session=\"b5858bf858f30ee16f5e75b4e66b02cb\", element=\"ec806979-3ecf-4dc3-96fe-76c8b7f817f5\")>,\n",
       " <selenium.webdriver.remote.webelement.WebElement (session=\"b5858bf858f30ee16f5e75b4e66b02cb\", element=\"8a374c6f-e98a-4e86-8466-1de5cf899c7f\")>,\n",
       " <selenium.webdriver.remote.webelement.WebElement (session=\"b5858bf858f30ee16f5e75b4e66b02cb\", element=\"8d102c82-421d-488e-b299-2545b7070ac5\")>,\n",
       " <selenium.webdriver.remote.webelement.WebElement (session=\"b5858bf858f30ee16f5e75b4e66b02cb\", element=\"c4aac4d5-d0cf-4b5d-b9f3-9f09da35534c\")>,\n",
       " <selenium.webdriver.remote.webelement.WebElement (session=\"b5858bf858f30ee16f5e75b4e66b02cb\", element=\"fbec34ef-0a66-490a-894d-f3922f96d717\")>,\n",
       " <selenium.webdriver.remote.webelement.WebElement (session=\"b5858bf858f30ee16f5e75b4e66b02cb\", element=\"d195f2f9-ed8a-4cdd-bf64-e62a3915aca5\")>,\n",
       " <selenium.webdriver.remote.webelement.WebElement (session=\"b5858bf858f30ee16f5e75b4e66b02cb\", element=\"65ef49c8-d9f5-4d05-a672-f88f60bada45\")>,\n",
       " <selenium.webdriver.remote.webelement.WebElement (session=\"b5858bf858f30ee16f5e75b4e66b02cb\", element=\"2ec8b1ab-db81-4bdc-9666-6aad6a627dfc\")>,\n",
       " <selenium.webdriver.remote.webelement.WebElement (session=\"b5858bf858f30ee16f5e75b4e66b02cb\", element=\"bc63a148-623b-4a75-bfff-ee60cc3451fc\")>,\n",
       " <selenium.webdriver.remote.webelement.WebElement (session=\"b5858bf858f30ee16f5e75b4e66b02cb\", element=\"e94af756-9273-4ff7-8a5b-c0485b2818b6\")>,\n",
       " <selenium.webdriver.remote.webelement.WebElement (session=\"b5858bf858f30ee16f5e75b4e66b02cb\", element=\"d86845f4-259e-4ffb-9b75-2bf7e0493145\")>,\n",
       " <selenium.webdriver.remote.webelement.WebElement (session=\"b5858bf858f30ee16f5e75b4e66b02cb\", element=\"5b2e9f7e-ab04-4556-ac6f-8f3ed4edaf76\")>,\n",
       " <selenium.webdriver.remote.webelement.WebElement (session=\"b5858bf858f30ee16f5e75b4e66b02cb\", element=\"374b01ce-bf24-41fd-bb74-1cfac5d4d86a\")>,\n",
       " <selenium.webdriver.remote.webelement.WebElement (session=\"b5858bf858f30ee16f5e75b4e66b02cb\", element=\"78d38f55-3037-470d-8d55-ba615fca1459\")>,\n",
       " <selenium.webdriver.remote.webelement.WebElement (session=\"b5858bf858f30ee16f5e75b4e66b02cb\", element=\"091a20d6-7718-437e-8eb3-f4c110cff888\")>,\n",
       " <selenium.webdriver.remote.webelement.WebElement (session=\"b5858bf858f30ee16f5e75b4e66b02cb\", element=\"6f2e1677-d116-437a-8be1-6336dffaf9d4\")>,\n",
       " <selenium.webdriver.remote.webelement.WebElement (session=\"b5858bf858f30ee16f5e75b4e66b02cb\", element=\"f99d4c4c-ed87-4e55-89cc-b7cfb4debbaa\")>]"
      ]
     },
     "execution_count": 198,
     "metadata": {},
     "output_type": "execute_result"
    }
   ],
   "source": [
    "# Lets extract all the tags having salary tags\n",
    "no_salary_tags=driver.find_elements_by_xpath(\"//p[@class='css-1uyte9r css-1kuy7z7 m-0 ']\")\n",
    "no_salary_tags"
   ]
  },
  {
   "cell_type": "code",
   "execution_count": 199,
   "metadata": {},
   "outputs": [
    {
     "data": {
      "text/plain": [
       "['13 salaries',\n",
       " '10 salaries',\n",
       " '10 salaries',\n",
       " '9 salaries',\n",
       " '9 salaries',\n",
       " '8 salaries',\n",
       " '8 salaries',\n",
       " '7 salaries',\n",
       " '6 salaries',\n",
       " '5 salaries',\n",
       " '5 salaries',\n",
       " '4 salaries',\n",
       " '4 salaries',\n",
       " '4 salaries',\n",
       " '4 salaries',\n",
       " '4 salaries',\n",
       " '3 salaries',\n",
       " '3 salaries',\n",
       " '3 salaries',\n",
       " '3 salaries']"
      ]
     },
     "execution_count": 199,
     "metadata": {},
     "output_type": "execute_result"
    }
   ],
   "source": [
    "# Exctracting the text from above exctracted tags using for loop\n",
    "for i in no_salary_tags:\n",
    "        No_of_salaries.append(i.text)\n",
    "No_of_salaries    "
   ]
  },
  {
   "cell_type": "code",
   "execution_count": 200,
   "metadata": {},
   "outputs": [
    {
     "data": {
      "text/plain": [
       "[<selenium.webdriver.remote.webelement.WebElement (session=\"b5858bf858f30ee16f5e75b4e66b02cb\", element=\"008bfb0f-4122-497f-96de-01adc7047473\")>,\n",
       " <selenium.webdriver.remote.webelement.WebElement (session=\"b5858bf858f30ee16f5e75b4e66b02cb\", element=\"e9158cb7-94f9-4f8c-9eb2-26094ffdaa66\")>,\n",
       " <selenium.webdriver.remote.webelement.WebElement (session=\"b5858bf858f30ee16f5e75b4e66b02cb\", element=\"81e9675e-43ca-4284-9845-e93a54103b30\")>,\n",
       " <selenium.webdriver.remote.webelement.WebElement (session=\"b5858bf858f30ee16f5e75b4e66b02cb\", element=\"013e9344-b940-4279-a363-a4eeb32a39db\")>,\n",
       " <selenium.webdriver.remote.webelement.WebElement (session=\"b5858bf858f30ee16f5e75b4e66b02cb\", element=\"d0451f6c-a681-424e-9194-71edf388d99d\")>,\n",
       " <selenium.webdriver.remote.webelement.WebElement (session=\"b5858bf858f30ee16f5e75b4e66b02cb\", element=\"bbff7000-9870-4b90-a5fa-7fad97ff5e69\")>,\n",
       " <selenium.webdriver.remote.webelement.WebElement (session=\"b5858bf858f30ee16f5e75b4e66b02cb\", element=\"8e4925a2-390d-4d23-a42c-f49794959f30\")>,\n",
       " <selenium.webdriver.remote.webelement.WebElement (session=\"b5858bf858f30ee16f5e75b4e66b02cb\", element=\"cbe8ae1e-d097-4985-b900-880705f4cacc\")>,\n",
       " <selenium.webdriver.remote.webelement.WebElement (session=\"b5858bf858f30ee16f5e75b4e66b02cb\", element=\"eea9e1aa-7a66-4992-a970-09941e13256c\")>,\n",
       " <selenium.webdriver.remote.webelement.WebElement (session=\"b5858bf858f30ee16f5e75b4e66b02cb\", element=\"55493c70-9d71-4114-ac8e-220b03605b8c\")>,\n",
       " <selenium.webdriver.remote.webelement.WebElement (session=\"b5858bf858f30ee16f5e75b4e66b02cb\", element=\"23959865-e39e-4893-a6fc-5d588127c2ee\")>,\n",
       " <selenium.webdriver.remote.webelement.WebElement (session=\"b5858bf858f30ee16f5e75b4e66b02cb\", element=\"b63b272d-049e-4922-8083-589309ad009a\")>,\n",
       " <selenium.webdriver.remote.webelement.WebElement (session=\"b5858bf858f30ee16f5e75b4e66b02cb\", element=\"e81985f6-664c-4c5a-8e84-8a5272bc8d44\")>,\n",
       " <selenium.webdriver.remote.webelement.WebElement (session=\"b5858bf858f30ee16f5e75b4e66b02cb\", element=\"71dbd342-4abd-44ea-9404-be78093c3659\")>,\n",
       " <selenium.webdriver.remote.webelement.WebElement (session=\"b5858bf858f30ee16f5e75b4e66b02cb\", element=\"f9749caa-a3a3-40b1-8e53-96405e30e915\")>,\n",
       " <selenium.webdriver.remote.webelement.WebElement (session=\"b5858bf858f30ee16f5e75b4e66b02cb\", element=\"34e6159f-d6b4-49b4-a6be-f21a449989a6\")>,\n",
       " <selenium.webdriver.remote.webelement.WebElement (session=\"b5858bf858f30ee16f5e75b4e66b02cb\", element=\"2b3499ff-ab7b-4ffb-a9ff-ad662babb6d3\")>,\n",
       " <selenium.webdriver.remote.webelement.WebElement (session=\"b5858bf858f30ee16f5e75b4e66b02cb\", element=\"0c6b38cf-09f0-4b8c-9c57-5ef9c2397706\")>,\n",
       " <selenium.webdriver.remote.webelement.WebElement (session=\"b5858bf858f30ee16f5e75b4e66b02cb\", element=\"7d4227ed-80cb-41be-a3f4-698725c73e19\")>,\n",
       " <selenium.webdriver.remote.webelement.WebElement (session=\"b5858bf858f30ee16f5e75b4e66b02cb\", element=\"9f549a6c-e64d-4cef-9517-3246919d5637\")>]"
      ]
     },
     "execution_count": 200,
     "metadata": {},
     "output_type": "execute_result"
    }
   ],
   "source": [
    "# Lets extract all the tags having avg salary tags\n",
    "avg_salary_tags=driver.find_elements_by_xpath(\"//div[@class='col-2 d-none d-md-flex flex-row justify-content-end']\")\n",
    "avg_salary_tags"
   ]
  },
  {
   "cell_type": "code",
   "execution_count": 201,
   "metadata": {},
   "outputs": [
    {
     "data": {
      "text/plain": [
       "['₹ 12,81,419\\n/yr',\n",
       " '₹ 9,98,925\\n/yr',\n",
       " '₹ 7,90,026\\n/yr',\n",
       " '₹ 6,02,000\\n/yr',\n",
       " '₹ 7,71,657\\n/yr',\n",
       " '₹ 12,22,902\\n/yr',\n",
       " '₹ 7,91,015\\n/yr',\n",
       " '₹ 12,15,138\\n/yr',\n",
       " '₹ 10,21,889\\n/yr',\n",
       " '₹ 10,00,000\\n/yr',\n",
       " '₹ 14,33,387\\n/yr',\n",
       " '₹ 11,42,351\\n/yr',\n",
       " '₹ 12,57,579\\n/yr',\n",
       " '₹ 15,53,977\\n/yr',\n",
       " '₹ 13,09,262\\n/yr',\n",
       " '₹ 5,96,779\\n/yr',\n",
       " '₹ 17,00,000\\n/yr',\n",
       " '₹ 9,75,474\\n/yr',\n",
       " '₹ 35,11,792\\n/yr',\n",
       " '₹ 14,94,988\\n/yr']"
      ]
     },
     "execution_count": 201,
     "metadata": {},
     "output_type": "execute_result"
    }
   ],
   "source": [
    "# Exctracting the text from above exctracted tags using for loop\n",
    "for i in avg_salary_tags:\n",
    "        avg_salary.append(i.text)\n",
    "avg_salary        "
   ]
  },
  {
   "cell_type": "code",
   "execution_count": 202,
   "metadata": {},
   "outputs": [
    {
     "data": {
      "text/plain": [
       "[<selenium.webdriver.remote.webelement.WebElement (session=\"b5858bf858f30ee16f5e75b4e66b02cb\", element=\"f348a9c0-ebfa-4fea-b2cd-e75869959506\")>,\n",
       " <selenium.webdriver.remote.webelement.WebElement (session=\"b5858bf858f30ee16f5e75b4e66b02cb\", element=\"f57f6a9a-6683-4165-8c70-3db0b94e65dc\")>,\n",
       " <selenium.webdriver.remote.webelement.WebElement (session=\"b5858bf858f30ee16f5e75b4e66b02cb\", element=\"2975e824-42ef-4cc7-87be-e9282600189c\")>,\n",
       " <selenium.webdriver.remote.webelement.WebElement (session=\"b5858bf858f30ee16f5e75b4e66b02cb\", element=\"953af1c3-09f9-47ea-a756-7091be456278\")>,\n",
       " <selenium.webdriver.remote.webelement.WebElement (session=\"b5858bf858f30ee16f5e75b4e66b02cb\", element=\"f8fd1883-6f8e-4aad-bc25-11fcc56e9a13\")>,\n",
       " <selenium.webdriver.remote.webelement.WebElement (session=\"b5858bf858f30ee16f5e75b4e66b02cb\", element=\"e5bdacaa-3ca2-4def-83d9-0d8a475e99c1\")>,\n",
       " <selenium.webdriver.remote.webelement.WebElement (session=\"b5858bf858f30ee16f5e75b4e66b02cb\", element=\"ffec95c9-3932-4d1c-b93f-a73588f3d257\")>,\n",
       " <selenium.webdriver.remote.webelement.WebElement (session=\"b5858bf858f30ee16f5e75b4e66b02cb\", element=\"fa780a8d-9177-457f-afd0-a3a1fe4a3a14\")>,\n",
       " <selenium.webdriver.remote.webelement.WebElement (session=\"b5858bf858f30ee16f5e75b4e66b02cb\", element=\"e0f133c6-ead8-4c2f-95b2-b99f6e777521\")>,\n",
       " <selenium.webdriver.remote.webelement.WebElement (session=\"b5858bf858f30ee16f5e75b4e66b02cb\", element=\"1ab105f0-81d2-4e75-8c09-e6b070a75453\")>,\n",
       " <selenium.webdriver.remote.webelement.WebElement (session=\"b5858bf858f30ee16f5e75b4e66b02cb\", element=\"cd5f1620-0ae4-4198-8918-d2ef678b6790\")>,\n",
       " <selenium.webdriver.remote.webelement.WebElement (session=\"b5858bf858f30ee16f5e75b4e66b02cb\", element=\"9a7c1678-54e2-4141-8f7f-f0d60db31dea\")>,\n",
       " <selenium.webdriver.remote.webelement.WebElement (session=\"b5858bf858f30ee16f5e75b4e66b02cb\", element=\"6e5313c9-c499-4696-a394-a42e893a2f79\")>,\n",
       " <selenium.webdriver.remote.webelement.WebElement (session=\"b5858bf858f30ee16f5e75b4e66b02cb\", element=\"db46aebf-dbc6-45ec-a239-e7f2d26922cd\")>,\n",
       " <selenium.webdriver.remote.webelement.WebElement (session=\"b5858bf858f30ee16f5e75b4e66b02cb\", element=\"dfd3e127-cd8f-47b9-b1be-52e4a74e0878\")>,\n",
       " <selenium.webdriver.remote.webelement.WebElement (session=\"b5858bf858f30ee16f5e75b4e66b02cb\", element=\"b8942184-5235-41e4-8b74-5f67a452f1ef\")>,\n",
       " <selenium.webdriver.remote.webelement.WebElement (session=\"b5858bf858f30ee16f5e75b4e66b02cb\", element=\"4a39e21b-f0a8-4e18-adbe-0ca2d8144ae4\")>,\n",
       " <selenium.webdriver.remote.webelement.WebElement (session=\"b5858bf858f30ee16f5e75b4e66b02cb\", element=\"4fc0daa6-88cc-44c1-97e5-5a5116518baa\")>,\n",
       " <selenium.webdriver.remote.webelement.WebElement (session=\"b5858bf858f30ee16f5e75b4e66b02cb\", element=\"a7f0efe2-2864-441c-8599-a7db1bc22a7c\")>,\n",
       " <selenium.webdriver.remote.webelement.WebElement (session=\"b5858bf858f30ee16f5e75b4e66b02cb\", element=\"6282092b-3771-4f1b-9096-fcf30dafae3d\")>]"
      ]
     },
     "execution_count": 202,
     "metadata": {},
     "output_type": "execute_result"
    }
   ],
   "source": [
    "# Lets extract all the tags having minimum salary tags\n",
    "min_salary_tags=driver.find_elements_by_xpath(\"//div[@class='common__RangeBarStyle__values common__flex__justifySpaceBetween common__flex__container ']/span[1]\")\n",
    "min_salary_tags"
   ]
  },
  {
   "cell_type": "code",
   "execution_count": 203,
   "metadata": {},
   "outputs": [
    {
     "data": {
      "text/plain": [
       "['₹456K',\n",
       " '₹585K',\n",
       " '₹420K',\n",
       " '₹336K',\n",
       " '₹595K',\n",
       " '₹727K',\n",
       " '₹509K',\n",
       " '₹629K',\n",
       " '₹804K',\n",
       " '₹205K',\n",
       " '₹985K',\n",
       " '₹583K',\n",
       " '₹819K',\n",
       " '₹1,554K',\n",
       " '₹829K',\n",
       " '₹87K',\n",
       " '₹936K',\n",
       " '₹641K',\n",
       " '₹1,442K',\n",
       " '₹865K']"
      ]
     },
     "execution_count": 203,
     "metadata": {},
     "output_type": "execute_result"
    }
   ],
   "source": [
    "# Exctracting the text from above exctracted tags using for loop\n",
    "for i in min_salary_tags:\n",
    "        min_salary.append(i.text)\n",
    "min_salary  "
   ]
  },
  {
   "cell_type": "code",
   "execution_count": 204,
   "metadata": {},
   "outputs": [
    {
     "data": {
      "text/plain": [
       "[<selenium.webdriver.remote.webelement.WebElement (session=\"b5858bf858f30ee16f5e75b4e66b02cb\", element=\"bb840d3d-1a41-4729-ac9b-b7d7c46d46b5\")>,\n",
       " <selenium.webdriver.remote.webelement.WebElement (session=\"b5858bf858f30ee16f5e75b4e66b02cb\", element=\"397855fd-f68d-43ae-b854-4d996d34dadb\")>,\n",
       " <selenium.webdriver.remote.webelement.WebElement (session=\"b5858bf858f30ee16f5e75b4e66b02cb\", element=\"55178520-8cc4-4c3a-bbd2-1ad2d91cab57\")>,\n",
       " <selenium.webdriver.remote.webelement.WebElement (session=\"b5858bf858f30ee16f5e75b4e66b02cb\", element=\"e4c4a25a-3a70-4403-8172-b31296a72f50\")>,\n",
       " <selenium.webdriver.remote.webelement.WebElement (session=\"b5858bf858f30ee16f5e75b4e66b02cb\", element=\"8823b07c-014f-4b8e-b155-c319e5797e45\")>,\n",
       " <selenium.webdriver.remote.webelement.WebElement (session=\"b5858bf858f30ee16f5e75b4e66b02cb\", element=\"b3c5412c-f3cb-4898-8199-0e0dc076958d\")>,\n",
       " <selenium.webdriver.remote.webelement.WebElement (session=\"b5858bf858f30ee16f5e75b4e66b02cb\", element=\"db5819ae-478f-4058-86a2-ca43f5e1c54f\")>,\n",
       " <selenium.webdriver.remote.webelement.WebElement (session=\"b5858bf858f30ee16f5e75b4e66b02cb\", element=\"300b2122-fb9c-4b80-8f91-d49cbab15778\")>,\n",
       " <selenium.webdriver.remote.webelement.WebElement (session=\"b5858bf858f30ee16f5e75b4e66b02cb\", element=\"901e71fc-ab96-4c5f-b658-23d533e42033\")>,\n",
       " <selenium.webdriver.remote.webelement.WebElement (session=\"b5858bf858f30ee16f5e75b4e66b02cb\", element=\"99232093-58c4-4e55-8c1b-c5e9a0ab7574\")>,\n",
       " <selenium.webdriver.remote.webelement.WebElement (session=\"b5858bf858f30ee16f5e75b4e66b02cb\", element=\"6d1f13c3-4d82-46af-b23a-3cae5280174d\")>,\n",
       " <selenium.webdriver.remote.webelement.WebElement (session=\"b5858bf858f30ee16f5e75b4e66b02cb\", element=\"9172585f-1a42-4927-a96c-15359c5692da\")>,\n",
       " <selenium.webdriver.remote.webelement.WebElement (session=\"b5858bf858f30ee16f5e75b4e66b02cb\", element=\"8035102b-6ef8-4fc0-a49d-42db7554a3dd\")>,\n",
       " <selenium.webdriver.remote.webelement.WebElement (session=\"b5858bf858f30ee16f5e75b4e66b02cb\", element=\"93e30f0a-30df-464d-b806-502598e286e1\")>,\n",
       " <selenium.webdriver.remote.webelement.WebElement (session=\"b5858bf858f30ee16f5e75b4e66b02cb\", element=\"73c654e9-8a41-4591-936e-5981d93f6ecd\")>,\n",
       " <selenium.webdriver.remote.webelement.WebElement (session=\"b5858bf858f30ee16f5e75b4e66b02cb\", element=\"6c77cb25-fa56-4899-986a-d48d88987790\")>,\n",
       " <selenium.webdriver.remote.webelement.WebElement (session=\"b5858bf858f30ee16f5e75b4e66b02cb\", element=\"24553e60-c7ea-4330-afc7-8188bb7643fe\")>,\n",
       " <selenium.webdriver.remote.webelement.WebElement (session=\"b5858bf858f30ee16f5e75b4e66b02cb\", element=\"2080b8e9-e9fd-466f-849e-89723e86458c\")>,\n",
       " <selenium.webdriver.remote.webelement.WebElement (session=\"b5858bf858f30ee16f5e75b4e66b02cb\", element=\"3896a1a4-636b-44ef-9d2b-afaff718b011\")>,\n",
       " <selenium.webdriver.remote.webelement.WebElement (session=\"b5858bf858f30ee16f5e75b4e66b02cb\", element=\"d8c9b8df-a90a-4a80-bf90-9c4fd6610473\")>]"
      ]
     },
     "execution_count": 204,
     "metadata": {},
     "output_type": "execute_result"
    }
   ],
   "source": [
    "# Lets extract all the tags having maximum salary\n",
    "max_salary_tags=driver.find_elements_by_xpath(\"//div[@class='common__RangeBarStyle__values common__flex__justifySpaceBetween common__flex__container ']/span[2]\")\n",
    "max_salary_tags"
   ]
  },
  {
   "cell_type": "code",
   "execution_count": 205,
   "metadata": {},
   "outputs": [
    {
     "data": {
      "text/plain": [
       "['₹11,789K',\n",
       " '₹2,200K',\n",
       " '₹1,636K',\n",
       " '₹1,024K',\n",
       " '₹2,769K',\n",
       " '₹1,597K',\n",
       " '₹1,168K',\n",
       " '₹1,719K',\n",
       " '₹1,281K',\n",
       " '₹1,835K',\n",
       " '₹1,911K',\n",
       " '₹1,227K',\n",
       " '₹1,592K',\n",
       " '₹3,283K',\n",
       " '₹2,035K',\n",
       " '₹1,377K',\n",
       " '₹1,807K',\n",
       " '₹1,140K',\n",
       " '₹3,561K',\n",
       " '₹1,504K']"
      ]
     },
     "execution_count": 205,
     "metadata": {},
     "output_type": "execute_result"
    }
   ],
   "source": [
    "# Exctracting the text from above exctracted tags using for loop\n",
    "for i in max_salary_tags:\n",
    "        max_salary.append(i.text)\n",
    "max_salary  "
   ]
  },
  {
   "cell_type": "code",
   "execution_count": 206,
   "metadata": {},
   "outputs": [],
   "source": [
    "import pandas as pd\n",
    "Glassdoor=pd.DataFrame({})\n",
    "Glassdoor['Company Name']=comp_names[0:10]\n",
    "Glassdoor['No of salaries']=No_of_salaries[0:10]\n",
    "Glassdoor['Avg Salary']=avg_salary[0:10]\n",
    "Glassdoor['Max Salary']=min_salary[0:10]  \n",
    "Glassdoor['Min Salary']=max_salary[0:10]"
   ]
  },
  {
   "cell_type": "code",
   "execution_count": 207,
   "metadata": {},
   "outputs": [
    {
     "data": {
      "text/html": [
       "<div>\n",
       "<style scoped>\n",
       "    .dataframe tbody tr th:only-of-type {\n",
       "        vertical-align: middle;\n",
       "    }\n",
       "\n",
       "    .dataframe tbody tr th {\n",
       "        vertical-align: top;\n",
       "    }\n",
       "\n",
       "    .dataframe thead th {\n",
       "        text-align: right;\n",
       "    }\n",
       "</style>\n",
       "<table border=\"1\" class=\"dataframe\">\n",
       "  <thead>\n",
       "    <tr style=\"text-align: right;\">\n",
       "      <th></th>\n",
       "      <th>Company Name</th>\n",
       "      <th>No of salaries</th>\n",
       "      <th>Avg Salary</th>\n",
       "      <th>Max Salary</th>\n",
       "      <th>Min Salary</th>\n",
       "    </tr>\n",
       "  </thead>\n",
       "  <tbody>\n",
       "    <tr>\n",
       "      <th>0</th>\n",
       "      <td>Delhivery</td>\n",
       "      <td>13 salaries</td>\n",
       "      <td>₹ 12,81,419\\n/yr</td>\n",
       "      <td>₹456K</td>\n",
       "      <td>₹11,789K</td>\n",
       "    </tr>\n",
       "    <tr>\n",
       "      <th>1</th>\n",
       "      <td>Accenture</td>\n",
       "      <td>10 salaries</td>\n",
       "      <td>₹ 9,98,925\\n/yr</td>\n",
       "      <td>₹585K</td>\n",
       "      <td>₹2,200K</td>\n",
       "    </tr>\n",
       "    <tr>\n",
       "      <th>2</th>\n",
       "      <td>Ericsson-Worldwide</td>\n",
       "      <td>10 salaries</td>\n",
       "      <td>₹ 7,90,026\\n/yr</td>\n",
       "      <td>₹420K</td>\n",
       "      <td>₹1,636K</td>\n",
       "    </tr>\n",
       "    <tr>\n",
       "      <th>3</th>\n",
       "      <td>Tata Consultancy Services</td>\n",
       "      <td>9 salaries</td>\n",
       "      <td>₹ 6,02,000\\n/yr</td>\n",
       "      <td>₹336K</td>\n",
       "      <td>₹1,024K</td>\n",
       "    </tr>\n",
       "    <tr>\n",
       "      <th>4</th>\n",
       "      <td>IBM</td>\n",
       "      <td>9 salaries</td>\n",
       "      <td>₹ 7,71,657\\n/yr</td>\n",
       "      <td>₹595K</td>\n",
       "      <td>₹2,769K</td>\n",
       "    </tr>\n",
       "    <tr>\n",
       "      <th>5</th>\n",
       "      <td>UnitedHealth Group</td>\n",
       "      <td>8 salaries</td>\n",
       "      <td>₹ 12,22,902\\n/yr</td>\n",
       "      <td>₹727K</td>\n",
       "      <td>₹1,597K</td>\n",
       "    </tr>\n",
       "    <tr>\n",
       "      <th>6</th>\n",
       "      <td>Valiance Solutions</td>\n",
       "      <td>8 salaries</td>\n",
       "      <td>₹ 7,91,015\\n/yr</td>\n",
       "      <td>₹509K</td>\n",
       "      <td>₹1,168K</td>\n",
       "    </tr>\n",
       "    <tr>\n",
       "      <th>7</th>\n",
       "      <td>Innovaccer</td>\n",
       "      <td>7 salaries</td>\n",
       "      <td>₹ 12,15,138\\n/yr</td>\n",
       "      <td>₹629K</td>\n",
       "      <td>₹1,719K</td>\n",
       "    </tr>\n",
       "    <tr>\n",
       "      <th>8</th>\n",
       "      <td>Cognizant Technology Solutions</td>\n",
       "      <td>6 salaries</td>\n",
       "      <td>₹ 10,21,889\\n/yr</td>\n",
       "      <td>₹804K</td>\n",
       "      <td>₹1,281K</td>\n",
       "    </tr>\n",
       "    <tr>\n",
       "      <th>9</th>\n",
       "      <td>ZS Associates</td>\n",
       "      <td>5 salaries</td>\n",
       "      <td>₹ 10,00,000\\n/yr</td>\n",
       "      <td>₹205K</td>\n",
       "      <td>₹1,835K</td>\n",
       "    </tr>\n",
       "  </tbody>\n",
       "</table>\n",
       "</div>"
      ],
      "text/plain": [
       "                     Company Name No of salaries        Avg Salary Max Salary  \\\n",
       "0                       Delhivery    13 salaries  ₹ 12,81,419\\n/yr      ₹456K   \n",
       "1                       Accenture    10 salaries   ₹ 9,98,925\\n/yr      ₹585K   \n",
       "2              Ericsson-Worldwide    10 salaries   ₹ 7,90,026\\n/yr      ₹420K   \n",
       "3       Tata Consultancy Services     9 salaries   ₹ 6,02,000\\n/yr      ₹336K   \n",
       "4                             IBM     9 salaries   ₹ 7,71,657\\n/yr      ₹595K   \n",
       "5              UnitedHealth Group     8 salaries  ₹ 12,22,902\\n/yr      ₹727K   \n",
       "6              Valiance Solutions     8 salaries   ₹ 7,91,015\\n/yr      ₹509K   \n",
       "7                      Innovaccer     7 salaries  ₹ 12,15,138\\n/yr      ₹629K   \n",
       "8  Cognizant Technology Solutions     6 salaries  ₹ 10,21,889\\n/yr      ₹804K   \n",
       "9                   ZS Associates     5 salaries  ₹ 10,00,000\\n/yr      ₹205K   \n",
       "\n",
       "  Min Salary  \n",
       "0   ₹11,789K  \n",
       "1    ₹2,200K  \n",
       "2    ₹1,636K  \n",
       "3    ₹1,024K  \n",
       "4    ₹2,769K  \n",
       "5    ₹1,597K  \n",
       "6    ₹1,168K  \n",
       "7    ₹1,719K  \n",
       "8    ₹1,281K  \n",
       "9    ₹1,835K  "
      ]
     },
     "execution_count": 207,
     "metadata": {},
     "output_type": "execute_result"
    }
   ],
   "source": [
    "Glassdoor"
   ]
  },
  {
   "cell_type": "code",
   "execution_count": 208,
   "metadata": {},
   "outputs": [
    {
     "data": {
      "text/plain": [
       "',Company Name,No of salaries,Avg Salary,Max Salary,Min Salary\\r\\n0,Delhivery,13 salaries,\"₹ 12,81,419\\n/yr\",₹456K,\"₹11,789K\"\\r\\n1,Accenture,10 salaries,\"₹ 9,98,925\\n/yr\",₹585K,\"₹2,200K\"\\r\\n2,Ericsson-Worldwide,10 salaries,\"₹ 7,90,026\\n/yr\",₹420K,\"₹1,636K\"\\r\\n3,Tata Consultancy Services,9 salaries,\"₹ 6,02,000\\n/yr\",₹336K,\"₹1,024K\"\\r\\n4,IBM,9 salaries,\"₹ 7,71,657\\n/yr\",₹595K,\"₹2,769K\"\\r\\n5,UnitedHealth Group,8 salaries,\"₹ 12,22,902\\n/yr\",₹727K,\"₹1,597K\"\\r\\n6,Valiance Solutions,8 salaries,\"₹ 7,91,015\\n/yr\",₹509K,\"₹1,168K\"\\r\\n7,Innovaccer,7 salaries,\"₹ 12,15,138\\n/yr\",₹629K,\"₹1,719K\"\\r\\n8,Cognizant Technology Solutions,6 salaries,\"₹ 10,21,889\\n/yr\",₹804K,\"₹1,281K\"\\r\\n9,ZS Associates,5 salaries,\"₹ 10,00,000\\n/yr\",₹205K,\"₹1,835K\"\\r\\n'"
      ]
     },
     "execution_count": 208,
     "metadata": {},
     "output_type": "execute_result"
    }
   ],
   "source": [
    "Glassdoor.to_csv() # saving data to csv"
   ]
  },
  {
   "cell_type": "markdown",
   "metadata": {},
   "source": [
    "# Que--6"
   ]
  },
  {
   "cell_type": "code",
   "execution_count": 217,
   "metadata": {},
   "outputs": [],
   "source": [
    "#connecting to web driver\n",
    "driver = webdriver.Chrome(r\"E:\\FRT\\chromedriver.exe\")"
   ]
  },
  {
   "cell_type": "code",
   "execution_count": 222,
   "metadata": {},
   "outputs": [],
   "source": [
    "# specifying the url of the webpage to be scraped\n",
    "url =\"https://www.flipkart.com/search?q=sunglasses&otracker=search&otracker1=search&marketplace=FLIPKART&as-show=on&as=off\""
   ]
  },
  {
   "cell_type": "code",
   "execution_count": 223,
   "metadata": {},
   "outputs": [],
   "source": [
    "# Lets open the web page through the web driver\n",
    "driver.get(url)"
   ]
  },
  {
   "cell_type": "code",
   "execution_count": 224,
   "metadata": {},
   "outputs": [],
   "source": [
    "# creating 4 empty lists to stored scraped data\n",
    "brand=[]\n",
    "prod_desp=[]\n",
    "price=[]\n",
    "discount=[]"
   ]
  },
  {
   "cell_type": "code",
   "execution_count": 213,
   "metadata": {},
   "outputs": [],
   "source": [
    "import time"
   ]
  },
  {
   "cell_type": "code",
   "execution_count": 214,
   "metadata": {},
   "outputs": [],
   "source": [
    "from selenium import webdriver\n",
    "from selenium.common.exceptions import NoSuchElementException"
   ]
  },
  {
   "cell_type": "code",
   "execution_count": 225,
   "metadata": {},
   "outputs": [],
   "source": [
    "for i in range(0,10):\n",
    "    brand_tags=driver.find_elements_by_xpath(\"//div[@class='_2WkVRV']\")\n",
    "    for i in brand_tags:\n",
    "        brand.append(i.text)\n",
    "    try:\n",
    "        desp_tags=driver.find_elements_by_xpath(\"//a[@class='IRpwTa']\")\n",
    "        for j in desp_tags:\n",
    "            prod_desp.append(j.text)\n",
    "    except NoSuchElementException:\n",
    "         prod_desp.append(\"Null\")\n",
    "      \n",
    "    price_tags=driver.find_elements_by_xpath(\"//div[@class='_30jeq3']\")\n",
    "    for k in price_tags:\n",
    "        price.append(k.text)\n",
    "    discount_tags= driver.find_elements_by_xpath(\"//div[@class='_3Ay6Sb']\") \n",
    "    for l in discount_tags:\n",
    "        discount.append(l.text)\n",
    "    driver.find_element_by_xpath(\"//a[@class='_1LKTO3']\").click()\n",
    "    time.sleep(3)"
   ]
  },
  {
   "cell_type": "code",
   "execution_count": 227,
   "metadata": {},
   "outputs": [],
   "source": [
    "import pandas as pd\n",
    "sunglasses=pd.DataFrame({})\n",
    "sunglasses['Brand']=brand[0:100]\n",
    "sunglasses['Product Desp']=prod_desp[0:100]\n",
    "sunglasses['Price']=price[0:100]\n",
    "sunglasses['Discount']=discount[0:100]"
   ]
  },
  {
   "cell_type": "code",
   "execution_count": 228,
   "metadata": {},
   "outputs": [
    {
     "data": {
      "text/html": [
       "<div>\n",
       "<style scoped>\n",
       "    .dataframe tbody tr th:only-of-type {\n",
       "        vertical-align: middle;\n",
       "    }\n",
       "\n",
       "    .dataframe tbody tr th {\n",
       "        vertical-align: top;\n",
       "    }\n",
       "\n",
       "    .dataframe thead th {\n",
       "        text-align: right;\n",
       "    }\n",
       "</style>\n",
       "<table border=\"1\" class=\"dataframe\">\n",
       "  <thead>\n",
       "    <tr style=\"text-align: right;\">\n",
       "      <th></th>\n",
       "      <th>Brand</th>\n",
       "      <th>Product Desp</th>\n",
       "      <th>Price</th>\n",
       "      <th>Discount</th>\n",
       "    </tr>\n",
       "  </thead>\n",
       "  <tbody>\n",
       "    <tr>\n",
       "      <th>0</th>\n",
       "      <td>BULGARIA</td>\n",
       "      <td>UV Protection Wayfarer Sunglasses (Free Size)</td>\n",
       "      <td>₹179</td>\n",
       "      <td>90% off</td>\n",
       "    </tr>\n",
       "    <tr>\n",
       "      <th>1</th>\n",
       "      <td>BULGARIA</td>\n",
       "      <td>Mirrored Aviator Sunglasses (Free Size)</td>\n",
       "      <td>₹181</td>\n",
       "      <td>83% off</td>\n",
       "    </tr>\n",
       "    <tr>\n",
       "      <th>2</th>\n",
       "      <td>FDA COLLECTION</td>\n",
       "      <td>Gradient Spectacle Sunglasses (Free Size)</td>\n",
       "      <td>₹245</td>\n",
       "      <td>87% off</td>\n",
       "    </tr>\n",
       "    <tr>\n",
       "      <th>3</th>\n",
       "      <td>Riffko</td>\n",
       "      <td>UV Protection Wayfarer Sunglasses (53)</td>\n",
       "      <td>₹674</td>\n",
       "      <td>25% off</td>\n",
       "    </tr>\n",
       "    <tr>\n",
       "      <th>4</th>\n",
       "      <td>shah collections</td>\n",
       "      <td>UV Protection, Riding Glasses Rectangular Sung...</td>\n",
       "      <td>₹426</td>\n",
       "      <td>80% off</td>\n",
       "    </tr>\n",
       "    <tr>\n",
       "      <th>...</th>\n",
       "      <td>...</td>\n",
       "      <td>...</td>\n",
       "      <td>...</td>\n",
       "      <td>...</td>\n",
       "    </tr>\n",
       "    <tr>\n",
       "      <th>95</th>\n",
       "      <td>Phenomenal</td>\n",
       "      <td>Night Vision, Polarized, UV Protection, Riding...</td>\n",
       "      <td>₹351</td>\n",
       "      <td>76% off</td>\n",
       "    </tr>\n",
       "    <tr>\n",
       "      <th>96</th>\n",
       "      <td>FDA COLLECTION</td>\n",
       "      <td>UV Protection Aviator, Wayfarer Sunglasses (Fr...</td>\n",
       "      <td>₹163</td>\n",
       "      <td>83% off</td>\n",
       "    </tr>\n",
       "    <tr>\n",
       "      <th>97</th>\n",
       "      <td>povty</td>\n",
       "      <td>UV Protection, Mirrored, Gradient Round Sungla...</td>\n",
       "      <td>₹169</td>\n",
       "      <td>88% off</td>\n",
       "    </tr>\n",
       "    <tr>\n",
       "      <th>98</th>\n",
       "      <td>PIRASO</td>\n",
       "      <td>UV Protection Retro Square Sunglasses (88)</td>\n",
       "      <td>₹172</td>\n",
       "      <td>82% off</td>\n",
       "    </tr>\n",
       "    <tr>\n",
       "      <th>99</th>\n",
       "      <td>STYLE GURU</td>\n",
       "      <td>UV Protection Aviator Sunglasses (Free Size)</td>\n",
       "      <td>₹238</td>\n",
       "      <td>76% off</td>\n",
       "    </tr>\n",
       "  </tbody>\n",
       "</table>\n",
       "<p>100 rows × 4 columns</p>\n",
       "</div>"
      ],
      "text/plain": [
       "               Brand                                       Product Desp Price  \\\n",
       "0           BULGARIA      UV Protection Wayfarer Sunglasses (Free Size)  ₹179   \n",
       "1           BULGARIA            Mirrored Aviator Sunglasses (Free Size)  ₹181   \n",
       "2     FDA COLLECTION          Gradient Spectacle Sunglasses (Free Size)  ₹245   \n",
       "3             Riffko             UV Protection Wayfarer Sunglasses (53)  ₹674   \n",
       "4   shah collections  UV Protection, Riding Glasses Rectangular Sung...  ₹426   \n",
       "..               ...                                                ...   ...   \n",
       "95        Phenomenal  Night Vision, Polarized, UV Protection, Riding...  ₹351   \n",
       "96    FDA COLLECTION  UV Protection Aviator, Wayfarer Sunglasses (Fr...  ₹163   \n",
       "97             povty  UV Protection, Mirrored, Gradient Round Sungla...  ₹169   \n",
       "98            PIRASO         UV Protection Retro Square Sunglasses (88)  ₹172   \n",
       "99        STYLE GURU       UV Protection Aviator Sunglasses (Free Size)  ₹238   \n",
       "\n",
       "   Discount  \n",
       "0   90% off  \n",
       "1   83% off  \n",
       "2   87% off  \n",
       "3   25% off  \n",
       "4   80% off  \n",
       "..      ...  \n",
       "95  76% off  \n",
       "96  83% off  \n",
       "97  88% off  \n",
       "98  82% off  \n",
       "99  76% off  \n",
       "\n",
       "[100 rows x 4 columns]"
      ]
     },
     "execution_count": 228,
     "metadata": {},
     "output_type": "execute_result"
    }
   ],
   "source": [
    "sunglasses"
   ]
  },
  {
   "cell_type": "code",
   "execution_count": 229,
   "metadata": {},
   "outputs": [
    {
     "data": {
      "text/plain": [
       "',Brand,Product Desp,Price,Discount\\r\\n0,BULGARIA,UV Protection Wayfarer Sunglasses (Free Size),₹179,90% off\\r\\n1,BULGARIA,Mirrored Aviator Sunglasses (Free Size),₹181,83% off\\r\\n2,FDA COLLECTION,Gradient Spectacle Sunglasses (Free Size),₹245,87% off\\r\\n3,Riffko,UV Protection Wayfarer Sunglasses (53),₹674,25% off\\r\\n4,shah collections,\"UV Protection, Riding Glasses Rectangular Sunglasses (F...\",₹426,80% off\\r\\n5,Fastrack,\"UV Protection, Mirrored, Gradient Retro Square Sunglass...\",₹798,77% off\\r\\n6,Phenomenal,\"Mirrored, UV Protection Wayfarer, Wayfarer, Wayfarer, W...\",₹284,81% off\\r\\n7,shah collections,UV Protection Rectangular Sunglasses (Free Size),₹398,73% off\\r\\n8,Deixels,UV Protection Aviator Sunglasses (Free Size),₹160,83% off\\r\\n9,ROZZETTA CRAFT,UV Protection Aviator Sunglasses (58),₹799,77% off\\r\\n10,like future,UV Protection Aviator Sunglasses (58),₹183,76% off\\r\\n11,funglasses,Mirrored Wayfarer Sunglasses (55),₹909,30% off\\r\\n12,LOPO,Others Rectangular Sunglasses (Free Size),₹170,82% off\\r\\n13,Magjons,Mirrored Round Sunglasses (53),₹359,48% off\\r\\n14,Fastrack,\"UV Protection, Polarized, Gradient Rectangular, Retro S...\",₹214,85% off\\r\\n15,Phenomenal,UV Protection Shield Sunglasses (Free Size),₹218,83% off\\r\\n16,FDA COLLECTION,Mirrored Aviator Sunglasses (58),₹629,30% off\\r\\n17,povty,UV Protection Retro Square Sunglasses (56),₹351,76% off\\r\\n18,PIRASO,\"Riding Glasses, UV Protection Oval Sunglasses (52)\",₹163,83% off\\r\\n19,Phenomenal,UV Protection Round Sunglasses (54),₹223,88% off\\r\\n20,INSH,\"UV Protection, Riding Glasses, Mirrored Rectangular Sun...\",₹169,88% off\\r\\n21,ETRG,\"UV Protection, Mirrored, Gradient Retro Square Sunglass...\",₹172,82% off\\r\\n22,Creative Group,UV Protection Wayfarer Sunglasses (Free Size),₹238,76% off\\r\\n23,Phenomenal,UV Protection Oval Sunglasses (56),₹227,88% off\\r\\n24,Dannilo,\"Night Vision, Riding Glasses Wayfarer Sunglasses (53)\",₹599,25% off\\r\\n25,shadz,UV Protection Aviator Sunglasses (58),₹251,79% off\\r\\n26,HAMIW COLLECTION,\"UV Protection, Mirrored Clubmaster Sunglasses (Free Siz...\",₹198,88% off\\r\\n27,ROZZETTA CRAFT,\"UV Protection, Gradient Round Sunglasses (Free Size)\",₹115,61% off\\r\\n28,Fastrack,UV Protection Retro Square Sunglasses (Free Size),\"₹1,039\",20% off\\r\\n29,Phenomenal,\"UV Protection, Mirrored Retro Square Sunglasses (53)\",₹274,86% off\\r\\n30,peter india,UV Protection Wayfarer Sunglasses (55),₹403,79% off\\r\\n31,ROZZETTA CRAFT,\"Mirrored, Riding Glasses, Others Sports Sunglasses (50)\",₹299,85% off\\r\\n32,Fastrack,UV Protection Wayfarer Sunglasses (56),₹449,80% off\\r\\n33,STYLISH GUYS,\"Gradient, Mirrored, UV Protection, Polarized Round, Rou...\",₹399,80% off\\r\\n34,Fastrack,UV Protection Aviator Sunglasses (Free Size),₹224,82% off\\r\\n35,Trendy Glasses,\"UV Protection, Polarized Rectangular, Retro Square Sung...\",₹199,86% off\\r\\n36,kingsunglasses,\"UV Protection, Polarized Aviator Sunglasses (Free Size)\",₹674,25% off\\r\\n37,Rozzetta Craft,\"Night Vision, Polarized, UV Protection, Riding Glasses ...\",₹161,83% off\\r\\n38,funglasses,\"UV Protection Aviator, Wayfarer Sunglasses (Free Size)\",₹284,88% off\\r\\n39,STYLE GURU,UV Protection Retro Square Sunglasses (Free Size),₹799,77% off\\r\\n40,NuVew,UV Protection Wayfarer Sunglasses (Free Size),₹389,78% off\\r\\n41,Fastrack,Mirrored Aviator Sunglasses (Free Size),₹107,53% off\\r\\n42,hipe,\"UV Protection, Gradient Wayfarer, Round Sunglasses (63)\",₹125,83% off\\r\\n43,BULGARIA,Gradient Spectacle Sunglasses (Free Size),₹163,88% off\\r\\n44,shah collections,UV Protection Wayfarer Sunglasses (53),₹123,87% off\\r\\n45,like future,\"UV Protection, Riding Glasses Rectangular Sunglasses (F...\",₹179,74% off\\r\\n46,Fastrack,\"UV Protection, Mirrored, Gradient Retro Square Sunglass...\",₹349,84% off\\r\\n47,Royal Son,\"Mirrored, UV Protection Wayfarer, Wayfarer, Wayfarer, W...\",₹179,81% off\\r\\n48,Riffko,Polarized Aviator Sunglasses (58),₹156,87% off\\r\\n49,Magjons,\"UV Protection, Mirrored Retro Square Sunglasses (53)\",₹399,80% off\\r\\n50,JOHAENA,\"Gradient, Mirrored, UV Protection Round, Round, Round S...\",₹179,90% off\\r\\n51,Winsome,\"UV Protection, Polarized, Mirrored Rectangular Sunglass...\",₹181,83% off\\r\\n52,PC STAR,\"Gradient, UV Protection Wayfarer Sunglasses (Free Size)\",₹585,81% off\\r\\n53,Phenomenal,\"UV Protection, Mirrored Retro Square Sunglasses (53)\",₹245,87% off\\r\\n54,Fastrack,UV Protection Round Sunglasses (Free Size),₹674,25% off\\r\\n55,Silver Kartz,\"UV Protection, Gradient Rectangular Sunglasses (Free Si...\",₹426,80% off\\r\\n56,Gansta,\"Polarized, Mirrored, UV Protection Retro Square, Over-s...\",₹798,77% off\\r\\n57,TREND,\"UV Protection, Mirrored Retro Square Sunglasses (Free S...\",₹284,81% off\\r\\n58,Fastrack,\"Gradient, UV Protection Wayfarer Sunglasses (Free Size)\",₹160,83% off\\r\\n59,Phenomenal,UV Protection Retro Square Sunglasses (Free Size),₹659,67% off\\r\\n60,ROZZETTA CRAFT,UV Protection Wayfarer Sunglasses (Free Size),₹399,80% off\\r\\n61,EYELLUSION,UV Protection Aviator Sunglasses (58),₹199,84% off\\r\\n62,ROZZETTA CRAFT,UV Protection Aviator Sunglasses (Free Size),₹170,85% off\\r\\n63,Phenomenal,UV Protection Rectangular Sunglasses (54),₹219,78% off\\r\\n64,Royal Son,\"Gradient, UV Protection Aviator Sunglasses (99)\",₹559,30% off\\r\\n65,Singco India,\"Gradient, UV Protection Aviator, Retro Square Sunglasse...\",₹399,80% off\\r\\n66,Fastrack,\"UV Protection Wayfarer, Sports, Shield, Rectangular, Re...\",₹331,80% off\\r\\n67,FDA COLLECTION,UV Protection Retro Square Sunglasses (Free Size),₹404,79% off\\r\\n68,Elligator,Others Rectangular Sunglasses (Free Size),₹161,83% off\\r\\n69,STYLE GURU,UV Protection Spectacle Sunglasses (Free Size),₹143,79% off\\r\\n70,BKGE,UV Protection Aviator Sunglasses (Free Size),₹399,80% off\\r\\n71,The Blue Pink,\"Gradient, UV Protection Wayfarer Sunglasses (Free Size)\",₹599,25% off\\r\\n72,funglasses,\"UV Protection, Night Vision Retro Square Sunglasses (Fr...\",₹399,80% off\\r\\n73,hipe,UV Protection Aviator Sunglasses (58),₹188,87% off\\r\\n74,I Flash,UV Protection Aviator Sunglasses (58),₹238,76% off\\r\\n75,Singco India,Mirrored Wayfarer Sunglasses (55),₹349,86% off\\r\\n76,EYELLUSION,Mirrored Round Sunglasses (53),₹799,77% off\\r\\n77,LEZTO,\"UV Protection, Polarized, Gradient Rectangular, Retro S...\",₹269,86% off\\r\\n78,shadz,UV Protection Shield Sunglasses (Free Size),₹188,76% off\\r\\n79,Phenomenal,Mirrored Aviator Sunglasses (58),₹439,70% off\\r\\n80,BULGARIA,\"Riding Glasses, UV Protection Oval Sunglasses (52)\",₹233,80% off\\r\\n81,Phenomenal,UV Protection Round Sunglasses (54),₹99,85% off\\r\\n82,FDA COLLECTION,\"UV Protection, Riding Glasses, Mirrored Rectangular Sun...\",₹239,84% off\\r\\n83,Riffko,UV Protection Wayfarer Sunglasses (Free Size),₹449,79% off\\r\\n84,shah collections,UV Protection Oval Sunglasses (56),₹449,55% off\\r\\n85,Fastrack,\"Night Vision, Riding Glasses Wayfarer Sunglasses (53)\",₹165,87% off\\r\\n86,Phenomenal,UV Protection Aviator Sunglasses (58),₹629,30% off\\r\\n87,shah collections,\"UV Protection, Gradient Round Sunglasses (Free Size)\",₹559,30% off\\r\\n88,Deixels,UV Protection Retro Square Sunglasses (Free Size),₹244,87% off\\r\\n89,ROZZETTA CRAFT,UV Protection Wayfarer Sunglasses (55),₹183,76% off\\r\\n90,like future,\"Mirrored, Riding Glasses, Others Sports Sunglasses (50)\",₹909,30% off\\r\\n91,funglasses,UV Protection Wayfarer Sunglasses (56),₹170,82% off\\r\\n92,LOPO,\"Gradient, Mirrored, UV Protection, Polarized Round, Rou...\",₹214,85% off\\r\\n93,Aislin,\"UV Protection, Polarized Rectangular, Retro Square Sung...\",₹218,83% off\\r\\n94,Fastrack,\"UV Protection, Polarized Aviator Sunglasses (Free Size)\",₹629,30% off\\r\\n95,Phenomenal,\"Night Vision, Polarized, UV Protection, Riding Glasses ...\",₹351,76% off\\r\\n96,FDA COLLECTION,\"UV Protection Aviator, Wayfarer Sunglasses (Free Size)\",₹163,83% off\\r\\n97,povty,\"UV Protection, Mirrored, Gradient Round Sunglasses (51)\",₹169,88% off\\r\\n98,PIRASO,UV Protection Retro Square Sunglasses (88),₹172,82% off\\r\\n99,STYLE GURU,UV Protection Aviator Sunglasses (Free Size),₹238,76% off\\r\\n'"
      ]
     },
     "execution_count": 229,
     "metadata": {},
     "output_type": "execute_result"
    }
   ],
   "source": [
    "# Saving data to csv\n",
    "sunglasses.to_csv()"
   ]
  },
  {
   "cell_type": "code",
   "execution_count": null,
   "metadata": {},
   "outputs": [],
   "source": []
  },
  {
   "cell_type": "markdown",
   "metadata": {},
   "source": [
    "# Que--8"
   ]
  },
  {
   "cell_type": "code",
   "execution_count": 35,
   "metadata": {},
   "outputs": [],
   "source": [
    "#connecting to web driver\n",
    "driver = webdriver.Chrome(r\"E:\\FRT\\chromedriver.exe\")"
   ]
  },
  {
   "cell_type": "code",
   "execution_count": 36,
   "metadata": {},
   "outputs": [],
   "source": [
    "# specifying the url of the webpage to be scraped\n",
    "url =\"https://www.flipkart.com/search?q=sneakers&otracker=search&otracker1=search&marketplace=FLIPKART&as-show=off&as=off\""
   ]
  },
  {
   "cell_type": "code",
   "execution_count": 37,
   "metadata": {},
   "outputs": [],
   "source": [
    "# Lets open the web page through the web driver\n",
    "driver.get(url)"
   ]
  },
  {
   "cell_type": "code",
   "execution_count": 38,
   "metadata": {},
   "outputs": [],
   "source": [
    "# creating 4 empty lists to stored scraped data\n",
    "brand1=[]\n",
    "prod_desp1=[]\n",
    "price1=[]\n",
    "discount1=[]"
   ]
  },
  {
   "cell_type": "code",
   "execution_count": 39,
   "metadata": {},
   "outputs": [],
   "source": [
    "import time"
   ]
  },
  {
   "cell_type": "code",
   "execution_count": 42,
   "metadata": {},
   "outputs": [],
   "source": [
    "for i in range(0,10):\n",
    "    brand_tags1=driver.find_elements_by_xpath(\"//div[@class='_2WkVRV']\")\n",
    "    for i in brand_tags1:\n",
    "        brand1.append(i.text)\n",
    "    try:\n",
    "        desp_tags1=driver.find_elements_by_xpath(\"//a[@class='IRpwTa _2-ICcC']\")\n",
    "        for j in desp_tags1:\n",
    "            prod_desp1.append(j.text)\n",
    "    except NoSuchElementException:\n",
    "         prod_desp1.append(\"Null\")\n",
    "      \n",
    "    price_tags1=driver.find_elements_by_xpath(\"//div[@class='_30jeq3']\")\n",
    "    for k in price_tags1:\n",
    "        price1.append(k.text)\n",
    "    discount_tags1= driver.find_elements_by_xpath(\"//div[@class='_3Ay6Sb']\") \n",
    "    for l in discount_tags1:\n",
    "        discount1.append(l.text)\n",
    "    driver.find_element_by_xpath(\"//a[@class='_1LKTO3']\").click()\n",
    "    time.sleep(3)"
   ]
  },
  {
   "cell_type": "code",
   "execution_count": 44,
   "metadata": {},
   "outputs": [],
   "source": [
    "import pandas as pd\n",
    "sneakers=pd.DataFrame({})\n",
    "sneakers['Brand']=brand1[0:100]\n",
    "sneakers['Product Desp']=prod_desp1[0:100]\n",
    "sneakers['Price']=price1[0:100]\n",
    "sneakers['Discount']=discount1[0:100]"
   ]
  },
  {
   "cell_type": "code",
   "execution_count": 45,
   "metadata": {},
   "outputs": [
    {
     "data": {
      "text/html": [
       "<div>\n",
       "<style scoped>\n",
       "    .dataframe tbody tr th:only-of-type {\n",
       "        vertical-align: middle;\n",
       "    }\n",
       "\n",
       "    .dataframe tbody tr th {\n",
       "        vertical-align: top;\n",
       "    }\n",
       "\n",
       "    .dataframe thead th {\n",
       "        text-align: right;\n",
       "    }\n",
       "</style>\n",
       "<table border=\"1\" class=\"dataframe\">\n",
       "  <thead>\n",
       "    <tr style=\"text-align: right;\">\n",
       "      <th></th>\n",
       "      <th>Brand</th>\n",
       "      <th>Product Desp</th>\n",
       "      <th>Price</th>\n",
       "      <th>Discount</th>\n",
       "    </tr>\n",
       "  </thead>\n",
       "  <tbody>\n",
       "    <tr>\n",
       "      <th>0</th>\n",
       "      <td>Fashion World</td>\n",
       "      <td>lofers party wear shoes FOR BOYS Sneakers For Men</td>\n",
       "      <td>₹498</td>\n",
       "      <td>68% off</td>\n",
       "    </tr>\n",
       "    <tr>\n",
       "      <th>1</th>\n",
       "      <td>Puma</td>\n",
       "      <td>Classy Sneakers For Men</td>\n",
       "      <td>₹1,456</td>\n",
       "      <td>61% off</td>\n",
       "    </tr>\n",
       "    <tr>\n",
       "      <th>2</th>\n",
       "      <td>Chevit</td>\n",
       "      <td>HHM Sneakers For Men</td>\n",
       "      <td>₹499</td>\n",
       "      <td>75% off</td>\n",
       "    </tr>\n",
       "    <tr>\n",
       "      <th>3</th>\n",
       "      <td>Chevit</td>\n",
       "      <td>Sneakers For Men</td>\n",
       "      <td>₹224</td>\n",
       "      <td>55% off</td>\n",
       "    </tr>\n",
       "    <tr>\n",
       "      <th>4</th>\n",
       "      <td>World Wear Footwear</td>\n",
       "      <td>Sneakers For Men</td>\n",
       "      <td>₹499</td>\n",
       "      <td>75% off</td>\n",
       "    </tr>\n",
       "    <tr>\n",
       "      <th>...</th>\n",
       "      <td>...</td>\n",
       "      <td>...</td>\n",
       "      <td>...</td>\n",
       "      <td>...</td>\n",
       "    </tr>\n",
       "    <tr>\n",
       "      <th>95</th>\n",
       "      <td>Chevit</td>\n",
       "      <td>SM-439 Sneakers For Men</td>\n",
       "      <td>₹224</td>\n",
       "      <td>59% off</td>\n",
       "    </tr>\n",
       "    <tr>\n",
       "      <th>96</th>\n",
       "      <td>Hotstyle</td>\n",
       "      <td>Sneakers For Men</td>\n",
       "      <td>₹204</td>\n",
       "      <td>64% off</td>\n",
       "    </tr>\n",
       "    <tr>\n",
       "      <th>97</th>\n",
       "      <td>Red Rose</td>\n",
       "      <td>NEW WHITE TRENDY SNEAKERS FOR MEN Sneakers For...</td>\n",
       "      <td>₹359</td>\n",
       "      <td>70% off</td>\n",
       "    </tr>\n",
       "    <tr>\n",
       "      <th>98</th>\n",
       "      <td>Chevit</td>\n",
       "      <td>SM-322 Sneakers For Men</td>\n",
       "      <td>₹299</td>\n",
       "      <td>60% off</td>\n",
       "    </tr>\n",
       "    <tr>\n",
       "      <th>99</th>\n",
       "      <td>Black Bottom</td>\n",
       "      <td>Classy Sneakers For Men</td>\n",
       "      <td>₹399</td>\n",
       "      <td>85% off</td>\n",
       "    </tr>\n",
       "  </tbody>\n",
       "</table>\n",
       "<p>100 rows × 4 columns</p>\n",
       "</div>"
      ],
      "text/plain": [
       "                  Brand                                       Product Desp  \\\n",
       "0         Fashion World  lofers party wear shoes FOR BOYS Sneakers For Men   \n",
       "1                  Puma                            Classy Sneakers For Men   \n",
       "2                Chevit                               HHM Sneakers For Men   \n",
       "3                Chevit                                   Sneakers For Men   \n",
       "4   World Wear Footwear                                   Sneakers For Men   \n",
       "..                  ...                                                ...   \n",
       "95               Chevit                            SM-439 Sneakers For Men   \n",
       "96             Hotstyle                                   Sneakers For Men   \n",
       "97             Red Rose  NEW WHITE TRENDY SNEAKERS FOR MEN Sneakers For...   \n",
       "98               Chevit                            SM-322 Sneakers For Men   \n",
       "99         Black Bottom                            Classy Sneakers For Men   \n",
       "\n",
       "     Price Discount  \n",
       "0     ₹498  68% off  \n",
       "1   ₹1,456  61% off  \n",
       "2     ₹499  75% off  \n",
       "3     ₹224  55% off  \n",
       "4     ₹499  75% off  \n",
       "..     ...      ...  \n",
       "95    ₹224  59% off  \n",
       "96    ₹204  64% off  \n",
       "97    ₹359  70% off  \n",
       "98    ₹299  60% off  \n",
       "99    ₹399  85% off  \n",
       "\n",
       "[100 rows x 4 columns]"
      ]
     },
     "execution_count": 45,
     "metadata": {},
     "output_type": "execute_result"
    }
   ],
   "source": [
    "sneakers"
   ]
  },
  {
   "cell_type": "code",
   "execution_count": 46,
   "metadata": {},
   "outputs": [
    {
     "data": {
      "text/plain": [
       "',Brand,Product Desp,Price,Discount\\r\\n0,Fashion World,lofers party wear shoes FOR BOYS Sneakers For Men,₹498,68% off\\r\\n1,Puma,Classy Sneakers For Men,\"₹1,456\",61% off\\r\\n2,Chevit,HHM Sneakers For Men,₹499,75% off\\r\\n3,Chevit,Sneakers For Men,₹224,55% off\\r\\n4,World Wear Footwear,Sneakers For Men,₹499,75% off\\r\\n5,Robbie jones,EXCLUSIVE Sneaker For Men,₹378,62% off\\r\\n6,Red Rose,lofers party wear shoes FOR BOYS Sneakers For Men,₹359,64% off\\r\\n7,Oricum,shoes for boys | sports shoes for men | Latest Stylish ...,₹398,60% off\\r\\n8,Stefano Rads,Sneakers For Men,₹260,62% off\\r\\n9,Chevit,Premium quality Sneakers For Men,₹499,50% off\\r\\n10,Restinfoot,HHM Sneakers For Men,₹350,64% off\\r\\n11,Shoes Bank,EXCLUSIVE Sneaker For Men,₹349,65% off\\r\\n12,Chevit,shoes for boys | sports shoes for men | Latest Stylish ...,₹369,26% off\\r\\n13,Echor,STYLISH-WHITE-6 Sneakers For Men,₹601,39% off\\r\\n14,Chevit,SM-439 Sneakers For Men,₹224,55% off\\r\\n15,Aura,Sneakers For Men,₹269,46% off\\r\\n16,Chevit,NEW WHITE TRENDY SNEAKERS FOR MEN Sneakers For Men,₹224,55% off\\r\\n17,Chevit,SM-322 Sneakers For Men,₹299,70% off\\r\\n18,Hotstyle,Sneakers For Men,₹204,59% off\\r\\n19,Essence,Classy Sneakers For Men,₹424,57% off\\r\\n20,Red Rose,Sneakers For Men,₹359,28% off\\r\\n21,BRUTON,Sneakers For Men,₹499,85% off\\r\\n22,TR,COMBO-(2)-RWT Sneakers For Men,₹329,67% off\\r\\n23,Levi\\'s,lofers party wear shoes FOR BOYS Sneakers For Men,\"₹1,400\",49% off\\r\\n24,T-Rock,shoes for boys | sports shoes for men | Latest Stylish ...,₹381,61% off\\r\\n25,Magnolia,Sneakers For Men,₹311,68% off\\r\\n26,bluemaker,HHM Sneakers For Men,₹424,57% off\\r\\n27,Rockfield,Premium quality Sneakers For Men,₹359,64% off\\r\\n28,Rockfield,EXCLUSIVE Sneaker For Men,₹359,64% off\\r\\n29,Bonexy,shoes for boys | sports shoes for men | Latest Stylish ...,₹399,60% off\\r\\n30,Clymb,STYLISH-WHITE-6 Sneakers For Men,₹299,70% off\\r\\n31,Sparx,SM-439 Sneakers For Men,₹769,23% off\\r\\n32,Chevit,Sneakers For Men,₹634,74% off\\r\\n33,Puma,NEW WHITE TRENDY SNEAKERS FOR MEN Sneakers For Men,\"₹1,859\",38% off\\r\\n34,Axter,SM-322 Sneakers For Men,₹297,70% off\\r\\n35,ADIDAS,Classy Sneakers For Men,\"₹1,319\",67% off\\r\\n36,DUNKASTON,Sneakers For Men,₹379,81% off\\r\\n37,Armado,Sneakers For Men,₹498,50% off\\r\\n38,Airland,COMBO-(2)-RWT Sneakers For Men,₹258,48% off\\r\\n39,otoos,lofers party wear shoes FOR BOYS Sneakers For Men,₹428,57% off\\r\\n40,Aadi,shoes for boys | sports shoes for men | Latest Stylish ...,₹339,66% off\\r\\n41,Essence,Sneakers For Men,₹424,57% off\\r\\n42,Kraasa,HHM Sneakers For Men,₹424,57% off\\r\\n43,Fashion World,Premium quality Sneakers For Men,₹498,68% off\\r\\n44,Echor,EXCLUSIVE Sneaker For Men,₹601,39% off\\r\\n45,Chevit,shoes for boys | sports shoes for men | Latest Stylish ...,₹299,70% off\\r\\n46,Shoefly,STYLISH-WHITE-6 Sneakers For Men,₹299,70% off\\r\\n47,Robbie Jones,SM-439 Sneakers For Men,₹449,55% off\\r\\n48,Fzzirok,Sneakers For Men,₹420,57% off\\r\\n49,Echor,NEW WHITE TRENDY SNEAKERS FOR MEN Sneakers For Men,₹601,39% off\\r\\n50,SCATCHITE,SM-322 Sneakers For Men,₹398,60% off\\r\\n51,D-SNEAKERZ,Classy Sneakers For Men,₹368,44% off\\r\\n52,World Wear Footwear,Sneakers For Men,₹240,51% off\\r\\n53,Puma,Sneakers For Men,\"₹1,456\",61% off\\r\\n54,World Wear Footwear,COMBO-(2)-RWT Sneakers For Men,₹499,50% off\\r\\n55,Chevit,lofers party wear shoes FOR BOYS Sneakers For Men,₹224,55% off\\r\\n56,ALFIYA,shoes for boys | sports shoes for men | Latest Stylish ...,₹449,55% off\\r\\n57,Kaneggye,Sneakers For Men,₹356,28% off\\r\\n58,Armado,HHM Sneakers For Men,₹498,50% off\\r\\n59,Levi\\'s,Premium quality Sneakers For Men,\"₹1,400\",49% off\\r\\n60,Wika,EXCLUSIVE Sneaker For Men,₹398,60% off\\r\\n61,Echor,shoes for boys | sports shoes for men | Latest Stylish ...,₹570,42% off\\r\\n62,Shoefly,STYLISH-WHITE-6 Sneakers For Men,₹362,63% off\\r\\n63,Essence,SM-439 Sneakers For Men,₹424,57% off\\r\\n64,URBANBOX,Sneakers For Men,₹199,60% off\\r\\n65,Axter,NEW WHITE TRENDY SNEAKERS FOR MEN Sneakers For Men,₹299,70% off\\r\\n66,Swiggy,SM-322 Sneakers For Men,₹759,69% off\\r\\n67,Stinson,Classy Sneakers For Men,₹599,75% off\\r\\n68,Essence,Sneakers For Men,₹424,57% off\\r\\n69,Bonexy,Sneakers For Men,₹399,60% off\\r\\n70,Sparx,COMBO-(2)-RWT Sneakers For Men,₹699,60% off\\r\\n71,GANPATI TRADERS,lofers party wear shoes FOR BOYS Sneakers For Men,₹199,65% off\\r\\n72,ARDEO,shoes for boys | sports shoes for men | Latest Stylish ...,₹349,38% off\\r\\n73,Puma,Sneakers For Men,\"₹1,859\",60% off\\r\\n74,Numenzo,HHM Sneakers For Men,₹398,45% off\\r\\n75,Edoeviv,Premium quality Sneakers For Men,₹378,70% off\\r\\n76,Provogue,shoes for boys | sports shoes for men | Latest Stylish ...,₹613,23% off\\r\\n77,Sparx,STYLISH-WHITE-6 Sneakers For Men,₹769,49% off\\r\\n78,STRANGER BROTHERS,SM-439 Sneakers For Men,₹503,42% off\\r\\n79,Puma,EXCLUSIVE Sneaker For Men,\"₹4,639\",38% off\\r\\n80,Puma,Sneakers For Men,\"₹2,479\",57% off\\r\\n81,otoos,NEW WHITE TRENDY SNEAKERS FOR MEN Sneakers For Men,₹428,75% off\\r\\n82,Chevit,SM-322 Sneakers For Men,₹499,75% off\\r\\n83,World Wear Footwear,Classy Sneakers For Men,₹499,62% off\\r\\n84,Robbie jones,Sneakers For Men,₹378,55% off\\r\\n85,Chevit,Sneakers For Men,₹224,60% off\\r\\n86,Oricum,COMBO-(2)-RWT Sneakers For Men,₹398,62% off\\r\\n87,Stefano Rads,lofers party wear shoes FOR BOYS Sneakers For Men,₹260,50% off\\r\\n88,Chevit,shoes for boys | sports shoes for men | Latest Stylish ...,₹499,65% off\\r\\n89,Shoes Bank,Sneakers For Men,₹349,67% off\\r\\n90,Restinfoot,HHM Sneakers For Men,₹321,55% off\\r\\n91,Chevit,Premium quality Sneakers For Men,₹224,46% off\\r\\n92,Aura,EXCLUSIVE Sneaker For Men,₹269,50% off\\r\\n93,Longwalk,shoes for boys | sports shoes for men | Latest Stylish ...,₹248,23% off\\r\\n94,Sparx,STYLISH-WHITE-6 Sneakers For Men,₹769,55% off\\r\\n95,Chevit,SM-439 Sneakers For Men,₹224,59% off\\r\\n96,Hotstyle,Sneakers For Men,₹204,64% off\\r\\n97,Red Rose,NEW WHITE TRENDY SNEAKERS FOR MEN Sneakers For Men,₹359,70% off\\r\\n98,Chevit,SM-322 Sneakers For Men,₹299,60% off\\r\\n99,Black Bottom,Classy Sneakers For Men,₹399,85% off\\r\\n'"
      ]
     },
     "execution_count": 46,
     "metadata": {},
     "output_type": "execute_result"
    }
   ],
   "source": [
    "sneakers.to_csv()   # Saving data to csv"
   ]
  },
  {
   "cell_type": "code",
   "execution_count": null,
   "metadata": {},
   "outputs": [],
   "source": []
  },
  {
   "cell_type": "markdown",
   "metadata": {},
   "source": [
    "# Que--9"
   ]
  },
  {
   "cell_type": "code",
   "execution_count": 230,
   "metadata": {},
   "outputs": [],
   "source": [
    "#connecting to web driver\n",
    "driver = webdriver.Chrome(r\"E:\\FRT\\chromedriver.exe\")"
   ]
  },
  {
   "cell_type": "code",
   "execution_count": 231,
   "metadata": {},
   "outputs": [],
   "source": [
    "# specifying the url of the webpage to be scraped\n",
    "url =\"https://www.myntra.com/shoes?plaEnabled=false&rf=Price%3A5839.0_11559.0_5839.0%20TO%2011559.0\""
   ]
  },
  {
   "cell_type": "code",
   "execution_count": 232,
   "metadata": {},
   "outputs": [],
   "source": [
    "# Lets open the web page through the web driver\n",
    "driver.get(url)"
   ]
  },
  {
   "cell_type": "code",
   "execution_count": 233,
   "metadata": {},
   "outputs": [],
   "source": [
    "# creating 4 empty lists to stored scraped data\n",
    "brand2=[]\n",
    "prod_desp2=[]\n",
    "price2=[]\n"
   ]
  },
  {
   "cell_type": "code",
   "execution_count": null,
   "metadata": {},
   "outputs": [],
   "source": [
    "import time"
   ]
  },
  {
   "cell_type": "code",
   "execution_count": 234,
   "metadata": {},
   "outputs": [],
   "source": [
    "for i in range(0,10):\n",
    "    brand_tagss=driver.find_elements_by_xpath(\"//h3[@class='product-brand']\")\n",
    "    for i in brand_tagss:\n",
    "        brand2.append(i.text)\n",
    "    try:\n",
    "        desp_tagss=driver.find_elements_by_xpath(\"//h4[@class='product-product']\")\n",
    "        for j in desp_tagss:\n",
    "            prod_desp2.append(j.text)\n",
    "    except NoSuchElementException:\n",
    "         prod_desp2.append(\"Null\")\n",
    "      \n",
    "    price_tagss=driver.find_elements_by_xpath(\"//span[@class='product-discountedPrice']\")\n",
    "    for k in price_tagss:\n",
    "        price2.append(k.text)\n",
    "    \n",
    "    driver.find_element_by_xpath(\"//a[@rel='next']\").click()\n",
    "    time.sleep(3)"
   ]
  },
  {
   "cell_type": "code",
   "execution_count": 235,
   "metadata": {},
   "outputs": [],
   "source": [
    "import pandas as pd\n",
    "shoes=pd.DataFrame({})\n",
    "shoes['Brand']=brand2[0:100]\n",
    "shoes['Product Desp']=prod_desp2[0:100]\n",
    "shoes['Price']=price2[0:100]"
   ]
  },
  {
   "cell_type": "code",
   "execution_count": 236,
   "metadata": {},
   "outputs": [
    {
     "data": {
      "text/html": [
       "<div>\n",
       "<style scoped>\n",
       "    .dataframe tbody tr th:only-of-type {\n",
       "        vertical-align: middle;\n",
       "    }\n",
       "\n",
       "    .dataframe tbody tr th {\n",
       "        vertical-align: top;\n",
       "    }\n",
       "\n",
       "    .dataframe thead th {\n",
       "        text-align: right;\n",
       "    }\n",
       "</style>\n",
       "<table border=\"1\" class=\"dataframe\">\n",
       "  <thead>\n",
       "    <tr style=\"text-align: right;\">\n",
       "      <th></th>\n",
       "      <th>Brand</th>\n",
       "      <th>Product Desp</th>\n",
       "      <th>Price</th>\n",
       "    </tr>\n",
       "  </thead>\n",
       "  <tbody>\n",
       "    <tr>\n",
       "      <th>0</th>\n",
       "      <td>Nike</td>\n",
       "      <td>Men ZOOM WINFLO 7 Shoes</td>\n",
       "      <td>Rs. 5999</td>\n",
       "    </tr>\n",
       "    <tr>\n",
       "      <th>1</th>\n",
       "      <td>Nike</td>\n",
       "      <td>Men ZOOM FLY 3 Running Shoes</td>\n",
       "      <td>Rs. 11199</td>\n",
       "    </tr>\n",
       "    <tr>\n",
       "      <th>2</th>\n",
       "      <td>Nike</td>\n",
       "      <td>Men Zoom Running Shoes</td>\n",
       "      <td>Rs. 6399</td>\n",
       "    </tr>\n",
       "    <tr>\n",
       "      <th>3</th>\n",
       "      <td>Cole Haan</td>\n",
       "      <td>Men Traveller Leather Penny Loafers</td>\n",
       "      <td>Rs. 9999</td>\n",
       "    </tr>\n",
       "    <tr>\n",
       "      <th>4</th>\n",
       "      <td>Nike</td>\n",
       "      <td>Women ZOOM FLY 3 Running Shoes</td>\n",
       "      <td>Rs. 10499</td>\n",
       "    </tr>\n",
       "    <tr>\n",
       "      <th>...</th>\n",
       "      <td>...</td>\n",
       "      <td>...</td>\n",
       "      <td>...</td>\n",
       "    </tr>\n",
       "    <tr>\n",
       "      <th>95</th>\n",
       "      <td>Nike</td>\n",
       "      <td>Women REACT Running Shoes</td>\n",
       "      <td>Rs. 7999</td>\n",
       "    </tr>\n",
       "    <tr>\n",
       "      <th>96</th>\n",
       "      <td>Nike</td>\n",
       "      <td>Women BLAZER MID '77 Sneakers</td>\n",
       "      <td>Rs. 9999</td>\n",
       "    </tr>\n",
       "    <tr>\n",
       "      <th>97</th>\n",
       "      <td>ALDO</td>\n",
       "      <td>Women Sandals</td>\n",
       "      <td>Rs. 8999</td>\n",
       "    </tr>\n",
       "    <tr>\n",
       "      <th>98</th>\n",
       "      <td>Skechers</td>\n",
       "      <td>Women GO RUN PURE 2 Shoes</td>\n",
       "      <td>Rs. 6599</td>\n",
       "    </tr>\n",
       "    <tr>\n",
       "      <th>99</th>\n",
       "      <td>Cole Haan</td>\n",
       "      <td>Men GENERATION ZEROGRAND STITCHLITE</td>\n",
       "      <td>Rs. 6643</td>\n",
       "    </tr>\n",
       "  </tbody>\n",
       "</table>\n",
       "<p>100 rows × 3 columns</p>\n",
       "</div>"
      ],
      "text/plain": [
       "        Brand                         Product Desp      Price\n",
       "0        Nike              Men ZOOM WINFLO 7 Shoes   Rs. 5999\n",
       "1        Nike         Men ZOOM FLY 3 Running Shoes  Rs. 11199\n",
       "2        Nike               Men Zoom Running Shoes   Rs. 6399\n",
       "3   Cole Haan  Men Traveller Leather Penny Loafers   Rs. 9999\n",
       "4        Nike       Women ZOOM FLY 3 Running Shoes  Rs. 10499\n",
       "..        ...                                  ...        ...\n",
       "95       Nike            Women REACT Running Shoes   Rs. 7999\n",
       "96       Nike        Women BLAZER MID '77 Sneakers   Rs. 9999\n",
       "97       ALDO                        Women Sandals   Rs. 8999\n",
       "98   Skechers            Women GO RUN PURE 2 Shoes   Rs. 6599\n",
       "99  Cole Haan  Men GENERATION ZEROGRAND STITCHLITE   Rs. 6643\n",
       "\n",
       "[100 rows x 3 columns]"
      ]
     },
     "execution_count": 236,
     "metadata": {},
     "output_type": "execute_result"
    }
   ],
   "source": [
    "shoes"
   ]
  },
  {
   "cell_type": "code",
   "execution_count": 237,
   "metadata": {},
   "outputs": [
    {
     "data": {
      "text/plain": [
       "\",Brand,Product Desp,Price\\r\\n0,Nike,Men ZOOM WINFLO 7 Shoes,Rs. 5999\\r\\n1,Nike,Men ZOOM FLY 3 Running Shoes,Rs. 11199\\r\\n2,Nike,Men Zoom Running Shoes,Rs. 6399\\r\\n3,Cole Haan,Men Traveller Leather Penny Loafers,Rs. 9999\\r\\n4,Nike,Women ZOOM FLY 3 Running Shoes,Rs. 10499\\r\\n5,Geox,Women Slip-On Sneakers,Rs. 6599\\r\\n6,Geox,Men Suede Tasselled Loafers,Rs. 11199\\r\\n7,ASICS,Women GEL-NIMBUS 22 Running,Rs. 10799\\r\\n8,Geox,Men Leather Driving Shoes,Rs. 11199\\r\\n9,Nike,Men JORDAN ZOOM '92 Shoes,Rs. 7699\\r\\n10,Nike,Men ZOOM FLY 3 Running Shoes,Rs. 6599\\r\\n11,ADIDAS Originals,Men Solid Lxcon Sneakers,Rs. 6299\\r\\n12,Nike,Women AIR MAX VG-R Sneakers,Rs. 7499\\r\\n13,Puma,Unisex UltraRide Running Shoes,Rs. 9599\\r\\n14,Nike,Women Air Zoom Pegasus Running,Rs. 6643\\r\\n15,Nike,Men AIR MAX 2090 Shoes,Rs. 10799\\r\\n16,Kenneth Cole,Men Solid Leather Sneakers,Rs. 6599\\r\\n17,Nike,Men JORDAN ZOOM '92 Shoes,Rs. 9199\\r\\n18,Nike,Women Air Max Sneakers,Rs. 9999\\r\\n19,Nike,Men Air Force 1 Sneakers,Rs. 9999\\r\\n20,Cole Haan,Men Traveller Leather Penny Loafers,Rs. 9199\\r\\n21,Nike,Men JORDAN DELTA Basketball,Rs. 10799\\r\\n22,Nike,Men AIR MAX 90 SE Shoes,Rs. 6599\\r\\n23,Nike,Women AIR MAX 2090 SE Sneakers,Rs. 7499\\r\\n24,Puma,Men HYBRID NETFIT Running Shoe,Rs. 6153\\r\\n25,Nike,Women PEGASUS 37 Running Shoes,Rs. 11199\\r\\n26,Kenneth Cole,Men Solid Derbys,Rs. 6399\\r\\n27,Nike,Men JOYRIDE Running Shoes,Rs. 6099\\r\\n28,Nike,Women W BLAZER MID '77 Shoes,Rs. 8999\\r\\n29,Nike,Men Zoom Span 3 Running,Rs. 6599\\r\\n30,Nike,Men REACT PHANTOM Running,Rs. 5999\\r\\n31,Nike,Men LEGEND REACT 3 Running,Rs. 9399\\r\\n32,ADIDAS,Men Asweego Running Shoes,Rs. 8249\\r\\n33,Nike,Men JORDAN Basketball Shoes,Rs. 7999\\r\\n34,Cole Haan,Women GENERATION ZEROGRAND STITCHLITE,Rs. 6199\\r\\n35,Nike,PEGASUS FLYEASE Running Shoes,Rs. 6399\\r\\n36,Nike,Men LEGEND REACT 3 Shoes,Rs. 10099\\r\\n37,UNDER ARMOUR,Charged Impulse Running Shoes,Rs. 7199\\r\\n38,Nike,Women REACT PHANTOM Running,Rs. 8999\\r\\n39,Skechers,Women GO WALK 5 Walking Shoes,Rs. 7999\\r\\n40,Geox,Men Patterned Sneakers,Rs. 7399\\r\\n41,ADIDAS,Solar Drive 19 Running Shoes,Rs. 10799\\r\\n42,UNDER ARMOUR,Men HOVR Rise Training Shoes,Rs. 8249\\r\\n43,Nike,Men AIR FORCE 1 '07 Sneakers,Rs. 7999\\r\\n44,Nike,Women REACT Running Shoes,Rs. 8999\\r\\n45,Cole Haan,Women Generation ZeroGrand Stitchlite Sneakers,Rs. 8999\\r\\n46,Geox,Men Leather Driving Shoes,Rs. 6599\\r\\n47,Nike,Women AIR ZOOM Running Shoes,Rs. 8994\\r\\n48,ALDO,Women Sandals,Rs. 7499\\r\\n49,Nike,Women REACT Running Shoes,Rs. 8999\\r\\n50,ADIDAS Originals,Men Nite Jogger Fluid Sneakers,Rs. 9749\\r\\n51,Nike,Women Air Max Siren Sneakers,Rs. 7999\\r\\n52,Geox,Men Leather Formal Derbys,Rs. 6294\\r\\n53,Cole Haan,Women Woven Design Slip-On Sneakers,Rs. 7499\\r\\n54,Skechers,Women GO WALK 5 Walking Shoes,Rs. 6399\\r\\n55,ADIDAS,Solar Drive 19 Running Shoes,Rs. 6099\\r\\n56,Cole Haan,Men Stitchlite Wingtip Oxfords,Rs. 7999\\r\\n57,UNDER ARMOUR,Men HOVR Rise Training Shoes,Rs. 6099\\r\\n58,Geox,Men Leather Sneakers,Rs. 5999\\r\\n59,Nike,Women PEGASUS 37 Running Shoes,Rs. 7199\\r\\n60,Nike,Women W BLAZER MID '77 Shoes,Rs. 6599\\r\\n61,Nike,Men CHALLENGER OG Sneakers,Rs. 9999\\r\\n62,CHARLES & KEITH,Women Open Toe Flats,Rs. 6399\\r\\n63,Nike,Women AIR ZOOM Running Shoes,Rs. 7199\\r\\n64,Nike,Men AIR MAX VG-R Sneakers,Rs. 9199\\r\\n65,ADIDAS,Men Energyfalcon Running Shoes,Rs. 7199\\r\\n66,ADIDAS Originals,Men Solid SL 7200 Sneakers,Rs. 5999\\r\\n67,UNDER ARMOUR,Men Liquify Running Shoes,Rs. 10399\\r\\n68,Geox,Men Leather Perforated Derbys,Rs. 6294\\r\\n69,Cole Haan,Men Colourblocked Sneakers,Rs. 7799\\r\\n70,Nike,Men Zoom Running Shoes,Rs. 5999\\r\\n71,ALDO,Men Solid Leather Loafers,Rs. 10499\\r\\n72,Nike,AIR ZOOM PEGASUS Running Shoes,Rs. 9599\\r\\n73,Geox,Men Leather Driving Shoes,Rs. 8999\\r\\n74,ALDO,Women Solid Sneakers,Rs. 6495\\r\\n75,ADIDAS Originals,Men EQT Gazelle Sneakers,Rs. 8999\\r\\n76,Cole Haan,Men Sneakers,Rs. 6099\\r\\n77,Nike,Men KD13 EP Basketball Shoes,Rs. 6599\\r\\n78,Geox,Men Solid Sneakers,Rs. 7194\\r\\n79,ALDO,Men Perforations Brogues,Rs. 6599\\r\\n80,ADIDAS,Unisex Harden Stepback Shoes,Rs. 7499\\r\\n81,Cole Haan,Women Sneakers,Rs. 10799\\r\\n82,Geox,Men Leather Formal Oxfords,Rs. 6399\\r\\n83,UNDER ARMOUR,HOVR Velociti 3 Sports Shoes,Rs. 8399\\r\\n84,UNDER ARMOUR,HOVR Guardian 2 Sports Shoes,Rs. 6399\\r\\n85,Geox,Women Woven Design Sneakers,Rs. 8999\\r\\n86,Geox,Men Leather Driving Shoes,Rs. 9799\\r\\n87,Geox,Men Leather Mid-Top Brogues,Rs. 8199\\r\\n88,ADIDAS Originals,Men Swift Run Sneakers,Rs. 6699\\r\\n89,Nike,Women AIR MAX VG-R Sneakers,Rs. 5999\\r\\n90,Geox,Men Woven Design Sneakers,Rs. 6599\\r\\n91,Nike,Women Air Max Sneakers,Rs. 7999\\r\\n92,Puma,Men Running Shoes,Rs. 6599\\r\\n93,Nike,Women AIR MAX 2090 SE Sneakers,Rs. 11199\\r\\n94,ADIDAS Originals,Men Leather Superstar Sneakers,Rs. 6399\\r\\n95,Nike,Women REACT Running Shoes,Rs. 7999\\r\\n96,Nike,Women BLAZER MID '77 Sneakers,Rs. 9999\\r\\n97,ALDO,Women Sandals,Rs. 8999\\r\\n98,Skechers,Women GO RUN PURE 2 Shoes,Rs. 6599\\r\\n99,Cole Haan,Men GENERATION ZEROGRAND STITCHLITE,Rs. 6643\\r\\n\""
      ]
     },
     "execution_count": 237,
     "metadata": {},
     "output_type": "execute_result"
    }
   ],
   "source": [
    "shoes.to_csv()    # saving data to csv"
   ]
  },
  {
   "cell_type": "code",
   "execution_count": null,
   "metadata": {},
   "outputs": [],
   "source": []
  },
  {
   "cell_type": "markdown",
   "metadata": {},
   "source": [
    "# Que--10"
   ]
  },
  {
   "cell_type": "code",
   "execution_count": 5,
   "metadata": {},
   "outputs": [],
   "source": [
    "#connecting to web driver\n",
    "driver = webdriver.Chrome(r\"E:\\FRT\\chromedriver.exe\")"
   ]
  },
  {
   "cell_type": "code",
   "execution_count": 22,
   "metadata": {},
   "outputs": [],
   "source": [
    "# specifying the url of the webpage to be scraped\n",
    "url =\"https://www.amazon.in/s?k=laptop&i=computers&rh=n%3A1375424031%2Cp_n_feature_thirteen_browse-bin%3A12598163031%7C16757432031&dc&qid=1611131973&rnid=12598141031&ref=sr_nr_p_n_feature_thirteen_browse-bin_17\""
   ]
  },
  {
   "cell_type": "code",
   "execution_count": 23,
   "metadata": {},
   "outputs": [],
   "source": [
    "# Lets open the web page through the web driver\n",
    "driver.get(url)"
   ]
  },
  {
   "cell_type": "code",
   "execution_count": 9,
   "metadata": {},
   "outputs": [],
   "source": [
    "# creating 4 empty lists to stored scraped data\n",
    "Title=[]\n",
    "Price=[]\n",
    "Ratings=[]"
   ]
  },
  {
   "cell_type": "code",
   "execution_count": 24,
   "metadata": {},
   "outputs": [],
   "source": [
    "# Lets extract all the tags having Title tags\n",
    "Title_tags=driver.find_elements_by_xpath(\"//span[@class='a-size-medium a-color-base a-text-normal']\")"
   ]
  },
  {
   "cell_type": "code",
   "execution_count": 25,
   "metadata": {},
   "outputs": [
    {
     "data": {
      "text/plain": [
       "[<selenium.webdriver.remote.webelement.WebElement (session=\"117d8a6c2bb20f7f343c6da5b17839a3\", element=\"2e641640-d741-4f40-b2fb-ba007cc2f668\")>,\n",
       " <selenium.webdriver.remote.webelement.WebElement (session=\"117d8a6c2bb20f7f343c6da5b17839a3\", element=\"01f61510-0cac-4249-819c-9c4db89ed976\")>,\n",
       " <selenium.webdriver.remote.webelement.WebElement (session=\"117d8a6c2bb20f7f343c6da5b17839a3\", element=\"5f85e086-019a-4251-90d0-9df05eb1aa44\")>,\n",
       " <selenium.webdriver.remote.webelement.WebElement (session=\"117d8a6c2bb20f7f343c6da5b17839a3\", element=\"08fc379a-5632-4aaa-8310-b15b6c300aca\")>,\n",
       " <selenium.webdriver.remote.webelement.WebElement (session=\"117d8a6c2bb20f7f343c6da5b17839a3\", element=\"1b4e3dd8-c349-47b2-8c38-f9e99e4e9707\")>,\n",
       " <selenium.webdriver.remote.webelement.WebElement (session=\"117d8a6c2bb20f7f343c6da5b17839a3\", element=\"84acd2d7-aedb-4564-94e8-484922c37451\")>,\n",
       " <selenium.webdriver.remote.webelement.WebElement (session=\"117d8a6c2bb20f7f343c6da5b17839a3\", element=\"70340e40-110e-419b-b8b5-1543e39cd29a\")>,\n",
       " <selenium.webdriver.remote.webelement.WebElement (session=\"117d8a6c2bb20f7f343c6da5b17839a3\", element=\"5ddd84ef-8989-4663-9aa8-8226d6f53745\")>,\n",
       " <selenium.webdriver.remote.webelement.WebElement (session=\"117d8a6c2bb20f7f343c6da5b17839a3\", element=\"c6e081d4-911f-4564-a4a8-55e577854eb9\")>,\n",
       " <selenium.webdriver.remote.webelement.WebElement (session=\"117d8a6c2bb20f7f343c6da5b17839a3\", element=\"07c21078-def4-4ad7-a5f7-965d1b478104\")>]"
      ]
     },
     "execution_count": 25,
     "metadata": {},
     "output_type": "execute_result"
    }
   ],
   "source": [
    "Title_tags[0:10]"
   ]
  },
  {
   "cell_type": "code",
   "execution_count": 29,
   "metadata": {},
   "outputs": [
    {
     "data": {
      "text/plain": [
       "['HP Pavilion x360 Core i7 8th Gen 14-inch Touchscreen 2-in-1 FHD Thin and Light Laptop (16GB/512GB SSD/Windows 10/MS Office/2GB Graphics/Mineral Silver/1.59 kg), 14- dh0045TX',\n",
       " 'Lenovo IdeaPad Gaming 3i 10th Gen Intel Core i7 15.6-inch FHD IPS Gaming Laptop (8GB/1TB HDD + 256 GB SSD/Windows 10/NVIDIA GTX 1650 4GB GDDR6/with M100 RGB Gaming Mouse/Onyx Black/2.2Kg), 81Y400VAIN',\n",
       " 'HP Pavilion x360 Touchscreen 2-in-1 FHD 14-inch Laptop (10th Gen Core i7-10510U/8GB/512GB SSD/Windows 10 Home/MS Office/Mineral Silver/1.58 kg), 14-dh1180tu',\n",
       " 'ASUS ZenBook 14 (2020) Intel Core i7-1165G7 11th Gen 14-inch FHD Thin and Light Laptop (16GB RAM/512GB NVMe SSD/Windows 10/MS Office 2019/Intel Iris Xᵉ Graphics/Pine Grey/1.17 kg), UX425EA-BM701TS',\n",
       " 'Acer Nitro 5 Intel Core i7 10750H 15.6\" FHD IPS 144Hz Display Thin and Light Gaming Laptop (8GB Ram/1TB HDD + 256 GB SSD/Windows 10 Home /GTX 1650Ti Graphics/Obisidian Black/2.3 kgs),AN515-55',\n",
       " 'ASUS TUF Gaming F15, 15.6\" FHD 144Hz, Intel Core i7-10870H 10th Gen, GTX 1650 Ti GDDR6 4GB Graphics, Gaming Laptop (8GB RAM/1TB HDD + 512GB SSD/Windows 10/Fortress Gray/2.3 Kg), FX566LI-HN132T',\n",
       " 'ASUS ROG Strix G17 17.3\" FHD 120Hz Intel Core i7-10750H 10th Gen, GTX 1660Ti 6GB Graphics (16GB RAM/512GB NVMe SSD/Windows 10/Original Black/2.83 Kg), G712LU-H7015T + Xbox Game Pass for PC',\n",
       " 'HP 14 10th Gen Intel Core i7 Ultra Thin and Light FHD Laptop (i7-1065G7/8GB/512GB SSD/Win 10/MS Office 2019/Natural Silver/1.46 Kg), 14s-DR1010TU',\n",
       " 'Lenovo Yoga S740 Intel Core i7 10th Gen 14 inch UHD Ultra Thin and Light Laptop (16GB/1TB SSD/Windows/Office/NVIDIA MX250 2GB/Iron Grey/1.4Kg), 81RS00B0IN',\n",
       " 'Lenovo ThinkPad E14 Intel Core i7 10th Gen14-inch Full HD IPS Thin and Light Laptop (16GB RAM/ 1TB HDD+256GB SSD/ Windows 10 Home/ Microsoft Office Home & Student 2019/ Black/ 1.69kg), 20RAS0AM00']"
      ]
     },
     "execution_count": 29,
     "metadata": {},
     "output_type": "execute_result"
    }
   ],
   "source": [
    "# Exctracting the text from above exctracted tags using for loop\n",
    "for i in Title_tags:\n",
    "        Title.append(i.text)\n",
    "Title[0:10]  "
   ]
  },
  {
   "cell_type": "code",
   "execution_count": 30,
   "metadata": {},
   "outputs": [
    {
     "data": {
      "text/plain": [
       "[<selenium.webdriver.remote.webelement.WebElement (session=\"117d8a6c2bb20f7f343c6da5b17839a3\", element=\"7be0473f-899d-4750-8cf3-d7ef36564c4f\")>,\n",
       " <selenium.webdriver.remote.webelement.WebElement (session=\"117d8a6c2bb20f7f343c6da5b17839a3\", element=\"2900b329-38c6-4f43-87eb-71dc41ea0c58\")>,\n",
       " <selenium.webdriver.remote.webelement.WebElement (session=\"117d8a6c2bb20f7f343c6da5b17839a3\", element=\"4f49119d-085e-4cba-bff4-376ed3ef8a0d\")>,\n",
       " <selenium.webdriver.remote.webelement.WebElement (session=\"117d8a6c2bb20f7f343c6da5b17839a3\", element=\"d389564d-5341-42fc-8989-f779b172b078\")>,\n",
       " <selenium.webdriver.remote.webelement.WebElement (session=\"117d8a6c2bb20f7f343c6da5b17839a3\", element=\"a3abd41c-4867-43bf-8395-b3b44912e735\")>,\n",
       " <selenium.webdriver.remote.webelement.WebElement (session=\"117d8a6c2bb20f7f343c6da5b17839a3\", element=\"0efba750-7cd9-4b12-89f1-f693f5e6a191\")>,\n",
       " <selenium.webdriver.remote.webelement.WebElement (session=\"117d8a6c2bb20f7f343c6da5b17839a3\", element=\"a498d9f8-af55-408f-9c4a-fa547c82d5ca\")>,\n",
       " <selenium.webdriver.remote.webelement.WebElement (session=\"117d8a6c2bb20f7f343c6da5b17839a3\", element=\"bfd1d2a7-4149-450a-aaa3-5a2c1e9a4823\")>,\n",
       " <selenium.webdriver.remote.webelement.WebElement (session=\"117d8a6c2bb20f7f343c6da5b17839a3\", element=\"a60b5ae5-02b0-41e6-ae73-14eed0147062\")>,\n",
       " <selenium.webdriver.remote.webelement.WebElement (session=\"117d8a6c2bb20f7f343c6da5b17839a3\", element=\"3ef63ad7-fc0e-4d13-ad7b-ce1d10ee99c4\")>]"
      ]
     },
     "execution_count": 30,
     "metadata": {},
     "output_type": "execute_result"
    }
   ],
   "source": [
    "# Lets extract all the tags having price tags\n",
    "Price_tags=driver.find_elements_by_xpath(\"//span[@class='a-price-whole']\")\n",
    "Price_tags[0:10]"
   ]
  },
  {
   "cell_type": "code",
   "execution_count": 31,
   "metadata": {},
   "outputs": [
    {
     "data": {
      "text/plain": [
       "['85,990',\n",
       " '74,990',\n",
       " '74,990',\n",
       " '95,555',\n",
       " '78,990',\n",
       " '82,990',\n",
       " '1,02,990',\n",
       " '72,969',\n",
       " '97,700',\n",
       " '84,990']"
      ]
     },
     "execution_count": 31,
     "metadata": {},
     "output_type": "execute_result"
    }
   ],
   "source": [
    "# Exctracting the text from above exctracted tags using for loop\n",
    "for i in Price_tags:\n",
    "        Price.append(i.text)\n",
    "Price[0:10]  "
   ]
  },
  {
   "cell_type": "code",
   "execution_count": 11,
   "metadata": {},
   "outputs": [],
   "source": [
    "UR=[]"
   ]
  },
  {
   "cell_type": "code",
   "execution_count": 12,
   "metadata": {},
   "outputs": [],
   "source": [
    "for i in urls[:10]:\n",
    "    UR.append(i.get_attribute('href'))                 #getting the url of first 10 laptops"
   ]
  },
  {
   "cell_type": "code",
   "execution_count": 13,
   "metadata": {},
   "outputs": [],
   "source": [
    "for url in UR:                                        #loop for every laptop in the list\n",
    "\n",
    "    driver.get(url)"
   ]
  },
  {
   "cell_type": "code",
   "execution_count": 14,
   "metadata": {},
   "outputs": [],
   "source": [
    "for i in range(0,10):\n",
    "    try:                                                       #exception handling for nosuchelementexception\n",
    "        rate=driver.find_element_by_xpath(\"//span[@id='acrCustomerReviewText']\")        #locating the rating link\n",
    "\n",
    "        rate.click()                                                                 #click the rating link found\n",
    "\n",
    "        rating=driver.find_element_by_xpath(\"//span[@class='a-size-medium a-color-base']\")        #locating the rating\n",
    "\n",
    "        Ratings.append(rating.text)                                     #appending the ratings in Ratings list\n",
    "\n",
    "        \n",
    "\n",
    "    except NoSuchElementException as e:\n",
    "        Ratings.append(\"NO rating\")                                      #appending the No rating if no rating is there\n",
    "    \n",
    "        driver.find_element_by_xpath(\"//li[@class='a-last']\").click()\n",
    "        time.sleep(3)\n",
    "    "
   ]
  },
  {
   "cell_type": "code",
   "execution_count": 32,
   "metadata": {},
   "outputs": [],
   "source": [
    "import pandas as pd\n",
    "Laptop=pd.DataFrame({})\n",
    "Laptop['Title']=Title[0:10]\n",
    "Laptop['Price']=Price[0:10]\n",
    "Laptop['Ratings']=Ratings[0:10] "
   ]
  },
  {
   "cell_type": "code",
   "execution_count": 33,
   "metadata": {},
   "outputs": [
    {
     "data": {
      "text/html": [
       "<div>\n",
       "<style scoped>\n",
       "    .dataframe tbody tr th:only-of-type {\n",
       "        vertical-align: middle;\n",
       "    }\n",
       "\n",
       "    .dataframe tbody tr th {\n",
       "        vertical-align: top;\n",
       "    }\n",
       "\n",
       "    .dataframe thead th {\n",
       "        text-align: right;\n",
       "    }\n",
       "</style>\n",
       "<table border=\"1\" class=\"dataframe\">\n",
       "  <thead>\n",
       "    <tr style=\"text-align: right;\">\n",
       "      <th></th>\n",
       "      <th>Title</th>\n",
       "      <th>Price</th>\n",
       "      <th>Ratings</th>\n",
       "    </tr>\n",
       "  </thead>\n",
       "  <tbody>\n",
       "    <tr>\n",
       "      <th>0</th>\n",
       "      <td>HP Pavilion x360 Core i7 8th Gen 14-inch Touch...</td>\n",
       "      <td>85,990</td>\n",
       "      <td>3.1 out of 5</td>\n",
       "    </tr>\n",
       "    <tr>\n",
       "      <th>1</th>\n",
       "      <td>Lenovo IdeaPad Gaming 3i 10th Gen Intel Core i...</td>\n",
       "      <td>74,990</td>\n",
       "      <td>3.1 out of 5</td>\n",
       "    </tr>\n",
       "    <tr>\n",
       "      <th>2</th>\n",
       "      <td>HP Pavilion x360 Touchscreen 2-in-1 FHD 14-inc...</td>\n",
       "      <td>74,990</td>\n",
       "      <td>3.1 out of 5</td>\n",
       "    </tr>\n",
       "    <tr>\n",
       "      <th>3</th>\n",
       "      <td>ASUS ZenBook 14 (2020) Intel Core i7-1165G7 11...</td>\n",
       "      <td>95,555</td>\n",
       "      <td>3.1 out of 5</td>\n",
       "    </tr>\n",
       "    <tr>\n",
       "      <th>4</th>\n",
       "      <td>Acer Nitro 5 Intel Core i7 10750H 15.6\" FHD IP...</td>\n",
       "      <td>78,990</td>\n",
       "      <td>3.1 out of 5</td>\n",
       "    </tr>\n",
       "    <tr>\n",
       "      <th>5</th>\n",
       "      <td>ASUS TUF Gaming F15, 15.6\" FHD 144Hz, Intel Co...</td>\n",
       "      <td>82,990</td>\n",
       "      <td>3.1 out of 5</td>\n",
       "    </tr>\n",
       "    <tr>\n",
       "      <th>6</th>\n",
       "      <td>ASUS ROG Strix G17 17.3\" FHD 120Hz Intel Core ...</td>\n",
       "      <td>1,02,990</td>\n",
       "      <td>3.1 out of 5</td>\n",
       "    </tr>\n",
       "    <tr>\n",
       "      <th>7</th>\n",
       "      <td>HP 14 10th Gen Intel Core i7 Ultra Thin and Li...</td>\n",
       "      <td>72,969</td>\n",
       "      <td>3.1 out of 5</td>\n",
       "    </tr>\n",
       "    <tr>\n",
       "      <th>8</th>\n",
       "      <td>Lenovo Yoga S740 Intel Core i7 10th Gen 14 inc...</td>\n",
       "      <td>97,700</td>\n",
       "      <td>3.1 out of 5</td>\n",
       "    </tr>\n",
       "    <tr>\n",
       "      <th>9</th>\n",
       "      <td>Lenovo ThinkPad E14 Intel Core i7 10th Gen14-i...</td>\n",
       "      <td>84,990</td>\n",
       "      <td>3.1 out of 5</td>\n",
       "    </tr>\n",
       "  </tbody>\n",
       "</table>\n",
       "</div>"
      ],
      "text/plain": [
       "                                               Title     Price       Ratings\n",
       "0  HP Pavilion x360 Core i7 8th Gen 14-inch Touch...    85,990  3.1 out of 5\n",
       "1  Lenovo IdeaPad Gaming 3i 10th Gen Intel Core i...    74,990  3.1 out of 5\n",
       "2  HP Pavilion x360 Touchscreen 2-in-1 FHD 14-inc...    74,990  3.1 out of 5\n",
       "3  ASUS ZenBook 14 (2020) Intel Core i7-1165G7 11...    95,555  3.1 out of 5\n",
       "4  Acer Nitro 5 Intel Core i7 10750H 15.6\" FHD IP...    78,990  3.1 out of 5\n",
       "5  ASUS TUF Gaming F15, 15.6\" FHD 144Hz, Intel Co...    82,990  3.1 out of 5\n",
       "6  ASUS ROG Strix G17 17.3\" FHD 120Hz Intel Core ...  1,02,990  3.1 out of 5\n",
       "7  HP 14 10th Gen Intel Core i7 Ultra Thin and Li...    72,969  3.1 out of 5\n",
       "8  Lenovo Yoga S740 Intel Core i7 10th Gen 14 inc...    97,700  3.1 out of 5\n",
       "9  Lenovo ThinkPad E14 Intel Core i7 10th Gen14-i...    84,990  3.1 out of 5"
      ]
     },
     "execution_count": 33,
     "metadata": {},
     "output_type": "execute_result"
    }
   ],
   "source": [
    "Laptop"
   ]
  },
  {
   "cell_type": "code",
   "execution_count": 34,
   "metadata": {},
   "outputs": [
    {
     "data": {
      "text/plain": [
       "',Title,Price,Ratings\\r\\n0,\"HP Pavilion x360 Core i7 8th Gen 14-inch Touchscreen 2-in-1 FHD Thin and Light Laptop (16GB/512GB SSD/Windows 10/MS Office/2GB Graphics/Mineral Silver/1.59 kg), 14- dh0045TX\",\"85,990\",3.1 out of 5\\r\\n1,\"Lenovo IdeaPad Gaming 3i 10th Gen Intel Core i7 15.6-inch FHD IPS Gaming Laptop (8GB/1TB HDD + 256 GB SSD/Windows 10/NVIDIA GTX 1650 4GB GDDR6/with M100 RGB Gaming Mouse/Onyx Black/2.2Kg), 81Y400VAIN\",\"74,990\",3.1 out of 5\\r\\n2,\"HP Pavilion x360 Touchscreen 2-in-1 FHD 14-inch Laptop (10th Gen Core i7-10510U/8GB/512GB SSD/Windows 10 Home/MS Office/Mineral Silver/1.58 kg), 14-dh1180tu\",\"74,990\",3.1 out of 5\\r\\n3,\"ASUS ZenBook 14 (2020) Intel Core i7-1165G7 11th Gen 14-inch FHD Thin and Light Laptop (16GB RAM/512GB NVMe SSD/Windows 10/MS Office 2019/Intel Iris Xᵉ Graphics/Pine Grey/1.17 kg), UX425EA-BM701TS\",\"95,555\",3.1 out of 5\\r\\n4,\"Acer Nitro 5 Intel Core i7 10750H 15.6\"\" FHD IPS 144Hz Display Thin and Light Gaming Laptop (8GB Ram/1TB HDD + 256 GB SSD/Windows 10 Home /GTX 1650Ti Graphics/Obisidian Black/2.3 kgs),AN515-55\",\"78,990\",3.1 out of 5\\r\\n5,\"ASUS TUF Gaming F15, 15.6\"\" FHD 144Hz, Intel Core i7-10870H 10th Gen, GTX 1650 Ti GDDR6 4GB Graphics, Gaming Laptop (8GB RAM/1TB HDD + 512GB SSD/Windows 10/Fortress Gray/2.3 Kg), FX566LI-HN132T\",\"82,990\",3.1 out of 5\\r\\n6,\"ASUS ROG Strix G17 17.3\"\" FHD 120Hz Intel Core i7-10750H 10th Gen, GTX 1660Ti 6GB Graphics (16GB RAM/512GB NVMe SSD/Windows 10/Original Black/2.83 Kg), G712LU-H7015T + Xbox Game Pass for PC\",\"1,02,990\",3.1 out of 5\\r\\n7,\"HP 14 10th Gen Intel Core i7 Ultra Thin and Light FHD Laptop (i7-1065G7/8GB/512GB SSD/Win 10/MS Office 2019/Natural Silver/1.46 Kg), 14s-DR1010TU\",\"72,969\",3.1 out of 5\\r\\n8,\"Lenovo Yoga S740 Intel Core i7 10th Gen 14 inch UHD Ultra Thin and Light Laptop (16GB/1TB SSD/Windows/Office/NVIDIA MX250 2GB/Iron Grey/1.4Kg), 81RS00B0IN\",\"97,700\",3.1 out of 5\\r\\n9,\"Lenovo ThinkPad E14 Intel Core i7 10th Gen14-inch Full HD IPS Thin and Light Laptop (16GB RAM/ 1TB HDD+256GB SSD/ Windows 10 Home/ Microsoft Office Home & Student 2019/ Black/ 1.69kg), 20RAS0AM00\",\"84,990\",3.1 out of 5\\r\\n'"
      ]
     },
     "execution_count": 34,
     "metadata": {},
     "output_type": "execute_result"
    }
   ],
   "source": [
    "Laptop.to_csv()      # saving data to csv"
   ]
  },
  {
   "cell_type": "code",
   "execution_count": null,
   "metadata": {},
   "outputs": [],
   "source": []
  },
  {
   "cell_type": "code",
   "execution_count": null,
   "metadata": {},
   "outputs": [],
   "source": []
  },
  {
   "cell_type": "code",
   "execution_count": null,
   "metadata": {},
   "outputs": [],
   "source": []
  },
  {
   "cell_type": "code",
   "execution_count": null,
   "metadata": {},
   "outputs": [],
   "source": []
  }
 ],
 "metadata": {
  "kernelspec": {
   "display_name": "Python 3",
   "language": "python",
   "name": "python3"
  },
  "language_info": {
   "codemirror_mode": {
    "name": "ipython",
    "version": 3
   },
   "file_extension": ".py",
   "mimetype": "text/x-python",
   "name": "python",
   "nbconvert_exporter": "python",
   "pygments_lexer": "ipython3",
   "version": "3.7.6"
  }
 },
 "nbformat": 4,
 "nbformat_minor": 4
}
