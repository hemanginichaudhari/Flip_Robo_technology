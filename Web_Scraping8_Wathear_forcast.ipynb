{
 "cells": [
  {
   "cell_type": "code",
   "execution_count": 190,
   "metadata": {},
   "outputs": [
    {
     "name": "stdout",
     "output_type": "stream",
     "text": [
      "Requirement already satisfied: selenium in c:\\users\\inspiron\\anaconda3\\lib\\site-packages (3.141.0)\n",
      "Requirement already satisfied: urllib3 in c:\\users\\inspiron\\anaconda3\\lib\\site-packages (from selenium) (1.25.8)\n"
     ]
    }
   ],
   "source": [
    "!pip install selenium"
   ]
  },
  {
   "cell_type": "code",
   "execution_count": 191,
   "metadata": {},
   "outputs": [],
   "source": [
    "import selenium\n",
    "import pandas as pd\n",
    "from selenium import webdriver"
   ]
  },
  {
   "cell_type": "code",
   "execution_count": 192,
   "metadata": {},
   "outputs": [],
   "source": [
    "driver = webdriver.Chrome(r\"E:\\FRT\\chromedriver.exe\")"
   ]
  },
  {
   "cell_type": "code",
   "execution_count": 193,
   "metadata": {},
   "outputs": [],
   "source": [
    "url = \"https://forecast.weather.gov/MapClick.php?lat=37.777120000000025&lon=-122.41963999999996#.X_nT4VUzbIV\""
   ]
  },
  {
   "cell_type": "code",
   "execution_count": 194,
   "metadata": {},
   "outputs": [],
   "source": [
    "driver.get(url)"
   ]
  },
  {
   "cell_type": "code",
   "execution_count": 195,
   "metadata": {},
   "outputs": [],
   "source": [
    "period=[]\n",
    "short_desp=[]\n",
    "temp=[]\n",
    "description=[]"
   ]
  },
  {
   "cell_type": "code",
   "execution_count": 196,
   "metadata": {},
   "outputs": [
    {
     "data": {
      "text/plain": [
       "[<selenium.webdriver.remote.webelement.WebElement (session=\"9f84a0a66c209ee96cc0df4da0565feb\", element=\"564b3ba6-82a5-490f-b438-3f04a3876924\")>,\n",
       " <selenium.webdriver.remote.webelement.WebElement (session=\"9f84a0a66c209ee96cc0df4da0565feb\", element=\"1ecfe54e-0448-45cd-a5d5-006ad2b7c52d\")>,\n",
       " <selenium.webdriver.remote.webelement.WebElement (session=\"9f84a0a66c209ee96cc0df4da0565feb\", element=\"026c55ab-2ee5-48a5-9d26-788fe14f2bad\")>,\n",
       " <selenium.webdriver.remote.webelement.WebElement (session=\"9f84a0a66c209ee96cc0df4da0565feb\", element=\"3bfe489a-c987-41a4-8260-8727ce4c6bae\")>,\n",
       " <selenium.webdriver.remote.webelement.WebElement (session=\"9f84a0a66c209ee96cc0df4da0565feb\", element=\"b1e76c70-58f9-4cf0-b0af-bbbcd1b57cad\")>,\n",
       " <selenium.webdriver.remote.webelement.WebElement (session=\"9f84a0a66c209ee96cc0df4da0565feb\", element=\"402e157a-6b36-46cb-8578-9c20d4e6070e\")>,\n",
       " <selenium.webdriver.remote.webelement.WebElement (session=\"9f84a0a66c209ee96cc0df4da0565feb\", element=\"5f842aa5-3fcc-419b-be7d-45986f296160\")>,\n",
       " <selenium.webdriver.remote.webelement.WebElement (session=\"9f84a0a66c209ee96cc0df4da0565feb\", element=\"57d4871c-d1d1-4c3a-b289-ea840e50f6b6\")>,\n",
       " <selenium.webdriver.remote.webelement.WebElement (session=\"9f84a0a66c209ee96cc0df4da0565feb\", element=\"2a3bbac8-e3cc-467d-9afe-9224478d392d\")>]"
      ]
     },
     "execution_count": 196,
     "metadata": {},
     "output_type": "execute_result"
    }
   ],
   "source": [
    "periods=driver.find_elements_by_xpath(\"//p[@class='period-name']\")\n",
    "periods"
   ]
  },
  {
   "cell_type": "code",
   "execution_count": 197,
   "metadata": {},
   "outputs": [
    {
     "data": {
      "text/plain": [
       "['Today',\n",
       " 'Tonight',\n",
       " 'Monday',\n",
       " 'Monday\\nNight',\n",
       " 'Tuesday',\n",
       " 'Tuesday\\nNight',\n",
       " 'Wednesday',\n",
       " 'Wednesday\\nNight',\n",
       " 'Thursday']"
      ]
     },
     "execution_count": 197,
     "metadata": {},
     "output_type": "execute_result"
    }
   ],
   "source": [
    "for i in periods:\n",
    "    p=i.text\n",
    "    period.append(p)\n",
    "    \n",
    "period"
   ]
  },
  {
   "cell_type": "code",
   "execution_count": 198,
   "metadata": {},
   "outputs": [
    {
     "data": {
      "text/plain": [
       "[<selenium.webdriver.remote.webelement.WebElement (session=\"9f84a0a66c209ee96cc0df4da0565feb\", element=\"29dfc980-d4cb-4cab-8096-45e34be9dd8e\")>,\n",
       " <selenium.webdriver.remote.webelement.WebElement (session=\"9f84a0a66c209ee96cc0df4da0565feb\", element=\"d53665df-74e2-4aad-8308-9ca53e62a041\")>,\n",
       " <selenium.webdriver.remote.webelement.WebElement (session=\"9f84a0a66c209ee96cc0df4da0565feb\", element=\"d69f58b8-3857-42f7-949d-a88897358d42\")>,\n",
       " <selenium.webdriver.remote.webelement.WebElement (session=\"9f84a0a66c209ee96cc0df4da0565feb\", element=\"a12b68bc-5f90-4acd-a03a-660adeb2e1dd\")>,\n",
       " <selenium.webdriver.remote.webelement.WebElement (session=\"9f84a0a66c209ee96cc0df4da0565feb\", element=\"04188ee3-7f1d-4ac1-8e81-9ec18fdf54ee\")>,\n",
       " <selenium.webdriver.remote.webelement.WebElement (session=\"9f84a0a66c209ee96cc0df4da0565feb\", element=\"85d9fdbe-de38-46cb-a7d5-0b847594a9a4\")>,\n",
       " <selenium.webdriver.remote.webelement.WebElement (session=\"9f84a0a66c209ee96cc0df4da0565feb\", element=\"d2b64365-2ba2-485a-bf8c-e529cf93b188\")>,\n",
       " <selenium.webdriver.remote.webelement.WebElement (session=\"9f84a0a66c209ee96cc0df4da0565feb\", element=\"e1de1208-375b-40c5-92a4-882378214464\")>,\n",
       " <selenium.webdriver.remote.webelement.WebElement (session=\"9f84a0a66c209ee96cc0df4da0565feb\", element=\"a380040b-aaca-4608-b135-93973b5cb3fc\")>]"
      ]
     },
     "execution_count": 198,
     "metadata": {},
     "output_type": "execute_result"
    }
   ],
   "source": [
    "short_d=driver.find_elements_by_xpath(\"//p[@class='short-desc']\")\n",
    "short_d"
   ]
  },
  {
   "cell_type": "code",
   "execution_count": 199,
   "metadata": {},
   "outputs": [
    {
     "data": {
      "text/plain": [
       "['Partly Sunny',\n",
       " 'Mostly Cloudy',\n",
       " 'Patchy Fog\\nthen Partly\\nSunny',\n",
       " 'Mostly Cloudy',\n",
       " 'Mostly Cloudy',\n",
       " 'Mostly Cloudy',\n",
       " 'Partly Sunny',\n",
       " 'Mostly Cloudy',\n",
       " 'Mostly Sunny']"
      ]
     },
     "execution_count": 199,
     "metadata": {},
     "output_type": "execute_result"
    }
   ],
   "source": [
    "for i in short_d:\n",
    "    sd=i.text\n",
    "    short_desp.append(sd)\n",
    "    \n",
    "short_desp"
   ]
  },
  {
   "cell_type": "code",
   "execution_count": 200,
   "metadata": {},
   "outputs": [
    {
     "data": {
      "text/plain": [
       "[<selenium.webdriver.remote.webelement.WebElement (session=\"9f84a0a66c209ee96cc0df4da0565feb\", element=\"f1803dbe-8156-488c-90bd-892b38f2ffea\")>,\n",
       " <selenium.webdriver.remote.webelement.WebElement (session=\"9f84a0a66c209ee96cc0df4da0565feb\", element=\"3dd91d4e-58de-444a-9652-a45d549627ff\")>,\n",
       " <selenium.webdriver.remote.webelement.WebElement (session=\"9f84a0a66c209ee96cc0df4da0565feb\", element=\"1c31f1a2-35c8-44ea-b943-7119dc5d124d\")>,\n",
       " <selenium.webdriver.remote.webelement.WebElement (session=\"9f84a0a66c209ee96cc0df4da0565feb\", element=\"70e4b5ae-998f-4c96-8437-3db7d9964b5c\")>,\n",
       " <selenium.webdriver.remote.webelement.WebElement (session=\"9f84a0a66c209ee96cc0df4da0565feb\", element=\"fd72175b-e101-4b2e-8199-58d88ca5d443\")>]"
      ]
     },
     "execution_count": 200,
     "metadata": {},
     "output_type": "execute_result"
    }
   ],
   "source": [
    "t=driver.find_elements_by_xpath(\"//p[@class='temp temp-high']\")\n",
    "t"
   ]
  },
  {
   "cell_type": "code",
   "execution_count": 201,
   "metadata": {},
   "outputs": [
    {
     "data": {
      "text/plain": [
       "[<selenium.webdriver.remote.webelement.WebElement (session=\"9f84a0a66c209ee96cc0df4da0565feb\", element=\"b9525dfc-2c19-47b1-b887-c4535c2fe230\")>,\n",
       " <selenium.webdriver.remote.webelement.WebElement (session=\"9f84a0a66c209ee96cc0df4da0565feb\", element=\"b32bf663-66c5-45f6-b102-ed4a2b476ad1\")>,\n",
       " <selenium.webdriver.remote.webelement.WebElement (session=\"9f84a0a66c209ee96cc0df4da0565feb\", element=\"d5079079-0ca3-498d-8d7b-bd1c1bd2974b\")>,\n",
       " <selenium.webdriver.remote.webelement.WebElement (session=\"9f84a0a66c209ee96cc0df4da0565feb\", element=\"813b643c-a823-4e8b-8ad2-16b09d4340f2\")>]"
      ]
     },
     "execution_count": 201,
     "metadata": {},
     "output_type": "execute_result"
    }
   ],
   "source": [
    "t1=driver.find_elements_by_xpath(\"//p[@class='temp temp-low']\")\n",
    "t1"
   ]
  },
  {
   "cell_type": "code",
   "execution_count": 202,
   "metadata": {},
   "outputs": [
    {
     "data": {
      "text/plain": [
       "['High: 59 °F', 'High: 59 °F', 'High: 61 °F', 'High: 63 °F', 'High: 65 °F']"
      ]
     },
     "execution_count": 202,
     "metadata": {},
     "output_type": "execute_result"
    }
   ],
   "source": [
    "for i in t:\n",
    "    tp=i.text\n",
    "    temp.append(tp)\n",
    "    \n",
    "temp"
   ]
  },
  {
   "cell_type": "code",
   "execution_count": 203,
   "metadata": {},
   "outputs": [],
   "source": [
    "temp1=[]"
   ]
  },
  {
   "cell_type": "code",
   "execution_count": 204,
   "metadata": {},
   "outputs": [
    {
     "data": {
      "text/plain": [
       "['Low: 47 °F', 'Low: 47 °F', 'Low: 49 °F', 'Low: 50 °F']"
      ]
     },
     "execution_count": 204,
     "metadata": {},
     "output_type": "execute_result"
    }
   ],
   "source": [
    "for i in t1:\n",
    "    tp=i.text\n",
    "    temp1.append(tp)\n",
    "    \n",
    "temp1"
   ]
  },
  {
   "cell_type": "code",
   "execution_count": 232,
   "metadata": {},
   "outputs": [],
   "source": [
    "temperature=[]"
   ]
  },
  {
   "cell_type": "code",
   "execution_count": 233,
   "metadata": {},
   "outputs": [],
   "source": [
    "temperature = [None]* (len(temp1)+len(temp))\n"
   ]
  },
  {
   "cell_type": "code",
   "execution_count": 234,
   "metadata": {},
   "outputs": [],
   "source": [
    "temperature[1::2] = temp1"
   ]
  },
  {
   "cell_type": "code",
   "execution_count": 235,
   "metadata": {},
   "outputs": [],
   "source": [
    "temperature[::2] = temp"
   ]
  },
  {
   "cell_type": "code",
   "execution_count": 236,
   "metadata": {},
   "outputs": [
    {
     "data": {
      "text/plain": [
       "['High: 59 °F',\n",
       " 'Low: 47 °F',\n",
       " 'High: 59 °F',\n",
       " 'Low: 47 °F',\n",
       " 'High: 61 °F',\n",
       " 'Low: 49 °F',\n",
       " 'High: 63 °F',\n",
       " 'Low: 50 °F',\n",
       " 'High: 65 °F']"
      ]
     },
     "execution_count": 236,
     "metadata": {},
     "output_type": "execute_result"
    }
   ],
   "source": [
    "temperature"
   ]
  },
  {
   "cell_type": "code",
   "execution_count": 207,
   "metadata": {},
   "outputs": [
    {
     "data": {
      "text/plain": [
       "[<selenium.webdriver.remote.webelement.WebElement (session=\"9f84a0a66c209ee96cc0df4da0565feb\", element=\"b739a11e-a227-4643-bdd9-4d799c674ae0\")>,\n",
       " <selenium.webdriver.remote.webelement.WebElement (session=\"9f84a0a66c209ee96cc0df4da0565feb\", element=\"e09701fd-511f-4063-a4f1-f6d562fac5d4\")>,\n",
       " <selenium.webdriver.remote.webelement.WebElement (session=\"9f84a0a66c209ee96cc0df4da0565feb\", element=\"f90550cd-a3cf-494a-a108-2c4ebd3dd653\")>,\n",
       " <selenium.webdriver.remote.webelement.WebElement (session=\"9f84a0a66c209ee96cc0df4da0565feb\", element=\"6633ef01-8ecb-4c38-9502-58380bd4a0c3\")>,\n",
       " <selenium.webdriver.remote.webelement.WebElement (session=\"9f84a0a66c209ee96cc0df4da0565feb\", element=\"2743c02c-3744-4f16-8fda-57ce58826704\")>,\n",
       " <selenium.webdriver.remote.webelement.WebElement (session=\"9f84a0a66c209ee96cc0df4da0565feb\", element=\"567c6208-c1af-4c61-be33-2df2e598c9cc\")>,\n",
       " <selenium.webdriver.remote.webelement.WebElement (session=\"9f84a0a66c209ee96cc0df4da0565feb\", element=\"d3350b15-511a-4f96-a559-fb7e025c5b00\")>,\n",
       " <selenium.webdriver.remote.webelement.WebElement (session=\"9f84a0a66c209ee96cc0df4da0565feb\", element=\"1677f61a-89fd-40cf-afff-9fe641d30f25\")>,\n",
       " <selenium.webdriver.remote.webelement.WebElement (session=\"9f84a0a66c209ee96cc0df4da0565feb\", element=\"bd30f8d8-5c46-470d-a342-d9e4f5b14d20\")>,\n",
       " <selenium.webdriver.remote.webelement.WebElement (session=\"9f84a0a66c209ee96cc0df4da0565feb\", element=\"b40046f9-7893-4511-94b7-57b180580a3c\")>,\n",
       " <selenium.webdriver.remote.webelement.WebElement (session=\"9f84a0a66c209ee96cc0df4da0565feb\", element=\"08dc793b-c1b8-43cc-83a5-4c4131ed4740\")>,\n",
       " <selenium.webdriver.remote.webelement.WebElement (session=\"9f84a0a66c209ee96cc0df4da0565feb\", element=\"484879c5-0d0a-4f80-8231-88588bad492d\")>,\n",
       " <selenium.webdriver.remote.webelement.WebElement (session=\"9f84a0a66c209ee96cc0df4da0565feb\", element=\"95a8b203-fdaa-427b-916f-76bf354b0f7b\")>]"
      ]
     },
     "execution_count": 207,
     "metadata": {},
     "output_type": "execute_result"
    }
   ],
   "source": [
    "desp=driver.find_elements_by_xpath(\"//div[@class='col-sm-10 forecast-text']\")\n",
    "desp"
   ]
  },
  {
   "cell_type": "code",
   "execution_count": 230,
   "metadata": {},
   "outputs": [
    {
     "data": {
      "text/plain": [
       "['Partly sunny, with a high near 59. Light and variable wind.',\n",
       " 'Mostly cloudy, with a low around 47. West wind 5 to 7 mph becoming calm after midnight.',\n",
       " 'Patchy fog before 9am. Otherwise, partly sunny, with a high near 59. Light north wind.',\n",
       " 'Mostly cloudy, with a low around 47. Calm wind.',\n",
       " 'Mostly cloudy, with a high near 61. Calm wind becoming north around 5 mph in the afternoon.',\n",
       " 'Mostly cloudy, with a low around 49.',\n",
       " 'Partly sunny, with a high near 63.',\n",
       " 'Mostly cloudy, with a low around 50.',\n",
       " 'Mostly sunny, with a high near 65.']"
      ]
     },
     "execution_count": 230,
     "metadata": {},
     "output_type": "execute_result"
    }
   ],
   "source": [
    "for i in desp:\n",
    "    ds=i.text\n",
    "    description.append(ds)\n",
    "    \n",
    "Description=description[0:9]\n",
    "Description"
   ]
  },
  {
   "cell_type": "code",
   "execution_count": 240,
   "metadata": {},
   "outputs": [
    {
     "name": "stdout",
     "output_type": "stream",
     "text": [
      "9 9 9 9\n"
     ]
    }
   ],
   "source": [
    "print(len(period),len(short_desp),len(temperature),len(Description))"
   ]
  },
  {
   "cell_type": "code",
   "execution_count": 245,
   "metadata": {},
   "outputs": [],
   "source": [
    "import pandas as pd\n",
    "Wethear_forcast=pd.DataFrame({})\n",
    "Wethear_forcast['Period']=period\n",
    "Wethear_forcast['Short Desp']=short_desp\n",
    "Wethear_forcast['Temp']=temperature\n",
    "Wethear_forcast['Description']=Description"
   ]
  },
  {
   "cell_type": "code",
   "execution_count": 246,
   "metadata": {},
   "outputs": [
    {
     "data": {
      "text/html": [
       "<div>\n",
       "<style scoped>\n",
       "    .dataframe tbody tr th:only-of-type {\n",
       "        vertical-align: middle;\n",
       "    }\n",
       "\n",
       "    .dataframe tbody tr th {\n",
       "        vertical-align: top;\n",
       "    }\n",
       "\n",
       "    .dataframe thead th {\n",
       "        text-align: right;\n",
       "    }\n",
       "</style>\n",
       "<table border=\"1\" class=\"dataframe\">\n",
       "  <thead>\n",
       "    <tr style=\"text-align: right;\">\n",
       "      <th></th>\n",
       "      <th>Period</th>\n",
       "      <th>Short Desp</th>\n",
       "      <th>Temp</th>\n",
       "      <th>Description</th>\n",
       "    </tr>\n",
       "  </thead>\n",
       "  <tbody>\n",
       "    <tr>\n",
       "      <th>0</th>\n",
       "      <td>Today</td>\n",
       "      <td>Partly Sunny</td>\n",
       "      <td>High: 59 °F</td>\n",
       "      <td>Partly sunny, with a high near 59. Light and v...</td>\n",
       "    </tr>\n",
       "    <tr>\n",
       "      <th>1</th>\n",
       "      <td>Tonight</td>\n",
       "      <td>Mostly Cloudy</td>\n",
       "      <td>Low: 47 °F</td>\n",
       "      <td>Mostly cloudy, with a low around 47. West wind...</td>\n",
       "    </tr>\n",
       "    <tr>\n",
       "      <th>2</th>\n",
       "      <td>Monday</td>\n",
       "      <td>Patchy Fog\\nthen Partly\\nSunny</td>\n",
       "      <td>High: 59 °F</td>\n",
       "      <td>Patchy fog before 9am. Otherwise, partly sunny...</td>\n",
       "    </tr>\n",
       "    <tr>\n",
       "      <th>3</th>\n",
       "      <td>Monday\\nNight</td>\n",
       "      <td>Mostly Cloudy</td>\n",
       "      <td>Low: 47 °F</td>\n",
       "      <td>Mostly cloudy, with a low around 47. Calm wind.</td>\n",
       "    </tr>\n",
       "    <tr>\n",
       "      <th>4</th>\n",
       "      <td>Tuesday</td>\n",
       "      <td>Mostly Cloudy</td>\n",
       "      <td>High: 61 °F</td>\n",
       "      <td>Mostly cloudy, with a high near 61. Calm wind ...</td>\n",
       "    </tr>\n",
       "    <tr>\n",
       "      <th>5</th>\n",
       "      <td>Tuesday\\nNight</td>\n",
       "      <td>Mostly Cloudy</td>\n",
       "      <td>Low: 49 °F</td>\n",
       "      <td>Mostly cloudy, with a low around 49.</td>\n",
       "    </tr>\n",
       "    <tr>\n",
       "      <th>6</th>\n",
       "      <td>Wednesday</td>\n",
       "      <td>Partly Sunny</td>\n",
       "      <td>High: 63 °F</td>\n",
       "      <td>Partly sunny, with a high near 63.</td>\n",
       "    </tr>\n",
       "    <tr>\n",
       "      <th>7</th>\n",
       "      <td>Wednesday\\nNight</td>\n",
       "      <td>Mostly Cloudy</td>\n",
       "      <td>Low: 50 °F</td>\n",
       "      <td>Mostly cloudy, with a low around 50.</td>\n",
       "    </tr>\n",
       "    <tr>\n",
       "      <th>8</th>\n",
       "      <td>Thursday</td>\n",
       "      <td>Mostly Sunny</td>\n",
       "      <td>High: 65 °F</td>\n",
       "      <td>Mostly sunny, with a high near 65.</td>\n",
       "    </tr>\n",
       "  </tbody>\n",
       "</table>\n",
       "</div>"
      ],
      "text/plain": [
       "             Period                      Short Desp         Temp  \\\n",
       "0             Today                    Partly Sunny  High: 59 °F   \n",
       "1           Tonight                   Mostly Cloudy   Low: 47 °F   \n",
       "2            Monday  Patchy Fog\\nthen Partly\\nSunny  High: 59 °F   \n",
       "3     Monday\\nNight                   Mostly Cloudy   Low: 47 °F   \n",
       "4           Tuesday                   Mostly Cloudy  High: 61 °F   \n",
       "5    Tuesday\\nNight                   Mostly Cloudy   Low: 49 °F   \n",
       "6         Wednesday                    Partly Sunny  High: 63 °F   \n",
       "7  Wednesday\\nNight                   Mostly Cloudy   Low: 50 °F   \n",
       "8          Thursday                    Mostly Sunny  High: 65 °F   \n",
       "\n",
       "                                         Description  \n",
       "0  Partly sunny, with a high near 59. Light and v...  \n",
       "1  Mostly cloudy, with a low around 47. West wind...  \n",
       "2  Patchy fog before 9am. Otherwise, partly sunny...  \n",
       "3    Mostly cloudy, with a low around 47. Calm wind.  \n",
       "4  Mostly cloudy, with a high near 61. Calm wind ...  \n",
       "5               Mostly cloudy, with a low around 49.  \n",
       "6                 Partly sunny, with a high near 63.  \n",
       "7               Mostly cloudy, with a low around 50.  \n",
       "8                 Mostly sunny, with a high near 65.  "
      ]
     },
     "execution_count": 246,
     "metadata": {},
     "output_type": "execute_result"
    }
   ],
   "source": [
    "Wethear_forcast"
   ]
  },
  {
   "cell_type": "code",
   "execution_count": 247,
   "metadata": {},
   "outputs": [
    {
     "data": {
      "text/plain": [
       "',Period,Short Desp,Temp,Description\\r\\n0,Today,Partly Sunny,High: 59 °F,\"Partly sunny, with a high near 59. Light and variable wind.\"\\r\\n1,Tonight,Mostly Cloudy,Low: 47 °F,\"Mostly cloudy, with a low around 47. West wind 5 to 7 mph becoming calm after midnight.\"\\r\\n2,Monday,\"Patchy Fog\\nthen Partly\\nSunny\",High: 59 °F,\"Patchy fog before 9am. Otherwise, partly sunny, with a high near 59. Light north wind.\"\\r\\n3,\"Monday\\nNight\",Mostly Cloudy,Low: 47 °F,\"Mostly cloudy, with a low around 47. Calm wind.\"\\r\\n4,Tuesday,Mostly Cloudy,High: 61 °F,\"Mostly cloudy, with a high near 61. Calm wind becoming north around 5 mph in the afternoon.\"\\r\\n5,\"Tuesday\\nNight\",Mostly Cloudy,Low: 49 °F,\"Mostly cloudy, with a low around 49.\"\\r\\n6,Wednesday,Partly Sunny,High: 63 °F,\"Partly sunny, with a high near 63.\"\\r\\n7,\"Wednesday\\nNight\",Mostly Cloudy,Low: 50 °F,\"Mostly cloudy, with a low around 50.\"\\r\\n8,Thursday,Mostly Sunny,High: 65 °F,\"Mostly sunny, with a high near 65.\"\\r\\n'"
      ]
     },
     "execution_count": 247,
     "metadata": {},
     "output_type": "execute_result"
    }
   ],
   "source": [
    "Wethear_forcast.to_csv()"
   ]
  },
  {
   "cell_type": "code",
   "execution_count": null,
   "metadata": {},
   "outputs": [],
   "source": []
  },
  {
   "cell_type": "code",
   "execution_count": null,
   "metadata": {},
   "outputs": [],
   "source": []
  },
  {
   "cell_type": "code",
   "execution_count": null,
   "metadata": {},
   "outputs": [],
   "source": []
  },
  {
   "cell_type": "code",
   "execution_count": null,
   "metadata": {},
   "outputs": [],
   "source": []
  },
  {
   "cell_type": "code",
   "execution_count": null,
   "metadata": {},
   "outputs": [],
   "source": []
  },
  {
   "cell_type": "code",
   "execution_count": null,
   "metadata": {},
   "outputs": [],
   "source": []
  },
  {
   "cell_type": "code",
   "execution_count": null,
   "metadata": {},
   "outputs": [],
   "source": []
  },
  {
   "cell_type": "code",
   "execution_count": null,
   "metadata": {},
   "outputs": [],
   "source": []
  },
  {
   "cell_type": "code",
   "execution_count": null,
   "metadata": {},
   "outputs": [],
   "source": []
  },
  {
   "cell_type": "code",
   "execution_count": null,
   "metadata": {},
   "outputs": [],
   "source": []
  },
  {
   "cell_type": "code",
   "execution_count": null,
   "metadata": {},
   "outputs": [],
   "source": []
  },
  {
   "cell_type": "code",
   "execution_count": null,
   "metadata": {},
   "outputs": [],
   "source": []
  }
 ],
 "metadata": {
  "kernelspec": {
   "display_name": "Python 3",
   "language": "python",
   "name": "python3"
  },
  "language_info": {
   "codemirror_mode": {
    "name": "ipython",
    "version": 3
   },
   "file_extension": ".py",
   "mimetype": "text/x-python",
   "name": "python",
   "nbconvert_exporter": "python",
   "pygments_lexer": "ipython3",
   "version": "3.7.6"
  }
 },
 "nbformat": 4,
 "nbformat_minor": 4
}
